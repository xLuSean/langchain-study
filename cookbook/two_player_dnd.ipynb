{
 "cells": [
  {
   "cell_type": "markdown",
   "metadata": {},
   "source": [
    "# Two-Player Dungeons & Dragons\n",
    "\n",
    "In this notebook, we show how we can use concepts from [CAMEL](https://www.camel-ai.org/) to simulate a role-playing game with a protagonist and a dungeon master. To simulate this game, we create an `DialogueSimulator` class that coordinates the dialogue between the two agents."
   ]
  },
  {
   "cell_type": "markdown",
   "metadata": {},
   "source": [
    "## Import LangChain related modules "
   ]
  },
  {
   "cell_type": "code",
   "execution_count": 1,
   "metadata": {},
   "outputs": [],
   "source": [
    "from typing import Callable, List\n",
    "\n",
    "from langchain.schema import (\n",
    "    HumanMessage,\n",
    "    SystemMessage,\n",
    ")\n",
    "from langchain_openai import ChatOpenAI"
   ]
  },
  {
   "cell_type": "markdown",
   "metadata": {},
   "source": [
    "## `DialogueAgent` class\n",
    "The `DialogueAgent` class is a simple wrapper around the `ChatOpenAI` model that stores the message history from the `dialogue_agent`'s point of view by simply concatenating the messages as strings.\n",
    "\n",
    "It exposes two methods: \n",
    "- `send()`: applies the chatmodel to the message history and returns the message string\n",
    "- `receive(name, message)`: adds the `message` spoken by `name` to message history"
   ]
  },
  {
   "cell_type": "code",
   "execution_count": 24,
   "metadata": {},
   "outputs": [],
   "source": [
    "class DialogueAgent:\n",
    "    def __init__(\n",
    "        self,\n",
    "        name: str,\n",
    "        system_message: SystemMessage,\n",
    "        model: ChatOpenAI,\n",
    "    ) -> None:\n",
    "        self.name = name\n",
    "        self.system_message = system_message\n",
    "        self.model = model\n",
    "        self.prefix = f\"{self.name}: \"\n",
    "        self.reset()\n",
    "\n",
    "    def reset(self):\n",
    "        self.message_history = [\"Here is the conversation so far.\"]\n",
    "\n",
    "    def send(self) -> str:\n",
    "        \"\"\"\n",
    "        Applies the chatmodel to the message history\n",
    "        and returns the message string\n",
    "        \"\"\"\n",
    "        message = self.model(\n",
    "            [\n",
    "                self.system_message,\n",
    "                HumanMessage(content=\"\\n\".join(self.message_history + [self.prefix])),\n",
    "            ]\n",
    "        )\n",
    "        return message.content\n",
    "\n",
    "    def receive(self, name: str, message: str) -> None:\n",
    "        \"\"\"\n",
    "        Concatenates {message} spoken by {name} into message history\n",
    "        \"\"\"\n",
    "        self.message_history.append(f\"{name}: {message}\")"
   ]
  },
  {
   "cell_type": "markdown",
   "metadata": {},
   "source": [
    "## `DialogueSimulator` class\n",
    "The `DialogueSimulator` class takes a list of agents. At each step, it performs the following:\n",
    "1. Select the next speaker\n",
    "2. Calls the next speaker to send a message \n",
    "3. Broadcasts the message to all other agents\n",
    "4. Update the step counter.\n",
    "The selection of the next speaker can be implemented as any function, but in this case we simply loop through the agents."
   ]
  },
  {
   "cell_type": "code",
   "execution_count": 4,
   "metadata": {},
   "outputs": [],
   "source": [
    "class DialogueSimulator:\n",
    "    def __init__(\n",
    "        self,\n",
    "        agents: List[DialogueAgent],\n",
    "        selection_function: Callable[[int, List[DialogueAgent]], int],\n",
    "    ) -> None:\n",
    "        self.agents = agents\n",
    "        self._step = 0\n",
    "        self.select_next_speaker = selection_function\n",
    "\n",
    "    def reset(self):\n",
    "        for agent in self.agents:\n",
    "            agent.reset()\n",
    "\n",
    "    def inject(self, name: str, message: str):\n",
    "        \"\"\"\n",
    "        Initiates the conversation with a {message} from {name}\n",
    "        \"\"\"\n",
    "        for agent in self.agents:\n",
    "            agent.receive(name, message)\n",
    "\n",
    "        # increment time\n",
    "        self._step += 1\n",
    "\n",
    "    def step(self) -> tuple[str, str]:\n",
    "        # 1. choose the next speaker\n",
    "        speaker_idx = self.select_next_speaker(self._step, self.agents)\n",
    "        speaker = self.agents[speaker_idx]\n",
    "\n",
    "        # 2. next speaker sends message\n",
    "        message = speaker.send()\n",
    "\n",
    "        # 3. everyone receives message\n",
    "        for receiver in self.agents:\n",
    "            receiver.receive(speaker.name, message)\n",
    "\n",
    "        # 4. increment time\n",
    "        self._step += 1\n",
    "\n",
    "        return speaker.name, message"
   ]
  },
  {
   "cell_type": "markdown",
   "metadata": {},
   "source": [
    "## Define roles and quest"
   ]
  },
  {
   "cell_type": "code",
   "execution_count": 5,
   "metadata": {},
   "outputs": [],
   "source": [
    "protagonist_name = \"Harry Potter\"\n",
    "storyteller_name = \"Dungeon Master\"\n",
    "quest = \"Find all of Lord Voldemort's seven horcruxes.\"\n",
    "word_limit = 50  # word limit for task brainstorming"
   ]
  },
  {
   "cell_type": "markdown",
   "metadata": {},
   "source": [
    "## Ask an LLM to add detail to the game description"
   ]
  },
  {
   "cell_type": "code",
   "execution_count": 25,
   "metadata": {},
   "outputs": [],
   "source": [
    "game_description = f\"\"\"Here is the topic for a Dungeons & Dragons game: {quest}.\n",
    "        There is one player in this game: the protagonist, {protagonist_name}.\n",
    "        The story is narrated by the storyteller, {storyteller_name}.\"\"\"\n",
    "\n",
    "player_descriptor_system_message = SystemMessage(\n",
    "    content=\"You can add detail to the description of a Dungeons & Dragons player.\"\n",
    ")\n",
    "\n",
    "protagonist_specifier_prompt = [\n",
    "    player_descriptor_system_message,\n",
    "    HumanMessage(\n",
    "        content=f\"\"\"{game_description}\n",
    "        Please reply with a creative description of the protagonist, {protagonist_name}, in {word_limit} words or less. \n",
    "        Speak directly to {protagonist_name}.\n",
    "        Do not add anything else.\"\"\"\n",
    "    ),\n",
    "]\n",
    "protagonist_description = ChatOpenAI(temperature=1.0)(\n",
    "    protagonist_specifier_prompt\n",
    ").content\n",
    "# protagonist_description = ChatOpenAI(temperature=1.0).invoke(\n",
    "#     protagonist_specifier_prompt\n",
    "# ).content\n",
    "\n",
    "storyteller_specifier_prompt = [\n",
    "    player_descriptor_system_message,\n",
    "    HumanMessage(\n",
    "        content=f\"\"\"{game_description}\n",
    "        Please reply with a creative description of the storyteller, {storyteller_name}, in {word_limit} words or less. \n",
    "        Speak directly to {storyteller_name}.\n",
    "        Do not add anything else.\"\"\"\n",
    "    ),\n",
    "]\n",
    "storyteller_description = ChatOpenAI(temperature=1.0)(\n",
    "    storyteller_specifier_prompt\n",
    ").content"
   ]
  },
  {
   "cell_type": "code",
   "execution_count": 26,
   "metadata": {},
   "outputs": [
    {
     "name": "stdout",
     "output_type": "stream",
     "text": [
      "Protagonist Description:\n",
      "Harry Potter, the Boy Who Lived, stands as a beacon of hope in the face of darkness. Armed with courage, loyalty, and unwavering resolve, you are destined to face great challenges and emerge victorious. Your journey to find Voldemort's horcruxes will test not only your skills but your heart.\n",
      "Storyteller Description:\n",
      "Dear Dungeon Master,\n",
      "You are more than a storyteller; you are the weaver of destinies, the architect of worlds, and the guardian of countless adventures. With your imagination as your guide, you guide players through challenges, mysteries, and triumphs, crafting epic tales that will be cherished forever. Your narrative prowess knows no bounds.\n"
     ]
    }
   ],
   "source": [
    "print(\"Protagonist Description:\")\n",
    "print(protagonist_description)\n",
    "print(\"Storyteller Description:\")\n",
    "print(storyteller_description)"
   ]
  },
  {
   "cell_type": "markdown",
   "metadata": {},
   "source": [
    "## Protagonist and dungeon master system messages"
   ]
  },
  {
   "cell_type": "code",
   "execution_count": 8,
   "metadata": {},
   "outputs": [],
   "source": [
    "protagonist_system_message = SystemMessage(\n",
    "    content=(\n",
    "        f\"\"\"{game_description}\n",
    "Never forget you are the protagonist, {protagonist_name}, and I am the storyteller, {storyteller_name}. \n",
    "Your character description is as follows: {protagonist_description}.\n",
    "You will propose actions you plan to take and I will explain what happens when you take those actions.\n",
    "Speak in the first person from the perspective of {protagonist_name}.\n",
    "For describing your own body movements, wrap your description in '*'.\n",
    "Do not change roles!\n",
    "Do not speak from the perspective of {storyteller_name}.\n",
    "Do not forget to finish speaking by saying, 'It is your turn, {storyteller_name}.'\n",
    "Do not add anything else.\n",
    "Remember you are the protagonist, {protagonist_name}.\n",
    "Stop speaking the moment you finish speaking from your perspective.\n",
    "\"\"\"\n",
    "    )\n",
    ")\n",
    "\n",
    "storyteller_system_message = SystemMessage(\n",
    "    content=(\n",
    "        f\"\"\"{game_description}\n",
    "Never forget you are the storyteller, {storyteller_name}, and I am the protagonist, {protagonist_name}. \n",
    "Your character description is as follows: {storyteller_description}.\n",
    "I will propose actions I plan to take and you will explain what happens when I take those actions.\n",
    "Speak in the first person from the perspective of {storyteller_name}.\n",
    "For describing your own body movements, wrap your description in '*'.\n",
    "Do not change roles!\n",
    "Do not speak from the perspective of {protagonist_name}.\n",
    "Do not forget to finish speaking by saying, 'It is your turn, {protagonist_name}.'\n",
    "Do not add anything else.\n",
    "Remember you are the storyteller, {storyteller_name}.\n",
    "Stop speaking the moment you finish speaking from your perspective.\n",
    "\"\"\"\n",
    "    )\n",
    ")"
   ]
  },
  {
   "cell_type": "markdown",
   "metadata": {},
   "source": [
    "## Use an LLM to create an elaborate quest description"
   ]
  },
  {
   "cell_type": "code",
   "execution_count": 23,
   "metadata": {},
   "outputs": [
    {
     "name": "stdout",
     "output_type": "stream",
     "text": [
      "Original quest:\n",
      "Find all of Lord Voldemort's seven horcruxes.\n",
      "\n",
      "Detailed quest:\n",
      "Harry Potter, your quest is to locate and destroy the seven horcruxes of Lord Voldemort scattered across the land. You must decipher cryptic clues, face treacherous challenges, and confront his loyal followers. Time is of the essence. Your courage and cunning will determine the fate of the wizarding world. Good luck.\n",
      "\n"
     ]
    }
   ],
   "source": [
    "quest_specifier_prompt = [\n",
    "    SystemMessage(content=\"You can make a task more specific.\"),\n",
    "    HumanMessage(\n",
    "        content=f\"\"\"{game_description}\n",
    "        \n",
    "        You are the storyteller, {storyteller_name}.\n",
    "        Please make the quest more specific. Be creative and imaginative.\n",
    "        Please reply with the specified quest in {word_limit} words or less. \n",
    "        Speak directly to the protagonist {protagonist_name}.\n",
    "        Do not add anything else.\"\"\"\n",
    "    ),\n",
    "]\n",
    "specified_quest = ChatOpenAI(temperature=1.0)(quest_specifier_prompt).content\n",
    "\n",
    "print(f\"Original quest:\\n{quest}\\n\")\n",
    "print(f\"Detailed quest:\\n{specified_quest}\\n\")\n"
   ]
  },
  {
   "cell_type": "markdown",
   "metadata": {},
   "source": [
    "## Main Loop"
   ]
  },
  {
   "cell_type": "code",
   "execution_count": 27,
   "metadata": {},
   "outputs": [],
   "source": [
    "protagonist = DialogueAgent(\n",
    "    name=protagonist_name,\n",
    "    system_message=protagonist_system_message,\n",
    "    model=ChatOpenAI(temperature=0.2),\n",
    ")\n",
    "storyteller = DialogueAgent(\n",
    "    name=storyteller_name,\n",
    "    system_message=storyteller_system_message,\n",
    "    model=ChatOpenAI(temperature=0.2),\n",
    ")"
   ]
  },
  {
   "cell_type": "code",
   "execution_count": 11,
   "metadata": {},
   "outputs": [],
   "source": [
    "def select_next_speaker(step: int, agents: List[DialogueAgent]) -> int: # 輪流對話\n",
    "    idx = step % len(agents)\n",
    "    return idx"
   ]
  },
  {
   "cell_type": "code",
   "execution_count": 28,
   "metadata": {},
   "outputs": [
    {
     "name": "stdout",
     "output_type": "stream",
     "text": [
      "(Dungeon Master): Harry Potter, your quest is to locate and destroy the seven horcruxes of Lord Voldemort scattered across the land. You must decipher cryptic clues, face treacherous challenges, and confront his loyal followers. Time is of the essence. Your courage and cunning will determine the fate of the wizarding world. Good luck.\n",
      "\n",
      "\n",
      "(Harry Potter): I take a deep breath, steeling myself for the dangerous journey ahead. With my wand at the ready, I set out to find the first horcrux, determined to bring an end to Voldemort's reign of terror. *I walk with purpose, my eyes scanning the surroundings for any signs of danger or clues that might lead me to the horcrux.* It is your turn, Dungeon Master.\n",
      "\n",
      "\n",
      "(Dungeon Master): As you walk through the dense forest, the trees seem to whisper secrets of the past, their branches swaying ominously in the wind. Suddenly, you hear a rustling in the bushes nearby. You cautiously approach, wand at the ready, and find a small, shimmering locket hidden among the leaves. The locket emits a faint, dark aura, confirming your suspicions that it is one of Voldemort's horcruxes. You feel a sense of unease as you realize the evil power contained within this seemingly innocuous object. What do you do next, Harry Potter?\n",
      "\n",
      "\n",
      "(Harry Potter): *I carefully pick up the shimmering locket, feeling a shiver run down my spine as I hold it in my hand. With a determined look in my eyes, I know that this is just the beginning of my journey to rid the world of Voldemort's dark influence. I secure the locket safely in my bag, making sure it is well protected. As I continue on my path, I remind myself of the importance of staying vigilant and focused on my mission.* It is your turn, Dungeon Master.\n",
      "\n",
      "\n",
      "(Dungeon Master): As you continue on your path, the air around you grows colder, and the sky darkens ominously. You come across a dilapidated castle looming in the distance, its ancient stones whispering tales of forgotten sorrows. As you approach the castle gates, they creak open with an eerie groan, revealing a dimly lit courtyard shrouded in shadows. You sense a powerful presence lurking within the castle walls, a presence that sends a chill down your spine. What do you do next, Harry Potter? It is your turn, Harry Potter.\n",
      "\n",
      "\n",
      "(Harry Potter): *I cautiously step through the castle gates, my wand held tightly in my hand. The eerie silence of the courtyard sends a shiver down my spine, but I steel myself against the fear. With each step, I listen intently for any signs of movement or danger, my senses on high alert. As I make my way deeper into the castle, I keep a watchful eye out for any clues that might lead me to the next horcrux. The weight of my mission presses heavily on my shoulders, but I draw strength from the knowledge that I am not alone in this fight against darkness.* It is your turn, Dungeon Master.\n",
      "\n",
      "\n",
      "(Dungeon Master): As you venture further into the castle, the shadows seem to dance around you, whispering ancient incantations that send a chill down your spine. You come across a grand hall, its walls adorned with faded tapestries depicting scenes of battles long past. Suddenly, you hear a faint whispering voice echoing through the hall, calling your name in a haunting tone. You follow the sound, your heart pounding in your chest, until you reach a hidden chamber at the heart of the castle. Inside, you find a dusty old diary lying on a pedestal, its pages filled with dark secrets and malevolent whispers. You sense the dark magic emanating from the diary, confirming your suspicions that it is another one of Voldemort's horcruxes. What do you do next, Harry Potter? It is your turn, Harry Potter.\n",
      "\n",
      "\n",
      "(Harry Potter): *I cautiously approach the dusty old diary, my hand trembling slightly as I reach out to pick it up. The malevolent whispers seem to grow louder as I hold the diary in my hands, sending a shiver down my spine. With a determined look in my eyes, I know that I must destroy this horcrux to weaken Voldemort's grip on the world. I carefully secure the diary in my bag, making sure it is well protected alongside the shimmering locket. As I prepare to leave the hidden chamber, I steel myself for the challenges that lie ahead, knowing that each horcrux destroyed brings us one step closer to victory.* It is your turn, Dungeon Master.\n",
      "\n",
      "\n",
      "(Dungeon Master): As you prepare to leave the hidden chamber, a sudden gust of wind extinguishes the torches lining the walls, plunging the room into darkness. You hear a sinister laughter echoing through the chamber, chilling you to the core. The shadows seem to come alive, swirling around you in a malevolent dance. Suddenly, a figure materializes before you, cloaked in darkness and exuding an aura of pure malice. It is Nagini, Voldemort's loyal serpent and another one of his horcruxes. Nagini hisses menacingly, its eyes fixed on you with a predatory gaze. What do you do next, Harry Potter? It is your turn, Harry Potter.\n",
      "\n",
      "\n",
      "(Harry Potter): *I raise my wand, my heart pounding with adrenaline as I face Nagini, Voldemort's loyal serpent. With a steady hand, I cast a powerful spell to immobilize the serpent, determined to protect myself and destroy this horcrux. As the spell takes effect, I quickly retrieve the Sword of Gryffindor from my bag, knowing that it is the only weapon capable of destroying a horcrux. With a swift and precise strike, I plunge the sword into Nagini, shattering the serpent and releasing the dark soul trapped within. As Nagini's form dissolves into nothingness, I feel a sense of triumph and relief, knowing that I am one step closer to defeating Voldemort once and for all.* It is your turn, Dungeon Master.\n",
      "\n",
      "\n",
      "(Dungeon Master): The shadows in the chamber begin to recede, the malevolent presence dissipating with Nagini's destruction. The torches flicker back to life, casting a warm glow that banishes the darkness. You feel a sense of accomplishment and determination as you stand amidst the remnants of the shattered horcrux. The chamber is now silent, save for the crackling of the torches and the sound of your own steady breaths.\n",
      "\n",
      "As you gather your thoughts and prepare to continue your quest, a faint whisper fills the chamber. It is a voice you recognize, a voice that speaks of guidance and wisdom. The voice of Albus Dumbledore echoes through the chamber, offering words of encouragement and advice to aid you on your journey. His presence lingers for a moment, a comforting presence in the midst of darkness.\n",
      "\n",
      "With Dumbledore's words echoing in your mind, you steel yourself for the challenges that lie ahead. The journey to find and destroy the remaining horcruxes will not be easy, but you know that with courage and determination, you can overcome any obstacle in your path. The fate of the wizarding world rests on your shoulders, and you are ready to face whatever challenges come your way.\n",
      "\n",
      "It is your turn, Harry Potter.\n",
      "\n",
      "\n",
      "(Harry Potter): *I take a moment to gather my thoughts, drawing strength from Dumbledore's words of guidance and wisdom. With a renewed sense of determination, I set my sights on the next horcrux, knowing that each step brings me closer to ending Voldemort's reign of terror. As I prepare to leave the chamber, I keep Dumbledore's voice in my heart, a beacon of hope in the darkness that surrounds me. With the Sword of Gryffindor at the ready, I steel myself for the challenges that lie ahead, ready to face whatever dangers come my way.* It is your turn, Dungeon Master.\n",
      "\n",
      "\n",
      "(Dungeon Master): The shadows of the chamber seem to part before you, revealing a path leading deeper into the castle. As you step forward, the torches flicker and cast dancing shadows on the walls, creating an eerie yet mesmerizing display. The air is thick with anticipation, each step echoing through the ancient stones of the castle.\n",
      "\n",
      "You follow the winding corridors, guided by a sense of purpose and the faint whisper of Dumbledore's voice in your mind. The castle seems to shift and change around you, its walls holding secrets and mysteries waiting to be uncovered. As you navigate the labyrinthine passages, you come across a hidden chamber bathed in a soft, ethereal light.\n",
      "\n",
      "Inside the chamber, you find a gleaming tiara perched on a pedestal, its jewels sparkling with an otherworldly glow. You sense the powerful magic emanating from the tiara, confirming your suspicions that it is yet another one of Voldemort's horcruxes. The tiara seems to call out to you, its presence both alluring and foreboding.\n",
      "\n",
      "What do you do next, Harry Potter? It is your turn, Harry Potter.\n",
      "\n",
      "\n"
     ]
    }
   ],
   "source": [
    "max_iters = 12\n",
    "n = 0\n",
    "\n",
    "simulator = DialogueSimulator(\n",
    "    agents=[storyteller, protagonist], selection_function=select_next_speaker\n",
    ")\n",
    "simulator.reset()\n",
    "simulator.inject(storyteller_name, specified_quest)\n",
    "print(f\"({storyteller_name}): {specified_quest}\")\n",
    "print(\"\\n\")\n",
    "\n",
    "while n < max_iters:\n",
    "    name, message = simulator.step()\n",
    "    print(f\"({name}): {message}\")\n",
    "    print(\"\\n\")\n",
    "    n += 1"
   ]
  },
  {
   "cell_type": "code",
   "execution_count": null,
   "metadata": {},
   "outputs": [],
   "source": []
  }
 ],
 "metadata": {
  "kernelspec": {
   "display_name": "Python 3 (ipykernel)",
   "language": "python",
   "name": "python3"
  },
  "language_info": {
   "codemirror_mode": {
    "name": "ipython",
    "version": 3
   },
   "file_extension": ".py",
   "mimetype": "text/x-python",
   "name": "python",
   "nbconvert_exporter": "python",
   "pygments_lexer": "ipython3",
   "version": "3.10.13"
  }
 },
 "nbformat": 4,
 "nbformat_minor": 2
}
