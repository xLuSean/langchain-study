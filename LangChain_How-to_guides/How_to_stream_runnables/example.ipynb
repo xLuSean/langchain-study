{
 "cells": [
  {
   "cell_type": "markdown",
   "metadata": {},
   "source": [
    "# [How to stream runnables](https://python.langchain.com/docs/how_to/streaming/)\n",
    "\n",
    "Streaming is critical in making applications based on LLMs feel responsive to end-users.\n",
    "\n",
    "Important LangChain primitives like `chat models`, `output parsers`, `prompts`, `retrievers`, and `agents` implement the LangChain `Runnable Interface`.\n",
    "\n",
    "This interface provides two general approaches to stream content:\n",
    "\n",
    "1. sync `stream` and async `astream`: a default implementation of streaming that streams the final output from the chain.\n",
    "2. async astream_events and async astream_log: these provide a way to stream both intermediate steps and final output from the chain.\n",
    "\n",
    "Let's take a look at both approaches, and try to understand how to use them.\n",
    "\n",
    "## Using Stream\n",
    "All `Runnable` objects implement a sync method called `stream` and an async variant called `astream`.\n",
    "\n",
    "These methods are designed to stream the final output in chunks, yielding each chunk as soon as it is available.\n",
    "\n",
    "Streaming is only possible if all steps in the program know how to process an input stream; i.e., process an input chunk one at a time, and yield a corresponding output chunk.\n",
    "\n",
    "The complexity of this processing can vary, from straightforward tasks like emitting tokens produced by an LLM, to more challenging ones like streaming parts of JSON results before the entire JSON is complete.\n",
    "\n",
    "The best place to start exploring streaming is with the single most important components in LLMs apps-- the LLMs themselves!\n",
    "\n",
    "## LLMs and Chat Models\n",
    "Large language models and their chat variants are the primary bottleneck in LLM based apps.\n",
    "\n",
    "Large language models can take several seconds to generate a complete response to a query. This is far slower than the ~200-300 ms threshold at which an application feels responsive to an end user.\n",
    "\n",
    "The key strategy to make the application feel more responsive is to show intermediate progress; viz., to stream the output from the model token by token."
   ]
  },
  {
   "cell_type": "code",
   "execution_count": 3,
   "metadata": {},
   "outputs": [],
   "source": [
    "from dotenv import load_dotenv\n",
    "load_dotenv()\n",
    "\n",
    "from langchain_openai import ChatOpenAI\n",
    "model = ChatOpenAI(model=\"gpt-4o-mini\")"
   ]
  },
  {
   "cell_type": "markdown",
   "metadata": {},
   "source": [
    "Let's start with the sync stream API:"
   ]
  },
  {
   "cell_type": "code",
   "execution_count": 4,
   "metadata": {},
   "outputs": [
    {
     "name": "stdout",
     "output_type": "stream",
     "text": [
      "|The| color| of| the| sky| can| vary| depending| on| several| factors|,| including| the| time| of| day|,| weather| conditions|,| and| atmospheric| particles|.| During| a| clear| day|,| the| sky| typically| appears| blue| due| to| Ray|leigh| scattering|,| where| shorter| blue| wavelengths| of| sunlight| are| scattered| more| than| other| colors|.| At| sunrise| and| sunset|,| the| sky| can| display| a| range| of| colors|,| including| orange|,| pink|,| and| red|,| due| to| the| longer| path| of| sunlight| through| the| atmosphere|,| which| scat|ters| shorter| wavelengths| and| allows| longer| wavelengths| to| become| more| prominent|.| On| cloudy| or| over|cast| days|,| the| sky| may| appear| gray|.||"
     ]
    }
   ],
   "source": [
    "chunks = []\n",
    "for chunk in model.stream(\"what color is the sky?\"):\n",
    "    chunks.append(chunk)\n",
    "    print(chunk.content, end=\"|\", flush=True)"
   ]
  },
  {
   "cell_type": "markdown",
   "metadata": {},
   "source": [
    "Alternatively, if you're working in an async environment, you may consider using the async astream API:"
   ]
  },
  {
   "cell_type": "code",
   "execution_count": 5,
   "metadata": {},
   "outputs": [
    {
     "name": "stdout",
     "output_type": "stream",
     "text": [
      "|The| color| of| the| sky| appears| blue| during| the| day| due| to| a| phenomenon| called| Ray|leigh| scattering|,| where| shorter| wavelengths| of| light| (|blue| and| violet|)| scatter| more| than| longer| wavelengths| (|red| and| yellow|).| However|,| the| sky| can| also| appear| in| different| colors| at| sunrise| and| sunset|,| displaying| hues| of| orange|,| pink|,| and| red|.| At| night|,| the| sky| can| appear| black| or| dark| blue|,| dotted| with| stars|.| Weather| conditions|,| pollution|,| and| other| factors| can| also| affect| the| sky|'s| color|.||"
     ]
    }
   ],
   "source": [
    "chunks = []\n",
    "async for chunk in model.astream(\"what color is the sky?\"):\n",
    "    chunks.append(chunk)\n",
    "    print(chunk.content, end=\"|\", flush=True)"
   ]
  },
  {
   "cell_type": "code",
   "execution_count": 6,
   "metadata": {},
   "outputs": [
    {
     "data": {
      "text/plain": [
       "[AIMessageChunk(content='', additional_kwargs={}, response_metadata={}, id='run-aba33435-f21d-46a4-88e8-a00ae701d4ad'),\n",
       " AIMessageChunk(content='The', additional_kwargs={}, response_metadata={}, id='run-aba33435-f21d-46a4-88e8-a00ae701d4ad'),\n",
       " AIMessageChunk(content=' color', additional_kwargs={}, response_metadata={}, id='run-aba33435-f21d-46a4-88e8-a00ae701d4ad'),\n",
       " AIMessageChunk(content=' of', additional_kwargs={}, response_metadata={}, id='run-aba33435-f21d-46a4-88e8-a00ae701d4ad'),\n",
       " AIMessageChunk(content=' the', additional_kwargs={}, response_metadata={}, id='run-aba33435-f21d-46a4-88e8-a00ae701d4ad'),\n",
       " AIMessageChunk(content=' sky', additional_kwargs={}, response_metadata={}, id='run-aba33435-f21d-46a4-88e8-a00ae701d4ad'),\n",
       " AIMessageChunk(content=' appears', additional_kwargs={}, response_metadata={}, id='run-aba33435-f21d-46a4-88e8-a00ae701d4ad'),\n",
       " AIMessageChunk(content=' blue', additional_kwargs={}, response_metadata={}, id='run-aba33435-f21d-46a4-88e8-a00ae701d4ad'),\n",
       " AIMessageChunk(content=' during', additional_kwargs={}, response_metadata={}, id='run-aba33435-f21d-46a4-88e8-a00ae701d4ad'),\n",
       " AIMessageChunk(content=' the', additional_kwargs={}, response_metadata={}, id='run-aba33435-f21d-46a4-88e8-a00ae701d4ad'),\n",
       " AIMessageChunk(content=' day', additional_kwargs={}, response_metadata={}, id='run-aba33435-f21d-46a4-88e8-a00ae701d4ad'),\n",
       " AIMessageChunk(content=' due', additional_kwargs={}, response_metadata={}, id='run-aba33435-f21d-46a4-88e8-a00ae701d4ad'),\n",
       " AIMessageChunk(content=' to', additional_kwargs={}, response_metadata={}, id='run-aba33435-f21d-46a4-88e8-a00ae701d4ad'),\n",
       " AIMessageChunk(content=' a', additional_kwargs={}, response_metadata={}, id='run-aba33435-f21d-46a4-88e8-a00ae701d4ad'),\n",
       " AIMessageChunk(content=' phenomenon', additional_kwargs={}, response_metadata={}, id='run-aba33435-f21d-46a4-88e8-a00ae701d4ad'),\n",
       " AIMessageChunk(content=' called', additional_kwargs={}, response_metadata={}, id='run-aba33435-f21d-46a4-88e8-a00ae701d4ad'),\n",
       " AIMessageChunk(content=' Ray', additional_kwargs={}, response_metadata={}, id='run-aba33435-f21d-46a4-88e8-a00ae701d4ad'),\n",
       " AIMessageChunk(content='leigh', additional_kwargs={}, response_metadata={}, id='run-aba33435-f21d-46a4-88e8-a00ae701d4ad'),\n",
       " AIMessageChunk(content=' scattering', additional_kwargs={}, response_metadata={}, id='run-aba33435-f21d-46a4-88e8-a00ae701d4ad'),\n",
       " AIMessageChunk(content=',', additional_kwargs={}, response_metadata={}, id='run-aba33435-f21d-46a4-88e8-a00ae701d4ad'),\n",
       " AIMessageChunk(content=' where', additional_kwargs={}, response_metadata={}, id='run-aba33435-f21d-46a4-88e8-a00ae701d4ad'),\n",
       " AIMessageChunk(content=' shorter', additional_kwargs={}, response_metadata={}, id='run-aba33435-f21d-46a4-88e8-a00ae701d4ad'),\n",
       " AIMessageChunk(content=' wavelengths', additional_kwargs={}, response_metadata={}, id='run-aba33435-f21d-46a4-88e8-a00ae701d4ad'),\n",
       " AIMessageChunk(content=' of', additional_kwargs={}, response_metadata={}, id='run-aba33435-f21d-46a4-88e8-a00ae701d4ad'),\n",
       " AIMessageChunk(content=' light', additional_kwargs={}, response_metadata={}, id='run-aba33435-f21d-46a4-88e8-a00ae701d4ad'),\n",
       " AIMessageChunk(content=' (', additional_kwargs={}, response_metadata={}, id='run-aba33435-f21d-46a4-88e8-a00ae701d4ad'),\n",
       " AIMessageChunk(content='blue', additional_kwargs={}, response_metadata={}, id='run-aba33435-f21d-46a4-88e8-a00ae701d4ad'),\n",
       " AIMessageChunk(content=' and', additional_kwargs={}, response_metadata={}, id='run-aba33435-f21d-46a4-88e8-a00ae701d4ad'),\n",
       " AIMessageChunk(content=' violet', additional_kwargs={}, response_metadata={}, id='run-aba33435-f21d-46a4-88e8-a00ae701d4ad'),\n",
       " AIMessageChunk(content=')', additional_kwargs={}, response_metadata={}, id='run-aba33435-f21d-46a4-88e8-a00ae701d4ad'),\n",
       " AIMessageChunk(content=' scatter', additional_kwargs={}, response_metadata={}, id='run-aba33435-f21d-46a4-88e8-a00ae701d4ad'),\n",
       " AIMessageChunk(content=' more', additional_kwargs={}, response_metadata={}, id='run-aba33435-f21d-46a4-88e8-a00ae701d4ad'),\n",
       " AIMessageChunk(content=' than', additional_kwargs={}, response_metadata={}, id='run-aba33435-f21d-46a4-88e8-a00ae701d4ad'),\n",
       " AIMessageChunk(content=' longer', additional_kwargs={}, response_metadata={}, id='run-aba33435-f21d-46a4-88e8-a00ae701d4ad'),\n",
       " AIMessageChunk(content=' wavelengths', additional_kwargs={}, response_metadata={}, id='run-aba33435-f21d-46a4-88e8-a00ae701d4ad'),\n",
       " AIMessageChunk(content=' (', additional_kwargs={}, response_metadata={}, id='run-aba33435-f21d-46a4-88e8-a00ae701d4ad'),\n",
       " AIMessageChunk(content='red', additional_kwargs={}, response_metadata={}, id='run-aba33435-f21d-46a4-88e8-a00ae701d4ad'),\n",
       " AIMessageChunk(content=' and', additional_kwargs={}, response_metadata={}, id='run-aba33435-f21d-46a4-88e8-a00ae701d4ad'),\n",
       " AIMessageChunk(content=' yellow', additional_kwargs={}, response_metadata={}, id='run-aba33435-f21d-46a4-88e8-a00ae701d4ad'),\n",
       " AIMessageChunk(content=').', additional_kwargs={}, response_metadata={}, id='run-aba33435-f21d-46a4-88e8-a00ae701d4ad'),\n",
       " AIMessageChunk(content=' However', additional_kwargs={}, response_metadata={}, id='run-aba33435-f21d-46a4-88e8-a00ae701d4ad'),\n",
       " AIMessageChunk(content=',', additional_kwargs={}, response_metadata={}, id='run-aba33435-f21d-46a4-88e8-a00ae701d4ad'),\n",
       " AIMessageChunk(content=' the', additional_kwargs={}, response_metadata={}, id='run-aba33435-f21d-46a4-88e8-a00ae701d4ad'),\n",
       " AIMessageChunk(content=' sky', additional_kwargs={}, response_metadata={}, id='run-aba33435-f21d-46a4-88e8-a00ae701d4ad'),\n",
       " AIMessageChunk(content=' can', additional_kwargs={}, response_metadata={}, id='run-aba33435-f21d-46a4-88e8-a00ae701d4ad'),\n",
       " AIMessageChunk(content=' also', additional_kwargs={}, response_metadata={}, id='run-aba33435-f21d-46a4-88e8-a00ae701d4ad'),\n",
       " AIMessageChunk(content=' appear', additional_kwargs={}, response_metadata={}, id='run-aba33435-f21d-46a4-88e8-a00ae701d4ad'),\n",
       " AIMessageChunk(content=' in', additional_kwargs={}, response_metadata={}, id='run-aba33435-f21d-46a4-88e8-a00ae701d4ad'),\n",
       " AIMessageChunk(content=' different', additional_kwargs={}, response_metadata={}, id='run-aba33435-f21d-46a4-88e8-a00ae701d4ad'),\n",
       " AIMessageChunk(content=' colors', additional_kwargs={}, response_metadata={}, id='run-aba33435-f21d-46a4-88e8-a00ae701d4ad'),\n",
       " AIMessageChunk(content=' at', additional_kwargs={}, response_metadata={}, id='run-aba33435-f21d-46a4-88e8-a00ae701d4ad'),\n",
       " AIMessageChunk(content=' sunrise', additional_kwargs={}, response_metadata={}, id='run-aba33435-f21d-46a4-88e8-a00ae701d4ad'),\n",
       " AIMessageChunk(content=' and', additional_kwargs={}, response_metadata={}, id='run-aba33435-f21d-46a4-88e8-a00ae701d4ad'),\n",
       " AIMessageChunk(content=' sunset', additional_kwargs={}, response_metadata={}, id='run-aba33435-f21d-46a4-88e8-a00ae701d4ad'),\n",
       " AIMessageChunk(content=',', additional_kwargs={}, response_metadata={}, id='run-aba33435-f21d-46a4-88e8-a00ae701d4ad'),\n",
       " AIMessageChunk(content=' displaying', additional_kwargs={}, response_metadata={}, id='run-aba33435-f21d-46a4-88e8-a00ae701d4ad'),\n",
       " AIMessageChunk(content=' hues', additional_kwargs={}, response_metadata={}, id='run-aba33435-f21d-46a4-88e8-a00ae701d4ad'),\n",
       " AIMessageChunk(content=' of', additional_kwargs={}, response_metadata={}, id='run-aba33435-f21d-46a4-88e8-a00ae701d4ad'),\n",
       " AIMessageChunk(content=' orange', additional_kwargs={}, response_metadata={}, id='run-aba33435-f21d-46a4-88e8-a00ae701d4ad'),\n",
       " AIMessageChunk(content=',', additional_kwargs={}, response_metadata={}, id='run-aba33435-f21d-46a4-88e8-a00ae701d4ad'),\n",
       " AIMessageChunk(content=' pink', additional_kwargs={}, response_metadata={}, id='run-aba33435-f21d-46a4-88e8-a00ae701d4ad'),\n",
       " AIMessageChunk(content=',', additional_kwargs={}, response_metadata={}, id='run-aba33435-f21d-46a4-88e8-a00ae701d4ad'),\n",
       " AIMessageChunk(content=' and', additional_kwargs={}, response_metadata={}, id='run-aba33435-f21d-46a4-88e8-a00ae701d4ad'),\n",
       " AIMessageChunk(content=' red', additional_kwargs={}, response_metadata={}, id='run-aba33435-f21d-46a4-88e8-a00ae701d4ad'),\n",
       " AIMessageChunk(content='.', additional_kwargs={}, response_metadata={}, id='run-aba33435-f21d-46a4-88e8-a00ae701d4ad'),\n",
       " AIMessageChunk(content=' At', additional_kwargs={}, response_metadata={}, id='run-aba33435-f21d-46a4-88e8-a00ae701d4ad'),\n",
       " AIMessageChunk(content=' night', additional_kwargs={}, response_metadata={}, id='run-aba33435-f21d-46a4-88e8-a00ae701d4ad'),\n",
       " AIMessageChunk(content=',', additional_kwargs={}, response_metadata={}, id='run-aba33435-f21d-46a4-88e8-a00ae701d4ad'),\n",
       " AIMessageChunk(content=' the', additional_kwargs={}, response_metadata={}, id='run-aba33435-f21d-46a4-88e8-a00ae701d4ad'),\n",
       " AIMessageChunk(content=' sky', additional_kwargs={}, response_metadata={}, id='run-aba33435-f21d-46a4-88e8-a00ae701d4ad'),\n",
       " AIMessageChunk(content=' can', additional_kwargs={}, response_metadata={}, id='run-aba33435-f21d-46a4-88e8-a00ae701d4ad'),\n",
       " AIMessageChunk(content=' appear', additional_kwargs={}, response_metadata={}, id='run-aba33435-f21d-46a4-88e8-a00ae701d4ad'),\n",
       " AIMessageChunk(content=' black', additional_kwargs={}, response_metadata={}, id='run-aba33435-f21d-46a4-88e8-a00ae701d4ad'),\n",
       " AIMessageChunk(content=' or', additional_kwargs={}, response_metadata={}, id='run-aba33435-f21d-46a4-88e8-a00ae701d4ad'),\n",
       " AIMessageChunk(content=' dark', additional_kwargs={}, response_metadata={}, id='run-aba33435-f21d-46a4-88e8-a00ae701d4ad'),\n",
       " AIMessageChunk(content=' blue', additional_kwargs={}, response_metadata={}, id='run-aba33435-f21d-46a4-88e8-a00ae701d4ad'),\n",
       " AIMessageChunk(content=',', additional_kwargs={}, response_metadata={}, id='run-aba33435-f21d-46a4-88e8-a00ae701d4ad'),\n",
       " AIMessageChunk(content=' dotted', additional_kwargs={}, response_metadata={}, id='run-aba33435-f21d-46a4-88e8-a00ae701d4ad'),\n",
       " AIMessageChunk(content=' with', additional_kwargs={}, response_metadata={}, id='run-aba33435-f21d-46a4-88e8-a00ae701d4ad'),\n",
       " AIMessageChunk(content=' stars', additional_kwargs={}, response_metadata={}, id='run-aba33435-f21d-46a4-88e8-a00ae701d4ad'),\n",
       " AIMessageChunk(content='.', additional_kwargs={}, response_metadata={}, id='run-aba33435-f21d-46a4-88e8-a00ae701d4ad'),\n",
       " AIMessageChunk(content=' Weather', additional_kwargs={}, response_metadata={}, id='run-aba33435-f21d-46a4-88e8-a00ae701d4ad'),\n",
       " AIMessageChunk(content=' conditions', additional_kwargs={}, response_metadata={}, id='run-aba33435-f21d-46a4-88e8-a00ae701d4ad'),\n",
       " AIMessageChunk(content=',', additional_kwargs={}, response_metadata={}, id='run-aba33435-f21d-46a4-88e8-a00ae701d4ad'),\n",
       " AIMessageChunk(content=' pollution', additional_kwargs={}, response_metadata={}, id='run-aba33435-f21d-46a4-88e8-a00ae701d4ad'),\n",
       " AIMessageChunk(content=',', additional_kwargs={}, response_metadata={}, id='run-aba33435-f21d-46a4-88e8-a00ae701d4ad'),\n",
       " AIMessageChunk(content=' and', additional_kwargs={}, response_metadata={}, id='run-aba33435-f21d-46a4-88e8-a00ae701d4ad'),\n",
       " AIMessageChunk(content=' other', additional_kwargs={}, response_metadata={}, id='run-aba33435-f21d-46a4-88e8-a00ae701d4ad'),\n",
       " AIMessageChunk(content=' factors', additional_kwargs={}, response_metadata={}, id='run-aba33435-f21d-46a4-88e8-a00ae701d4ad'),\n",
       " AIMessageChunk(content=' can', additional_kwargs={}, response_metadata={}, id='run-aba33435-f21d-46a4-88e8-a00ae701d4ad'),\n",
       " AIMessageChunk(content=' also', additional_kwargs={}, response_metadata={}, id='run-aba33435-f21d-46a4-88e8-a00ae701d4ad'),\n",
       " AIMessageChunk(content=' affect', additional_kwargs={}, response_metadata={}, id='run-aba33435-f21d-46a4-88e8-a00ae701d4ad'),\n",
       " AIMessageChunk(content=' the', additional_kwargs={}, response_metadata={}, id='run-aba33435-f21d-46a4-88e8-a00ae701d4ad'),\n",
       " AIMessageChunk(content=' sky', additional_kwargs={}, response_metadata={}, id='run-aba33435-f21d-46a4-88e8-a00ae701d4ad'),\n",
       " AIMessageChunk(content=\"'s\", additional_kwargs={}, response_metadata={}, id='run-aba33435-f21d-46a4-88e8-a00ae701d4ad'),\n",
       " AIMessageChunk(content=' color', additional_kwargs={}, response_metadata={}, id='run-aba33435-f21d-46a4-88e8-a00ae701d4ad'),\n",
       " AIMessageChunk(content='.', additional_kwargs={}, response_metadata={}, id='run-aba33435-f21d-46a4-88e8-a00ae701d4ad'),\n",
       " AIMessageChunk(content='', additional_kwargs={}, response_metadata={'finish_reason': 'stop', 'model_name': 'gpt-4o-mini-2024-07-18', 'system_fingerprint': 'fp_0ba0d124f1'}, id='run-aba33435-f21d-46a4-88e8-a00ae701d4ad')]"
      ]
     },
     "execution_count": 6,
     "metadata": {},
     "output_type": "execute_result"
    }
   ],
   "source": [
    "chunks"
   ]
  },
  {
   "cell_type": "markdown",
   "metadata": {},
   "source": [
    "We got back something called an `AIMessageChunk`. This chunk represents a part of an `AIMessage`.\n",
    "\n",
    "Message chunks are additive by design -- one can simply add them up to get the state of the response so far!"
   ]
  },
  {
   "cell_type": "code",
   "execution_count": 7,
   "metadata": {},
   "outputs": [
    {
     "data": {
      "text/plain": [
       "AIMessageChunk(content='The color of the', additional_kwargs={}, response_metadata={}, id='run-aba33435-f21d-46a4-88e8-a00ae701d4ad')"
      ]
     },
     "execution_count": 7,
     "metadata": {},
     "output_type": "execute_result"
    }
   ],
   "source": [
    "chunks[0] + chunks[1] + chunks[2] + chunks[3] + chunks[4]"
   ]
  },
  {
   "cell_type": "markdown",
   "metadata": {},
   "source": [
    "## Chains\n",
    "Virtually all LLM applications involve more steps than just a call to a language model.\n",
    "\n",
    "Let's build a simple chain using `LangChain Expression Language (LCEL)` that combines a prompt, model and a parser and verify that streaming works.\n",
    "\n",
    "We will use `StrOutputParser` to parse the output from the model. This is a simple parser that extracts the `content` field from an `AIMessageChunk`, giving us the `token` returned by the model.\n",
    "\n",
    "```\n",
    "LCEL is a declarative way to specify a \"program\" by chainining together different LangChain primitives. Chains created using LCEL benefit from an automatic implementation of stream and astream allowing streaming of the final output. In fact, chains created with LCEL implement the entire standard Runnable interface.\n",
    "```"
   ]
  },
  {
   "cell_type": "code",
   "execution_count": 10,
   "metadata": {},
   "outputs": [
    {
     "name": "stdout",
     "output_type": "stream",
     "text": [
      "|Why| did| the| par|rot| wear| a| rain|coat|?\n",
      "\n",
      "|Because| it| wanted| to| be| a| poly|-uns|aturated| bird|!| 🦜|☔|️||"
     ]
    }
   ],
   "source": [
    "from langchain_core.output_parsers import StrOutputParser\n",
    "from langchain_core.prompts import ChatPromptTemplate\n",
    "\n",
    "prompt = ChatPromptTemplate.from_template(\"tell me a joke about {topic}\")\n",
    "parser = StrOutputParser()\n",
    "chain = prompt | model | parser\n",
    "\n",
    "async for chunk in chain.astream({\"topic\": \"parrot\"}):\n",
    "    print(chunk, end=\"|\", flush=True)"
   ]
  },
  {
   "cell_type": "markdown",
   "metadata": {},
   "source": [
    "Note that we're getting streaming output even though we're using `parser` at the end of the chain above. The `parser` operates on each streaming chunk individidually. Many of the `LCEL primitives` also support this kind of transform-style passthrough streaming, which can be very convenient when constructing apps.\n",
    "\n",
    "Custom functions can be `designed to return generators`, which are able to operate on streams.\n",
    "\n",
    "Certain runnables, like `prompt templates` and `chat models`, cannot process individual chunks and instead aggregate all previous steps. Such runnables can interrupt the streaming process.\n",
    "\n",
    "\n",
    "The LangChain Expression language allows you to separate the construction of a chain from the mode in which it is used (e.g., sync/async, batch/streaming etc.). If this is not relevant to what you're building, you can also rely on a standard imperative programming approach by caling invoke, batch or stream on each component individually, assigning the results to variables and then using them downstream as you see fit.\n",
    "\n",
    "## Working with Input Streams\n",
    "What if you wanted to stream JSON from the output as it was being generated?\n",
    "\n",
    "If you were to rely on json.loads to parse the partial json, the parsing would fail as the partial json wouldn't be valid json.\n",
    "\n",
    "You'd likely be at a complete loss of what to do and claim that it wasn't possible to stream JSON.\n",
    "\n",
    "Well, turns out there is a way to do it -- the parser needs to operate on the input stream, and attempt to \"auto-complete\" the partial json into a valid state.\n",
    "\n",
    "Let's see such a parser in action to understand what this means."
   ]
  },
  {
   "cell_type": "code",
   "execution_count": 11,
   "metadata": {},
   "outputs": [
    {
     "name": "stdout",
     "output_type": "stream",
     "text": [
      "{}\n",
      "{'countries': []}\n",
      "{'countries': [{}]}\n",
      "{'countries': [{'name': ''}]}\n",
      "{'countries': [{'name': 'France'}]}\n",
      "{'countries': [{'name': 'France', 'population': 652}]}\n",
      "{'countries': [{'name': 'France', 'population': 652735}]}\n",
      "{'countries': [{'name': 'France', 'population': 65273511}]}\n",
      "{'countries': [{'name': 'France', 'population': 65273511}, {}]}\n",
      "{'countries': [{'name': 'France', 'population': 65273511}, {'name': ''}]}\n",
      "{'countries': [{'name': 'France', 'population': 65273511}, {'name': 'Spain'}]}\n",
      "{'countries': [{'name': 'France', 'population': 65273511}, {'name': 'Spain', 'population': 467}]}\n",
      "{'countries': [{'name': 'France', 'population': 65273511}, {'name': 'Spain', 'population': 467547}]}\n",
      "{'countries': [{'name': 'France', 'population': 65273511}, {'name': 'Spain', 'population': 46754778}]}\n",
      "{'countries': [{'name': 'France', 'population': 65273511}, {'name': 'Spain', 'population': 46754778}, {}]}\n",
      "{'countries': [{'name': 'France', 'population': 65273511}, {'name': 'Spain', 'population': 46754778}, {'name': ''}]}\n",
      "{'countries': [{'name': 'France', 'population': 65273511}, {'name': 'Spain', 'population': 46754778}, {'name': 'Japan'}]}\n",
      "{'countries': [{'name': 'France', 'population': 65273511}, {'name': 'Spain', 'population': 46754778}, {'name': 'Japan', 'population': 126}]}\n",
      "{'countries': [{'name': 'France', 'population': 65273511}, {'name': 'Spain', 'population': 46754778}, {'name': 'Japan', 'population': 126476}]}\n",
      "{'countries': [{'name': 'France', 'population': 65273511}, {'name': 'Spain', 'population': 46754778}, {'name': 'Japan', 'population': 126476461}]}\n"
     ]
    }
   ],
   "source": [
    "from langchain_core.output_parsers import JsonOutputParser\n",
    "\n",
    "chain = (\n",
    "    model | JsonOutputParser()\n",
    ")  # Due to a bug in older versions of Langchain, JsonOutputParser did not stream results from some models\n",
    "async for text in chain.astream(\n",
    "    \"output a list of the countries france, spain and japan and their populations in JSON format. \"\n",
    "    'Use a dict with an outer key of \"countries\" which contains a list of countries. '\n",
    "    \"Each country should have the key `name` and `population`\"\n",
    "):\n",
    "    print(text, flush=True)"
   ]
  },
  {
   "cell_type": "markdown",
   "metadata": {},
   "source": [
    "Now, let's break streaming. We'll use the previous example and append an extraction function at the end that extracts the country names from the finalized JSON.\n",
    "\n",
    "#### Warning\n",
    "Any steps in the chain that operate on finalized inputs rather than on input streams can break streaming functionality via stream or astream.\n",
    "\n",
    "Later, we will discuss the astream_events API which streams results from intermediate steps. This API will stream results from intermediate steps even if the chain contains steps that only operate on finalized inputs.\n",
    "\n"
   ]
  },
  {
   "cell_type": "code",
   "execution_count": 15,
   "metadata": {},
   "outputs": [
    {
     "name": "stdout",
     "output_type": "stream",
     "text": [
      "['France', 'Spain', 'Japan']|"
     ]
    }
   ],
   "source": [
    "from langchain_core.output_parsers import (\n",
    "    JsonOutputParser,\n",
    ")\n",
    "\n",
    "\n",
    "# A function that operates on finalized inputs\n",
    "# rather than on an input_stream\n",
    "def _extract_country_names(inputs):\n",
    "    \"\"\"A function that does not operates on input streams and breaks streaming.\"\"\"\n",
    "    if not isinstance(inputs, dict):\n",
    "        return \"\"\n",
    "\n",
    "    if \"countries\" not in inputs:\n",
    "        return \"\"\n",
    "\n",
    "    countries = inputs[\"countries\"]\n",
    "\n",
    "    if not isinstance(countries, list):\n",
    "        return \"\"\n",
    "\n",
    "    country_names = [\n",
    "        country.get(\"name\") for country in countries if isinstance(country, dict)\n",
    "    ]\n",
    "    return country_names\n",
    "\n",
    "\n",
    "chain = model | JsonOutputParser() | _extract_country_names\n",
    "\n",
    "async for text in chain.astream(\n",
    "    \"output a list of the countries france, spain and japan and their populations in JSON format. \"\n",
    "    'Use a dict with an outer key of \"countries\" which contains a list of countries. '\n",
    "    \"Each country should have the key `name` and `population`\"\n",
    "):\n",
    "    print(text, end=\"|\", flush=True)"
   ]
  },
  {
   "cell_type": "markdown",
   "metadata": {},
   "source": [
    "### Generator Functions\n",
    "Let's fix the streaming using a generator function that can operate on the input stream.\n",
    "\n",
    "#### tip\n",
    "A generator function (a function that uses yield) allows writing code that operates on input streams"
   ]
  },
  {
   "cell_type": "code",
   "execution_count": 20,
   "metadata": {},
   "outputs": [
    {
     "name": "stdout",
     "output_type": "stream",
     "text": [
      "France|Spain|Japan|"
     ]
    }
   ],
   "source": [
    "from langchain_core.output_parsers import JsonOutputParser\n",
    "\n",
    "\n",
    "async def _extract_country_names_streaming(input_stream):\n",
    "    \"\"\"A function that operates on input streams.\"\"\"\n",
    "    country_names_so_far = set()\n",
    "\n",
    "    async for input in input_stream:\n",
    "        if not isinstance(input, dict):\n",
    "            continue\n",
    "\n",
    "        if \"countries\" not in input:\n",
    "            continue\n",
    "\n",
    "        countries = input[\"countries\"]\n",
    "\n",
    "        if not isinstance(countries, list):\n",
    "            continue\n",
    "\n",
    "        for country in countries:\n",
    "            name = country.get(\"name\")\n",
    "            if not name:\n",
    "                continue\n",
    "            if name not in country_names_so_far:\n",
    "                yield name\n",
    "                country_names_so_far.add(name)\n",
    "\n",
    "\n",
    "chain = model | JsonOutputParser() | _extract_country_names_streaming\n",
    "\n",
    "async for text in chain.astream(\n",
    "    \"output a list of the countries france, spain and japan and their populations in JSON format. \"\n",
    "    'Use a dict with an outer key of \"countries\" which contains a list of countries. '\n",
    "    \"Each country should have the key `name` and `population`\",\n",
    "):\n",
    "    print(text, end=\"|\", flush=True)"
   ]
  },
  {
   "cell_type": "markdown",
   "metadata": {},
   "source": [
    "#### note\n",
    "Because the code above is relying on JSON auto-completion, you may see partial names of countries (e.g., Sp and Spain), which is not what one would want for an extraction result!\n",
    "\n",
    "We're focusing on streaming concepts, not necessarily the results of the chains."
   ]
  },
  {
   "cell_type": "markdown",
   "metadata": {},
   "source": [
    "## Non-streaming components\n",
    "Some built-in components like Retrievers do not offer any streaming. What happens if we try to stream them? 🤨"
   ]
  },
  {
   "cell_type": "code",
   "execution_count": 21,
   "metadata": {},
   "outputs": [
    {
     "data": {
      "text/plain": [
       "[[Document(metadata={}, page_content='harrison worked at kensho'),\n",
       "  Document(metadata={}, page_content='harrison likes spicy food')]]"
      ]
     },
     "execution_count": 21,
     "metadata": {},
     "output_type": "execute_result"
    }
   ],
   "source": [
    "from langchain_community.vectorstores import FAISS\n",
    "from langchain_core.output_parsers import StrOutputParser\n",
    "from langchain_core.prompts import ChatPromptTemplate\n",
    "from langchain_core.runnables import RunnablePassthrough\n",
    "from langchain_openai import OpenAIEmbeddings\n",
    "\n",
    "template = \"\"\"Answer the question based only on the following context:\n",
    "{context}\n",
    "\n",
    "Question: {question}\n",
    "\"\"\"\n",
    "prompt = ChatPromptTemplate.from_template(template)\n",
    "\n",
    "vectorstore = FAISS.from_texts(\n",
    "    [\"harrison worked at kensho\", \"harrison likes spicy food\"],\n",
    "    embedding=OpenAIEmbeddings(),\n",
    ")\n",
    "retriever = vectorstore.as_retriever()\n",
    "\n",
    "chunks = [chunk for chunk in retriever.stream(\"where did harrison work?\")]\n",
    "chunks"
   ]
  },
  {
   "cell_type": "markdown",
   "metadata": {},
   "source": [
    "Stream just yielded the final result from that component.\n",
    "\n",
    "This is OK 🥹! Not all components have to implement streaming -- in some cases streaming is either unnecessary, difficult or just doesn't make sense.\n",
    "\n",
    "### tip\n",
    "An LCEL chain constructed using non-streaming components, will still be able to stream in a lot of cases, with streaming of partial output starting after the last non-streaming step in the chain."
   ]
  },
  {
   "cell_type": "code",
   "execution_count": 22,
   "metadata": {},
   "outputs": [],
   "source": [
    "retrieval_chain = (\n",
    "    {\n",
    "        \"context\": retriever.with_config(run_name=\"Docs\"),\n",
    "        \"question\": RunnablePassthrough(),\n",
    "    }\n",
    "    | prompt\n",
    "    | model\n",
    "    | StrOutputParser()\n",
    ")"
   ]
  },
  {
   "cell_type": "code",
   "execution_count": 23,
   "metadata": {},
   "outputs": [
    {
     "name": "stdout",
     "output_type": "stream",
     "text": [
      "|H|arrison| worked| at| Kens|ho|.| Kens|ho| is| a| vibrant| tech| company| known| for| its| innovative| approach| to| data| analysis|.| The| office| is| filled| with| bright| colors| and| open| spaces|,| fostering| creativity| and| collaboration| among| the| team|.| Employees| often| enjoy| team| lunches| featuring| diverse| cuisines|,| reflecting| their| appreciation| for| global| flavors|.||"
     ]
    }
   ],
   "source": [
    "for chunk in retrieval_chain.stream(\n",
    "    \"Where did harrison work? \" \"Write 3 made up sentences about this place.\"\n",
    "):\n",
    "    print(chunk, end=\"|\", flush=True)"
   ]
  },
  {
   "cell_type": "markdown",
   "metadata": {},
   "source": [
    "Now that we've seen how stream and astream work, let's venture into the world of streaming events."
   ]
  },
  {
   "cell_type": "markdown",
   "metadata": {},
   "source": [
    "# Using Stream Events"
   ]
  },
  {
   "cell_type": "code",
   "execution_count": 25,
   "metadata": {},
   "outputs": [
    {
     "data": {
      "text/plain": [
       "'0.3.10'"
      ]
     },
     "execution_count": 25,
     "metadata": {},
     "output_type": "execute_result"
    }
   ],
   "source": [
    "import langchain_core\n",
    "langchain_core.__version__"
   ]
  },
  {
   "cell_type": "markdown",
   "metadata": {},
   "source": [
    "For the `astream_events` API to work properly:\n",
    "\n",
    "* Use `async` throughout the code to the extent possible (e.g., async tools etc)\n",
    "* Propagate callbacks if defining custom functions / runnables\n",
    "* Whenever using runnables without LCEL, make sure to call `.astream()` on LLMs rather than `.ainvoke` to force the LLM to stream tokens.\n",
    "\n",
    "### Event Reference\n",
    "Below is a reference table that shows some events that might be emitted by the various Runnable objects.\n",
    "\n",
    "#### note\n",
    "When streaming is implemented properly, the inputs to a runnable will not be known until after the input stream has been entirely consumed. This means that inputs will often be included only for end events and rather than for start events.\n",
    "\n",
    "## Chat Model\n",
    "Let's start off by looking at the events produced by a chat model."
   ]
  },
  {
   "cell_type": "code",
   "execution_count": 26,
   "metadata": {},
   "outputs": [],
   "source": [
    "events = []\n",
    "async for event in model.astream_events(\"hello\", version=\"v2\"):\n",
    "    events.append(event)"
   ]
  },
  {
   "cell_type": "code",
   "execution_count": 27,
   "metadata": {},
   "outputs": [
    {
     "data": {
      "text/plain": [
       "[{'event': 'on_chat_model_start',\n",
       "  'data': {'input': 'hello'},\n",
       "  'name': 'ChatOpenAI',\n",
       "  'tags': [],\n",
       "  'run_id': '2153b57f-1920-41a7-99fc-6b4fa1a3ff75',\n",
       "  'metadata': {'ls_provider': 'openai',\n",
       "   'ls_model_name': 'gpt-4o-mini',\n",
       "   'ls_model_type': 'chat',\n",
       "   'ls_temperature': 0.7},\n",
       "  'parent_ids': []},\n",
       " {'event': 'on_chat_model_stream',\n",
       "  'run_id': '2153b57f-1920-41a7-99fc-6b4fa1a3ff75',\n",
       "  'name': 'ChatOpenAI',\n",
       "  'tags': [],\n",
       "  'metadata': {'ls_provider': 'openai',\n",
       "   'ls_model_name': 'gpt-4o-mini',\n",
       "   'ls_model_type': 'chat',\n",
       "   'ls_temperature': 0.7},\n",
       "  'data': {'chunk': AIMessageChunk(content='', additional_kwargs={}, response_metadata={}, id='run-2153b57f-1920-41a7-99fc-6b4fa1a3ff75')},\n",
       "  'parent_ids': []},\n",
       " {'event': 'on_chat_model_stream',\n",
       "  'run_id': '2153b57f-1920-41a7-99fc-6b4fa1a3ff75',\n",
       "  'name': 'ChatOpenAI',\n",
       "  'tags': [],\n",
       "  'metadata': {'ls_provider': 'openai',\n",
       "   'ls_model_name': 'gpt-4o-mini',\n",
       "   'ls_model_type': 'chat',\n",
       "   'ls_temperature': 0.7},\n",
       "  'data': {'chunk': AIMessageChunk(content='Hello', additional_kwargs={}, response_metadata={}, id='run-2153b57f-1920-41a7-99fc-6b4fa1a3ff75')},\n",
       "  'parent_ids': []}]"
      ]
     },
     "execution_count": 27,
     "metadata": {},
     "output_type": "execute_result"
    }
   ],
   "source": [
    "events[:3]"
   ]
  },
  {
   "cell_type": "markdown",
   "metadata": {},
   "source": [
    "## Chain\n",
    "Let's revisit the example chain that parsed streaming JSON to explore the streaming events API."
   ]
  },
  {
   "cell_type": "code",
   "execution_count": 29,
   "metadata": {},
   "outputs": [],
   "source": [
    "chain = (\n",
    "    model | JsonOutputParser()\n",
    ")  # Due to a bug in older versions of Langchain, JsonOutputParser did not stream results from some models\n",
    "\n",
    "events = [\n",
    "    event\n",
    "    async for event in chain.astream_events(\n",
    "        \"output a list of the countries france, spain and japan and their populations in JSON format. \"\n",
    "        'Use a dict with an outer key of \"countries\" which contains a list of countries. '\n",
    "        \"Each country should have the key `name` and `population`\",\n",
    "        version=\"v2\",\n",
    "    )\n",
    "]"
   ]
  },
  {
   "cell_type": "markdown",
   "metadata": {},
   "source": [
    "If you examine at the first few events, you'll notice that there are 3 different start events rather than 2 start events.\n",
    "\n",
    "The three start events correspond to:\n",
    "\n",
    "1. The chain (model + parser)\n",
    "2. The model\n",
    "3. The parser"
   ]
  },
  {
   "cell_type": "code",
   "execution_count": 30,
   "metadata": {},
   "outputs": [
    {
     "data": {
      "text/plain": [
       "[{'event': 'on_chain_start',\n",
       "  'data': {'input': 'output a list of the countries france, spain and japan and their populations in JSON format. Use a dict with an outer key of \"countries\" which contains a list of countries. Each country should have the key `name` and `population`'},\n",
       "  'name': 'RunnableSequence',\n",
       "  'tags': [],\n",
       "  'run_id': '36450748-7210-4ed4-8ebc-7ace2eb9a299',\n",
       "  'metadata': {},\n",
       "  'parent_ids': []},\n",
       " {'event': 'on_chat_model_start',\n",
       "  'data': {'input': {'messages': [[HumanMessage(content='output a list of the countries france, spain and japan and their populations in JSON format. Use a dict with an outer key of \"countries\" which contains a list of countries. Each country should have the key `name` and `population`', additional_kwargs={}, response_metadata={})]]}},\n",
       "  'name': 'ChatOpenAI',\n",
       "  'tags': ['seq:step:1'],\n",
       "  'run_id': '29e5e39e-d534-4b9c-92ca-0a490f531071',\n",
       "  'metadata': {'ls_provider': 'openai',\n",
       "   'ls_model_name': 'gpt-4o-mini',\n",
       "   'ls_model_type': 'chat',\n",
       "   'ls_temperature': 0.7},\n",
       "  'parent_ids': ['36450748-7210-4ed4-8ebc-7ace2eb9a299']},\n",
       " {'event': 'on_chat_model_stream',\n",
       "  'data': {'chunk': AIMessageChunk(content='', additional_kwargs={}, response_metadata={}, id='run-29e5e39e-d534-4b9c-92ca-0a490f531071')},\n",
       "  'run_id': '29e5e39e-d534-4b9c-92ca-0a490f531071',\n",
       "  'name': 'ChatOpenAI',\n",
       "  'tags': ['seq:step:1'],\n",
       "  'metadata': {'ls_provider': 'openai',\n",
       "   'ls_model_name': 'gpt-4o-mini',\n",
       "   'ls_model_type': 'chat',\n",
       "   'ls_temperature': 0.7},\n",
       "  'parent_ids': ['36450748-7210-4ed4-8ebc-7ace2eb9a299']}]"
      ]
     },
     "execution_count": 30,
     "metadata": {},
     "output_type": "execute_result"
    }
   ],
   "source": [
    "events[:3]"
   ]
  },
  {
   "cell_type": "code",
   "execution_count": 31,
   "metadata": {},
   "outputs": [
    {
     "data": {
      "text/plain": [
       "[{'event': 'on_parser_end',\n",
       "  'data': {'output': {'countries': [{'name': 'France', 'population': 65273511},\n",
       "     {'name': 'Spain', 'population': 46754778},\n",
       "     {'name': 'Japan', 'population': 126476461}]},\n",
       "   'input': AIMessageChunk(content='Here is the JSON representation of the countries France, Spain, and Japan along with their populations:\\n\\n```json\\n{\\n  \"countries\": [\\n    {\\n      \"name\": \"France\",\\n      \"population\": 65273511\\n    },\\n    {\\n      \"name\": \"Spain\",\\n      \"population\": 46754778\\n    },\\n    {\\n      \"name\": \"Japan\",\\n      \"population\": 126476461\\n    }\\n  ]\\n}\\n```\\n\\nPlease note that the population figures are based on estimates and may vary over time.', additional_kwargs={}, response_metadata={'finish_reason': 'stop', 'model_name': 'gpt-4o-mini-2024-07-18', 'system_fingerprint': 'fp_0ba0d124f1'}, id='run-29e5e39e-d534-4b9c-92ca-0a490f531071')},\n",
       "  'run_id': '644158af-b75a-494c-ad3d-02391a38c679',\n",
       "  'name': 'JsonOutputParser',\n",
       "  'tags': ['seq:step:2'],\n",
       "  'metadata': {},\n",
       "  'parent_ids': ['36450748-7210-4ed4-8ebc-7ace2eb9a299']},\n",
       " {'event': 'on_chain_end',\n",
       "  'data': {'output': {'countries': [{'name': 'France', 'population': 65273511},\n",
       "     {'name': 'Spain', 'population': 46754778},\n",
       "     {'name': 'Japan', 'population': 126476461}]}},\n",
       "  'run_id': '36450748-7210-4ed4-8ebc-7ace2eb9a299',\n",
       "  'name': 'RunnableSequence',\n",
       "  'tags': [],\n",
       "  'metadata': {},\n",
       "  'parent_ids': []}]"
      ]
     },
     "execution_count": 31,
     "metadata": {},
     "output_type": "execute_result"
    }
   ],
   "source": [
    "events[-2:]"
   ]
  },
  {
   "cell_type": "markdown",
   "metadata": {},
   "source": [
    "What do you think you'd see if you looked at the last 3 events? what about the middle?\n",
    "\n",
    "Let's use this API to take output the stream events from the model and the parser. We're ignoring start events, end events and events from the chain."
   ]
  },
  {
   "cell_type": "code",
   "execution_count": 34,
   "metadata": {},
   "outputs": [
    {
     "name": "stdout",
     "output_type": "stream",
     "text": [
      "Chat model chunk: ''\n",
      "Chat model chunk: 'Here'\n",
      "Chat model chunk: ' is'\n",
      "Chat model chunk: ' the'\n",
      "Chat model chunk: ' JSON'\n",
      "Chat model chunk: ' representation'\n",
      "Chat model chunk: ' of'\n",
      "Chat model chunk: ' the'\n",
      "Chat model chunk: ' countries'\n",
      "Chat model chunk: ' France'\n",
      "Chat model chunk: ','\n",
      "Chat model chunk: ' Spain'\n",
      "Chat model chunk: ','\n",
      "Chat model chunk: ' and'\n",
      "Chat model chunk: ' Japan'\n",
      "Chat model chunk: ' along'\n",
      "Chat model chunk: ' with'\n",
      "Chat model chunk: ' their'\n",
      "Chat model chunk: ' populations'\n",
      "Chat model chunk: ':\\n\\n'\n",
      "Chat model chunk: '```'\n",
      "Chat model chunk: 'json'\n",
      "Chat model chunk: '\\n'\n",
      "Chat model chunk: '{\\n'\n",
      "Parser chunk: {}\n",
      "Chat model chunk: ' '\n",
      "Chat model chunk: ' \"'\n",
      "Chat model chunk: 'countries'\n",
      "Chat model chunk: '\":'\n",
      "Chat model chunk: ' [\\n'\n",
      "Parser chunk: {'countries': []}\n",
      "Chat model chunk: '   '\n",
      "Chat model chunk: ' {\\n'\n",
      "Parser chunk: {'countries': [{}]}\n",
      "Chat model chunk: '     '\n",
      "Chat model chunk: ' \"'\n",
      "Chat model chunk: 'name'\n",
      "Chat model chunk: '\":'\n",
      "Chat model chunk: ' \"'\n",
      "Parser chunk: {'countries': [{'name': ''}]}\n",
      "Chat model chunk: 'France'\n",
      "Parser chunk: {'countries': [{'name': 'France'}]}\n",
      "Chat model chunk: '\",\\n'\n",
      "...\n"
     ]
    }
   ],
   "source": [
    "num_events = 0\n",
    "\n",
    "async for event in chain.astream_events(\n",
    "    \"output a list of the countries france, spain and japan and their populations in JSON format. \"\n",
    "    'Use a dict with an outer key of \"countries\" which contains a list of countries. '\n",
    "    \"Each country should have the key `name` and `population`\",\n",
    "    version=\"v2\",\n",
    "):\n",
    "    kind = event[\"event\"]\n",
    "    if kind == \"on_chat_model_stream\":\n",
    "        print(\n",
    "            f\"Chat model chunk: {repr(event['data']['chunk'].content)}\",\n",
    "            flush=True,\n",
    "        )\n",
    "    if kind == \"on_parser_stream\":\n",
    "        print(f\"Parser chunk: {event['data']['chunk']}\", flush=True)\n",
    "    num_events += 1\n",
    "    if num_events > 50:\n",
    "        # Truncate the output\n",
    "        print(\"...\")\n",
    "        break"
   ]
  },
  {
   "cell_type": "code",
   "execution_count": null,
   "metadata": {},
   "outputs": [],
   "source": []
  }
 ],
 "metadata": {
  "kernelspec": {
   "display_name": "langchain",
   "language": "python",
   "name": "python3"
  },
  "language_info": {
   "codemirror_mode": {
    "name": "ipython",
    "version": 3
   },
   "file_extension": ".py",
   "mimetype": "text/x-python",
   "name": "python",
   "nbconvert_exporter": "python",
   "pygments_lexer": "ipython3",
   "version": "3.10.14"
  }
 },
 "nbformat": 4,
 "nbformat_minor": 2
}
