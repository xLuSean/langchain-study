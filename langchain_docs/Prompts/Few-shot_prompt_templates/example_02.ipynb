{
 "cells": [
  {
   "cell_type": "markdown",
   "metadata": {},
   "source": [
    "ref: [【Day 13】LangChain 怎麼 Chain？](https://ithelp.ithome.com.tw/articles/10344955)"
   ]
  },
  {
   "cell_type": "code",
   "execution_count": null,
   "metadata": {},
   "outputs": [],
   "source": [
    "from langchain_core.prompts import PromptTemplate, FewShotPromptTemplate\n",
    "# from langchain_ffm import ChatFormosaFoundationModel\n",
    "# llm = ChatFormosaFoundationModel(model=\"ffm-llama3-70b-chat\", temperature=0.01)\n",
    "from langchain_openai import ChatOpenAI\n",
    "llm = ChatOpenAI(model=\"gpt-4o\", temperature=0)\n",
    "# from langchain_google_genai import ChatGoogleGenerativeAI\n",
    "# llm = ChatGoogleGenerativeAI(model=\"gemini-pro\", temperature=0)\n",
    "# 設定欲修正的詞 -> 現金餘額\n",
    "text = \"現金允額\"\n",
    "\n",
    "# zero-shot 的 prompt\n",
    "template = \"\"\"糾正以下文字的錯字 : {input}\n",
    "修正結果 : \"\"\"\n",
    "\n",
    "prompt = PromptTemplate(input_variables=[\"input\"], template=template)\n",
    "\n",
    "# 使用 \"|\" 將 Prompt 和 Model Chain 起來\n",
    "chain = prompt | llm\n",
    "\n",
    "response = chain.invoke({\"input\":text})\n",
    "\n",
    "print(f\"Zero Shot 的結果\\n欲修正內容 : {text}\\n修正結果 : {response.content}\")\n",
    "\n",
    "#################################################################################################\n",
    "\n",
    "# few-shot 的 prompt\n",
    "template = \"\"\"修正以下文字的錯字 : {input}\n",
    "修正結果 : {answer}\"\"\"\n",
    "example_prompt = PromptTemplate(input_variables=[\"input\", \"answer\"], template = template)\n",
    "# 根據上面 Prompt 的參數設定給 AI 的 few-shot\n",
    "examples = [\n",
    "\t{\n",
    "\t\t\"input\": \"通貨紅脹\",\n",
    "\t\t\"answer\": \"通貨膨脹\"\n",
    "\t},\n",
    "\t{\n",
    "\t\t\"input\": \"政府有一個獎注的補助費用\",\n",
    "\t\t\"answer\": \"政府有一個獎助的補助費用\"\n",
    "\t},\n",
    "\t{\n",
    "\t\t\"input\": \"庫藏骨\",\n",
    "\t\t\"answer\": \"庫藏股\"\n",
    "\t},\n",
    "]\n",
    "# 使用 FewShotPromptTemplate 模塊\n",
    "prompt = FewShotPromptTemplate(\n",
    "\texamples = examples,\n",
    "\texample_prompt = example_prompt,\n",
    "\tsuffix=\"修正以下文字的錯字 : {input_01}\",\n",
    "\tinput_variables=[\"input_01\"],\n",
    ")\n",
    "# print(f\"Few-shot prompt: {prompt}\")\n",
    "\n",
    "# 使用 \"|\" 將 Prompt 和 Model Chain 起來\n",
    "chain = prompt | llm\n",
    "response = chain.invoke({\"input_01\":text})\n",
    "print(f'\\nFew Shot 的結果\\n欲修正內容 : {text}\\n修正結果 : {response.content}')\n"
   ]
  },
  {
   "cell_type": "code",
   "execution_count": null,
   "metadata": {},
   "outputs": [],
   "source": []
  }
 ],
 "metadata": {
  "kernelspec": {
   "display_name": "langchain",
   "language": "python",
   "name": "python3"
  },
  "language_info": {
   "codemirror_mode": {
    "name": "ipython",
    "version": 3
   },
   "file_extension": ".py",
   "mimetype": "text/x-python",
   "name": "python",
   "nbconvert_exporter": "python",
   "pygments_lexer": "ipython3",
   "version": "3.10.14"
  }
 },
 "nbformat": 4,
 "nbformat_minor": 2
}
