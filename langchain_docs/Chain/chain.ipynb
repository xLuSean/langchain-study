{
 "cells": [
  {
   "cell_type": "code",
   "execution_count": 4,
   "metadata": {},
   "outputs": [
    {
     "name": "stdout",
     "output_type": "stream",
     "text": [
      "Hello! How can I assist you today?\n"
     ]
    }
   ],
   "source": [
    "\n",
    "# from langchain_community.llms import Ollama\n",
    "from langchain_openai import ChatOpenAI\n",
    "from langchain_core.output_parsers import StrOutputParser\n",
    "from langchain_core.prompts import ChatPromptTemplate\n",
    "from dotenv import load_dotenv\n",
    "load_dotenv()\n",
    "\n",
    "llm = ChatOpenAI()\n",
    "\n",
    "prompt = ChatPromptTemplate.from_messages([\n",
    "    (\"user\", \"{input}\"),\n",
    "])\n",
    "\n",
    "prompt_output = prompt.invoke({\"input\": 'Hi there'})\n",
    "llm_output = llm.invoke(prompt_output)\n",
    "answer = StrOutputParser().invoke(llm_output)\n",
    "\n",
    "print(answer)"
   ]
  },
  {
   "cell_type": "markdown",
   "metadata": {},
   "source": [
    "## LCEL"
   ]
  },
  {
   "cell_type": "code",
   "execution_count": 11,
   "metadata": {},
   "outputs": [
    {
     "name": "stdout",
     "output_type": "stream",
     "text": [
      "Hello! How can I assist you today?\n",
      "Hello! How can I assist you today?\n",
      "Hello! How can I help you today?\n",
      "Hello! How can I assist you today?\n",
      "Hello! How can I assist you today?\n",
      "Hello! How can I assist you today?\n",
      "Hello! How can I assist you today?\n",
      "Hello! How can I assist you today?\n",
      "Hello! How can I assist you today?\n",
      "Hello! How can I assist you today?\n",
      "7.417217541951686\n"
     ]
    }
   ],
   "source": [
    "\n",
    "# from langchain_community.llms import Ollama\n",
    "from langchain_openai import ChatOpenAI\n",
    "from langchain_core.output_parsers import StrOutputParser\n",
    "from langchain_core.prompts import ChatPromptTemplate\n",
    "from dotenv import load_dotenv\n",
    "load_dotenv()\n",
    "\n",
    "llm = ChatOpenAI()\n",
    "\n",
    "prompt = ChatPromptTemplate.from_messages([\n",
    "    (\"user\", \"{input}\"),\n",
    "])\n",
    "\n",
    "chain = prompt | llm | StrOutputParser()\n",
    "\n",
    "import time\n",
    "\n",
    "start = time.perf_counter()\n",
    "for i in range(10):\n",
    "    answer = chain.invoke({\"input\": 'Hi there'})\n",
    "    print(answer)\n",
    "print(time.perf_counter() - start)\n",
    "\n",
    "# prompt_output = prompt.invoke({\"input\": 'Hi there'})\n",
    "# llm_output = llm.invoke(prompt_output)\n",
    "# answer = StrOutputParser().invoke(llm_output)\n"
   ]
  },
  {
   "cell_type": "markdown",
   "metadata": {},
   "source": [
    "## LCEL + batch"
   ]
  },
  {
   "cell_type": "code",
   "execution_count": 13,
   "metadata": {},
   "outputs": [
    {
     "name": "stdout",
     "output_type": "stream",
     "text": [
      "['Hello! How can I assist you today?', 'Hello! How can I help you today?', 'Hello! How can I assist you today?', 'Hello! How can I assist you today?', 'Hello! How can I assist you today?', 'Hello! How can I assist you today?', 'Hello! How can I assist you today?', 'Hello! How can I assist you today?', 'Hello! How can I assist you today?', 'Hello! How can I assist you today?']\n",
      "0.700246165972203\n"
     ]
    }
   ],
   "source": [
    "\n",
    "# from langchain_community.llms import Ollama\n",
    "from langchain_openai import ChatOpenAI\n",
    "from langchain_core.output_parsers import StrOutputParser\n",
    "from langchain_core.prompts import ChatPromptTemplate\n",
    "from dotenv import load_dotenv\n",
    "load_dotenv()\n",
    "\n",
    "llm = ChatOpenAI()\n",
    "\n",
    "prompt = ChatPromptTemplate.from_messages([\n",
    "    (\"user\", \"{input}\"),\n",
    "])\n",
    "\n",
    "chain = prompt | llm | StrOutputParser()\n",
    "\n",
    "import time\n",
    "\n",
    "# answer = chain.batch([{\"input\": 'Hi there'}, {\"input\": 'Hi there'}])\n",
    "\n",
    "start = time.perf_counter()\n",
    "dict_list = [ {\"input\": 'Hi there'} for _ in range(10)]\n",
    "# print(dict_list )\n",
    "answer = chain.batch(dict_list)\n",
    "print(answer)\n",
    "print(time.perf_counter() - start)\n",
    "\n",
    "# prompt_output = prompt.invoke({\"input\": 'Hi there'})\n",
    "# llm_output = llm.invoke(prompt_output)\n",
    "# answer = StrOutputParser().invoke(llm_output)\n",
    "\n",
    "# print(answer)"
   ]
  },
  {
   "cell_type": "code",
   "execution_count": null,
   "metadata": {},
   "outputs": [],
   "source": []
  },
  {
   "cell_type": "code",
   "execution_count": null,
   "metadata": {},
   "outputs": [],
   "source": []
  }
 ],
 "metadata": {
  "kernelspec": {
   "display_name": "langchain",
   "language": "python",
   "name": "python3"
  },
  "language_info": {
   "codemirror_mode": {
    "name": "ipython",
    "version": 3
   },
   "file_extension": ".py",
   "mimetype": "text/x-python",
   "name": "python",
   "nbconvert_exporter": "python",
   "pygments_lexer": "ipython3",
   "version": "3.10.14"
  }
 },
 "nbformat": 4,
 "nbformat_minor": 2
}
