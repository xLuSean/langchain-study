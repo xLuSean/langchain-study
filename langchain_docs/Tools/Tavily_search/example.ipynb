{
 "cells": [
  {
   "cell_type": "markdown",
   "metadata": {},
   "source": [
    "ref: https://python.langchain.com/v0.2/docs/integrations/tools/tavily_search/"
   ]
  },
  {
   "cell_type": "markdown",
   "metadata": {},
   "source": [
    "# Tavily Search\n",
    "Tavily's Search API is a search engine built specifically for AI agents (LLMs), delivering real-time, accurate, and factual results at speed.\n",
    "\n",
    "## Setup\n",
    "The integration lives in the langchain-community package. We also need to install the tavily-python package itself.\n",
    "\n",
    "`pip install -U langchain-community tavily-python`\n",
    "\n",
    "We also need to set our Tavily API key."
   ]
  },
  {
   "cell_type": "code",
   "execution_count": 2,
   "metadata": {},
   "outputs": [
    {
     "data": {
      "text/plain": [
       "True"
      ]
     },
     "execution_count": 2,
     "metadata": {},
     "output_type": "execute_result"
    }
   ],
   "source": [
    "from dotenv import load_dotenv\n",
    "load_dotenv()"
   ]
  },
  {
   "cell_type": "code",
   "execution_count": 3,
   "metadata": {},
   "outputs": [],
   "source": [
    "from langchain_community.tools.tavily_search import TavilySearchResults\n",
    "\n",
    "tool = TavilySearchResults()"
   ]
  },
  {
   "cell_type": "code",
   "execution_count": 4,
   "metadata": {},
   "outputs": [
    {
     "data": {
      "text/plain": [
       "[{'url': 'https://www.npr.org/2023/09/03/1197497458/the-latest-on-the-burning-man-flooding',\n",
       "  'content': \"There are also reports that at least one person has died at the counterculture festival about a hundred miles north of Reno, Nev. Earlier this afternoon, I caught up with NPR's Claudia Peschiutta, who's at her first burn, and she told me it's muddy where she is, but that she and her camp family have been making the best of things.\\n National\\nThe latest on the Burning Man flooding\\nClaudia Peschiutta\\nAuthorities are investigating a death at the Burning Man festival in the Nevada desert after tens of thousands of people are stuck in camps because of rain.\\n SCOTT DETROW, HOST:\\nKnee-deep mud, warnings to conserve food and water, orders to shelter in place - this is all at Burning Man 2023 after torrential rains turned the Black Rock Desert into miles and miles of mud. I mean, mostly what I've seen from my personal experience is just any sort of need that you have, somebody, whether friend or neighbor or stranger, will jump in to help you out in some way. And I should mention that desert Wi-Fi is doing the best as it can as we talk to you, dropping in and out.\"},\n",
       " {'url': 'https://www.nbcnews.com/news/us-news/live-blog/live-updates-burning-man-flooding-keeps-thousands-stranded-nevada-site-rcna103193',\n",
       "  'content': \"Profile\\nSections\\ntv\\nFeatured\\nMore From NBC\\nFollow NBC News\\nnews Alerts\\nThere are no new alerts at this time\\nBurning Man flooding keeps thousands stranded at Nevada site as authorities investigate 1 death\\nBurning Man attendees struggling to get home\\n70,000+ stuck at Burning Man: When will they be able to get out?\\n Thousands still stranded at Burning Man after torrential rain\\nBurning Man revelers unfazed by deluge and deep mud\\nReuters\\nThousands of Burning Man attendees partied hard on Sunday despite downpours that turned the Nevada desert where the annual arts and music festival takes place into a sea of sticky mud and led officials to order the multitudes to shelter in place.\\n Neal Katyal warns hiking in the mud\\ncan be 'worse than walking on ice'\\nDoha Madani\\nNeal Katyal, the former acting U.S. solicitor general, is among the Burning Man attendees who decided to take the risk and hike out of the festival grounds.\\n Videos posted to his Instagram story show Diplo walking through mud before, he says, he hitchhiked to Gerlach and Reno to make a flight to Washington, D.C.\\n“I just got done DJ’ing for three hours, after walking f---ing for four hours out of the desert and taking a flight, mud still on my face,” he said in a video posted to his Instagram story last night.\\n Burning Man memes are swamping social media\\nAngela Yang\\nAs heavy rain turns Burning Man 2023 into a muddy mess, a deluge of unsympathetic jokes has swamped the internet outside Black Rock City, the temporary location built annually for the nine-day festival in the remote desert of Nevada.\\n\"},\n",
       " {'url': 'https://www.pbs.org/newshour/nation/death-at-burning-man-festival-under-investigation-as-flooding-strands-thousands',\n",
       "  'content': 'Photo by Trevor Hughes/USA TODAY NETWORK via REUTERS\\nRelated\\nBy Scott Sonner, Associated Press\\nBy Scott Sonner, Associated Press\\nBy Larisa Epatko\\nGo Deeper\\nAssociated Press\\nAssociated Press\\nSupport Provided By:\\nLearn more\\nSupport PBS NewsHour:\\nEducate your inbox\\nSubscribe to Here’s the Deal, our politics\\nnewsletter for analysis you won’t find anywhere\\xa0else.\\n Associated Press\\nAssociated Press\\nLeave your feedback\\nDeath at Burning Man festival under investigation as flooding strands thousands\\nRENO, Nev. (AP) — Authorities in Nevada were investigating a death at the site of the Burning Man festival where thousands of attendees remained stranded Saturday night as flooding from storms swept through the Nevada desert.\\n The Pershing County Sheriff’s Office said the death happened during the event but offered few details as the investigation continued, including the identity of the deceased person or the suspected cause of death,\\xa0KNSD-TV reported.\\n Vehicle gates will not open for the remainder of the event, which began on Aug. 27 and was scheduled to end Monday, according to the U.S. Bureau of Land Management, which oversees the Black Rock Desert where the festival is being held.\\n Messages left Saturday afternoon by The Associated Press for both the Bureau of Land Management and the Pershing County Sheriff’s Office, the agencies that closed the entrance, weren’t immediately returned.\\n'},\n",
       " {'url': 'https://www.cnn.com/2023/09/05/us/burning-man-storms-shelter-exodus-tuesday/index.html',\n",
       "  'content': \"CNN values your feedback\\nBurning Man attendees make a mass exodus after a dramatic weekend that left thousands stuck in the Nevada desert\\nThousands of Burning Man attendees finally made their mass exodus after intense rain over the weekend flooded camp sites and filled them with thick, ankle-deep mud – stranding more than 70,000 free-spirited revelers as they waited for the Nevada desert city to dry out.\\n Burning Man organizers lift driving ban after heavy rains left the event smothered in mud and trapped thousands\\nThe area was still muddy and parts were still difficult to navigate, organizers warned, and the wait time to leave the city Monday night was about seven hours. Diplo hitchhiked ride out of rain-drenched Burning Man after walking miles 'through the mud' and actually made it to his DC concert\\n“Quite a wet start to September for much of eastern CA-western NV,” the National Weather Service in Reno wrote on X. ” “As soon as the tents started getting water-logged or unlivable, people in RVs started taking in some of the tenters, so everybody was warm,” Kaz Qamruddin, who attended the event, told CNN’s Brianna Keilar Monday.\\n From wood blocks to 'poop buckets,' how Burning Man organizers told festivalgoers to prepare for heavy rain\\nAmong the early departures was music DJ Diplo, who told CNN he walked several miles in the muddy desert Saturday morning along with other celebrities, including Chris Rock, Cindy Crawford, Kaia Gerber and Austin Butler.\"},\n",
       " {'url': 'https://abcnews.go.com/US/burning-man-flooding-happened-stranded-festivalgoers/story?id=102908331',\n",
       "  'content': '\"\\nTop Stories\\nMacy\\'s Thanksgiving Day Parade temporarily halted by pro-Palestinian protesters\\nGuns N\\' Roses singer Axl Rose accused of alleged 1989 sexual assault by former model\\nFBI: Rainbow Bridge crash, explosion not connected to terrorism\\nToxic chemical spill from Kentucky train derailment forces residents to flee homes\\nHezbollah fires rockets at north Israel after an airstrike kills 5 of the group\\'s senior fighters\\nABC News Live\\n24/7 coverage of breaking news and live events ABC News\\nVideo\\nLive\\nShows\\nElection 2024\\n538\\nStream on\\nBurning Man flooding: What happened to stranded festivalgoers?\\n In response to the unusual weather, event organizers shut down traffic in or out of what is called Black Rock City -- where the festival is held in the desert -- including the local airport.\\n MORE: These US regions will experience scorching temperatures for the remainder of Labor Day weekend\\nOn Sunday, mobile cell trailers to boost cell service and charging stations were placed around the festival grounds amid the recovery efforts, according to organizers.\\n This is typically the driest time of the year for the desert, and it does not take much rain to make the desert floor a mud bath.\\n'}]"
      ]
     },
     "execution_count": 4,
     "metadata": {},
     "output_type": "execute_result"
    }
   ],
   "source": [
    "tool.invoke({\"query\": \"What happened in the latest burning man floods\"})"
   ]
  },
  {
   "cell_type": "markdown",
   "metadata": {},
   "source": [
    "## Chaining\n",
    "We show here how to use it as part of an agent. We use the OpenAI Functions Agent, so we will need to setup and install the required dependencies for that. We will also use LangSmith Hub to pull the prompt from, so we will need to install that.\n",
    "\n",
    "`pip install -U langchain-openai langchainhub`"
   ]
  },
  {
   "cell_type": "code",
   "execution_count": 13,
   "metadata": {},
   "outputs": [],
   "source": [
    "from langchain import hub\n",
    "from langchain.agents import AgentExecutor, create_openai_functions_agent\n",
    "from langchain_openai import ChatOpenAI\n",
    "\n",
    "# instructions = \"\"\"You are an assistant.\"\"\"\n",
    "instructions = \"\"\"You are an assistant. no need to return URL, only text. response in Chinese\"\"\"\n",
    "base_prompt = hub.pull(\"langchain-ai/openai-functions-template\")\n",
    "prompt = base_prompt.partial(instructions=instructions)\n",
    "llm = ChatOpenAI(temperature=0)\n",
    "tavily_tool = TavilySearchResults()\n",
    "tools = [tavily_tool]\n",
    "agent = create_openai_functions_agent(llm, tools, prompt)\n",
    "agent_executor = AgentExecutor(\n",
    "    agent=agent,\n",
    "    tools=tools,\n",
    "    verbose=True,\n",
    ")"
   ]
  },
  {
   "cell_type": "code",
   "execution_count": 7,
   "metadata": {},
   "outputs": [
    {
     "name": "stdout",
     "output_type": "stream",
     "text": [
      "\n",
      "\n",
      "\u001b[1m> Entering new AgentExecutor chain...\u001b[0m\n",
      "\u001b[32;1m\u001b[1;3m\n",
      "Invoking: `tavily_search_results_json` with `{'query': 'latest Burning Man floods'}`\n",
      "\n",
      "\n",
      "\u001b[0m\u001b[36;1m\u001b[1;3m[{'url': 'https://www.npr.org/2023/09/03/1197497458/the-latest-on-the-burning-man-flooding', 'content': \"There are also reports that at least one person has died at the counterculture festival about a hundred miles north of Reno, Nev. Earlier this afternoon, I caught up with NPR's Claudia Peschiutta, who's at her first burn, and she told me it's muddy where she is, but that she and her camp family have been making the best of things.\\n National\\nThe latest on the Burning Man flooding\\nClaudia Peschiutta\\nAuthorities are investigating a death at the Burning Man festival in the Nevada desert after tens of thousands of people are stuck in camps because of rain.\\n SCOTT DETROW, HOST:\\nKnee-deep mud, warnings to conserve food and water, orders to shelter in place - this is all at Burning Man 2023 after torrential rains turned the Black Rock Desert into miles and miles of mud. I mean, mostly what I've seen from my personal experience is just any sort of need that you have, somebody, whether friend or neighbor or stranger, will jump in to help you out in some way. And I should mention that desert Wi-Fi is doing the best as it can as we talk to you, dropping in and out.\"}, {'url': 'https://www.cnn.com/2023/09/05/us/burning-man-storms-shelter-exodus-tuesday/index.html', 'content': \"CNN values your feedback\\nBurning Man attendees make a mass exodus after a dramatic weekend that left thousands stuck in the Nevada desert\\nThousands of Burning Man attendees finally made their mass exodus after intense rain over the weekend flooded camp sites and filled them with thick, ankle-deep mud – stranding more than 70,000 free-spirited revelers as they waited for the Nevada desert city to dry out.\\n Burning Man organizers lift driving ban after heavy rains left the event smothered in mud and trapped thousands\\nThe area was still muddy and parts were still difficult to navigate, organizers warned, and the wait time to leave the city Monday night was about seven hours. Diplo hitchhiked ride out of rain-drenched Burning Man after walking miles 'through the mud' and actually made it to his DC concert\\n“Quite a wet start to September for much of eastern CA-western NV,” the National Weather Service in Reno wrote on X. ” “As soon as the tents started getting water-logged or unlivable, people in RVs started taking in some of the tenters, so everybody was warm,” Kaz Qamruddin, who attended the event, told CNN’s Brianna Keilar Monday.\\n From wood blocks to 'poop buckets,' how Burning Man organizers told festivalgoers to prepare for heavy rain\\nAmong the early departures was music DJ Diplo, who told CNN he walked several miles in the muddy desert Saturday morning along with other celebrities, including Chris Rock, Cindy Crawford, Kaia Gerber and Austin Butler.\"}, {'url': 'https://www.nbcnews.com/news/us-news/live-blog/live-updates-burning-man-flooding-keeps-thousands-stranded-nevada-site-rcna103193', 'content': \"Profile\\nSections\\ntv\\nFeatured\\nMore From NBC\\nFollow NBC News\\nnews Alerts\\nThere are no new alerts at this time\\nBurning Man flooding keeps thousands stranded at Nevada site as authorities investigate 1 death\\nBurning Man attendees struggling to get home\\n70,000+ stuck at Burning Man: When will they be able to get out?\\n Thousands still stranded at Burning Man after torrential rain\\nBurning Man revelers unfazed by deluge and deep mud\\nReuters\\nThousands of Burning Man attendees partied hard on Sunday despite downpours that turned the Nevada desert where the annual arts and music festival takes place into a sea of sticky mud and led officials to order the multitudes to shelter in place.\\n Neal Katyal warns hiking in the mud\\ncan be 'worse than walking on ice'\\nDoha Madani\\nNeal Katyal, the former acting U.S. solicitor general, is among the Burning Man attendees who decided to take the risk and hike out of the festival grounds.\\n Videos posted to his Instagram story show Diplo walking through mud before, he says, he hitchhiked to Gerlach and Reno to make a flight to Washington, D.C.\\n“I just got done DJ’ing for three hours, after walking f---ing for four hours out of the desert and taking a flight, mud still on my face,” he said in a video posted to his Instagram story last night.\\n Burning Man memes are swamping social media\\nAngela Yang\\nAs heavy rain turns Burning Man 2023 into a muddy mess, a deluge of unsympathetic jokes has swamped the internet outside Black Rock City, the temporary location built annually for the nine-day festival in the remote desert of Nevada.\\n\"}, {'url': 'https://www.cnn.com/us/live-news/nevada-desert-burning-man-weather-rain-09-03-23/index.html', 'content': 'The festival’s 2023 theme is “Animalia,” which the Burning Man website explains, “will celebrate the animal world and our place in it — animals real and imagined, mythic and remembered — and explore the curious mental constructs that allow us to believe that imagined animals are real, real animals are imagined, and that somehow, despite all evidence to the contrary, mankind is somehow not part of the animal kingdom.”\\n Thousands stranded at Burning Man festival after heavy rains\\nBy Maureen Chowdhury, Steve Almasy and Matt Meyer, CNN\\nWhat we\\'re covering\\nPresident Biden has been briefed on the situation at Burning Man festival\\nFrom CNN\\'s Betsy Klein\\nPresident Joe Biden was briefed Sunday on the situation at the Burning Man festival in Black Rock Desert, Nevada, according to a White House official.\\n View Katyal\\'s post below:\\nSome of the 70,000 people stranded at Burning Man are walking out of the site, sheriff\\'s office says\\nFrom CNN\\'s Melissa Alonso\\nThere are currently \"a little over 70,000\" people stranded at the Burning Man festival in Nevada due to the mud and flooding, Pershing County Sheriff’s Sgt. Burning Man organizers working to provide cell service and medical resources as attendees shelter in place\\nFrom CNN\\'s Nouran Salahieh\\xa0and\\xa0Emma Tucker\\nBurning Man organizers say they are placing mobile cell trailers around the battered festival grounds, configuring their Wi-Fi system for public access, and sending buses to nearby Gerlach, Nevada, to pick up people who might have walked out of the desert and ferry them to Reno.\\n Festivalgoers are managing to have a good time despite being stuck in the mud, attendee says\\nDawne Looney, a Burning Man festival attendee, says people are making the best of the situation despite the heavy rain and mud stranding an estimated 70,000 of them in the desert.\\n'}, {'url': 'https://apnews.com/article/burning-man-festival-flooding-entrance-closed-d6cd88ee009c6e1f6d2d92739ec1ca18', 'content': 'The party still going,” said Scott London, a Southern California photographer, adding that the travel limitations offered “a view of Burning Man that a lot of us don’t get to see.”\\nMore than half an inch (1.3 centimeters) of rain and possibly close to 1 inch (2.5 centimeters) fell this weekend in parts of northwest Nevada, which includes the area where the Burning Man festival was being held, said Mark Deutschendorf, a meteorologist with the National Weather Service in Reno.\\n She said one of the biggest concerns has been the lack of toilet options because the trucks that normally arrive to clean out the portable toilets multiple times a day haven’t been able to reach the site since Friday’s rainstorm. The event began on Aug. 27 and had been scheduled to end Monday, according to the U.S. Bureau of Land Management, which oversees the Black Rock Desert, where the festival was held.\\n “I’m not leaving until both ‘The Man’ and ‘The Temple’ burn,” Barger said, referring to the wooden effigy and wooden structure that are traditionally torched during the event’s last two nights.\\n London, the Southern California photographer who was attending his 20th Burning Man and just published a book on the festival, “Burning Man: Art On Fire,” spent much of Saturday walking barefoot across the site, which is about 5 square miles.'}]\u001b[0m\u001b[32;1m\u001b[1;3mThe latest Burning Man festival experienced intense rain over the weekend, which flooded camp sites and filled them with thick, ankle-deep mud. This left thousands of attendees stranded in the Nevada desert. Reports indicate that at least one person has died at the festival. Despite the challenging conditions, attendees have been making the best of the situation. Some notable individuals, including music DJ Diplo and other celebrities, had to navigate through the muddy desert to leave the festival. The event organizers have been working to provide resources and assistance to those stranded. The festival's theme for 2023 is \"Animalia,\" celebrating the animal world and our place in it.\u001b[0m\n",
      "\n",
      "\u001b[1m> Finished chain.\u001b[0m\n"
     ]
    },
    {
     "data": {
      "text/plain": [
       "{'input': 'What happened in the latest burning man floods?',\n",
       " 'output': 'The latest Burning Man festival experienced intense rain over the weekend, which flooded camp sites and filled them with thick, ankle-deep mud. This left thousands of attendees stranded in the Nevada desert. Reports indicate that at least one person has died at the festival. Despite the challenging conditions, attendees have been making the best of the situation. Some notable individuals, including music DJ Diplo and other celebrities, had to navigate through the muddy desert to leave the festival. The event organizers have been working to provide resources and assistance to those stranded. The festival\\'s theme for 2023 is \"Animalia,\" celebrating the animal world and our place in it.'}"
      ]
     },
     "execution_count": 7,
     "metadata": {},
     "output_type": "execute_result"
    }
   ],
   "source": [
    "agent_executor.invoke({\"input\": \"What happened in the latest burning man floods?\"})"
   ]
  },
  {
   "cell_type": "code",
   "execution_count": 14,
   "metadata": {},
   "outputs": [
    {
     "name": "stdout",
     "output_type": "stream",
     "text": [
      "\n",
      "\n",
      "\u001b[1m> Entering new AgentExecutor chain...\u001b[0m\n",
      "\u001b[32;1m\u001b[1;3m\n",
      "Invoking: `tavily_search_results_json` with `{'query': '台灣熱銷貓糧'}`\n",
      "\n",
      "\n",
      "\u001b[0m\u001b[36;1m\u001b[1;3m[{'url': 'https://likekitten.com/cat-feed-recommendation/', 'content': 'ParkCat 無敵貓糧. 台灣在地品牌，是一款「吃了很有感」、「買得起的頂級貓糧」、「適口性爆好」的貓飼料。 ... 四種肉配方含有最高的含肉量，也是熱銷NO.1; 海洋鮭鱈和淡水鱒魚含有豐富的Omega-3，可以照護貓咪的皮膚與毛髮光澤 ...'}, {'url': 'https://www.catzoo.tw/category/132964', 'content': '臭貓動物園販售皇家、halo、法米納、渴望、倍力、貓侍、心靈雞湯、無敵貓糧、奧蘭多等，都是各大ptt、decard推薦品牌，都是平價便宜的貓飼料，快來台北推薦寵物店：臭貓動物園購買! 門市地址 中和店:新北市中和區景平路547號 新莊店:新北市新莊區雙鳳路128號'}, {'url': 'https://litomon.com/blog/2023catfood/', 'content': 'HeroMama 是致力於提供高CP值、高肉含量、高嗜口性的台灣寵物食品品牌! ... 貓飼料推薦 10 👉 巔峰貓飼料 ZIWI｜鮮肉貓糧. 成立於2004年，是世界上第一個寵物風乾生食的創始者，現已成為紐西蘭最大的寵物食品出口商，與世界寵物風乾生食的領導者。 ...'}, {'url': 'https://tw.my-best.com/79235', 'content': '台灣本土品奧藍多主打低負擔、肉食主義等特色，雖然標榜旗下產品能讓寵物過得如貴族一般，但價錢對飼主來說負擔卻不算大。 ... 這款將新鮮原肉進行風乾而製成的貓糧，以極高比例的含肉量打造出絕佳的適口性；而營養層面同樣沒有偏廢，來自紐西蘭的 ...'}, {'url': 'https://maomaopet.com.tw/recommendation-of-cat-food/', 'content': 'HeroMama是來自我們台灣自家的品牌，也是許多網友推薦的貓飼料，飼料內含有獨家的益菌晶球有助於維護貓咪的腸胃道，還有添加原味凍乾，另外他的飼料也不會很油，可以大幅的降低毛小孩因為用餐時，下巴殘留油脂導致黑點粉刺的問題，是一款相當不錯的貓糧。'}]\u001b[0m\u001b[32;1m\u001b[1;3m以下是台灣熱銷的貓糧品牌：\n",
      "\n",
      "1. ParkCat 無敵貓糧：台灣在地品牌，被稱為「吃了很有感」、「買得起的頂級貓糧」，適口性好，含有豐富的Omega-3，有助於照護貓咪的皮膚與毛髮光澤。\n",
      "\n",
      "2. HeroMama：提供高CP值、高肉含量、高嗜口性的台灣寵物食品品牌，被推薦為熱銷貓糧之一。\n",
      "\n",
      "3. 奧蘭多：台灣本土品牌，主打低負擔、肉食主義等特色，具有高含肉量和適口性。\n",
      "\n",
      "4. ZIWI：巔峰貓飼料，是世界上第一個寵物風乾生食的創始者，具有高肉含量和高CP值。\n",
      "\n",
      "這些品牌都是在台灣熱銷的貓糧，可以考慮給您的貓咪試試看。\u001b[0m\n",
      "\n",
      "\u001b[1m> Finished chain.\u001b[0m\n"
     ]
    },
    {
     "data": {
      "text/plain": [
       "{'input': '台灣熱銷貓糧',\n",
       " 'output': '以下是台灣熱銷的貓糧品牌：\\n\\n1. ParkCat 無敵貓糧：台灣在地品牌，被稱為「吃了很有感」、「買得起的頂級貓糧」，適口性好，含有豐富的Omega-3，有助於照護貓咪的皮膚與毛髮光澤。\\n\\n2. HeroMama：提供高CP值、高肉含量、高嗜口性的台灣寵物食品品牌，被推薦為熱銷貓糧之一。\\n\\n3. 奧蘭多：台灣本土品牌，主打低負擔、肉食主義等特色，具有高含肉量和適口性。\\n\\n4. ZIWI：巔峰貓飼料，是世界上第一個寵物風乾生食的創始者，具有高肉含量和高CP值。\\n\\n這些品牌都是在台灣熱銷的貓糧，可以考慮給您的貓咪試試看。'}"
      ]
     },
     "execution_count": 14,
     "metadata": {},
     "output_type": "execute_result"
    }
   ],
   "source": [
    "agent_executor.invoke({\"input\": \"台灣熱銷貓糧\"})"
   ]
  },
  {
   "cell_type": "code",
   "execution_count": null,
   "metadata": {},
   "outputs": [],
   "source": []
  }
 ],
 "metadata": {
  "kernelspec": {
   "display_name": "langchain",
   "language": "python",
   "name": "python3"
  },
  "language_info": {
   "codemirror_mode": {
    "name": "ipython",
    "version": 3
   },
   "file_extension": ".py",
   "mimetype": "text/x-python",
   "name": "python",
   "nbconvert_exporter": "python",
   "pygments_lexer": "ipython3",
   "version": "3.10.13"
  }
 },
 "nbformat": 4,
 "nbformat_minor": 2
}
