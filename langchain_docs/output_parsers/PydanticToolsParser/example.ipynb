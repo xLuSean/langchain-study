{
 "cells": [
  {
   "cell_type": "markdown",
   "metadata": {},
   "source": [
    "# [The best library for structured LLM output](https://simmering.dev/blog/structured_output/)"
   ]
  },
  {
   "cell_type": "code",
   "execution_count": null,
   "metadata": {},
   "outputs": [],
   "source": [
    "from typing import List, Literal\n",
    "\n",
    "from langchain.output_parsers.openai_tools import PydanticToolsParser\n",
    "from langchain_core.prompts import PromptTemplate\n",
    "from langchain_core.pydantic_v1 import BaseModel, Field, validator\n",
    "from langchain_openai import ChatOpenAI\n",
    "\n",
    "\n",
    "# Set up a Pydantic model for the structured output\n",
    "\n",
    "class Entity(BaseModel):\n",
    "    name: str = Field(description=\"name of the entity\")\n",
    "    label: Literal[\"PERSON\", \"ORGANIZATION\", \"LOCATION\"]\n",
    "\n",
    "\n",
    "class ExtractEntities(BaseModel):\n",
    "    entities: List[Entity]\n",
    "\n",
    "\n",
    "# Choose a model\n",
    "llm = ChatOpenAI(model=\"gpt-4o-mini\", temperature=0.0)\n",
    "\n",
    "# Force the model to always use the ExtractEntities schema\n",
    "llm_with_tools = llm.bind_tools([ExtractEntities], tool_choice=\"ExtractEntities\")\n",
    "\n",
    "# Add a parser to convert the LLM output to a Pydantic object\n",
    "chain = llm_with_tools | PydanticToolsParser(tools=[ExtractEntities])"
   ]
  },
  {
   "cell_type": "code",
   "execution_count": null,
   "metadata": {},
   "outputs": [],
   "source": [
    "text = \"\"\"BioNTech SE is set to acquire InstaDeep, \\\n",
    "a Tunis-born and U.K.-based artificial intelligence \\\n",
    "(AI) startup, for up to £562 million\\\n",
    "\"\"\"\n",
    "res = chain.invoke(text)[0]\n",
    "print(res)"
   ]
  },
  {
   "cell_type": "code",
   "execution_count": null,
   "metadata": {},
   "outputs": [],
   "source": [
    "print(type(res.dict()))\n",
    "print(res.dict().get(\"entities\"))"
   ]
  },
  {
   "cell_type": "code",
   "execution_count": null,
   "metadata": {},
   "outputs": [],
   "source": [
    "from typing import List, Literal\n",
    "\n",
    "from langchain.output_parsers.openai_tools import PydanticToolsParser\n",
    "from langchain_core.prompts import PromptTemplate\n",
    "from langchain_core.pydantic_v1 import BaseModel, Field, validator\n",
    "from langchain_openai import ChatOpenAI\n",
    "\n",
    "\n",
    "# Set up a Pydantic model for the structured output\n",
    "\n",
    "class Entity(BaseModel):\n",
    "    name: str = Field(description=\"name of the entity\")\n",
    "    label: Literal[\"PERSON\", \"ORGANIZATION\", \"LOCATION\"]\n",
    "\n",
    "\n",
    "class ExtractEntities(BaseModel):\n",
    "    entities: List[Entity]\n",
    "\n",
    "\n",
    "# Choose a model\n",
    "llm = ChatOpenAI(model=\"gpt-4o-mini\", temperature=0.0)\n",
    "\n",
    "# Force the model to always use the ExtractEntities schema\n",
    "llm_with_tools = llm.bind_tools([ExtractEntities], tool_choice=\"ExtractEntities\")\n",
    "\n",
    "# Add a parser to convert the LLM output to a Pydantic object\n",
    "chain = llm_with_tools | PydanticToolsParser(tools=[ExtractEntities])\n",
    "\n",
    "text = \"\"\"BioNTech SE is set to acquire InstaDeep, \\\n",
    "a Tunis-born and U.K.-based artificial intelligence \\\n",
    "(AI) startup, for up to £562 million\\\n",
    "\"\"\"\n",
    "chain.invoke(text)[0]"
   ]
  },
  {
   "cell_type": "markdown",
   "metadata": {},
   "source": [
    "## add prompt"
   ]
  },
  {
   "cell_type": "code",
   "execution_count": null,
   "metadata": {},
   "outputs": [],
   "source": [
    "from typing import List, Literal\n",
    "\n",
    "from langchain.output_parsers.openai_tools import PydanticToolsParser\n",
    "from langchain_core.prompts import PromptTemplate\n",
    "from langchain_core.pydantic_v1 import BaseModel, Field, validator\n",
    "from langchain_openai import ChatOpenAI\n",
    "\n",
    "\n",
    "# Set up a Pydantic model for the structured output\n",
    "\n",
    "class Entity(BaseModel):\n",
    "    name: str = Field(description=\"name of the entity\")\n",
    "    label: Literal[\"PERSON\", \"ORGANIZATION\", \"LOCATION\"]\n",
    "\n",
    "\n",
    "class ExtractEntities(BaseModel):\n",
    "    entities: List[Entity]\n",
    "\n",
    "\n",
    "# Choose a model\n",
    "llm = ChatOpenAI(model=\"gpt-4o-mini\", temperature=0.0)\n",
    "\n",
    "prompt = PromptTemplate(\n",
    "    template=\"Distill the entities from the user's input, if no available return empty.\\n\\\n",
    "            User:{query}\\n\",\n",
    "            input_variables=[\"query\"],\n",
    "            )\n",
    "\n",
    "# Force the model to always use the ExtractEntities schema\n",
    "llm_with_tools = llm.bind_tools([ExtractEntities], tool_choice=\"ExtractEntities\")\n",
    "\n",
    "# Add a parser to convert the LLM output to a Pydantic object\n",
    "chain = prompt | llm_with_tools | PydanticToolsParser(tools=[ExtractEntities])"
   ]
  },
  {
   "cell_type": "code",
   "execution_count": null,
   "metadata": {},
   "outputs": [],
   "source": [
    "llm_with_tools.invoke(\"Hi\")"
   ]
  },
  {
   "cell_type": "code",
   "execution_count": null,
   "metadata": {},
   "outputs": [],
   "source": [
    "text = \"\"\"BioNTech SE is set to acquire InstaDeep, \\\n",
    "a Tunis-born and U.K.-based artificial intelligence \\\n",
    "(AI) startup, for up to £562 million\\\n",
    "\"\"\"\n",
    "res = chain.invoke({\"query\": text})\n",
    "print(type(res))\n",
    "print(res)"
   ]
  },
  {
   "cell_type": "code",
   "execution_count": null,
   "metadata": {},
   "outputs": [],
   "source": [
    "res[0]"
   ]
  },
  {
   "cell_type": "code",
   "execution_count": null,
   "metadata": {},
   "outputs": [],
   "source": [
    "res[0].entities"
   ]
  },
  {
   "cell_type": "code",
   "execution_count": null,
   "metadata": {},
   "outputs": [],
   "source": [
    "for entity in res[0].entities:\n",
    "    print(f\"{entity.name}: {entity.label}\")"
   ]
  },
  {
   "cell_type": "code",
   "execution_count": null,
   "metadata": {},
   "outputs": [],
   "source": []
  }
 ],
 "metadata": {
  "kernelspec": {
   "display_name": "langchain",
   "language": "python",
   "name": "python3"
  },
  "language_info": {
   "codemirror_mode": {
    "name": "ipython",
    "version": 3
   },
   "file_extension": ".py",
   "mimetype": "text/x-python",
   "name": "python",
   "nbconvert_exporter": "python",
   "pygments_lexer": "ipython3",
   "version": "3.10.14"
  }
 },
 "nbformat": 4,
 "nbformat_minor": 2
}
