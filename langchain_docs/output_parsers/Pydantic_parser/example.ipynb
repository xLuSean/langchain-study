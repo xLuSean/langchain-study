{
 "cells": [
  {
   "cell_type": "markdown",
   "metadata": {},
   "source": [
    "# Pydantic parser\n",
    "This output parser allows users to specify an arbitrary Pydantic Model and query LLMs for outputs that conform to that schema.\n",
    "\n",
    "Keep in mind that large language models are leaky abstractions! You'll have to use an LLM with sufficient capacity to generate well-formed JSON. In the OpenAI family, DaVinci can do reliably but Curie's ability already drops off dramatically.\n",
    "\n",
    "Use Pydantic to declare your data model. Pydantic's BaseModel is like a Python dataclass, but with actual type checking + coercion."
   ]
  },
  {
   "cell_type": "code",
   "execution_count": 1,
   "metadata": {},
   "outputs": [],
   "source": [
    "from typing import List\n",
    "\n",
    "from langchain.output_parsers import PydanticOutputParser\n",
    "from langchain_core.prompts import PromptTemplate\n",
    "from langchain_core.pydantic_v1 import BaseModel, Field, validator\n",
    "from langchain_openai import ChatOpenAI"
   ]
  },
  {
   "cell_type": "code",
   "execution_count": 2,
   "metadata": {},
   "outputs": [],
   "source": [
    "model = ChatOpenAI(model=\"gpt-4o-mini\",temperature=0.9)"
   ]
  },
  {
   "cell_type": "code",
   "execution_count": 4,
   "metadata": {},
   "outputs": [],
   "source": [
    "# Define your desired data structure.\n",
    "class Joke(BaseModel):\n",
    "    setup: str = Field(description=\"question to set up a joke\")\n",
    "    punchline: str = Field(description=\"answer to resolve the joke\")\n",
    "\n",
    "    # You can add custom validation logic easily with Pydantic.\n",
    "    @validator(\"setup\")\n",
    "    def question_ends_with_question_mark(cls, field):\n",
    "        if field[-1] != \"?\":\n",
    "            raise ValueError(\"Badly formed question!\")\n",
    "        return field\n",
    "\n",
    "\n",
    "# And a query intented to prompt a language model to populate the data structure.\n",
    "joke_query = \"Tell me a joke.\"\n",
    "\n",
    "# Set up a parser + inject instructions into the prompt template.\n",
    "parser = PydanticOutputParser(pydantic_object=Joke)\n",
    "\n",
    "prompt = PromptTemplate(\n",
    "    template=\"Answer the user query.\\n{format_instructions}\\n{query}\\n\",\n",
    "    input_variables=[\"query\"],\n",
    "    partial_variables={\"format_instructions\": parser.get_format_instructions()}, # partial variables will be injected into the template\n",
    ")\n",
    "\n",
    "chain = prompt | model | parser"
   ]
  },
  {
   "cell_type": "code",
   "execution_count": 5,
   "metadata": {},
   "outputs": [
    {
     "data": {
      "text/plain": [
       "Joke(setup=\"Why don't scientists trust atoms?\", punchline='Because they make up everything!')"
      ]
     },
     "execution_count": 5,
     "metadata": {},
     "output_type": "execute_result"
    }
   ],
   "source": [
    "chain.invoke({\"query\": joke_query})"
   ]
  },
  {
   "cell_type": "code",
   "execution_count": 6,
   "metadata": {},
   "outputs": [],
   "source": [
    "from langchain_community.callbacks.manager import get_openai_callback\n",
    "\n",
    "llm = ChatOpenAI(model=\"gpt-4o-mini\", stream_usage=True)\n",
    "\n",
    "chain = prompt | model | parser"
   ]
  },
  {
   "cell_type": "code",
   "execution_count": 7,
   "metadata": {},
   "outputs": [
    {
     "name": "stdout",
     "output_type": "stream",
     "text": [
      "setup='Why did the scarecrow win an award?' punchline='Because he was outstanding in his field!'\n",
      "Tokens Used: 236\n",
      "\tPrompt Tokens: 206\n",
      "\tCompletion Tokens: 30\n",
      "Successful Requests: 1\n",
      "Total Cost (USD): $4.8899999999999996e-05\n"
     ]
    }
   ],
   "source": [
    "with get_openai_callback() as callback:\n",
    "    result = chain.invoke({\"query\": joke_query})\n",
    "    print(result)\n",
    "    print(callback)"
   ]
  },
  {
   "cell_type": "code",
   "execution_count": 12,
   "metadata": {},
   "outputs": [
    {
     "name": "stdout",
     "output_type": "stream",
     "text": [
      "236\n",
      "30\n",
      "206\n"
     ]
    }
   ],
   "source": [
    "print(callback.total_tokens)\n",
    "print(callback.completion_tokens)\n",
    "print(callback.prompt_tokens)"
   ]
  },
  {
   "cell_type": "markdown",
   "metadata": {},
   "source": [
    "### Example from [【Day 15】LCEL 結合自訂 & 原生 Runnable 實戰](https://ithelp.ithome.com.tw/articles/10345264)"
   ]
  },
  {
   "cell_type": "code",
   "execution_count": 5,
   "metadata": {},
   "outputs": [
    {
     "name": "stdout",
     "output_type": "stream",
     "text": [
      "singer='Taeyeon' gender='Female' group=\"Girls' Generation\" age=32 song=['Into the New World', 'Gee', 'I', 'Rain']\n"
     ]
    }
   ],
   "source": [
    "# 定義資料結構\n",
    "class Kpop(BaseModel):\n",
    "\tsinger: str = Field(description=\"Name of the singer\")\n",
    "\tgender: str = Field(description=\"Gender of the singer\")\n",
    "\tgroup: str = Field(description=\"Group of the singer\")\n",
    "\tage: int = Field(description=\"Age of the singer\")\n",
    "\tsong : List[str] = Field(description=\"Song of the singer\")\n",
    "\n",
    "\t# 可以透過 Pydantic 自訂簡單的邏輯驗證\n",
    "\t@validator(\"gender\")\n",
    "\tdef validate_gender(cls, field):\n",
    "\t\tif field not in [\"Male\", \"Female\"]:\n",
    "\t\t\traise ValueError(\"Invalid gender value\")\n",
    "\t\treturn field\n",
    "\n",
    "# 將定義的結構傳入 Pydantic Parser\n",
    "parser = PydanticOutputParser(pydantic_object=Kpop)\n",
    "\n",
    "# 在 template 的部分設定兩個變數，一個是我們要 input 的變數，另一個是 Pydantic parser 結構的描述\n",
    "prompt = PromptTemplate(\n",
    "\ttemplate=\"Tell me a girl Kpop idols from {company}, {format_instructions}\",\n",
    "\tinput_variables=[\"company\"],\n",
    "\tpartial_variables={\"format_instructions\": parser.get_format_instructions()}\n",
    "\t)\n",
    "\n",
    "# 將這些部分 Chain 起來，並顯示結果\n",
    "chain = prompt | model | parser\n",
    "print(chain.invoke(\"SM Entertainment\"))"
   ]
  },
  {
   "cell_type": "code",
   "execution_count": 8,
   "metadata": {},
   "outputs": [
    {
     "data": {
      "text/plain": [
       "Actor(name='Tom Hanks', film_names=['Forrest Gump', 'Cast Away', 'Saving Private Ryan', 'Toy Story', 'Apollo 13', 'The Green Mile'])"
      ]
     },
     "execution_count": 8,
     "metadata": {},
     "output_type": "execute_result"
    }
   ],
   "source": [
    "# Here's another example, but with a compound typed field.\n",
    "class Actor(BaseModel):\n",
    "    name: str = Field(description=\"name of an actor\")\n",
    "    film_names: List[str] = Field(description=\"list of names of films they starred in\")\n",
    "\n",
    "\n",
    "actor_query = \"Generate the filmography for a random actor.\"\n",
    "\n",
    "parser = PydanticOutputParser(pydantic_object=Actor)\n",
    "\n",
    "prompt = PromptTemplate(\n",
    "    template=\"Answer the user query.\\n\\\n",
    "            {format_instructions}\\n\\\n",
    "            {query}\\n\",\n",
    "    input_variables=[\"query\"],\n",
    "    partial_variables={\"format_instructions\": parser.get_format_instructions()},\n",
    ")\n",
    "\n",
    "chain = prompt | model | parser\n",
    "\n",
    "chain.invoke({\"query\": actor_query})"
   ]
  },
  {
   "cell_type": "code",
   "execution_count": 15,
   "metadata": {},
   "outputs": [
    {
     "name": "stdout",
     "output_type": "stream",
     "text": [
      "<class '__main__.Output'>\n",
      "['Hello', 'doing', 'today']\n"
     ]
    }
   ],
   "source": [
    "class Output(BaseModel):\n",
    "    key_words: List[str] = Field(description=\"list of key words from user's input\")\n",
    "\n",
    "parser = PydanticOutputParser(pydantic_object=Output)\n",
    "\n",
    "prompt = PromptTemplate(\n",
    "    template=\"Distill the key words from the user's input, if no available return empty.\\n\\\n",
    "            {format_instructions}\\n\\\n",
    "            User:{query}\\n\",\n",
    "            input_variables=[\"query\"],\n",
    "            partial_variables={\"format_instructions\": parser.get_format_instructions()},\n",
    "            )\n",
    "\n",
    "chain = prompt | model | parser\n",
    "\n",
    "# res = chain.invoke({\"query\": \"I want to know the weather in New York.\"})\n",
    "res = chain.invoke({\"query\": \"Hello, how are you doing today?\"})\n",
    "print(type(res))\n",
    "print(res.key_words)"
   ]
  },
  {
   "cell_type": "code",
   "execution_count": null,
   "metadata": {},
   "outputs": [],
   "source": []
  }
 ],
 "metadata": {
  "kernelspec": {
   "display_name": "langchain",
   "language": "python",
   "name": "python3"
  },
  "language_info": {
   "codemirror_mode": {
    "name": "ipython",
    "version": 3
   },
   "file_extension": ".py",
   "mimetype": "text/x-python",
   "name": "python",
   "nbconvert_exporter": "python",
   "pygments_lexer": "ipython3",
   "version": "3.10.14"
  }
 },
 "nbformat": 4,
 "nbformat_minor": 2
}
