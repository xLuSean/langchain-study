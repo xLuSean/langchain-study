{
 "cells": [
  {
   "cell_type": "markdown",
   "metadata": {},
   "source": [
    "# LangChain:输出封装OutputParser"
   ]
  },
  {
   "cell_type": "markdown",
   "metadata": {},
   "source": [
    "## basic"
   ]
  },
  {
   "cell_type": "code",
   "execution_count": 1,
   "metadata": {},
   "outputs": [
    {
     "name": "stdout",
     "output_type": "stream",
     "text": [
      "===模型原始输出===\n",
      "苹果、香蕉、橙子、草莓、葡萄、桃子、梨、西瓜、木瓜、樱桃\n",
      "===CommaSeparatedListOutputParser解析输出===\n",
      "['苹果、香蕉、橙子、草莓、葡萄、桃子、梨、西瓜、木瓜、樱桃']\n",
      "===模型原始输出===\n",
      "2, 3, 5, 7, 11, 13, 17, 19\n",
      "===CommaSeparatedListOutputParser解析输出===\n",
      "['2', '3', '5', '7', '11', '13', '17', '19']\n"
     ]
    }
   ],
   "source": [
    "from langchain_openai import ChatOpenAI\n",
    "from langchain_core.output_parsers import CommaSeparatedListOutputParser\n",
    "\n",
    "prompt1='说出几种常见的水果'\n",
    "prompt2=\"输出20以内的素数\"\n",
    "llm=ChatOpenAI()\n",
    "comma_parser=CommaSeparatedListOutputParser()\n",
    "response=llm.invoke(prompt1)\n",
    "print(\"===模型原始输出===\")\n",
    "print(response.content)\n",
    "print('===CommaSeparatedListOutputParser解析输出===')\n",
    "print(comma_parser.parse(response.content))\n",
    "response=llm.invoke(prompt2)\n",
    "print(\"===模型原始输出===\")\n",
    "print(response.content)\n",
    "print('===CommaSeparatedListOutputParser解析输出===')\n",
    "print(comma_parser.parse(response.content))\n"
   ]
  },
  {
   "cell_type": "markdown",
   "metadata": {},
   "source": [
    "Note: 针对prompt1模型输出的结果中的没有,所以CommaSeparatedListOutputParser解析器没有正确解析出来。"
   ]
  },
  {
   "cell_type": "markdown",
   "metadata": {},
   "source": [
    "## 1.1 langchain_core中的解析器"
   ]
  },
  {
   "cell_type": "markdown",
   "metadata": {},
   "source": [
    "### 目前langchain_core.output_parsers中的OutputParser类主要包括以下几种(虚拟类不列出)：\n",
    "\n",
    "* json类：JsonOutputParser，将结果解析成json串。\n",
    "* list类： CommaSeparatedListOutputParser、MarkdownListOutputParser和NumberedListOutputParser，将结果解析成类似List的对象。CommaSeparatedListOutputParser其结果是对LLM模型返回的字符串使用(,)进行分割得到的List。后面两种分别采用正则表达式从LLM模型返回的字符串中提取出符合规则的部分。\n",
    "* string类。StrOutputParser，直接输出LLM模型返回的结果。\n",
    "* xml类。XMLOutputParser，将LLM模型返回的结果解析成xml。\n",
    "* pydantic类。PydanticOutputParser, 第2部分介绍。\n",
    "* openai_function和openai_tools类：这两类可以帮助提取出LLM产生的函数调用的参数。openai_function系列针对的是使用function_call字段表示函数调用的参数的情况，后者针对的使用tool_calls字段表示function call的参数的情况(GPT系列模型采用的是这种方式)。这里只介绍openai_tools类。主要包括JsonOutputKeyToolsParser、JsonOutputToolsParser和PydanticToolsParser。其用法举例如下："
   ]
  },
  {
   "cell_type": "code",
   "execution_count": 5,
   "metadata": {},
   "outputs": [
    {
     "name": "stdout",
     "output_type": "stream",
     "text": [
      "content='' additional_kwargs={'tool_calls': [{'id': 'call_FeBTV9h93n9KUUqnjwWr8XEr', 'function': {'arguments': '{\"numbers\":[13,49837,3489,23423]}', 'name': 'sum'}, 'type': 'function'}]} response_metadata={'token_usage': {'completion_tokens': 22, 'prompt_tokens': 68, 'total_tokens': 90}, 'model_name': 'gpt-3.5-turbo', 'system_fingerprint': None, 'finish_reason': 'tool_calls', 'logprobs': None} id='run-ec6b2e84-5314-4b0e-b9e6-f99ddd15e99f-0' tool_calls=[{'name': 'sum', 'args': {'numbers': [13, 49837, 3489, 23423]}, 'id': 'call_FeBTV9h93n9KUUqnjwWr8XEr'}] usage_metadata={'input_tokens': 68, 'output_tokens': 22, 'total_tokens': 90}\n",
      "---解析后结果---\n",
      "[{'args': {'numbers': [13, 49837, 3489, 23423]}, 'type': 'sum'}]\n"
     ]
    }
   ],
   "source": [
    "from langchain_openai import ChatOpenAI\n",
    "from langchain_core.outputs import ChatGeneration\n",
    "#注意引用方法\n",
    "from langchain_core.output_parsers.openai_tools import JsonOutputToolsParser\n",
    "tools=[{ \n",
    "            \"type\": \"function\",\n",
    "            \"function\": {\n",
    "                \"name\": \"sum\",\n",
    "                \"description\": \"加法器，计算一组数的和\",\n",
    "                \"parameters\": {\n",
    "                    \"type\": \"object\",\n",
    "                    \"properties\": {\n",
    "                        \"numbers\": {\"type\": \"array\", \"items\": { \"type\": \"number\"}}\n",
    "                    }\n",
    "                }\n",
    "            }\n",
    "        }\n",
    "    ]\n",
    "\n",
    "llm=ChatOpenAI(model_kwargs={\"tools\":tools})\n",
    "\n",
    "response=llm.invoke(\"计算一组数据的和:13,49837,3489,23423\")\n",
    "print(response)\n",
    "response=ChatGeneration(message=response)\n",
    "\n",
    "parser=JsonOutputToolsParser()\n",
    "print(\"---解析后结果---\")\n",
    "print(parser.parse_result([response]))\n"
   ]
  },
  {
   "cell_type": "markdown",
   "metadata": {},
   "source": [
    "## 1.2 langchain中的输出封装\n",
    "* boolean: BooleanOutputParser\t返回True或False\n",
    "* combining: CombiningOutputParser\t同时将多个输出解析成同一个格式\n",
    "* datetime: DatetimeOutputParser\t将日期转化成特定格式\n",
    "* enum: EnumOutputParser\t将LLM模型输出解析成enum\n",
    "* fix: OutputFixingParser\t可以自动修复异常并重新解析\n",
    "* pandas_dataframe: PandasDataFrameOutputParser\t使用pandas.dataframe的format对LLM进行解析\n",
    "* regex: RegexParser\t使用正则表达式对LLM模型返回进行解析\n",
    "* regex_dict: RegexDictParser\t功能同上\n",
    "* retry: RetryOutputParser、RetryWithErrorOutputParser\t可以自动修复异常并重新解析\n",
    "* structured\tStructuredOutputParser\t将LLM模型输出进行结构化解析\n",
    "* yaml\tYamlOutputParser\t提取LLM模型输出中的YAML部分"
   ]
  },
  {
   "cell_type": "markdown",
   "metadata": {},
   "source": [
    "虽然OutputParser可以对LLM的输出结果进行解析，但这种使用方式用户体验并不好，正如第一个案例中针对prompt1的输出结果，因为无法确定LLM模型输出的结果中是否使用,，所以解析结果无法掌控。可以使用OutputParser类的get_format_instructions()方法来调整LLM模型输出。举例如下："
   ]
  },
  {
   "cell_type": "code",
   "execution_count": 6,
   "metadata": {},
   "outputs": [
    {
     "name": "stdout",
     "output_type": "stream",
     "text": [
      "1970-01-01T00:00:00.000000Z\n"
     ]
    }
   ],
   "source": [
    "from langchain.output_parsers import DatetimeOutputParser\n",
    "from langchain_openai import ChatOpenAI\n",
    "from langchain_core.prompts import PromptTemplate\n",
    "\n",
    "parser=DatetimeOutputParser()\n",
    "format_instruction=parser.get_format_instructions()\n",
    "llm=ChatOpenAI()\n",
    "prompt=PromptTemplate.from_template(template=\"计算机时间的起始时间是什么时候？{format_instruction}\")\n",
    "prompt=prompt.format(format_instruction=format_instruction)\n",
    "response=llm.invoke(prompt)\n",
    "print(response.content)"
   ]
  },
  {
   "cell_type": "code",
   "execution_count": 10,
   "metadata": {},
   "outputs": [
    {
     "name": "stdout",
     "output_type": "stream",
     "text": [
      "{\n",
      "    \"起始时间\": \"1970年1月1日 00:00:00 UTC\"\n",
      "}\n"
     ]
    }
   ],
   "source": [
    "# from langchain.output_parsers import JsonOutputKeyToolsParser\n",
    "from langchain_core.output_parsers import JsonOutputParser\n",
    "from langchain_openai import ChatOpenAI\n",
    "from langchain_core.prompts import PromptTemplate\n",
    "\n",
    "parser = JsonOutputParser()\n",
    "format_instruction = parser.get_format_instructions()\n",
    "llm=ChatOpenAI(model=\"gpt-3.5-turbo\")\n",
    "prompt=PromptTemplate.from_template(template=\"计算机时间的起始时间是什么时候？{format_instruction}\")\n",
    "prompt=prompt.format(format_instruction=format_instruction)\n",
    "response=llm.invoke(prompt)\n",
    "print(response.content)"
   ]
  },
  {
   "cell_type": "code",
   "execution_count": 11,
   "metadata": {},
   "outputs": [
    {
     "name": "stderr",
     "output_type": "stream",
     "text": [
      "/var/folders/tm/8f1tx91n6sq8j5xdw_ksrtjw0000gn/T/ipykernel_57353/1855821232.py:8: PydanticDeprecatedSince20: Pydantic V1 style `@validator` validators are deprecated. You should migrate to Pydantic V2 style `@field_validator` validators, see the migration guide for more details. Deprecated in Pydantic V2.0 to be removed in V3.0. See Pydantic V2 Migration Guide at https://errors.pydantic.dev/2.6/migration/\n",
      "  @validator(\"name\")\n"
     ]
    },
    {
     "ename": "PydanticUserError",
     "evalue": "The `field` and `config` parameters are not available in Pydantic V2, please use the `info` parameter instead.\n\nFor further information visit https://errors.pydantic.dev/2.6/u/validator-field-config-info",
     "output_type": "error",
     "traceback": [
      "\u001b[0;31m---------------------------------------------------------------------------\u001b[0m",
      "\u001b[0;31mPydanticUserError\u001b[0m                         Traceback (most recent call last)",
      "Cell \u001b[0;32mIn[11], line 4\u001b[0m\n\u001b[1;32m      1\u001b[0m \u001b[38;5;28;01mfrom\u001b[39;00m \u001b[38;5;21;01mpydantic\u001b[39;00m \u001b[38;5;28;01mimport\u001b[39;00m BaseModel,Field,validator\n\u001b[1;32m      2\u001b[0m \u001b[38;5;28;01mimport\u001b[39;00m \u001b[38;5;21;01mre\u001b[39;00m\n\u001b[0;32m----> 4\u001b[0m \u001b[38;5;28;01mclass\u001b[39;00m \u001b[38;5;21;01mFunc_Json\u001b[39;00m(BaseModel):\n\u001b[1;32m      5\u001b[0m     name:\u001b[38;5;28mstr\u001b[39m\u001b[38;5;241m=\u001b[39mField(description\u001b[38;5;241m=\u001b[39m\u001b[38;5;124m\"\u001b[39m\u001b[38;5;124m函数名称，只能由字母组成并且长度不超过10\u001b[39m\u001b[38;5;124m\"\u001b[39m)\n\u001b[1;32m      6\u001b[0m     description:\u001b[38;5;28mstr\u001b[39m\u001b[38;5;241m=\u001b[39mField(description\u001b[38;5;241m=\u001b[39m\u001b[38;5;124m\"\u001b[39m\u001b[38;5;124m函数描述\u001b[39m\u001b[38;5;124m\"\u001b[39m)\n",
      "File \u001b[0;32m~/miniconda3/envs/langchain/lib/python3.10/site-packages/pydantic/_internal/_model_construction.py:131\u001b[0m, in \u001b[0;36mModelMetaclass.__new__\u001b[0;34m(mcs, cls_name, bases, namespace, __pydantic_generic_metadata__, __pydantic_reset_parent_namespace__, _create_model_module, **kwargs)\u001b[0m\n\u001b[1;32m    128\u001b[0m \u001b[38;5;28mcls\u001b[39m\u001b[38;5;241m.\u001b[39m__pydantic_custom_init__ \u001b[38;5;241m=\u001b[39m \u001b[38;5;129;01mnot\u001b[39;00m \u001b[38;5;28mgetattr\u001b[39m(\u001b[38;5;28mcls\u001b[39m\u001b[38;5;241m.\u001b[39m\u001b[38;5;21m__init__\u001b[39m, \u001b[38;5;124m'\u001b[39m\u001b[38;5;124m__pydantic_base_init__\u001b[39m\u001b[38;5;124m'\u001b[39m, \u001b[38;5;28;01mFalse\u001b[39;00m)\n\u001b[1;32m    129\u001b[0m \u001b[38;5;28mcls\u001b[39m\u001b[38;5;241m.\u001b[39m__pydantic_post_init__ \u001b[38;5;241m=\u001b[39m \u001b[38;5;28;01mNone\u001b[39;00m \u001b[38;5;28;01mif\u001b[39;00m \u001b[38;5;28mcls\u001b[39m\u001b[38;5;241m.\u001b[39mmodel_post_init \u001b[38;5;129;01mis\u001b[39;00m BaseModel\u001b[38;5;241m.\u001b[39mmodel_post_init \u001b[38;5;28;01melse\u001b[39;00m \u001b[38;5;124m'\u001b[39m\u001b[38;5;124mmodel_post_init\u001b[39m\u001b[38;5;124m'\u001b[39m\n\u001b[0;32m--> 131\u001b[0m \u001b[38;5;28mcls\u001b[39m\u001b[38;5;241m.\u001b[39m__pydantic_decorators__ \u001b[38;5;241m=\u001b[39m \u001b[43mDecoratorInfos\u001b[49m\u001b[38;5;241;43m.\u001b[39;49m\u001b[43mbuild\u001b[49m\u001b[43m(\u001b[49m\u001b[38;5;28;43mcls\u001b[39;49m\u001b[43m)\u001b[49m\n\u001b[1;32m    133\u001b[0m \u001b[38;5;66;03m# Use the getattr below to grab the __parameters__ from the `typing.Generic` parent class\u001b[39;00m\n\u001b[1;32m    134\u001b[0m \u001b[38;5;28;01mif\u001b[39;00m __pydantic_generic_metadata__:\n",
      "File \u001b[0;32m~/miniconda3/envs/langchain/lib/python3.10/site-packages/pydantic/_internal/_decorators.py:447\u001b[0m, in \u001b[0;36mDecoratorInfos.build\u001b[0;34m(model_dc)\u001b[0m\n\u001b[1;32m    445\u001b[0m info \u001b[38;5;241m=\u001b[39m var_value\u001b[38;5;241m.\u001b[39mdecorator_info\n\u001b[1;32m    446\u001b[0m \u001b[38;5;28;01mif\u001b[39;00m \u001b[38;5;28misinstance\u001b[39m(info, ValidatorDecoratorInfo):\n\u001b[0;32m--> 447\u001b[0m     res\u001b[38;5;241m.\u001b[39mvalidators[var_name] \u001b[38;5;241m=\u001b[39m \u001b[43mDecorator\u001b[49m\u001b[38;5;241;43m.\u001b[39;49m\u001b[43mbuild\u001b[49m\u001b[43m(\u001b[49m\n\u001b[1;32m    448\u001b[0m \u001b[43m        \u001b[49m\u001b[43mmodel_dc\u001b[49m\u001b[43m,\u001b[49m\u001b[43m \u001b[49m\u001b[43mcls_var_name\u001b[49m\u001b[38;5;241;43m=\u001b[39;49m\u001b[43mvar_name\u001b[49m\u001b[43m,\u001b[49m\u001b[43m \u001b[49m\u001b[43mshim\u001b[49m\u001b[38;5;241;43m=\u001b[39;49m\u001b[43mvar_value\u001b[49m\u001b[38;5;241;43m.\u001b[39;49m\u001b[43mshim\u001b[49m\u001b[43m,\u001b[49m\u001b[43m \u001b[49m\u001b[43minfo\u001b[49m\u001b[38;5;241;43m=\u001b[39;49m\u001b[43minfo\u001b[49m\n\u001b[1;32m    449\u001b[0m \u001b[43m    \u001b[49m\u001b[43m)\u001b[49m\n\u001b[1;32m    450\u001b[0m \u001b[38;5;28;01melif\u001b[39;00m \u001b[38;5;28misinstance\u001b[39m(info, FieldValidatorDecoratorInfo):\n\u001b[1;32m    451\u001b[0m     res\u001b[38;5;241m.\u001b[39mfield_validators[var_name] \u001b[38;5;241m=\u001b[39m Decorator\u001b[38;5;241m.\u001b[39mbuild(\n\u001b[1;32m    452\u001b[0m         model_dc, cls_var_name\u001b[38;5;241m=\u001b[39mvar_name, shim\u001b[38;5;241m=\u001b[39mvar_value\u001b[38;5;241m.\u001b[39mshim, info\u001b[38;5;241m=\u001b[39minfo\n\u001b[1;32m    453\u001b[0m     )\n",
      "File \u001b[0;32m~/miniconda3/envs/langchain/lib/python3.10/site-packages/pydantic/_internal/_decorators.py:243\u001b[0m, in \u001b[0;36mDecorator.build\u001b[0;34m(cls_, cls_var_name, shim, info)\u001b[0m\n\u001b[1;32m    241\u001b[0m func \u001b[38;5;241m=\u001b[39m get_attribute_from_bases(cls_, cls_var_name)\n\u001b[1;32m    242\u001b[0m \u001b[38;5;28;01mif\u001b[39;00m shim \u001b[38;5;129;01mis\u001b[39;00m \u001b[38;5;129;01mnot\u001b[39;00m \u001b[38;5;28;01mNone\u001b[39;00m:\n\u001b[0;32m--> 243\u001b[0m     func \u001b[38;5;241m=\u001b[39m \u001b[43mshim\u001b[49m\u001b[43m(\u001b[49m\u001b[43mfunc\u001b[49m\u001b[43m)\u001b[49m\n\u001b[1;32m    244\u001b[0m func \u001b[38;5;241m=\u001b[39m unwrap_wrapped_function(func, unwrap_partial\u001b[38;5;241m=\u001b[39m\u001b[38;5;28;01mFalse\u001b[39;00m)\n\u001b[1;32m    245\u001b[0m \u001b[38;5;28;01mif\u001b[39;00m \u001b[38;5;129;01mnot\u001b[39;00m \u001b[38;5;28mcallable\u001b[39m(func):\n\u001b[1;32m    246\u001b[0m     \u001b[38;5;66;03m# This branch will get hit for classmethod properties\u001b[39;00m\n",
      "File \u001b[0;32m~/miniconda3/envs/langchain/lib/python3.10/site-packages/pydantic/_internal/_decorators_v1.py:77\u001b[0m, in \u001b[0;36mmake_generic_v1_field_validator\u001b[0;34m(validator)\u001b[0m\n\u001b[1;32m     75\u001b[0m \u001b[38;5;28;01mfor\u001b[39;00m param_num, (param_name, parameter) \u001b[38;5;129;01min\u001b[39;00m \u001b[38;5;28menumerate\u001b[39m(sig\u001b[38;5;241m.\u001b[39mparameters\u001b[38;5;241m.\u001b[39mitems()):\n\u001b[1;32m     76\u001b[0m     \u001b[38;5;28;01mif\u001b[39;00m can_be_keyword(parameter) \u001b[38;5;129;01mand\u001b[39;00m param_name \u001b[38;5;129;01min\u001b[39;00m (\u001b[38;5;124m'\u001b[39m\u001b[38;5;124mfield\u001b[39m\u001b[38;5;124m'\u001b[39m, \u001b[38;5;124m'\u001b[39m\u001b[38;5;124mconfig\u001b[39m\u001b[38;5;124m'\u001b[39m):\n\u001b[0;32m---> 77\u001b[0m         \u001b[38;5;28;01mraise\u001b[39;00m PydanticUserError(\n\u001b[1;32m     78\u001b[0m             \u001b[38;5;124m'\u001b[39m\u001b[38;5;124mThe `field` and `config` parameters are not available in Pydantic V2, \u001b[39m\u001b[38;5;124m'\u001b[39m\n\u001b[1;32m     79\u001b[0m             \u001b[38;5;124m'\u001b[39m\u001b[38;5;124mplease use the `info` parameter instead.\u001b[39m\u001b[38;5;124m'\u001b[39m,\n\u001b[1;32m     80\u001b[0m             code\u001b[38;5;241m=\u001b[39m\u001b[38;5;124m'\u001b[39m\u001b[38;5;124mvalidator-field-config-info\u001b[39m\u001b[38;5;124m'\u001b[39m,\n\u001b[1;32m     81\u001b[0m         )\n\u001b[1;32m     82\u001b[0m     \u001b[38;5;28;01mif\u001b[39;00m parameter\u001b[38;5;241m.\u001b[39mkind \u001b[38;5;129;01mis\u001b[39;00m Parameter\u001b[38;5;241m.\u001b[39mVAR_KEYWORD:\n\u001b[1;32m     83\u001b[0m         needs_values_kw \u001b[38;5;241m=\u001b[39m \u001b[38;5;28;01mTrue\u001b[39;00m\n",
      "\u001b[0;31mPydanticUserError\u001b[0m: The `field` and `config` parameters are not available in Pydantic V2, please use the `info` parameter instead.\n\nFor further information visit https://errors.pydantic.dev/2.6/u/validator-field-config-info"
     ]
    }
   ],
   "source": [
    "from pydantic import BaseModel,Field,validator\n",
    "import re\n",
    "\n",
    "class Func_Json(BaseModel):\n",
    "    name:str=Field(description=\"函数名称，只能由字母组成并且长度不超过10\")\n",
    "    description:str=Field(description=\"函数描述\")\n",
    "\n",
    "    @validator(\"name\")\n",
    "    def valid_name(cls,field):\n",
    "        if re.match(r'^[a-zA-Z]+$',field) and len(field)<10:\n",
    "            return field\n",
    "        else:\n",
    "            raise ValueError(\"函数名称不符合要求\")\n",
    "\n",
    "print(Func_Json(name=\"sum\",description=\"求一组数据的和\"))\n",
    "print(Func_Json(name='sum2',description=\"求一组数据的和\"))\n"
   ]
  },
  {
   "cell_type": "code",
   "execution_count": 13,
   "metadata": {},
   "outputs": [
    {
     "name": "stdout",
     "output_type": "stream",
     "text": [
      "{\n",
      "    \"item\": [\n",
      "        \"apple\",\n",
      "        \"banana\",\n",
      "        \"orange\",\n",
      "        \"strawberry\",\n",
      "        \"watermelon\",\n",
      "        \"kiwi\",\n",
      "        \"grapes\",\n",
      "        \"pineapple\",\n",
      "        \"peach\",\n",
      "        \"pear\"\n",
      "    ]\n",
      "}\n"
     ]
    }
   ],
   "source": [
    "from pydantic import BaseModel,Field,validator\n",
    "from langchain_core.output_parsers import PydanticOutputParser\n",
    "from langchain_openai import ChatOpenAI\n",
    "from typing import List\n",
    "from langchain_core.prompts import PromptTemplate\n",
    "\n",
    "class New_List(BaseModel):\n",
    "    item:List[str]\n",
    "\n",
    "llm = ChatOpenAI()\n",
    "parser = PydanticOutputParser(pydantic_object=New_List)\n",
    "\n",
    "prompt = PromptTemplate.from_template(\"请列出10种常见的水果。{format_instruction}\")\n",
    "prompt = prompt.format(format_instruction = parser.get_format_instructions())\n",
    "\n",
    "response = llm.invoke(prompt)\n",
    "print(response.content)\n"
   ]
  },
  {
   "cell_type": "markdown",
   "metadata": {},
   "source": [
    "### Sean test"
   ]
  },
  {
   "cell_type": "code",
   "execution_count": 30,
   "metadata": {},
   "outputs": [
    {
     "name": "stdout",
     "output_type": "stream",
     "text": [
      "{\n",
      "    \"item1\": [\"海森堡\", \"薛丁格\"],\n",
      "    \"item2\": [\"量子力學\"]\n",
      "}\n",
      "['海森堡', '薛丁格']\n"
     ]
    }
   ],
   "source": [
    "from pydantic import BaseModel,Field,validator, Field\n",
    "from langchain_core.output_parsers import PydanticOutputParser\n",
    "from langchain_openai import ChatOpenAI\n",
    "from typing import List\n",
    "from langchain_core.prompts import PromptTemplate\n",
    "import json\n",
    "\n",
    "class New_List(BaseModel):\n",
    "    item1: List[str] = Field(description=\"name appears in the query\")\n",
    "    item2: List[str] = Field(description=\"terminology appears in the query\")\n",
    "\n",
    "llm = ChatOpenAI(model=\"gpt-3.5-turbo\")\n",
    "\n",
    "parser = PydanticOutputParser(pydantic_object=New_List)\n",
    "\n",
    "prompt = PromptTemplate.from_template(\"20世紀初期海森堡和薛丁格發展出量子力學 {format_instruction}\")\n",
    "prompt = prompt.format(format_instruction = parser.get_format_instructions())\n",
    "\n",
    "# print(parser.get_format_instructions())\n",
    "\n",
    "response = llm.invoke(prompt)\n",
    "# print(response)\n",
    "print(response.content)\n",
    "\n",
    "json_response = json.loads(response.content)\n",
    "print(json_response['item1'])\n"
   ]
  },
  {
   "cell_type": "code",
   "execution_count": 28,
   "metadata": {},
   "outputs": [
    {
     "name": "stdout",
     "output_type": "stream",
     "text": [
      "<class '__main__.New_List'>\n",
      "item1=['海森堡', '薛丁格'] item2=['量子力學']\n"
     ]
    }
   ],
   "source": [
    "from pydantic import BaseModel,Field,validator, Field\n",
    "from langchain_core.output_parsers import PydanticOutputParser\n",
    "from langchain_openai import ChatOpenAI\n",
    "from typing import List\n",
    "from langchain_core.prompts import PromptTemplate\n",
    "import json\n",
    "\n",
    "class New_List(BaseModel):\n",
    "    item1: List = Field(description=\"name appears in the query\")\n",
    "    item2: List = Field(description=\"terminology appears in the query\")\n",
    "\n",
    "llm = ChatOpenAI(model=\"gpt-3.5-turbo\")\n",
    "\n",
    "parser = PydanticOutputParser(pydantic_object=New_List)\n",
    "\n",
    "# prompt = PromptTemplate.from_template(\"20世紀初期海森堡和薛丁格發展出量子力學 {format_instruction}\")\n",
    "prompt = PromptTemplate(\n",
    "    template=\"{input} {format_instruction}\",\n",
    "    input_variables=[\"input\"],\n",
    "    partial_variables={\"format_instruction\": parser.get_format_instructions()}\n",
    ")\n",
    "\n",
    "# prompt = prompt.format(format_instruction = parser.get_format_instructions())\n",
    "# print(parser.get_format_instructions())\n",
    "\n",
    "chain = prompt | llm | parser\n",
    "\n",
    "res = chain.invoke(\"20世紀初期海森堡和薛丁格發展出量子力學\")\n",
    "print(type(res))\n",
    "print(res)\n",
    "\n"
   ]
  },
  {
   "cell_type": "code",
   "execution_count": null,
   "metadata": {},
   "outputs": [],
   "source": []
  }
 ],
 "metadata": {
  "kernelspec": {
   "display_name": "langchain",
   "language": "python",
   "name": "python3"
  },
  "language_info": {
   "codemirror_mode": {
    "name": "ipython",
    "version": 3
   },
   "file_extension": ".py",
   "mimetype": "text/x-python",
   "name": "python",
   "nbconvert_exporter": "python",
   "pygments_lexer": "ipython3",
   "version": "3.10.13"
  }
 },
 "nbformat": 4,
 "nbformat_minor": 2
}
