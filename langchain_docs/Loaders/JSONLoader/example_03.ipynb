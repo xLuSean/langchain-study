{
 "cells": [
  {
   "cell_type": "markdown",
   "metadata": {},
   "source": [
    "# JSON\n",
    "JSON (JavaScript Object Notation) is an open standard file format and data interchange format that uses human-readable text to store and transmit data objects consisting of attribute–value pairs and arrays (or other serializable values).\n",
    "\n",
    "JSON Lines is a file format where each line is a valid JSON value.\n",
    "\n",
    "The JSONLoader uses a specified jq schema to parse the JSON files. It uses the jq python package. Check this manual for a detailed documentation of the jq syntax."
   ]
  },
  {
   "cell_type": "code",
   "execution_count": 1,
   "metadata": {},
   "outputs": [],
   "source": [
    "from langchain_community.document_loaders import JSONLoader\n",
    "from langchain.docstore.document import Document"
   ]
  },
  {
   "cell_type": "code",
   "execution_count": 6,
   "metadata": {},
   "outputs": [],
   "source": [
    "import json\n",
    "from pathlib import Path\n",
    "from pprint import pprint\n",
    "\n",
    "\n",
    "file_path='../../../text_files/chapter_10.json'\n",
    "json_data = json.loads(Path(file_path).read_text())"
   ]
  },
  {
   "cell_type": "code",
   "execution_count": 7,
   "metadata": {},
   "outputs": [
    {
     "name": "stdout",
     "output_type": "stream",
     "text": [
      "439\n"
     ]
    }
   ],
   "source": [
    "print(len(json_data))"
   ]
  },
  {
   "cell_type": "code",
   "execution_count": 8,
   "metadata": {},
   "outputs": [],
   "source": [
    "docs = []\n",
    "for data in json_data:\n",
    "    proposition = '\\n'.join(data['proposition'])\n",
    "    doc = Document(proposition)\n",
    "    doc.metadata = {'uuid': data['uuid'], 'summary': data['summary']}\n",
    "    docs.append(doc)"
   ]
  },
  {
   "cell_type": "code",
   "execution_count": 10,
   "metadata": {},
   "outputs": [
    {
     "data": {
      "text/plain": [
       "Document(page_content='營養是健康的基礎。\\n沒有良好的營養，很難獲得良好的健康。\\n整合式醫療照護的討論必須從營養開始說起。\\n人與動物的連結可以溯及遠古時代。\\n馴養的犬類約在一萬六千年至三千兩百年之前出現。\\n科學家一直在爭論到底是人馴養狗，還是狗馴養人。\\n人與動物的共生關係已經維持很久了。\\n絕大多數人從自己和動物的互動關係中獲得的，遠遠超過自己給予牠們的任何吃住與關注。\\n我們對於寵物的愛，就像對待家人一樣。\\n動物的存在能提振人們的精神。\\n如果把可愛的動物帶去醫院的兒童病房，可以看到病童的改變。\\n把一隻呼嚕嚕放的貓放在因中風而無法講話的病患腿上，可以看到病患的臉立刻明亮起來。\\n寵物能安撫需要情感支持的兒童。\\n寵物能安撫發生創傷後壓力症候群（PTSD）的退役軍人。\\n寵物在人類社會中擔任的角色，即使是人都無法取而代之。\\n飼主要完全掌握寵物的生活型態、營養及終生的醫療照護。\\n透過黑色拉布拉多犬的故事，可以了解照顧寵物時使用整合式照護的好處。', metadata={'uuid': 'e0ce6abf-9efe-422e-8d0a-adc9f04acd72', 'summary': '營養是健康的基礎，寵物的營養對牠們的整體健康至關重要。'})"
      ]
     },
     "execution_count": 10,
     "metadata": {},
     "output_type": "execute_result"
    }
   ],
   "source": [
    "# docs[0]"
   ]
  },
  {
   "cell_type": "code",
   "execution_count": null,
   "metadata": {},
   "outputs": [],
   "source": []
  }
 ],
 "metadata": {
  "kernelspec": {
   "display_name": "langchain",
   "language": "python",
   "name": "python3"
  },
  "language_info": {
   "codemirror_mode": {
    "name": "ipython",
    "version": 3
   },
   "file_extension": ".py",
   "mimetype": "text/x-python",
   "name": "python",
   "nbconvert_exporter": "python",
   "pygments_lexer": "ipython3",
   "version": "3.10.13"
  }
 },
 "nbformat": 4,
 "nbformat_minor": 2
}
