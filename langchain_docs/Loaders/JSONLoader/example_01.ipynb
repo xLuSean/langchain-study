{
 "cells": [
  {
   "cell_type": "markdown",
   "metadata": {},
   "source": [
    "# JSON\n",
    "JSON (JavaScript Object Notation) is an open standard file format and data interchange format that uses human-readable text to store and transmit data objects consisting of attribute–value pairs and arrays (or other serializable values).\n",
    "\n",
    "JSON Lines is a file format where each line is a valid JSON value.\n",
    "\n",
    "The JSONLoader uses a specified jq schema to parse the JSON files. It uses the jq python package. Check this manual for a detailed documentation of the jq syntax."
   ]
  },
  {
   "cell_type": "code",
   "execution_count": null,
   "metadata": {},
   "outputs": [],
   "source": [
    "from langchain_community.document_loaders import JSONLoader"
   ]
  },
  {
   "cell_type": "code",
   "execution_count": null,
   "metadata": {},
   "outputs": [],
   "source": [
    "import json\n",
    "from pathlib import Path\n",
    "from pprint import pprint\n",
    "\n",
    "\n",
    "file_path='../../../text_files/chapter_10_01.json'\n",
    "data = json.loads(Path(file_path).read_text())"
   ]
  },
  {
   "cell_type": "code",
   "execution_count": null,
   "metadata": {},
   "outputs": [],
   "source": [
    "pprint(data)"
   ]
  },
  {
   "cell_type": "markdown",
   "metadata": {},
   "source": [
    "## Using JSONLoader\n",
    "Suppose we are interested in extracting the values under the content field within the messages key of the JSON data. This can easily be done through the JSONLoader as shown below.\n",
    "\n",
    "### JSON file"
   ]
  },
  {
   "cell_type": "code",
   "execution_count": null,
   "metadata": {},
   "outputs": [],
   "source": [
    "file_path='../../../text_files/chapter_10_01.json'\n",
    "\n",
    "summary_loader = JSONLoader(\n",
    "    file_path=file_path,\n",
    "    jq_schema='.summary',\n",
    "    # jq_schema='.proposition[]',\n",
    "    text_content=False)\n",
    "\n",
    "uuid_loader = JSONLoader(\n",
    "    file_path=file_path,\n",
    "    jq_schema='.uuid',\n",
    "    text_content=True)\n",
    "\n",
    "proposition_loader = JSONLoader(\n",
    "    file_path=file_path,\n",
    "    # jq_schema='.[]',\n",
    "    jq_schema='.proposition[]',\n",
    "    text_content=False)\n",
    "\n",
    "summary_data = summary_loader.load()\n",
    "uuid_data = uuid_loader.load()\n",
    "proposition_data = proposition_loader.load()"
   ]
  },
  {
   "cell_type": "code",
   "execution_count": null,
   "metadata": {},
   "outputs": [],
   "source": [
    "# print(summary_data[0].page_content)\n",
    "print(uuid_data)"
   ]
  },
  {
   "cell_type": "code",
   "execution_count": null,
   "metadata": {},
   "outputs": [],
   "source": [
    "# proposition_data = [(data.metadata = \"test\") for data in proposition_data]\n",
    "# proposition_data = [data.metadata for data in proposition_data]\n",
    "for data in proposition_data:\n",
    "    data.metadata = {\"summary\":summary_data[0].page_content, \"uuid\":uuid_data[0].page_content}"
   ]
  },
  {
   "cell_type": "code",
   "execution_count": null,
   "metadata": {},
   "outputs": [],
   "source": [
    "# print(summary_data[0].metadata)\n",
    "print(proposition_data)\n",
    "# print(type(proposition_data[0]))"
   ]
  },
  {
   "cell_type": "code",
   "execution_count": null,
   "metadata": {},
   "outputs": [],
   "source": [
    "pprint(Path(file_path).read_text())"
   ]
  },
  {
   "cell_type": "markdown",
   "metadata": {},
   "source": [
    "## Extracting metadata\n",
    "Generally, we want to include metadata available in the JSON file into the documents that we create from the content.\n",
    "\n",
    "The following demonstrates how metadata can be extracted using the JSONLoader.\n",
    "\n",
    "There are some key changes to be noted. In the previous example where we didn't collect the metadata, we managed to directly specify in the schema where the value for the page_content can be extracted from.\n",
    "\n",
    "`.messages[].content`\n",
    "\n",
    "In the current example, we have to tell the loader to iterate over the records in the messages field. The jq_schema then has to be:\n",
    "\n",
    "`.messages[]`\n",
    "\n",
    "This allows us to pass the records (dict) into the metadata_func that has to be implemented. The metadata_func is responsible for identifying which pieces of information in the record should be included in the metadata stored in the final Document object.\n",
    "\n",
    "Additionally, we now have to explicitly specify in the loader, via the content_key argument, the key from the record where the value for the page_content needs to be extracted from."
   ]
  },
  {
   "cell_type": "code",
   "execution_count": null,
   "metadata": {},
   "outputs": [],
   "source": [
    "# Define the metadata extraction function.\n",
    "# def metadata_func(record: dict, metadata: dict) -> dict:\n",
    "#     metadata[\"summary\"] = record.get(\"summary\")\n",
    "#     metadata[\"keywords\"] = record.get(\"keywords\")\n",
    "#     return metadata\n",
    "\n",
    "def metadata_func(record: dict, metadata: dict) -> dict:\n",
    "    metadata[\"summary\"] = record.get(\"summary\", \"\")\n",
    "    metadata[\"keywords\"] = record.get(\"keywords\", [])\n",
    "    return metadata\n",
    "\n",
    "file_path='../../../text_files/chapter_10_01.json'\n",
    "\n",
    "loader = JSONLoader(\n",
    "    file_path=file_path,\n",
    "    jq_schema='.[]',\n",
    "     text_content=False,\n",
    "    # content_key=\"proposition\",\n",
    "    # metadata_func=metadata_func\n",
    ")\n",
    "\n",
    "# loader = JSONLoader(\n",
    "#     file_path=file_path,\n",
    "#     # jq_schema='.[]',\n",
    "#     jq_schema='.proposition[]',\n",
    "#     text_content=False)\n",
    "\n",
    "data = loader.load()"
   ]
  },
  {
   "cell_type": "code",
   "execution_count": null,
   "metadata": {},
   "outputs": [],
   "source": [
    "pprint(data)"
   ]
  },
  {
   "cell_type": "code",
   "execution_count": null,
   "metadata": {},
   "outputs": [],
   "source": []
  }
 ],
 "metadata": {
  "kernelspec": {
   "display_name": "langchain",
   "language": "python",
   "name": "python3"
  },
  "language_info": {
   "codemirror_mode": {
    "name": "ipython",
    "version": 3
   },
   "file_extension": ".py",
   "mimetype": "text/x-python",
   "name": "python",
   "nbconvert_exporter": "python",
   "pygments_lexer": "ipython3",
   "version": "3.10.13"
  }
 },
 "nbformat": 4,
 "nbformat_minor": 2
}
