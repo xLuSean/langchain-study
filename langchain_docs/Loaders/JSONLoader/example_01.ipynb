{
 "cells": [
  {
   "cell_type": "markdown",
   "metadata": {},
   "source": [
    "# JSON\n",
    "JSON (JavaScript Object Notation) is an open standard file format and data interchange format that uses human-readable text to store and transmit data objects consisting of attribute–value pairs and arrays (or other serializable values).\n",
    "\n",
    "JSON Lines is a file format where each line is a valid JSON value.\n",
    "\n",
    "The JSONLoader uses a specified jq schema to parse the JSON files. It uses the jq python package. Check this manual for a detailed documentation of the jq syntax."
   ]
  },
  {
   "cell_type": "code",
   "execution_count": 1,
   "metadata": {},
   "outputs": [],
   "source": [
    "from langchain_community.document_loaders import JSONLoader"
   ]
  },
  {
   "cell_type": "code",
   "execution_count": 2,
   "metadata": {},
   "outputs": [],
   "source": [
    "import json\n",
    "from pathlib import Path\n",
    "from pprint import pprint\n",
    "\n",
    "\n",
    "file_path='../../../text_files/chapter_10_01.json'\n",
    "data = json.loads(Path(file_path).read_text())"
   ]
  },
  {
   "cell_type": "code",
   "execution_count": 3,
   "metadata": {},
   "outputs": [
    {
     "name": "stdout",
     "output_type": "stream",
     "text": [
      "{'keywords': ['寵物',\n",
      "              '營養',\n",
      "              '健康',\n",
      "              '整合式醫療照護',\n",
      "              '犬類',\n",
      "              '貓',\n",
      "              '情感支持',\n",
      "              '創傷後壓力症候群',\n",
      "              '生活型態',\n",
      "              '醫療照護'],\n",
      " 'proposition': ['營養是健康的基礎。',\n",
      "                 '沒有良好的營養，很難獲得良好的健康。',\n",
      "                 '整合式醫療照護的討論必須從營養開始說起。',\n",
      "                 '人與動物的連結可以溯及遠古時代。',\n",
      "                 '馴養的犬類約在一萬六千年至三千兩百年之前出現。',\n",
      "                 '科學家一直在爭論到底是人馴養狗，還是狗馴養人。',\n",
      "                 '人與動物的共生關係已經維持很久了。',\n",
      "                 '絕大多數人從自己和動物的互動關係中獲得的，遠遠超過自己給予牠們的任何吃住與關注。',\n",
      "                 '我們對於寵物的愛，就像對待家人一樣。',\n",
      "                 '動物的存在能提振人們的精神。',\n",
      "                 '如果把可愛的動物帶去醫院的兒童病房，可以看到病童的改變。',\n",
      "                 '把一隻呼嚕嚕放的貓放在因中風而無法講話的病患腿上，可以看到病患的臉立刻明亮起來。',\n",
      "                 '寵物能安撫需要情感支持的兒童。',\n",
      "                 '寵物能安撫發生創傷後壓力症候群（PTSD）的退役軍人。',\n",
      "                 '寵物在人類社會中擔任的角色，即使是人都無法取而代之。',\n",
      "                 '飼主要完全掌握寵物的生活型態、營養及終生的醫療照護。',\n",
      "                 '透過黑色拉布拉多犬的故事，可以了解照顧寵物時使用整合式照護的好處。'],\n",
      " 'summary': '營養是健康的基礎，寵物的營養對牠們的整體健康至關重要。',\n",
      " 'uuid': 'e0ce6abf-9efe-422e-8d0a-adc9f04acd72'}\n"
     ]
    }
   ],
   "source": [
    "pprint(data)"
   ]
  },
  {
   "cell_type": "markdown",
   "metadata": {},
   "source": [
    "## Using JSONLoader\n",
    "Suppose we are interested in extracting the values under the content field within the messages key of the JSON data. This can easily be done through the JSONLoader as shown below.\n",
    "\n",
    "### JSON file"
   ]
  },
  {
   "cell_type": "code",
   "execution_count": 4,
   "metadata": {},
   "outputs": [],
   "source": [
    "file_path='../../../text_files/chapter_10_01.json'\n",
    "\n",
    "summary_loader = JSONLoader(\n",
    "    file_path=file_path,\n",
    "    jq_schema='.summary',\n",
    "    # jq_schema='.proposition[]',\n",
    "    text_content=False)\n",
    "\n",
    "uuid_loader = JSONLoader(\n",
    "    file_path=file_path,\n",
    "    jq_schema='.uuid',\n",
    "    text_content=True)\n",
    "\n",
    "proposition_loader = JSONLoader(\n",
    "    file_path=file_path,\n",
    "    # jq_schema='.[]',\n",
    "    jq_schema='.proposition[]',\n",
    "    text_content=False)\n",
    "\n",
    "summary_data = summary_loader.load()\n",
    "uuid_data = uuid_loader.load()\n",
    "proposition_data = proposition_loader.load()"
   ]
  },
  {
   "cell_type": "code",
   "execution_count": 5,
   "metadata": {},
   "outputs": [
    {
     "name": "stdout",
     "output_type": "stream",
     "text": [
      "[Document(page_content='e0ce6abf-9efe-422e-8d0a-adc9f04acd72', metadata={'source': '/Users/sean/Learn/AI/langchain/text_files/chapter_10_01.json', 'seq_num': 1})]\n"
     ]
    }
   ],
   "source": [
    "# print(summary_data[0].page_content)\n",
    "print(uuid_data)"
   ]
  },
  {
   "cell_type": "code",
   "execution_count": 6,
   "metadata": {},
   "outputs": [],
   "source": [
    "# proposition_data = [(data.metadata = \"test\") for data in proposition_data]\n",
    "# proposition_data = [data.metadata for data in proposition_data]\n",
    "for data in proposition_data:\n",
    "    data.metadata = {\"summary\":summary_data[0].page_content, \"uuid\":uuid_data[0].page_content}"
   ]
  },
  {
   "cell_type": "code",
   "execution_count": 8,
   "metadata": {},
   "outputs": [
    {
     "name": "stdout",
     "output_type": "stream",
     "text": [
      "[Document(page_content='營養是健康的基礎。', metadata={'summary': '營養是健康的基礎，寵物的營養對牠們的整體健康至關重要。', 'uuid': 'e0ce6abf-9efe-422e-8d0a-adc9f04acd72'}), Document(page_content='沒有良好的營養，很難獲得良好的健康。', metadata={'summary': '營養是健康的基礎，寵物的營養對牠們的整體健康至關重要。', 'uuid': 'e0ce6abf-9efe-422e-8d0a-adc9f04acd72'}), Document(page_content='整合式醫療照護的討論必須從營養開始說起。', metadata={'summary': '營養是健康的基礎，寵物的營養對牠們的整體健康至關重要。', 'uuid': 'e0ce6abf-9efe-422e-8d0a-adc9f04acd72'}), Document(page_content='人與動物的連結可以溯及遠古時代。', metadata={'summary': '營養是健康的基礎，寵物的營養對牠們的整體健康至關重要。', 'uuid': 'e0ce6abf-9efe-422e-8d0a-adc9f04acd72'}), Document(page_content='馴養的犬類約在一萬六千年至三千兩百年之前出現。', metadata={'summary': '營養是健康的基礎，寵物的營養對牠們的整體健康至關重要。', 'uuid': 'e0ce6abf-9efe-422e-8d0a-adc9f04acd72'}), Document(page_content='科學家一直在爭論到底是人馴養狗，還是狗馴養人。', metadata={'summary': '營養是健康的基礎，寵物的營養對牠們的整體健康至關重要。', 'uuid': 'e0ce6abf-9efe-422e-8d0a-adc9f04acd72'}), Document(page_content='人與動物的共生關係已經維持很久了。', metadata={'summary': '營養是健康的基礎，寵物的營養對牠們的整體健康至關重要。', 'uuid': 'e0ce6abf-9efe-422e-8d0a-adc9f04acd72'}), Document(page_content='絕大多數人從自己和動物的互動關係中獲得的，遠遠超過自己給予牠們的任何吃住與關注。', metadata={'summary': '營養是健康的基礎，寵物的營養對牠們的整體健康至關重要。', 'uuid': 'e0ce6abf-9efe-422e-8d0a-adc9f04acd72'}), Document(page_content='我們對於寵物的愛，就像對待家人一樣。', metadata={'summary': '營養是健康的基礎，寵物的營養對牠們的整體健康至關重要。', 'uuid': 'e0ce6abf-9efe-422e-8d0a-adc9f04acd72'}), Document(page_content='動物的存在能提振人們的精神。', metadata={'summary': '營養是健康的基礎，寵物的營養對牠們的整體健康至關重要。', 'uuid': 'e0ce6abf-9efe-422e-8d0a-adc9f04acd72'}), Document(page_content='如果把可愛的動物帶去醫院的兒童病房，可以看到病童的改變。', metadata={'summary': '營養是健康的基礎，寵物的營養對牠們的整體健康至關重要。', 'uuid': 'e0ce6abf-9efe-422e-8d0a-adc9f04acd72'}), Document(page_content='把一隻呼嚕嚕放的貓放在因中風而無法講話的病患腿上，可以看到病患的臉立刻明亮起來。', metadata={'summary': '營養是健康的基礎，寵物的營養對牠們的整體健康至關重要。', 'uuid': 'e0ce6abf-9efe-422e-8d0a-adc9f04acd72'}), Document(page_content='寵物能安撫需要情感支持的兒童。', metadata={'summary': '營養是健康的基礎，寵物的營養對牠們的整體健康至關重要。', 'uuid': 'e0ce6abf-9efe-422e-8d0a-adc9f04acd72'}), Document(page_content='寵物能安撫發生創傷後壓力症候群（PTSD）的退役軍人。', metadata={'summary': '營養是健康的基礎，寵物的營養對牠們的整體健康至關重要。', 'uuid': 'e0ce6abf-9efe-422e-8d0a-adc9f04acd72'}), Document(page_content='寵物在人類社會中擔任的角色，即使是人都無法取而代之。', metadata={'summary': '營養是健康的基礎，寵物的營養對牠們的整體健康至關重要。', 'uuid': 'e0ce6abf-9efe-422e-8d0a-adc9f04acd72'}), Document(page_content='飼主要完全掌握寵物的生活型態、營養及終生的醫療照護。', metadata={'summary': '營養是健康的基礎，寵物的營養對牠們的整體健康至關重要。', 'uuid': 'e0ce6abf-9efe-422e-8d0a-adc9f04acd72'}), Document(page_content='透過黑色拉布拉多犬的故事，可以了解照顧寵物時使用整合式照護的好處。', metadata={'summary': '營養是健康的基礎，寵物的營養對牠們的整體健康至關重要。', 'uuid': 'e0ce6abf-9efe-422e-8d0a-adc9f04acd72'})]\n"
     ]
    }
   ],
   "source": [
    "# print(summary_data[0].metadata)\n",
    "print(proposition_data)\n",
    "# print(type(proposition_data[0]))"
   ]
  },
  {
   "cell_type": "code",
   "execution_count": 24,
   "metadata": {},
   "outputs": [
    {
     "name": "stdout",
     "output_type": "stream",
     "text": [
      "('{\"summary\": \"營養是健康的基礎，寵物的營養對牠們的整體健康至關重要。\", \"keywords\": [\"寵物\", \"營養\", \"健康\", '\n",
      " '\"整合式醫療照護\", \"犬類\", \"貓\", \"情感支持\", \"創傷後壓力症候群\", \"生活型態\", \"醫療照護\"], \"proposition\": '\n",
      " '[\"營養是健康的基礎。\", \"沒有良好的營養，很難獲得良好的健康。\", \"整合式醫療照護的討論必須從營養開始說起。\", '\n",
      " '\"人與動物的連結可以溯及遠古時代。\", \"馴養的犬類約在一萬六千年至三千兩百年之前出現。\", \"科學家一直在爭論到底是人馴養狗，還是狗馴養人。\", '\n",
      " '\"人與動物的共生關係已經維持很久了。\", \"絕大多數人從自己和動物的互動關係中獲得的，遠遠超過自己給予牠們的任何吃住與關注。\", '\n",
      " '\"我們對於寵物的愛，就像對待家人一樣。\", \"動物的存在能提振人們的精神。\", \"如果把可愛的動物帶去醫院的兒童病房，可以看到病童的改變。\", '\n",
      " '\"把一隻呼嚕嚕放的貓放在因中風而無法講話的病患腿上，可以看到病患的臉立刻明亮起來。\", \"寵物能安撫需要情感支持的兒童。\", '\n",
      " '\"寵物能安撫發生創傷後壓力症候群（PTSD）的退役軍人。\", \"寵物在人類社會中擔任的角色，即使是人都無法取而代之。\", '\n",
      " '\"飼主要完全掌握寵物的生活型態、營養及終生的醫療照護。\", \"透過黑色拉布拉多犬的故事，可以了解照顧寵物時使用整合式照護的好處。\"], \"uuid\": '\n",
      " '\"e0ce6abf-9efe-422e-8d0a-adc9f04acd72\"}')\n"
     ]
    }
   ],
   "source": [
    "pprint(Path(file_path).read_text())"
   ]
  },
  {
   "cell_type": "markdown",
   "metadata": {},
   "source": [
    "## Extracting metadata\n",
    "Generally, we want to include metadata available in the JSON file into the documents that we create from the content.\n",
    "\n",
    "The following demonstrates how metadata can be extracted using the JSONLoader.\n",
    "\n",
    "There are some key changes to be noted. In the previous example where we didn't collect the metadata, we managed to directly specify in the schema where the value for the page_content can be extracted from.\n",
    "\n",
    "`.messages[].content`\n",
    "\n",
    "In the current example, we have to tell the loader to iterate over the records in the messages field. The jq_schema then has to be:\n",
    "\n",
    "`.messages[]`\n",
    "\n",
    "This allows us to pass the records (dict) into the metadata_func that has to be implemented. The metadata_func is responsible for identifying which pieces of information in the record should be included in the metadata stored in the final Document object.\n",
    "\n",
    "Additionally, we now have to explicitly specify in the loader, via the content_key argument, the key from the record where the value for the page_content needs to be extracted from."
   ]
  },
  {
   "cell_type": "code",
   "execution_count": 55,
   "metadata": {},
   "outputs": [],
   "source": [
    "# Define the metadata extraction function.\n",
    "# def metadata_func(record: dict, metadata: dict) -> dict:\n",
    "#     metadata[\"summary\"] = record.get(\"summary\")\n",
    "#     metadata[\"keywords\"] = record.get(\"keywords\")\n",
    "#     return metadata\n",
    "\n",
    "def metadata_func(record: dict, metadata: dict) -> dict:\n",
    "    metadata[\"summary\"] = record.get(\"summary\", \"\")\n",
    "    metadata[\"keywords\"] = record.get(\"keywords\", [])\n",
    "    return metadata\n",
    "\n",
    "file_path='../../../text_files/chapter_10_01.json'\n",
    "\n",
    "loader = JSONLoader(\n",
    "    file_path=file_path,\n",
    "    jq_schema='.[]',\n",
    "     text_content=False,\n",
    "    # content_key=\"proposition\",\n",
    "    # metadata_func=metadata_func\n",
    ")\n",
    "\n",
    "# loader = JSONLoader(\n",
    "#     file_path=file_path,\n",
    "#     # jq_schema='.[]',\n",
    "#     jq_schema='.proposition[]',\n",
    "#     text_content=False)\n",
    "\n",
    "data = loader.load()"
   ]
  },
  {
   "cell_type": "code",
   "execution_count": 56,
   "metadata": {},
   "outputs": [
    {
     "name": "stdout",
     "output_type": "stream",
     "text": [
      "[Document(page_content='營養是健康的基礎，寵物的營養對牠們的整體健康至關重要。', metadata={'source': '/Users/sean/Learn/AI/langchain/text_files/chapter_10_01.json', 'seq_num': 1}),\n",
      " Document(page_content=\"['寵物', '營養', '健康', '整合式醫療照護', '犬類', '貓', '情感支持', '創傷後壓力症候群', '生活型態', '醫療照護']\", metadata={'source': '/Users/sean/Learn/AI/langchain/text_files/chapter_10_01.json', 'seq_num': 2}),\n",
      " Document(page_content=\"['營養是健康的基礎。', '沒有良好的營養，很難獲得良好的健康。', '整合式醫療照護的討論必須從營養開始說起。', '人與動物的連結可以溯及遠古時代。', '馴養的犬類約在一萬六千年至三千兩百年之前出現。', '科學家一直在爭論到底是人馴養狗，還是狗馴養人。', '人與動物的共生關係已經維持很久了。', '絕大多數人從自己和動物的互動關係中獲得的，遠遠超過自己給予牠們的任何吃住與關注。', '我們對於寵物的愛，就像對待家人一樣。', '動物的存在能提振人們的精神。', '如果把可愛的動物帶去醫院的兒童病房，可以看到病童的改變。', '把一隻呼嚕嚕放的貓放在因中風而無法講話的病患腿上，可以看到病患的臉立刻明亮起來。', '寵物能安撫需要情感支持的兒童。', '寵物能安撫發生創傷後壓力症候群（PTSD）的退役軍人。', '寵物在人類社會中擔任的角色，即使是人都無法取而代之。', '飼主要完全掌握寵物的生活型態、營養及終生的醫療照護。', '透過黑色拉布拉多犬的故事，可以了解照顧寵物時使用整合式照護的好處。']\", metadata={'source': '/Users/sean/Learn/AI/langchain/text_files/chapter_10_01.json', 'seq_num': 3}),\n",
      " Document(page_content='e0ce6abf-9efe-422e-8d0a-adc9f04acd72', metadata={'source': '/Users/sean/Learn/AI/langchain/text_files/chapter_10_01.json', 'seq_num': 4})]\n"
     ]
    }
   ],
   "source": [
    "pprint(data)"
   ]
  },
  {
   "cell_type": "code",
   "execution_count": null,
   "metadata": {},
   "outputs": [],
   "source": []
  }
 ],
 "metadata": {
  "kernelspec": {
   "display_name": "langchain",
   "language": "python",
   "name": "python3"
  },
  "language_info": {
   "codemirror_mode": {
    "name": "ipython",
    "version": 3
   },
   "file_extension": ".py",
   "mimetype": "text/x-python",
   "name": "python",
   "nbconvert_exporter": "python",
   "pygments_lexer": "ipython3",
   "version": "3.10.13"
  }
 },
 "nbformat": 4,
 "nbformat_minor": 2
}
