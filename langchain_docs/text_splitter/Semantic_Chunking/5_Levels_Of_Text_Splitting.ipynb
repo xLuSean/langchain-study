{
 "cells": [
  {
   "cell_type": "markdown",
   "id": "a9663ad9-217c-46d3-befc-8ccabeba890b",
   "metadata": {},
   "source": [
    "# 5 Levels Of Text Splitting\n",
    "\n",
    "In this tutorial we are reviewing the 5 Levels Of Text Splitting. This is an unofficial list put together for fun and educational purposes.\n",
    "\n",
    "Ever try to put a long piece of text into ChatGPT but it tells you it’s too long? Or you're trying to give your application better long term memory, but it’s still just not quite working.\n",
    "\n",
    "One of the most effective strategies to improve performance of your language model applications is to split your large data into smaller pieces. This is call splitting or chunking (we'll use these terms interchangeably). In the world of multi-modal, splitting also applies to images.\n",
    "\n",
    "We are going to cover a lot, but if you make it to the end, I guarantee you’ll have a solid grasp on chunking theory, strategies, and resources to learn more.\n",
    "\n",
    "**Levels Of Text Splitting**\n",
    "* **Level 1: [Character Splitting](#CharacterSplitting)** - Simple static character chunks of data\n",
    "* **Level 2: [Recursive Character Text Splitting](#RecursiveCharacterSplitting)** - Recursive chunking based on a list of separators\n",
    "* **Level 3: [Document Specific Splitting](#DocumentSpecific)** - Various chunking methods for different document types (PDF, Python, Markdown)\n",
    "* **Level 4: [Semantic Splitting](#SemanticChunking)** - Embedding walk based chunking\n",
    "* **Level 5: [Agentic Splitting](#AgenticChunking)** - Experimental method of splitting text with an agent-like system. Good for if you believe that token cost will trend to $0.00\n",
    "* **\\*Bonus Level:\\*** **[Alternative Representation Chunking + Indexing](#BonusLevel)** - Derivative representations of your raw text that will aid in retrieval and indexing\n",
    "\n",
    "**Notebook resources:**\n",
    "* [Video Overview]() - Walkthrough of this code with commentary\n",
    "* [ChunkViz.com](https://www.chunkviz.com/) - Visual representation of chunk splitting methods\n",
    "* [RAGAS](https://github.com/explodinggradients/ragas) - Retrieval evaluation framework\n",
    "\n",
    "This tutorial was created with ❤️ by [Greg Kamradt](https://twitter.com/GregKamradt). MIT license, attribution is always welcome.\n",
    "\n",
    "This tutorial will use code from LangChain (`pip install langchain`) & Llama Index (`pip install llama-index`)\n",
    "\n",
    "**Evaluations**\n",
    "\n",
    "It's important to test your chunking strategies in retrieval evals. It doesn't matter how you chunk if the performance of your application isn't great.\n",
    "\n",
    "Eval Frameworks:\n",
    "\n",
    "* [LangChain Evals](https://python.langchain.com/docs/guides/evaluation/)\n",
    "* [Llama Index Evals](https://docs.llamaindex.ai/en/stable/module_guides/evaluating/root.html)\n",
    "* [RAGAS Evals](https://github.com/explodinggradients/ragas)\n",
    "\n",
    "I'm not going to demo evals for each method because success is domain specific. The arbitrary eval that I pick may not be suitable for your data. If anyone is interested in collaborating on a rigorous evaluation of different chunking strategies, please reach out (contact@dataindependent.com).\n",
    "\n",
    "If you only walk away from this tutorial with one thing have it be the **The Chunking Commandment**\n",
    "\n",
    "**The Chunking Commandment:** Your goal is not to chunk for chunking sake, our goal is to get our data in a format where it can be retrieved for value later.\n",
    "\n",
    "## Level 1: Character Splitting <a id=\"CharacterSplitting\"></a>\n",
    "Character splitting is the most basic form of splitting up your text. It is the process of simply dividing your text into N-character sized chunks regardless of their content or form.\n",
    "\n",
    "This method isn't recommended for any applications - but it's a great starting point for us to understand the basics.\n",
    "\n",
    "* **Pros:** Easy & Simple\n",
    "* **Cons:** Very rigid and doesn't take into account the structure of your text\n",
    "\n",
    "Concepts to know:\n",
    "* **Chunk Size** - The number of characters you would like in your chunks. 50, 100, 100,000, etc.\n",
    "* **Chunk Overlap** - The amount you would like your sequential chunks to overlap. This is to try to avoid cutting a single piece of context into multiple pieces. This will create duplicate data across chunks.\n",
    "\n",
    "First let's get some sample text"
   ]
  },
  {
   "cell_type": "code",
   "execution_count": 2,
   "id": "c96299fc-30f5-4edf-ac23-23a29f9c7282",
   "metadata": {},
   "outputs": [],
   "source": [
    "text = \"This is the text I would like to chunk up. It is the example text for this exercise\""
   ]
  },
  {
   "cell_type": "markdown",
   "id": "4e1cf67e-98d7-48bd-9867-f72be72e3f4a",
   "metadata": {},
   "source": [
    "Then let's split this text manually"
   ]
  },
  {
   "cell_type": "code",
   "execution_count": 3,
   "id": "f11fb88f-17ed-44c2-b4de-a8a527fe63c7",
   "metadata": {},
   "outputs": [
    {
     "data": {
      "text/plain": [
       "['This is the text I would like to ch',\n",
       " 'unk up. It is the example text for ',\n",
       " 'this exercise']"
      ]
     },
     "execution_count": 3,
     "metadata": {},
     "output_type": "execute_result"
    }
   ],
   "source": [
    "# Create a list that will hold your chunks\n",
    "chunks = []\n",
    "\n",
    "chunk_size = 35 # Characters\n",
    "\n",
    "# Run through the a range with the length of your text and iterate every chunk_size you want\n",
    "for i in range(0, len(text), chunk_size):\n",
    "    chunk = text[i:i + chunk_size]\n",
    "    chunks.append(chunk)\n",
    "chunks"
   ]
  },
  {
   "cell_type": "markdown",
   "id": "140085b7-c6af-4003-923c-73feb1825965",
   "metadata": {},
   "source": [
    "Congratulations! You just split your first text. We have long way to go but you're already making progress. Feel like a language model practitioner yet?\n",
    "\n",
    "When working with text in the language model world, we don't deal with raw strings. It is more common to work with documents. Documents are objects that hold the text you're concerned with, but also additional metadata which makes filtering and manipulation easier later.\n",
    "\n",
    "We could convert our list of strings into documents, but I'd rather start from scratch and create the docs.\n",
    "\n",
    "Let's load up LangChains `CharacterSplitter` to do this for us"
   ]
  },
  {
   "cell_type": "code",
   "execution_count": 4,
   "id": "d85945f0-4a09-4bd9-bdb6-bafe03089053",
   "metadata": {},
   "outputs": [],
   "source": [
    "from langchain.text_splitter import CharacterTextSplitter"
   ]
  },
  {
   "cell_type": "markdown",
   "id": "ff5f3c0a-09c9-45a9-8f47-d28baf22b201",
   "metadata": {},
   "source": [
    "Then let's load up this text splitter. I need to specify `chunk overlap` and `separator` or else we'll get funk results. We'll get into those next"
   ]
  },
  {
   "cell_type": "code",
   "execution_count": 5,
   "id": "3dcbeb8d-c5a0-4047-8250-967313c20935",
   "metadata": {},
   "outputs": [],
   "source": [
    "text_splitter = CharacterTextSplitter(chunk_size = 35, chunk_overlap=0, separator='', strip_whitespace=False)"
   ]
  },
  {
   "cell_type": "markdown",
   "id": "5ae25bbe-d7d1-44da-820b-3cd34a1cfc67",
   "metadata": {},
   "source": [
    "Then we can actually split our text via `create_documents`. Note: `create_documents` expects a list of texts, so if you just have a string (like we do) you'll need to wrap it in `[]`"
   ]
  },
  {
   "cell_type": "code",
   "execution_count": 6,
   "id": "afe4945b-ce08-49aa-a5dc-65a0e59922f2",
   "metadata": {},
   "outputs": [
    {
     "data": {
      "text/plain": [
       "[Document(page_content='This is the text I would like to ch'),\n",
       " Document(page_content='unk up. It is the example text for '),\n",
       " Document(page_content='this exercise')]"
      ]
     },
     "execution_count": 6,
     "metadata": {},
     "output_type": "execute_result"
    }
   ],
   "source": [
    "text_splitter.create_documents([text])"
   ]
  },
  {
   "cell_type": "markdown",
   "id": "331025f4-6ef4-4459-bcb6-df7824e78ce4",
   "metadata": {},
   "source": [
    "Notice how this time we have the same chunks, but they are in documents.\n",
    "These will play nicely with the rest of the LangChain world. Also notice how the trailing whitespace on the end of the 2nd chunk is missing. This is because LangChain removes it, see [this line](https://github.com/langchain-ai/langchain/blob/f36ef0739dbb548cabdb4453e6819fc3d826414f/libs/langchain/langchain/text_splitter.py#L167) for where they do it. You can avoid this with `strip_whitespace=False`"
   ]
  },
  {
   "cell_type": "markdown",
   "id": "1ed0f193-4098-4fb1-a42f-7f96cd182188",
   "metadata": {},
   "source": [
    "**Chunk Overlap & Separators**\n",
    "\n",
    "**Chunk overlap** will blend together our chunks so that the tail of Chunk #1 will be the same thing and the head of Chunk #2 and so on and so forth.\n",
    "\n",
    "This time I'll load up my overlap with a value of 4, this means 4 characters of overlap"
   ]
  },
  {
   "cell_type": "code",
   "execution_count": 10,
   "id": "fc66f496-7b0d-4b2a-a43d-e8f06d58c934",
   "metadata": {},
   "outputs": [],
   "source": [
    "text_splitter = CharacterTextSplitter(chunk_size = 35, chunk_overlap=4, separator='')"
   ]
  },
  {
   "cell_type": "code",
   "execution_count": 11,
   "id": "fd5d7e36-b592-430e-9069-cc025c78d7ef",
   "metadata": {},
   "outputs": [
    {
     "data": {
      "text/plain": [
       "[Document(page_content='This is the text I would like to ch'),\n",
       " Document(page_content='o chunk up. It is the example text'),\n",
       " Document(page_content='ext for this exercise')]"
      ]
     },
     "execution_count": 11,
     "metadata": {},
     "output_type": "execute_result"
    }
   ],
   "source": [
    "text_splitter.create_documents([text])"
   ]
  },
  {
   "cell_type": "markdown",
   "id": "dcd4aaa8-b90b-499e-b2d5-bc623b5bb751",
   "metadata": {},
   "source": [
    "Notice how we have the same chunks, but now there is overlap between 1 & 2 and 2 & 3. The 'o ch' on the tail of Chunk #1 matches the 'o ch' of the head of Chunk #2.\n",
    "\n",
    "I wanted a better way to visualize this, so I made [ChunkViz.com](www.chunkviz.com) to help show it. Here's what the same text looks like.\n",
    "\n",
    "<div style=\"text-align: center;\">\n",
    "    <img src=\"static/ChunkVizCharacter34_4_w_overlap.png\" alt=\"image\" style=\"max-width: 800px;\">\n",
    "</div>\n",
    "\n",
    "static/ChunkVizCharacterRecursive.png\n",
    "\n",
    "Check out how we have three colors, with two overlaping sections.\n",
    "\n",
    "**Separators** are character(s) sequences you would like to split on. Say you wanted to chunk your data at `ch`, you can specify it."
   ]
  },
  {
   "cell_type": "code",
   "execution_count": 12,
   "id": "814ce9aa-17c3-4205-b433-2eae612c2225",
   "metadata": {},
   "outputs": [],
   "source": [
    "text_splitter = CharacterTextSplitter(chunk_size = 35, chunk_overlap=0, separator='ch')"
   ]
  },
  {
   "cell_type": "code",
   "execution_count": 13,
   "id": "bb759b1f-dab0-4f5e-a0c0-220374313da6",
   "metadata": {},
   "outputs": [
    {
     "data": {
      "text/plain": [
       "[Document(page_content='This is the text I would like to'),\n",
       " Document(page_content='unk up. It is the example text for this exercise')]"
      ]
     },
     "execution_count": 13,
     "metadata": {},
     "output_type": "execute_result"
    }
   ],
   "source": [
    "text_splitter.create_documents([text])"
   ]
  },
  {
   "cell_type": "markdown",
   "id": "72c7ff4a-b6f0-4924-9a9c-2791dddc5b37",
   "metadata": {},
   "source": [
    "#### Llama Index\n",
    "\n",
    "[Llama Index](https://www.llamaindex.ai/) is a great choice for flexibility in the chunking and indexing process. They provide node relationships out of the box which can aid in retrieval later.\n",
    "\n",
    "Let's take a look at their sentence splitter. It is similar to the character splitter, but using its default settings, it'll split on sentences instead."
   ]
  },
  {
   "cell_type": "code",
   "execution_count": 10,
   "id": "624832d6-f3fd-45c4-b52e-bbc86e5e3cd0",
   "metadata": {},
   "outputs": [],
   "source": [
    "from llama_index.text_splitter import SentenceSplitter\n",
    "from llama_index import SimpleDirectoryReader"
   ]
  },
  {
   "cell_type": "markdown",
   "id": "b6e77494-a253-4414-b32d-2246fcb396ef",
   "metadata": {},
   "source": [
    "Load up your splitter"
   ]
  },
  {
   "cell_type": "code",
   "execution_count": 11,
   "id": "ef9e6627-81a5-463d-9180-5ff2ff1d40f9",
   "metadata": {},
   "outputs": [],
   "source": [
    "splitter = SentenceSplitter(\n",
    "    chunk_size=200,\n",
    "    chunk_overlap=15,\n",
    ")"
   ]
  },
  {
   "cell_type": "markdown",
   "id": "23214df1-064d-47ad-9058-f9a5f113b6cf",
   "metadata": {},
   "source": [
    "Load up your document"
   ]
  },
  {
   "cell_type": "code",
   "execution_count": 13,
   "id": "7cafba29-b973-4b37-806f-6f4893eae02e",
   "metadata": {},
   "outputs": [],
   "source": [
    "documents = SimpleDirectoryReader(\n",
    "    input_files=[\"../../data/PGEssays/mit.txt\"]\n",
    ").load_data()\n",
    "\n"
   ]
  },
  {
   "cell_type": "markdown",
   "id": "d2ceae08-1f5e-46bc-9d98-e95182fe8c3c",
   "metadata": {},
   "source": [
    "Create your nodes. Nodes are similar to documents but with more relationship data added to them."
   ]
  },
  {
   "cell_type": "code",
   "execution_count": 14,
   "id": "52f9a2e2-3d56-4727-afce-c81c13089324",
   "metadata": {},
   "outputs": [],
   "source": [
    "nodes = splitter.get_nodes_from_documents(documents)"
   ]
  },
  {
   "cell_type": "markdown",
   "id": "ec353aac-ea8f-421a-9895-0af8afdc08e0",
   "metadata": {},
   "source": [
    "Then let's take a look at one"
   ]
  },
  {
   "cell_type": "code",
   "execution_count": 15,
   "id": "898a421f-54a0-45a4-8acb-c7087b6a883f",
   "metadata": {},
   "outputs": [
    {
     "data": {
      "text/plain": [
       "TextNode(id_='e36994ad-25c5-41f3-b38d-96ee6b956fc7', embedding=None, metadata={'file_path': '../../data/PGEssays/mit.txt', 'file_name': 'mit.txt', 'file_type': 'text/plain', 'file_size': 36045, 'creation_date': '2024-01-22', 'last_modified_date': '2023-12-21', 'last_accessed_date': '2024-03-11'}, excluded_embed_metadata_keys=['file_name', 'file_type', 'file_size', 'creation_date', 'last_modified_date', 'last_accessed_date'], excluded_llm_metadata_keys=['file_name', 'file_type', 'file_size', 'creation_date', 'last_modified_date', 'last_accessed_date'], relationships={<NodeRelationship.SOURCE: '1'>: RelatedNodeInfo(node_id='881d6935-c507-474e-8d81-6c735776f9cf', node_type=<ObjectType.DOCUMENT: '4'>, metadata={'file_path': '../../data/PGEssays/mit.txt', 'file_name': 'mit.txt', 'file_type': 'text/plain', 'file_size': 36045, 'creation_date': '2024-01-22', 'last_modified_date': '2023-12-21', 'last_accessed_date': '2024-03-11'}, hash='5444cdff4f48bf05f4757827161d4fce69d517cbab26553227c095d6d68980c7'), <NodeRelationship.NEXT: '3'>: RelatedNodeInfo(node_id='95935f53-4da6-4bc8-af97-c890e4ee42e3', node_type=<ObjectType.TEXT: '1'>, metadata={}, hash='5ebb6555924d31f20f1f5243ea3bfb18231fbb946cb76f497dbc73310fa36d3a')}, hash='fe82de145221729f15921a789c2923659746b7304aa2ce2952b923f800d2b85d', text=\"Want to start a startup?  Get funded by\\nY Combinator.\\n\\n\\n\\n\\nOctober 2006(This essay is derived from a talk at MIT.)\\nTill recently graduating seniors had two choices: get a job or go\\nto grad school.  I think there will increasingly be a third option:\\nto start your own startup.  But how common will that be?I'm sure the default will always be to get a job, but starting a\\nstartup could well become as popular as grad school.  In the late\\n90s my professor friends used to complain that they couldn't get\\ngrad students, because all the undergrads were going to work for\\nstartups.\", start_char_idx=2, end_char_idx=576, text_template='{metadata_str}\\n\\n{content}', metadata_template='{key}: {value}', metadata_seperator='\\n')"
      ]
     },
     "execution_count": 15,
     "metadata": {},
     "output_type": "execute_result"
    }
   ],
   "source": [
    "nodes[0]"
   ]
  },
  {
   "cell_type": "markdown",
   "id": "539aa1a2-67b8-4585-b0d3-306703ea856b",
   "metadata": {},
   "source": [
    "As you can see there is a lot more relationship data held within Llama Index's nodes. We'll talk about those later, I don't want to get ahead of ourselves\n",
    "\n",
    "Basic Character splitting is likely only useful for a few applications, maybe yours!\n",
    "\n",
    "## Level 2: Recursive Character Text Splitting\n",
    "<a id=\"RecursiveCharacterSplitting\"></a>\n",
    "Let's jump a level of complexity.\n",
    "\n",
    "The problem with Level #1 is that we don't take into account the structure of our document at all. We simply split by a fix number of characters.\n",
    "\n",
    "The Recursive Character Text Splitter helps with this. With it, we'll specify a series of separatators which will be used to split our docs.\n",
    "\n",
    "You can see the default separators for LangChain [here](https://github.com/langchain-ai/langchain/blob/9ef2feb6747f5a69d186bd623b569ad722829a5e/libs/langchain/langchain/text_splitter.py#L842). Let's take a look at them one by one.\n",
    "\n",
    "* \"\\n\\n\" - Double new line, or most commonly paragraph breaks\n",
    "* \"\\n\" - New lines\n",
    "* \" \" - Spaces\n",
    "* \"\" - Characters\n",
    "\n",
    "I'm not sure why a period (\".\") isn't included on the list, perhaps it is not universal enough? If you know, let me know.\n",
    "\n",
    "This is the swiss army knife of splitters and my first choice when mocking up a quick application. If you don't know which splitter to start with, this is a good first bet.\n",
    "\n",
    "Let's try it out"
   ]
  },
  {
   "cell_type": "code",
   "execution_count": 14,
   "id": "49f42bea-3d06-404d-9f8c-f15f7ff7591b",
   "metadata": {},
   "outputs": [],
   "source": [
    "from langchain.text_splitter import RecursiveCharacterTextSplitter"
   ]
  },
  {
   "cell_type": "markdown",
   "id": "bb6f79f4-769b-474b-8d7d-19cb48407cd6",
   "metadata": {},
   "source": [
    "Then let's load up a larger piece of text"
   ]
  },
  {
   "cell_type": "code",
   "execution_count": 15,
   "id": "0772695d-0c5e-4e19-bb69-14e9bd7a15a7",
   "metadata": {},
   "outputs": [],
   "source": [
    "text = \"\"\"\n",
    "One of the most important things I didn't understand about the world when I was a child is the degree to which the returns for performance are superlinear.\n",
    "\n",
    "Teachers and coaches implicitly told us the returns were linear. \"You get out,\" I heard a thousand times, \"what you put in.\" They meant well, but this is rarely true. If your product is only half as good as your competitor's, you don't get half as many customers. You get no customers, and you go out of business.\n",
    "\n",
    "It's obviously true that the returns for performance are superlinear in business. Some think this is a flaw of capitalism, and that if we changed the rules it would stop being true. But superlinear returns for performance are a feature of the world, not an artifact of rules we've invented. We see the same pattern in fame, power, military victories, knowledge, and even benefit to humanity. In all of these, the rich get richer. [1]\n",
    "\"\"\""
   ]
  },
  {
   "cell_type": "markdown",
   "id": "9fbb158c-6bbe-4f49-95df-a8b43965a566",
   "metadata": {},
   "source": [
    "Now let's make our text splitter"
   ]
  },
  {
   "cell_type": "code",
   "execution_count": 16,
   "id": "03ec54c4-bda6-4254-97dd-983775b1d729",
   "metadata": {},
   "outputs": [],
   "source": [
    "text_splitter = RecursiveCharacterTextSplitter(chunk_size = 65, chunk_overlap=0)"
   ]
  },
  {
   "cell_type": "code",
   "execution_count": 17,
   "id": "887c7676-1e67-4084-94d3-59689eb399c6",
   "metadata": {},
   "outputs": [
    {
     "data": {
      "text/plain": [
       "[Document(page_content=\"One of the most important things I didn't understand about the\"),\n",
       " Document(page_content='world when I was a child is the degree to which the returns for'),\n",
       " Document(page_content='performance are superlinear.'),\n",
       " Document(page_content='Teachers and coaches implicitly told us the returns were linear.'),\n",
       " Document(page_content='\"You get out,\" I heard a thousand times, \"what you put in.\" They'),\n",
       " Document(page_content='meant well, but this is rarely true. If your product is only'),\n",
       " Document(page_content=\"half as good as your competitor's, you don't get half as many\"),\n",
       " Document(page_content='customers. You get no customers, and you go out of business.'),\n",
       " Document(page_content=\"It's obviously true that the returns for performance are\"),\n",
       " Document(page_content='superlinear in business. Some think this is a flaw of'),\n",
       " Document(page_content='capitalism, and that if we changed the rules it would stop being'),\n",
       " Document(page_content='true. But superlinear returns for performance are a feature of'),\n",
       " Document(page_content=\"the world, not an artifact of rules we've invented. We see the\"),\n",
       " Document(page_content='same pattern in fame, power, military victories, knowledge, and'),\n",
       " Document(page_content='even benefit to humanity. In all of these, the rich get richer.'),\n",
       " Document(page_content='[1]')]"
      ]
     },
     "execution_count": 17,
     "metadata": {},
     "output_type": "execute_result"
    }
   ],
   "source": [
    "text_splitter.create_documents([text])"
   ]
  },
  {
   "cell_type": "markdown",
   "id": "3fa00043-1655-4113-bb28-f3a998d5713a",
   "metadata": {},
   "source": [
    "Notice how now there are more chunks that end with a period \".\". This is because those likely are the end of a paragraph and the splitter first looks for double new lines (paragraph break).\n",
    "\n",
    "Once paragraphs are split, then it looks at the chunk size, if a chunk is too big, then it'll split by the next separator. If the chunk is still too big, then it'll move onto the next one and so forth.\n",
    "\n",
    "For text of this size, let's split on something bigger."
   ]
  },
  {
   "cell_type": "code",
   "execution_count": 19,
   "id": "6da8734e-47da-4a08-8459-9bf8bfed7fe4",
   "metadata": {},
   "outputs": [
    {
     "data": {
      "text/plain": [
       "[Document(page_content=\"One of the most important things I didn't understand about the world when I was a child is the degree to which the returns for performance are superlinear.\"),\n",
       " Document(page_content='Teachers and coaches implicitly told us the returns were linear. \"You get out,\" I heard a thousand times, \"what you put in.\" They meant well, but this is rarely true. If your product is only half as good as your competitor\\'s, you don\\'t get half as many customers. You get no customers, and you go out of business.'),\n",
       " Document(page_content=\"It's obviously true that the returns for performance are superlinear in business. Some think this is a flaw of capitalism, and that if we changed the rules it would stop being true. But superlinear returns for performance are a feature of the world, not an artifact of rules we've invented. We see the same pattern in fame, power, military victories, knowledge, and even benefit to humanity. In all of these, the rich get richer. [1]\")]"
      ]
     },
     "execution_count": 19,
     "metadata": {},
     "output_type": "execute_result"
    }
   ],
   "source": [
    "text_splitter = RecursiveCharacterTextSplitter(chunk_size = 450, chunk_overlap=30)\n",
    "text_splitter.create_documents([text])"
   ]
  },
  {
   "attachments": {},
   "cell_type": "markdown",
   "id": "1e99768f-8732-44e4-b8d8-cc5ac1fe4661",
   "metadata": {},
   "source": [
    "For this text, 450 splits the paragraphs perfectly. You can even switch the chunk size to 469 and get the same splits. This is because this splitter builds in a bit of cushion and wiggle room to allow your chunks to 'snap' to the nearest separator.\n",
    "\n",
    "Let's view this visually\n",
    "\n",
    "<div style=\"text-align: center;\">\n",
    "    <img src=\"static/ChunkVizCharacterRecursive.png\" alt=\"image\" style=\"max-width: 800px;\">\n",
    "</div>\n",
    "\n",
    "Wow - you already made it to level 2, awesome! We're on a roll. If you like the content, I send updates to email subscribers on projects I'm working on. If you want to get the scoop, sign up [here](https://mail.gregkamradt.com/signup)."
   ]
  },
  {
   "cell_type": "markdown",
   "id": "c5f32a73-0c8a-498c-a3a1-3e7dba4658c9",
   "metadata": {},
   "source": [
    "## Level 3: Document Specific Splitting <a id=\"DocumentSpecific\"></a>\n",
    "\n",
    "Stepping up our levels ladder, let's start to handle document types other than normal prose in a .txt. What if you have pictures? or a PDF? or code snippets?\n",
    "\n",
    "Our first two levels wouldn't work great for this so we'll need to find a different tactic.\n",
    "\n",
    "This level is all about making your chunking strategy fit your different data formats. Let's run through a bunch of examples of this in action\n",
    "\n",
    "The Markdown, Python, and JS splitters will basically be similar to Recursive Character, but with different separators.\n",
    "\n",
    "See all of LangChains document splitters [here](https://python.langchain.com/docs/modules/data_connection/document_transformers/text_splitters/code_splitter) and Llama Index ([HTML](https://docs.llamaindex.ai/en/stable/module_guides/loading/node_parsers/modules.html#htmlnodeparser), [JSON](https://docs.llamaindex.ai/en/stable/module_guides/loading/node_parsers/modules.html#jsonnodeparser), [Markdown](https://docs.llamaindex.ai/en/stable/module_guides/loading/node_parsers/modules.html#markdownnodeparser))\n",
    "\n",
    "### Markdown\n",
    "\n",
    "You can see the separators [here](https://github.com/langchain-ai/langchain/blob/9ef2feb6747f5a69d186bd623b569ad722829a5e/libs/langchain/langchain/text_splitter.py#L1175).\n",
    "\n",
    "Separators:\n",
    "* `\\n#{1,6}` - Split by new lines followed by a header (H1 through H6)\n",
    "* ```` ```\\n ```` - Code blocks\n",
    "* `\\n\\\\*\\\\*\\\\*+\\n` - Horizontal Lines\n",
    "* `\\n---+\\n` - Horizontal Lines\n",
    "* `\\n___+\\n` - Horizontal Lines\n",
    "* `\\n\\n` Double new lines\n",
    "* `\\n` - New line\n",
    "* `\" \"` - Spaces\n",
    "* `\"\"` - Character"
   ]
  },
  {
   "cell_type": "code",
   "execution_count": 21,
   "id": "298fe868-0872-4fa9-9146-fa33e9dd5706",
   "metadata": {},
   "outputs": [],
   "source": [
    "from langchain.text_splitter import MarkdownTextSplitter"
   ]
  },
  {
   "cell_type": "code",
   "execution_count": 22,
   "id": "e1d390ed-d046-44f9-a492-9760141f7982",
   "metadata": {},
   "outputs": [],
   "source": [
    "splitter = MarkdownTextSplitter(chunk_size = 40, chunk_overlap=0)"
   ]
  },
  {
   "cell_type": "code",
   "execution_count": 23,
   "id": "1ba14168-451b-4e9c-b1d0-d1eac6996ad3",
   "metadata": {},
   "outputs": [],
   "source": [
    "markdown_text = \"\"\"\n",
    "# Fun in California\n",
    "\n",
    "## Driving\n",
    "\n",
    "Try driving on the 1 down to San Diego\n",
    "\n",
    "### Food\n",
    "\n",
    "Make sure to eat a burrito while you're there\n",
    "\n",
    "## Hiking\n",
    "\n",
    "Go to Yosemite\n",
    "\"\"\""
   ]
  },
  {
   "cell_type": "code",
   "execution_count": 24,
   "id": "15dcf8de-551a-4477-8e68-57c4c50ddbc4",
   "metadata": {},
   "outputs": [
    {
     "data": {
      "text/plain": [
       "[Document(page_content='# Fun in California\\n\\n## Driving'),\n",
       " Document(page_content='Try driving on the 1 down to San Diego'),\n",
       " Document(page_content='### Food'),\n",
       " Document(page_content=\"Make sure to eat a burrito while you're\"),\n",
       " Document(page_content='there'),\n",
       " Document(page_content='## Hiking\\n\\nGo to Yosemite')]"
      ]
     },
     "execution_count": 24,
     "metadata": {},
     "output_type": "execute_result"
    }
   ],
   "source": [
    "splitter.create_documents([markdown_text])"
   ]
  },
  {
   "cell_type": "markdown",
   "id": "56591620-ef0c-41c2-b539-35ad676ed20f",
   "metadata": {},
   "source": [
    "Notice how the splits gravitate towards markdown sections. However, it's still not perfect. Check out how there is a chunk with just \"there\" in it. You'll run into this at low-sized chunks.\n",
    "\n",
    "### Python\n",
    "\n",
    "See the python splitters [here](https://github.com/langchain-ai/langchain/blob/9ef2feb6747f5a69d186bd623b569ad722829a5e/libs/langchain/langchain/text_splitter.py#L1069)\n",
    "\n",
    "* `\\nclass` - Classes first\n",
    "* `\\ndef` - Functions next\n",
    "* `\\n\\tdef` - Indented functions\n",
    "* `\\n\\n` - Double New lines\n",
    "* `\\n` - New Lines\n",
    "* `\" \"` - Spaces\n",
    "* `\"\"` - Characters\n",
    "\n",
    "\n",
    "Let's load up our splitter"
   ]
  },
  {
   "cell_type": "code",
   "execution_count": 25,
   "id": "66edcde5-1e96-4b61-8636-8129d31d7850",
   "metadata": {},
   "outputs": [],
   "source": [
    "from langchain.text_splitter import PythonCodeTextSplitter"
   ]
  },
  {
   "cell_type": "code",
   "execution_count": 26,
   "id": "2afa8f93-6b07-484f-86ff-9836f5a5fae1",
   "metadata": {},
   "outputs": [],
   "source": [
    "python_text = \"\"\"\n",
    "class Person:\n",
    "  def __init__(self, name, age):\n",
    "    self.name = name\n",
    "    self.age = age\n",
    "\n",
    "p1 = Person(\"John\", 36)\n",
    "\n",
    "for i in range(10):\n",
    "    print (i)\n",
    "\"\"\""
   ]
  },
  {
   "cell_type": "code",
   "execution_count": 27,
   "id": "6e8fcc85-714d-4b5c-a5ce-a3f30cfb447b",
   "metadata": {},
   "outputs": [],
   "source": [
    "python_splitter = PythonCodeTextSplitter(chunk_size=100, chunk_overlap=0)"
   ]
  },
  {
   "cell_type": "code",
   "execution_count": 28,
   "id": "a7b6dd89-6bb9-496a-a85d-3f1871ff9cd0",
   "metadata": {},
   "outputs": [
    {
     "data": {
      "text/plain": [
       "[Document(page_content='class Person:\\n  def __init__(self, name, age):\\n    self.name = name\\n    self.age = age'),\n",
       " Document(page_content='p1 = Person(\"John\", 36)\\n\\nfor i in range(10):\\n    print (i)')]"
      ]
     },
     "execution_count": 28,
     "metadata": {},
     "output_type": "execute_result"
    }
   ],
   "source": [
    "python_splitter.create_documents([python_text])"
   ]
  },
  {
   "cell_type": "markdown",
   "id": "6c004f19-9e67-451e-abdd-b103acce2996",
   "metadata": {},
   "source": [
    "Check out how the class stays together in a single document (good), then the rest of the code is in a second document (ok).\n",
    "\n",
    "I needed to play with the chunk size to get a clean result like that. You'll likely need to do the same for yours which is why using evaluations to determine optimal chunk sizes is crucial.\n",
    "\n",
    "### JS\n",
    "\n",
    "Very similar to python. See the separators [here](https://github.com/langchain-ai/langchain/blob/9ef2feb6747f5a69d186bd623b569ad722829a5e/libs/langchain/langchain/text_splitter.py#L983).\n",
    "\n",
    "Separators:\n",
    "* `\\nfunction` - Indicates the beginning of a function declaration\n",
    "* `\\nconst` - Used for declaring constant variables\n",
    "* `\\nlet` - Used for declaring block-scoped variables\n",
    "* `\\nvar` - Used for declaring a variable\n",
    "* `\\nclass` - Indicates the start of a class definition\n",
    "* `\\nif` - Indicates the beginning of an if statement\n",
    "* `\\nfor` - Used for for-loops\n",
    "* `\\nwhile` - Used for while-loops\n",
    "* `\\nswitch` - Used for switch statements\n",
    "* `\\ncase` - Used within switch statements\n",
    "* `\\ndefault` - Also used within switch statements\n",
    "* `\\n\\n` - Indicates a larger separation in text or code\n",
    "* `\\n` - Separates lines of code or text\n",
    "* `\" \"` - Separates words or tokens in the code\n",
    "* `\"\"` - Makes every character a separate element"
   ]
  },
  {
   "cell_type": "code",
   "execution_count": 29,
   "id": "a5225b66-4d79-455b-92a1-841fa23ccc4f",
   "metadata": {},
   "outputs": [],
   "source": [
    "from langchain.text_splitter import RecursiveCharacterTextSplitter, Language"
   ]
  },
  {
   "cell_type": "code",
   "execution_count": 30,
   "id": "d75090fa-4d22-4348-8452-eb50eafa784d",
   "metadata": {},
   "outputs": [],
   "source": [
    "javascript_text = \"\"\"\n",
    "// Function is called, the return value will end up in x\n",
    "let x = myFunction(4, 3);\n",
    "\n",
    "function myFunction(a, b) {\n",
    "// Function returns the product of a and b\n",
    "  return a * b;\n",
    "}\n",
    "\"\"\""
   ]
  },
  {
   "cell_type": "code",
   "execution_count": 31,
   "id": "909fde28-43ba-4f07-b9ae-04c21db04055",
   "metadata": {},
   "outputs": [],
   "source": [
    "js_splitter = RecursiveCharacterTextSplitter.from_language(\n",
    "    language=Language.JS, chunk_size=65, chunk_overlap=0\n",
    ")"
   ]
  },
  {
   "cell_type": "code",
   "execution_count": 32,
   "id": "5b70d936-bc31-4ecc-b190-6dd8fffdacb9",
   "metadata": {},
   "outputs": [
    {
     "data": {
      "text/plain": [
       "[Document(page_content='// Function is called, the return value will end up in x'),\n",
       " Document(page_content='let x = myFunction(4, 3);'),\n",
       " Document(page_content='function myFunction(a, b) {'),\n",
       " Document(page_content='// Function returns the product of a and b\\n  return a * b;\\n}')]"
      ]
     },
     "execution_count": 32,
     "metadata": {},
     "output_type": "execute_result"
    }
   ],
   "source": [
    "js_splitter.create_documents([javascript_text])"
   ]
  },
  {
   "cell_type": "markdown",
   "id": "8fab2014-e705-4ade-87ea-d967a9c01593",
   "metadata": {},
   "source": [
    "### PDFs w/ tables\n",
    "\n",
    "Ok now things will get a bit spicier.\n",
    "\n",
    "PDFs are an extremely common data type for language model work. Often they'll contain tables that contain information.\n",
    "\n",
    "This could be financial data, studies, academic papers, etc.\n",
    "\n",
    "Trying to split tables by a character based separator isn't reliable. We need to try out a different method. For a deep dive on this I recommend checking out [Lance Martin's](https://twitter.com/RLanceMartin) [tutorial](https://twitter.com/RLanceMartin/status/1721942636364456336) w/ LangChain.\n",
    "\n",
    "I'll be going through a text based methods. [Mayo](https://twitter.com/mayowaoshin) has also outlined a GPT-4V method which tries to pulls tables via vision rather than text. You can check out [here](https://twitter.com/mayowaoshin/status/1727399231734886633).\n",
    "\n",
    "A very convenient way to do this is with [Unstructured](https://unstructured.io/), a library dedicated to making your data LLM ready."
   ]
  },
  {
   "cell_type": "markdown",
   "id": "b112aef6",
   "metadata": {},
   "source": [
    "`pip install pdf2image`\n",
    "\n",
    "`pip install pdfminer.six`\n",
    "\n",
    "`pip install pillow-heif`"
   ]
  },
  {
   "cell_type": "code",
   "execution_count": 9,
   "id": "ffd078d0-5651-4ab0-b299-b2ed5a4f7cef",
   "metadata": {},
   "outputs": [],
   "source": [
    "import os\n",
    "from unstructured.partition.pdf import partition_pdf\n",
    "from unstructured.staging.base import elements_to_json"
   ]
  },
  {
   "cell_type": "markdown",
   "id": "b174a72b-0d43-4440-9ef8-f5f3aed0c651",
   "metadata": {},
   "source": [
    "Let's load up our PDF and then parition it. This is a PDF from a [Salesforce earning report](https://investor.salesforce.com/financials/default.aspx)."
   ]
  },
  {
   "cell_type": "markdown",
   "id": "03ecf1b8",
   "metadata": {},
   "source": [
    "`pip install pikepdf pypdf`\n",
    "\n",
    "`brew install poppler`\n",
    "\n",
    "`pip install \"unstructured[local-inference]\"`\n",
    "\n",
    "`pip install unstructured-inference`\n",
    "\n",
    "`pip3 install unstructured-pytesseract`\n",
    "\n"
   ]
  },
  {
   "cell_type": "code",
   "execution_count": 16,
   "id": "2ae9042d-be6f-411a-8835-bda30ffa0805",
   "metadata": {},
   "outputs": [
    {
     "ename": "AttributeError",
     "evalue": "'PageLayout' object has no attribute 'get_elements_from_layout'",
     "output_type": "error",
     "traceback": [
      "\u001b[0;31m---------------------------------------------------------------------------\u001b[0m",
      "\u001b[0;31mAttributeError\u001b[0m                            Traceback (most recent call last)",
      "Cell \u001b[0;32mIn[16], line 5\u001b[0m\n\u001b[1;32m      2\u001b[0m filename \u001b[38;5;241m=\u001b[39m \u001b[38;5;124m\"\u001b[39m\u001b[38;5;124m../../../other_files/salesforce-fy24-annual-report.pdf\u001b[39m\u001b[38;5;124m\"\u001b[39m\n\u001b[1;32m      4\u001b[0m \u001b[38;5;66;03m# Extracts the elements from the PDF\u001b[39;00m\n\u001b[0;32m----> 5\u001b[0m elements \u001b[38;5;241m=\u001b[39m \u001b[43mpartition_pdf\u001b[49m\u001b[43m(\u001b[49m\n\u001b[1;32m      6\u001b[0m \u001b[43m    \u001b[49m\u001b[43mfilename\u001b[49m\u001b[38;5;241;43m=\u001b[39;49m\u001b[43mfilename\u001b[49m\u001b[43m,\u001b[49m\n\u001b[1;32m      7\u001b[0m \n\u001b[1;32m      8\u001b[0m \u001b[43m    \u001b[49m\u001b[38;5;66;43;03m# Unstructured Helpers\u001b[39;49;00m\n\u001b[1;32m      9\u001b[0m \u001b[43m    \u001b[49m\u001b[43mstrategy\u001b[49m\u001b[38;5;241;43m=\u001b[39;49m\u001b[38;5;124;43m\"\u001b[39;49m\u001b[38;5;124;43mhi_res\u001b[39;49m\u001b[38;5;124;43m\"\u001b[39;49m\u001b[43m,\u001b[49m\u001b[43m \u001b[49m\n\u001b[1;32m     10\u001b[0m \u001b[43m    \u001b[49m\u001b[43minfer_table_structure\u001b[49m\u001b[38;5;241;43m=\u001b[39;49m\u001b[38;5;28;43;01mTrue\u001b[39;49;00m\u001b[43m,\u001b[49m\u001b[43m \u001b[49m\n\u001b[1;32m     11\u001b[0m \u001b[43m    \u001b[49m\u001b[43mmodel_name\u001b[49m\u001b[38;5;241;43m=\u001b[39;49m\u001b[38;5;124;43m\"\u001b[39;49m\u001b[38;5;124;43myolox\u001b[39;49m\u001b[38;5;124;43m\"\u001b[39;49m\n\u001b[1;32m     12\u001b[0m \u001b[43m)\u001b[49m\n",
      "File \u001b[0;32m~/miniconda3/envs/langchain/lib/python3.10/site-packages/unstructured/documents/elements.py:526\u001b[0m, in \u001b[0;36mprocess_metadata.<locals>.decorator.<locals>.wrapper\u001b[0;34m(*args, **kwargs)\u001b[0m\n\u001b[1;32m    524\u001b[0m \u001b[38;5;129m@functools\u001b[39m\u001b[38;5;241m.\u001b[39mwraps(func)\n\u001b[1;32m    525\u001b[0m \u001b[38;5;28;01mdef\u001b[39;00m \u001b[38;5;21mwrapper\u001b[39m(\u001b[38;5;241m*\u001b[39margs: _P\u001b[38;5;241m.\u001b[39margs, \u001b[38;5;241m*\u001b[39m\u001b[38;5;241m*\u001b[39mkwargs: _P\u001b[38;5;241m.\u001b[39mkwargs) \u001b[38;5;241m-\u001b[39m\u001b[38;5;241m>\u001b[39m List[Element]:\n\u001b[0;32m--> 526\u001b[0m     elements \u001b[38;5;241m=\u001b[39m \u001b[43mfunc\u001b[49m\u001b[43m(\u001b[49m\u001b[38;5;241;43m*\u001b[39;49m\u001b[43margs\u001b[49m\u001b[43m,\u001b[49m\u001b[43m \u001b[49m\u001b[38;5;241;43m*\u001b[39;49m\u001b[38;5;241;43m*\u001b[39;49m\u001b[43mkwargs\u001b[49m\u001b[43m)\u001b[49m\n\u001b[1;32m    527\u001b[0m     sig \u001b[38;5;241m=\u001b[39m inspect\u001b[38;5;241m.\u001b[39msignature(func)\n\u001b[1;32m    528\u001b[0m     params: Dict[\u001b[38;5;28mstr\u001b[39m, Any] \u001b[38;5;241m=\u001b[39m \u001b[38;5;28mdict\u001b[39m(\u001b[38;5;241m*\u001b[39m\u001b[38;5;241m*\u001b[39m\u001b[38;5;28mdict\u001b[39m(\u001b[38;5;28mzip\u001b[39m(sig\u001b[38;5;241m.\u001b[39mparameters, args)), \u001b[38;5;241m*\u001b[39m\u001b[38;5;241m*\u001b[39mkwargs)\n",
      "File \u001b[0;32m~/miniconda3/envs/langchain/lib/python3.10/site-packages/unstructured/file_utils/filetype.py:622\u001b[0m, in \u001b[0;36madd_filetype.<locals>.decorator.<locals>.wrapper\u001b[0;34m(*args, **kwargs)\u001b[0m\n\u001b[1;32m    620\u001b[0m \u001b[38;5;129m@functools\u001b[39m\u001b[38;5;241m.\u001b[39mwraps(func)\n\u001b[1;32m    621\u001b[0m \u001b[38;5;28;01mdef\u001b[39;00m \u001b[38;5;21mwrapper\u001b[39m(\u001b[38;5;241m*\u001b[39margs: _P\u001b[38;5;241m.\u001b[39margs, \u001b[38;5;241m*\u001b[39m\u001b[38;5;241m*\u001b[39mkwargs: _P\u001b[38;5;241m.\u001b[39mkwargs) \u001b[38;5;241m-\u001b[39m\u001b[38;5;241m>\u001b[39m List[Element]:\n\u001b[0;32m--> 622\u001b[0m     elements \u001b[38;5;241m=\u001b[39m \u001b[43mfunc\u001b[49m\u001b[43m(\u001b[49m\u001b[38;5;241;43m*\u001b[39;49m\u001b[43margs\u001b[49m\u001b[43m,\u001b[49m\u001b[43m \u001b[49m\u001b[38;5;241;43m*\u001b[39;49m\u001b[38;5;241;43m*\u001b[39;49m\u001b[43mkwargs\u001b[49m\u001b[43m)\u001b[49m\n\u001b[1;32m    623\u001b[0m     sig \u001b[38;5;241m=\u001b[39m inspect\u001b[38;5;241m.\u001b[39msignature(func)\n\u001b[1;32m    624\u001b[0m     params: Dict[\u001b[38;5;28mstr\u001b[39m, Any] \u001b[38;5;241m=\u001b[39m \u001b[38;5;28mdict\u001b[39m(\u001b[38;5;241m*\u001b[39m\u001b[38;5;241m*\u001b[39m\u001b[38;5;28mdict\u001b[39m(\u001b[38;5;28mzip\u001b[39m(sig\u001b[38;5;241m.\u001b[39mparameters, args)), \u001b[38;5;241m*\u001b[39m\u001b[38;5;241m*\u001b[39mkwargs)\n",
      "File \u001b[0;32m~/miniconda3/envs/langchain/lib/python3.10/site-packages/unstructured/file_utils/filetype.py:582\u001b[0m, in \u001b[0;36madd_metadata.<locals>.wrapper\u001b[0;34m(*args, **kwargs)\u001b[0m\n\u001b[1;32m    580\u001b[0m \u001b[38;5;129m@functools\u001b[39m\u001b[38;5;241m.\u001b[39mwraps(func)\n\u001b[1;32m    581\u001b[0m \u001b[38;5;28;01mdef\u001b[39;00m \u001b[38;5;21mwrapper\u001b[39m(\u001b[38;5;241m*\u001b[39margs: _P\u001b[38;5;241m.\u001b[39margs, \u001b[38;5;241m*\u001b[39m\u001b[38;5;241m*\u001b[39mkwargs: _P\u001b[38;5;241m.\u001b[39mkwargs) \u001b[38;5;241m-\u001b[39m\u001b[38;5;241m>\u001b[39m List[Element]:\n\u001b[0;32m--> 582\u001b[0m     elements \u001b[38;5;241m=\u001b[39m \u001b[43mfunc\u001b[49m\u001b[43m(\u001b[49m\u001b[38;5;241;43m*\u001b[39;49m\u001b[43margs\u001b[49m\u001b[43m,\u001b[49m\u001b[43m \u001b[49m\u001b[38;5;241;43m*\u001b[39;49m\u001b[38;5;241;43m*\u001b[39;49m\u001b[43mkwargs\u001b[49m\u001b[43m)\u001b[49m\n\u001b[1;32m    583\u001b[0m     sig \u001b[38;5;241m=\u001b[39m inspect\u001b[38;5;241m.\u001b[39msignature(func)\n\u001b[1;32m    584\u001b[0m     params: Dict[\u001b[38;5;28mstr\u001b[39m, Any] \u001b[38;5;241m=\u001b[39m \u001b[38;5;28mdict\u001b[39m(\u001b[38;5;241m*\u001b[39m\u001b[38;5;241m*\u001b[39m\u001b[38;5;28mdict\u001b[39m(\u001b[38;5;28mzip\u001b[39m(sig\u001b[38;5;241m.\u001b[39mparameters, args)), \u001b[38;5;241m*\u001b[39m\u001b[38;5;241m*\u001b[39mkwargs)\n",
      "File \u001b[0;32m~/miniconda3/envs/langchain/lib/python3.10/site-packages/unstructured/chunking/dispatch.py:83\u001b[0m, in \u001b[0;36madd_chunking_strategy.<locals>.wrapper\u001b[0;34m(*args, **kwargs)\u001b[0m\n\u001b[1;32m     80\u001b[0m     \u001b[38;5;28;01mreturn\u001b[39;00m call_args\n\u001b[1;32m     82\u001b[0m \u001b[38;5;66;03m# -- call the partitioning function to get the elements --\u001b[39;00m\n\u001b[0;32m---> 83\u001b[0m elements \u001b[38;5;241m=\u001b[39m \u001b[43mfunc\u001b[49m\u001b[43m(\u001b[49m\u001b[38;5;241;43m*\u001b[39;49m\u001b[43margs\u001b[49m\u001b[43m,\u001b[49m\u001b[43m \u001b[49m\u001b[38;5;241;43m*\u001b[39;49m\u001b[38;5;241;43m*\u001b[39;49m\u001b[43mkwargs\u001b[49m\u001b[43m)\u001b[49m\n\u001b[1;32m     85\u001b[0m \u001b[38;5;66;03m# -- look for a chunking-strategy argument --\u001b[39;00m\n\u001b[1;32m     86\u001b[0m call_args \u001b[38;5;241m=\u001b[39m get_call_args_applying_defaults()\n",
      "File \u001b[0;32m~/miniconda3/envs/langchain/lib/python3.10/site-packages/unstructured/partition/pdf.py:213\u001b[0m, in \u001b[0;36mpartition_pdf\u001b[0;34m(filename, file, include_page_breaks, strategy, infer_table_structure, ocr_languages, languages, include_metadata, metadata_filename, metadata_last_modified, chunking_strategy, links, hi_res_model_name, extract_images_in_pdf, extract_image_block_types, extract_image_block_output_dir, extract_image_block_to_payload, **kwargs)\u001b[0m\n\u001b[1;32m    209\u001b[0m exactly_one(filename\u001b[38;5;241m=\u001b[39mfilename, file\u001b[38;5;241m=\u001b[39mfile)\n\u001b[1;32m    211\u001b[0m languages \u001b[38;5;241m=\u001b[39m check_language_args(languages \u001b[38;5;129;01mor\u001b[39;00m [], ocr_languages) \u001b[38;5;129;01mor\u001b[39;00m [\u001b[38;5;124m\"\u001b[39m\u001b[38;5;124meng\u001b[39m\u001b[38;5;124m\"\u001b[39m]\n\u001b[0;32m--> 213\u001b[0m \u001b[38;5;28;01mreturn\u001b[39;00m \u001b[43mpartition_pdf_or_image\u001b[49m\u001b[43m(\u001b[49m\n\u001b[1;32m    214\u001b[0m \u001b[43m    \u001b[49m\u001b[43mfilename\u001b[49m\u001b[38;5;241;43m=\u001b[39;49m\u001b[43mfilename\u001b[49m\u001b[43m,\u001b[49m\n\u001b[1;32m    215\u001b[0m \u001b[43m    \u001b[49m\u001b[43mfile\u001b[49m\u001b[38;5;241;43m=\u001b[39;49m\u001b[43mfile\u001b[49m\u001b[43m,\u001b[49m\n\u001b[1;32m    216\u001b[0m \u001b[43m    \u001b[49m\u001b[43minclude_page_breaks\u001b[49m\u001b[38;5;241;43m=\u001b[39;49m\u001b[43minclude_page_breaks\u001b[49m\u001b[43m,\u001b[49m\n\u001b[1;32m    217\u001b[0m \u001b[43m    \u001b[49m\u001b[43mstrategy\u001b[49m\u001b[38;5;241;43m=\u001b[39;49m\u001b[43mstrategy\u001b[49m\u001b[43m,\u001b[49m\n\u001b[1;32m    218\u001b[0m \u001b[43m    \u001b[49m\u001b[43minfer_table_structure\u001b[49m\u001b[38;5;241;43m=\u001b[39;49m\u001b[43minfer_table_structure\u001b[49m\u001b[43m,\u001b[49m\n\u001b[1;32m    219\u001b[0m \u001b[43m    \u001b[49m\u001b[43mlanguages\u001b[49m\u001b[38;5;241;43m=\u001b[39;49m\u001b[43mlanguages\u001b[49m\u001b[43m,\u001b[49m\n\u001b[1;32m    220\u001b[0m \u001b[43m    \u001b[49m\u001b[43mmetadata_last_modified\u001b[49m\u001b[38;5;241;43m=\u001b[39;49m\u001b[43mmetadata_last_modified\u001b[49m\u001b[43m,\u001b[49m\n\u001b[1;32m    221\u001b[0m \u001b[43m    \u001b[49m\u001b[43mhi_res_model_name\u001b[49m\u001b[38;5;241;43m=\u001b[39;49m\u001b[43mhi_res_model_name\u001b[49m\u001b[43m,\u001b[49m\n\u001b[1;32m    222\u001b[0m \u001b[43m    \u001b[49m\u001b[43mextract_images_in_pdf\u001b[49m\u001b[38;5;241;43m=\u001b[39;49m\u001b[43mextract_images_in_pdf\u001b[49m\u001b[43m,\u001b[49m\n\u001b[1;32m    223\u001b[0m \u001b[43m    \u001b[49m\u001b[43mextract_image_block_types\u001b[49m\u001b[38;5;241;43m=\u001b[39;49m\u001b[43mextract_image_block_types\u001b[49m\u001b[43m,\u001b[49m\n\u001b[1;32m    224\u001b[0m \u001b[43m    \u001b[49m\u001b[43mextract_image_block_output_dir\u001b[49m\u001b[38;5;241;43m=\u001b[39;49m\u001b[43mextract_image_block_output_dir\u001b[49m\u001b[43m,\u001b[49m\n\u001b[1;32m    225\u001b[0m \u001b[43m    \u001b[49m\u001b[43mextract_image_block_to_payload\u001b[49m\u001b[38;5;241;43m=\u001b[39;49m\u001b[43mextract_image_block_to_payload\u001b[49m\u001b[43m,\u001b[49m\n\u001b[1;32m    226\u001b[0m \u001b[43m    \u001b[49m\u001b[38;5;241;43m*\u001b[39;49m\u001b[38;5;241;43m*\u001b[39;49m\u001b[43mkwargs\u001b[49m\u001b[43m,\u001b[49m\n\u001b[1;32m    227\u001b[0m \u001b[43m\u001b[49m\u001b[43m)\u001b[49m\n",
      "File \u001b[0;32m~/miniconda3/envs/langchain/lib/python3.10/site-packages/unstructured/partition/pdf.py:298\u001b[0m, in \u001b[0;36mpartition_pdf_or_image\u001b[0;34m(filename, file, is_image, include_page_breaks, strategy, infer_table_structure, ocr_languages, languages, metadata_last_modified, hi_res_model_name, extract_images_in_pdf, extract_image_block_types, extract_image_block_output_dir, extract_image_block_to_payload, **kwargs)\u001b[0m\n\u001b[1;32m    296\u001b[0m     \u001b[38;5;28;01mwith\u001b[39;00m warnings\u001b[38;5;241m.\u001b[39mcatch_warnings():\n\u001b[1;32m    297\u001b[0m         warnings\u001b[38;5;241m.\u001b[39msimplefilter(\u001b[38;5;124m\"\u001b[39m\u001b[38;5;124mignore\u001b[39m\u001b[38;5;124m\"\u001b[39m)\n\u001b[0;32m--> 298\u001b[0m         elements \u001b[38;5;241m=\u001b[39m \u001b[43m_partition_pdf_or_image_local\u001b[49m\u001b[43m(\u001b[49m\n\u001b[1;32m    299\u001b[0m \u001b[43m            \u001b[49m\u001b[43mfilename\u001b[49m\u001b[38;5;241;43m=\u001b[39;49m\u001b[43mfilename\u001b[49m\u001b[43m,\u001b[49m\n\u001b[1;32m    300\u001b[0m \u001b[43m            \u001b[49m\u001b[43mfile\u001b[49m\u001b[38;5;241;43m=\u001b[39;49m\u001b[43mspooled_to_bytes_io_if_needed\u001b[49m\u001b[43m(\u001b[49m\u001b[43mfile\u001b[49m\u001b[43m)\u001b[49m\u001b[43m,\u001b[49m\n\u001b[1;32m    301\u001b[0m \u001b[43m            \u001b[49m\u001b[43mis_image\u001b[49m\u001b[38;5;241;43m=\u001b[39;49m\u001b[43mis_image\u001b[49m\u001b[43m,\u001b[49m\n\u001b[1;32m    302\u001b[0m \u001b[43m            \u001b[49m\u001b[43minfer_table_structure\u001b[49m\u001b[38;5;241;43m=\u001b[39;49m\u001b[43minfer_table_structure\u001b[49m\u001b[43m,\u001b[49m\n\u001b[1;32m    303\u001b[0m \u001b[43m            \u001b[49m\u001b[43minclude_page_breaks\u001b[49m\u001b[38;5;241;43m=\u001b[39;49m\u001b[43minclude_page_breaks\u001b[49m\u001b[43m,\u001b[49m\n\u001b[1;32m    304\u001b[0m \u001b[43m            \u001b[49m\u001b[43mlanguages\u001b[49m\u001b[38;5;241;43m=\u001b[39;49m\u001b[43mlanguages\u001b[49m\u001b[43m,\u001b[49m\n\u001b[1;32m    305\u001b[0m \u001b[43m            \u001b[49m\u001b[43mmetadata_last_modified\u001b[49m\u001b[38;5;241;43m=\u001b[39;49m\u001b[43mmetadata_last_modified\u001b[49m\u001b[43m \u001b[49m\u001b[38;5;129;43;01mor\u001b[39;49;00m\u001b[43m \u001b[49m\u001b[43mlast_modification_date\u001b[49m\u001b[43m,\u001b[49m\n\u001b[1;32m    306\u001b[0m \u001b[43m            \u001b[49m\u001b[43mhi_res_model_name\u001b[49m\u001b[38;5;241;43m=\u001b[39;49m\u001b[43mhi_res_model_name\u001b[49m\u001b[43m,\u001b[49m\n\u001b[1;32m    307\u001b[0m \u001b[43m            \u001b[49m\u001b[43mpdf_text_extractable\u001b[49m\u001b[38;5;241;43m=\u001b[39;49m\u001b[43mpdf_text_extractable\u001b[49m\u001b[43m,\u001b[49m\n\u001b[1;32m    308\u001b[0m \u001b[43m            \u001b[49m\u001b[43mextract_images_in_pdf\u001b[49m\u001b[38;5;241;43m=\u001b[39;49m\u001b[43mextract_images_in_pdf\u001b[49m\u001b[43m,\u001b[49m\n\u001b[1;32m    309\u001b[0m \u001b[43m            \u001b[49m\u001b[43mextract_image_block_types\u001b[49m\u001b[38;5;241;43m=\u001b[39;49m\u001b[43mextract_image_block_types\u001b[49m\u001b[43m,\u001b[49m\n\u001b[1;32m    310\u001b[0m \u001b[43m            \u001b[49m\u001b[43mextract_image_block_output_dir\u001b[49m\u001b[38;5;241;43m=\u001b[39;49m\u001b[43mextract_image_block_output_dir\u001b[49m\u001b[43m,\u001b[49m\n\u001b[1;32m    311\u001b[0m \u001b[43m            \u001b[49m\u001b[43mextract_image_block_to_payload\u001b[49m\u001b[38;5;241;43m=\u001b[39;49m\u001b[43mextract_image_block_to_payload\u001b[49m\u001b[43m,\u001b[49m\n\u001b[1;32m    312\u001b[0m \u001b[43m            \u001b[49m\u001b[38;5;241;43m*\u001b[39;49m\u001b[38;5;241;43m*\u001b[39;49m\u001b[43mkwargs\u001b[49m\u001b[43m,\u001b[49m\n\u001b[1;32m    313\u001b[0m \u001b[43m        \u001b[49m\u001b[43m)\u001b[49m\n\u001b[1;32m    314\u001b[0m         out_elements \u001b[38;5;241m=\u001b[39m _process_uncategorized_text_elements(elements)\n\u001b[1;32m    316\u001b[0m \u001b[38;5;28;01melif\u001b[39;00m strategy \u001b[38;5;241m==\u001b[39m PartitionStrategy\u001b[38;5;241m.\u001b[39mFAST:\n",
      "File \u001b[0;32m~/miniconda3/envs/langchain/lib/python3.10/site-packages/unstructured/utils.py:219\u001b[0m, in \u001b[0;36mrequires_dependencies.<locals>.decorator.<locals>.wrapper\u001b[0;34m(*args, **kwargs)\u001b[0m\n\u001b[1;32m    210\u001b[0m \u001b[38;5;28;01mif\u001b[39;00m \u001b[38;5;28mlen\u001b[39m(missing_deps) \u001b[38;5;241m>\u001b[39m \u001b[38;5;241m0\u001b[39m:\n\u001b[1;32m    211\u001b[0m     \u001b[38;5;28;01mraise\u001b[39;00m \u001b[38;5;167;01mImportError\u001b[39;00m(\n\u001b[1;32m    212\u001b[0m         \u001b[38;5;124mf\u001b[39m\u001b[38;5;124m\"\u001b[39m\u001b[38;5;124mFollowing dependencies are missing: \u001b[39m\u001b[38;5;132;01m{\u001b[39;00m\u001b[38;5;124m'\u001b[39m\u001b[38;5;124m, \u001b[39m\u001b[38;5;124m'\u001b[39m\u001b[38;5;241m.\u001b[39mjoin(missing_deps)\u001b[38;5;132;01m}\u001b[39;00m\u001b[38;5;124m. \u001b[39m\u001b[38;5;124m\"\u001b[39m\n\u001b[1;32m    213\u001b[0m         \u001b[38;5;241m+\u001b[39m (\n\u001b[0;32m   (...)\u001b[0m\n\u001b[1;32m    217\u001b[0m         ),\n\u001b[1;32m    218\u001b[0m     )\n\u001b[0;32m--> 219\u001b[0m \u001b[38;5;28;01mreturn\u001b[39;00m \u001b[43mfunc\u001b[49m\u001b[43m(\u001b[49m\u001b[38;5;241;43m*\u001b[39;49m\u001b[43margs\u001b[49m\u001b[43m,\u001b[49m\u001b[43m \u001b[49m\u001b[38;5;241;43m*\u001b[39;49m\u001b[38;5;241;43m*\u001b[39;49m\u001b[43mkwargs\u001b[49m\u001b[43m)\u001b[49m\n",
      "File \u001b[0;32m~/miniconda3/envs/langchain/lib/python3.10/site-packages/unstructured/partition/pdf.py:449\u001b[0m, in \u001b[0;36m_partition_pdf_or_image_local\u001b[0;34m(filename, file, is_image, infer_table_structure, include_page_breaks, languages, ocr_mode, model_name, hi_res_model_name, pdf_image_dpi, metadata_last_modified, pdf_text_extractable, extract_images_in_pdf, extract_image_block_types, extract_image_block_output_dir, extract_image_block_to_payload, analysis, analyzed_image_output_dir_path, **kwargs)\u001b[0m\n\u001b[1;32m    439\u001b[0m             annotate_layout_elements(\n\u001b[1;32m    440\u001b[0m                 inferred_document_layout\u001b[38;5;241m=\u001b[39minferred_document_layout,\n\u001b[1;32m    441\u001b[0m                 extracted_layout\u001b[38;5;241m=\u001b[39mextracted_layout,\n\u001b[0;32m   (...)\u001b[0m\n\u001b[1;32m    445\u001b[0m                 is_image\u001b[38;5;241m=\u001b[39mis_image,\n\u001b[1;32m    446\u001b[0m             )\n\u001b[1;32m    448\u001b[0m         \u001b[38;5;66;03m# NOTE(christine): merged_document_layout = extracted_layout + inferred_layout\u001b[39;00m\n\u001b[0;32m--> 449\u001b[0m         merged_document_layout \u001b[38;5;241m=\u001b[39m \u001b[43mmerge_inferred_with_extracted_layout\u001b[49m\u001b[43m(\u001b[49m\n\u001b[1;32m    450\u001b[0m \u001b[43m            \u001b[49m\u001b[43minferred_document_layout\u001b[49m\u001b[38;5;241;43m=\u001b[39;49m\u001b[43minferred_document_layout\u001b[49m\u001b[43m,\u001b[49m\n\u001b[1;32m    451\u001b[0m \u001b[43m            \u001b[49m\u001b[43mextracted_layout\u001b[49m\u001b[38;5;241;43m=\u001b[39;49m\u001b[43mextracted_layout\u001b[49m\u001b[43m,\u001b[49m\n\u001b[1;32m    452\u001b[0m \u001b[43m        \u001b[49m\u001b[43m)\u001b[49m\n\u001b[1;32m    454\u001b[0m         final_document_layout \u001b[38;5;241m=\u001b[39m process_file_with_ocr(\n\u001b[1;32m    455\u001b[0m             filename,\n\u001b[1;32m    456\u001b[0m             merged_document_layout,\n\u001b[0;32m   (...)\u001b[0m\n\u001b[1;32m    462\u001b[0m             pdf_image_dpi\u001b[38;5;241m=\u001b[39mpdf_image_dpi,\n\u001b[1;32m    463\u001b[0m         )\n\u001b[1;32m    464\u001b[0m \u001b[38;5;28;01melse\u001b[39;00m:\n",
      "File \u001b[0;32m~/miniconda3/envs/langchain/lib/python3.10/site-packages/unstructured/utils.py:219\u001b[0m, in \u001b[0;36mrequires_dependencies.<locals>.decorator.<locals>.wrapper\u001b[0;34m(*args, **kwargs)\u001b[0m\n\u001b[1;32m    210\u001b[0m \u001b[38;5;28;01mif\u001b[39;00m \u001b[38;5;28mlen\u001b[39m(missing_deps) \u001b[38;5;241m>\u001b[39m \u001b[38;5;241m0\u001b[39m:\n\u001b[1;32m    211\u001b[0m     \u001b[38;5;28;01mraise\u001b[39;00m \u001b[38;5;167;01mImportError\u001b[39;00m(\n\u001b[1;32m    212\u001b[0m         \u001b[38;5;124mf\u001b[39m\u001b[38;5;124m\"\u001b[39m\u001b[38;5;124mFollowing dependencies are missing: \u001b[39m\u001b[38;5;132;01m{\u001b[39;00m\u001b[38;5;124m'\u001b[39m\u001b[38;5;124m, \u001b[39m\u001b[38;5;124m'\u001b[39m\u001b[38;5;241m.\u001b[39mjoin(missing_deps)\u001b[38;5;132;01m}\u001b[39;00m\u001b[38;5;124m. \u001b[39m\u001b[38;5;124m\"\u001b[39m\n\u001b[1;32m    213\u001b[0m         \u001b[38;5;241m+\u001b[39m (\n\u001b[0;32m   (...)\u001b[0m\n\u001b[1;32m    217\u001b[0m         ),\n\u001b[1;32m    218\u001b[0m     )\n\u001b[0;32m--> 219\u001b[0m \u001b[38;5;28;01mreturn\u001b[39;00m \u001b[43mfunc\u001b[49m\u001b[43m(\u001b[49m\u001b[38;5;241;43m*\u001b[39;49m\u001b[43margs\u001b[49m\u001b[43m,\u001b[49m\u001b[43m \u001b[49m\u001b[38;5;241;43m*\u001b[39;49m\u001b[38;5;241;43m*\u001b[39;49m\u001b[43mkwargs\u001b[49m\u001b[43m)\u001b[49m\n",
      "File \u001b[0;32m~/miniconda3/envs/langchain/lib/python3.10/site-packages/unstructured/partition/pdf_image/pdfminer_processing.py:129\u001b[0m, in \u001b[0;36mmerge_inferred_with_extracted_layout\u001b[0;34m(inferred_document_layout, extracted_layout)\u001b[0m\n\u001b[1;32m    120\u001b[0m         threshold_kwargs \u001b[38;5;241m=\u001b[39m {\u001b[38;5;124m\"\u001b[39m\u001b[38;5;124msame_region_threshold\u001b[39m\u001b[38;5;124m\"\u001b[39m: \u001b[38;5;241m0.5\u001b[39m, \u001b[38;5;124m\"\u001b[39m\u001b[38;5;124msubregion_threshold\u001b[39m\u001b[38;5;124m\"\u001b[39m: \u001b[38;5;241m0.5\u001b[39m}\n\u001b[1;32m    122\u001b[0m     merged_layout \u001b[38;5;241m=\u001b[39m merge_inferred_with_extracted_page(\n\u001b[1;32m    123\u001b[0m         inferred_layout\u001b[38;5;241m=\u001b[39minferred_layout,\n\u001b[1;32m    124\u001b[0m         extracted_layout\u001b[38;5;241m=\u001b[39mextracted_page_layout,\n\u001b[1;32m    125\u001b[0m         page_image_size\u001b[38;5;241m=\u001b[39mimage_size,\n\u001b[1;32m    126\u001b[0m         \u001b[38;5;241m*\u001b[39m\u001b[38;5;241m*\u001b[39mthreshold_kwargs,\n\u001b[1;32m    127\u001b[0m     )\n\u001b[0;32m--> 129\u001b[0m     elements \u001b[38;5;241m=\u001b[39m \u001b[43minferred_page\u001b[49m\u001b[38;5;241;43m.\u001b[39;49m\u001b[43mget_elements_from_layout\u001b[49m(\n\u001b[1;32m    130\u001b[0m         layout\u001b[38;5;241m=\u001b[39mcast(List[\u001b[38;5;124m\"\u001b[39m\u001b[38;5;124mTextRegion\u001b[39m\u001b[38;5;124m\"\u001b[39m], merged_layout),\n\u001b[1;32m    131\u001b[0m         pdf_objects\u001b[38;5;241m=\u001b[39mextracted_page_layout,\n\u001b[1;32m    132\u001b[0m     )\n\u001b[1;32m    134\u001b[0m     inferred_page\u001b[38;5;241m.\u001b[39melements[:] \u001b[38;5;241m=\u001b[39m elements\n\u001b[1;32m    136\u001b[0m \u001b[38;5;28;01mreturn\u001b[39;00m inferred_document_layout\n",
      "\u001b[0;31mAttributeError\u001b[0m: 'PageLayout' object has no attribute 'get_elements_from_layout'"
     ]
    }
   ],
   "source": [
    "# filename = \"static/SalesforceFinancial.pdf\"\n",
    "filename = \"../../../other_files/salesforce-fy24-annual-report.pdf\"\n",
    "\n",
    "# Extracts the elements from the PDF\n",
    "elements = partition_pdf(\n",
    "    filename=filename,\n",
    "\n",
    "    # Unstructured Helpers\n",
    "    strategy=\"hi_res\", \n",
    "    infer_table_structure=True, \n",
    "    model_name=\"yolox\"\n",
    ")"
   ]
  },
  {
   "cell_type": "markdown",
   "id": "f65ad413-80f9-43da-8fb5-3a32373c3686",
   "metadata": {},
   "source": [
    "Let's look at our elements"
   ]
  },
  {
   "cell_type": "code",
   "execution_count": 35,
   "id": "0f5ac388-5b4e-4dcd-bf74-84220c8cdff4",
   "metadata": {},
   "outputs": [
    {
     "data": {
      "text/plain": [
       "[<unstructured.documents.elements.NarrativeText at 0x2bdecbfd0>,\n",
       " <unstructured.documents.elements.NarrativeText at 0x2ad356cd0>,\n",
       " <unstructured.documents.elements.NarrativeText at 0x2ba4e0cd0>,\n",
       " <unstructured.documents.elements.NarrativeText at 0x2af4148d0>,\n",
       " <unstructured.documents.elements.NarrativeText at 0x2ba846c90>,\n",
       " <unstructured.documents.elements.NarrativeText at 0x2ba8450d0>,\n",
       " <unstructured.documents.elements.NarrativeText at 0x2ba844990>,\n",
       " <unstructured.documents.elements.NarrativeText at 0x2ba944490>,\n",
       " <unstructured.documents.elements.Table at 0x2ba947b50>,\n",
       " <unstructured.documents.elements.NarrativeText at 0x2ad3d4f50>,\n",
       " <unstructured.documents.elements.Text at 0x2ba969f50>,\n",
       " <unstructured.documents.elements.Text at 0x177a411d0>]"
      ]
     },
     "execution_count": 35,
     "metadata": {},
     "output_type": "execute_result"
    }
   ],
   "source": [
    "elements"
   ]
  },
  {
   "cell_type": "markdown",
   "id": "1a081974-002c-4060-9d0c-2d4a5f270044",
   "metadata": {},
   "source": [
    "These are just unstructured objects, we could look at them all but I want to look at the table it parsed."
   ]
  },
  {
   "cell_type": "code",
   "execution_count": 36,
   "id": "9c5460db-689d-4e7a-a5bc-a10477c4a61e",
   "metadata": {},
   "outputs": [
    {
     "data": {
      "text/plain": [
       "'<table><thead><th>Revenue)</th><th>Guidance $7.69 - $7.70 Billion</th><th>Guidance $31.7 - $31.8 Billion</th></thead><tr><td>Y/Y Growth</td><td>~21%</td><td>~20%</td></tr><tr><td>FX Impact?)</td><td>~($200M) y/y FX</td><td>~($600M) y/y FX®</td></tr><tr><td>GAAP operating margin</td><td></td><td>~3.8%</td></tr><tr><td>Non-GAAP operating margin)</td><td></td><td>~20.4%</td></tr><tr><td>GAAP earnings (loss) per share</td><td>($0.03) - ($0.02)</td><td>$0.38 - $0.40</td></tr><tr><td>Non-GAAP earnings per share</td><td>$1.01 - $1.02</td><td>$4.74 - $4.76</td></tr><tr><td>Operating Cash Flow Growth (Y/Y)</td><td></td><td>~21% - 22%</td></tr><tr><td>Current Remaining Performance Obligation Growth (Y/Y)</td><td>~15%</td><td></td></tr></table>'"
      ]
     },
     "execution_count": 36,
     "metadata": {},
     "output_type": "execute_result"
    }
   ],
   "source": [
    "elements[-4].metadata.text_as_html"
   ]
  },
  {
   "cell_type": "markdown",
   "id": "8c269535-4fe9-44f2-8e0d-8578d706db7c",
   "metadata": {},
   "source": [
    "That table may look messy, but because it's in HTML format, the LLM is able to parse it much more easily than if it was tab or comma separated. You can copy and paste that html into a [html viewer](https://codebeautify.org/htmlviewer) online to see it reconstructed.\n",
    "\n",
    "<div style=\"text-align: center;\">\n",
    "    <img src=\"static/SalesforceFinancialTable.png\" alt=\"image\" style=\"max-width: 800px;\">\n",
    "</div>"
   ]
  },
  {
   "cell_type": "markdown",
   "id": "1ed1a5fe-245a-4d3c-86aa-03fca86ba5cf",
   "metadata": {},
   "source": [
    "Awesome, Unstructured was able to pull out the tables for us. It's not perfect, but the team is upgrading their toolset all the time.\n",
    "\n",
    "**Important Point:** Later on when we are doing semantic search over our chunks, trying to match on embeddings from the table directly will be difficult. A common practice that developers do is to *summarize* the table after you've extracted it. Then get an embedding of that summary. If the summary embedding matches what you're looking for, then pass the raw table to your LLM.\n",
    "\n",
    "### Multi-Modal (text + images)\n",
    "\n",
    "Next we'll dive into the world of multi-modal text splitting. This is a very active field and best practices are evolving. I'll show you a method that was made popular by [Lance Martin](https://twitter.com/RLanceMartin/status/1713638963255366091) of LangChain. You can check out his source code [here](https://github.com/langchain-ai/langchain/blob/master/cookbook/Semi_structured_and_multi_modal_RAG.ipynb). If you find a method that works better, share it out with the community!"
   ]
  },
  {
   "cell_type": "code",
   "execution_count": 37,
   "id": "dee2ed53-96c8-4cf3-89d9-681ff5d4552f",
   "metadata": {},
   "outputs": [],
   "source": [
    "#!pip3 install \"unstructured[all-docs]\"\n",
    "from typing import Any\n",
    "\n",
    "from pydantic import BaseModel\n",
    "from unstructured.partition.pdf import partition_pdf"
   ]
  },
  {
   "cell_type": "markdown",
   "id": "ea2f20e1-e0fb-4d17-8ec7-faa4276fba23",
   "metadata": {},
   "source": [
    "First, let's go get a PDF to work with. This will be from a visual instruction tuning [paper](https://llava-vl.github.io/).\n",
    "\n",
    "<div style=\"text-align: center;\">\n",
    "    <img src=\"static/VisualInstructionSnapshot.png\" alt=\"image\" style=\"max-width: 800px;\">\n",
    "</div>"
   ]
  },
  {
   "cell_type": "code",
   "execution_count": 38,
   "id": "3f2d1771-7170-48c2-a614-480d7d2167df",
   "metadata": {},
   "outputs": [],
   "source": [
    "filepath = \"static/VisualInstruction.pdf\""
   ]
  },
  {
   "cell_type": "code",
   "execution_count": 39,
   "id": "d9240942-2702-45ae-8333-8ac9c3e10343",
   "metadata": {},
   "outputs": [],
   "source": [
    "# Get elements\n",
    "raw_pdf_elements = partition_pdf(\n",
    "    filename=filepath,\n",
    "    \n",
    "    # Using pdf format to find embedded image blocks\n",
    "    extract_images_in_pdf=True,\n",
    "    \n",
    "    # Use layout model (YOLOX) to get bounding boxes (for tables) and find titles\n",
    "    # Titles are any sub-section of the document\n",
    "    infer_table_structure=True,\n",
    "    \n",
    "    # Post processing to aggregate text once we have the title\n",
    "    chunking_strategy=\"by_title\",\n",
    "    # Chunking params to aggregate text blocks\n",
    "    # Attempt to create a new chunk 3800 chars\n",
    "    # Attempt to keep chunks > 2000 chars\n",
    "    # Hard max on chunks\n",
    "    max_characters=4000,\n",
    "    new_after_n_chars=3800,\n",
    "    combine_text_under_n_chars=2000,\n",
    "    image_output_dir_path=\"static/pdfImages/\",\n",
    ")"
   ]
  },
  {
   "cell_type": "markdown",
   "id": "2c45aab5-5f51-4d67-9ea2-17c5489a5c2a",
   "metadata": {},
   "source": [
    "If you head over to `static/pdfImages/` and check out the images that were parsed.\n",
    "\n",
    "But the images don't do anything sitting in a folder, we need to do something with them! Though a bit outside the scope of chunking, let's talk about how to work with these.\n",
    "\n",
    "The common tactics will either use a multi-modal model to generate summaries of the images or use the image itself for your task. Others get embeddings of images (like [CLIP](https://openai.com/research/clip)).\n",
    "\n",
    "Let's generate summaries so you'll be inspired to take this to the next step. We'll use GPT-4V. Check out other models [here](https://platform.openai.com/docs/model)."
   ]
  },
  {
   "cell_type": "code",
   "execution_count": 40,
   "id": "fc40dacd-09a0-4ce0-ae8c-87a3910a1408",
   "metadata": {},
   "outputs": [
    {
     "data": {
      "text/plain": [
       "True"
      ]
     },
     "execution_count": 40,
     "metadata": {},
     "output_type": "execute_result"
    }
   ],
   "source": [
    "from langchain.chat_models import ChatOpenAI\n",
    "from langchain.schema.messages import HumanMessage\n",
    "import os\n",
    "from dotenv import load_dotenv\n",
    "from PIL import Image\n",
    "import base64\n",
    "import io\n",
    "\n",
    "load_dotenv()"
   ]
  },
  {
   "cell_type": "markdown",
   "id": "9fe7b48f-7da2-430f-a0dd-c8e1766854a3",
   "metadata": {},
   "source": [
    "We'll be using gpt-4-vision today"
   ]
  },
  {
   "cell_type": "code",
   "execution_count": 41,
   "id": "59b1b6d2-4d84-41dc-8698-8be52e6f5bd8",
   "metadata": {},
   "outputs": [],
   "source": [
    "llm = ChatOpenAI(model=\"gpt-4-vision-preview\")"
   ]
  },
  {
   "cell_type": "markdown",
   "id": "6ea28491-e225-4667-8666-3b0541dbf2b7",
   "metadata": {},
   "source": [
    "I'm creating quick helper function to convert the image from file to base64 so we can pass it to GPT-4V"
   ]
  },
  {
   "cell_type": "code",
   "execution_count": 43,
   "id": "ed1f096a-abd1-4380-af24-6c65074d2420",
   "metadata": {},
   "outputs": [],
   "source": [
    "# Function to convert image to base64\n",
    "def image_to_base64(image_path):\n",
    "    with Image.open(image_path) as image:\n",
    "        buffered = io.BytesIO()\n",
    "        image.save(buffered, format=image.format)\n",
    "        img_str = base64.b64encode(buffered.getvalue())\n",
    "        return img_str.decode('utf-8')\n",
    "\n",
    "image_str = image_to_base64(\"static/pdfImages/figure-15-6.jpg\")"
   ]
  },
  {
   "cell_type": "markdown",
   "id": "80becf02-83bd-4560-af3a-dece72259296",
   "metadata": {},
   "source": [
    "Then we can go ahead and pass our image to the LLM"
   ]
  },
  {
   "cell_type": "code",
   "execution_count": 44,
   "id": "638d7f95-d181-4b4a-aeb0-b40367f0f215",
   "metadata": {},
   "outputs": [],
   "source": [
    "chat = ChatOpenAI(model=\"gpt-4-vision-preview\",\n",
    "                  max_tokens=1024)\n",
    "\n",
    "msg = chat.invoke(\n",
    "    [\n",
    "        HumanMessage(\n",
    "            content=[\n",
    "                {\"type\": \"text\", \"text\" : \"Please give a summary of the image provided. Be descriptive\"},\n",
    "                {\n",
    "                    \"type\": \"image_url\",\n",
    "                    \"image_url\": {\n",
    "                        \"url\": f\"data:image/jpeg;base64,{image_str}\"\n",
    "                    },\n",
    "                },\n",
    "            ]\n",
    "        )\n",
    "    ]\n",
    ")"
   ]
  },
  {
   "cell_type": "markdown",
   "id": "67130242-5d72-4304-a705-c9177558a7d4",
   "metadata": {},
   "source": [
    "Then the summary returned is what we will put into our vectordata base. Then when it comes time to do our retrieval process, we'll use these embeddings for semantic search."
   ]
  },
  {
   "cell_type": "code",
   "execution_count": 45,
   "id": "a51c2833-ee05-43b2-9cd2-6710d6e73ee8",
   "metadata": {},
   "outputs": [
    {
     "data": {
      "text/plain": [
       "'The image shows a baking tray with pieces of fried chicken arranged to roughly mimic the continents on Earth as seen from space. The largest piece in the center is intended to represent Africa and Eurasia, while smaller pieces are meant to symbolize the Americas, Australia, and possibly Antarctica. There is text above the image which says, \"Sometimes I just look at pictures of the earth from space and I marvel at how beautiful it all is.\" This text is likely meant to be humorous, as it juxtaposes the grandeur of Earth from space with a whimsical arrangement of chicken on a baking sheet, suggesting a playful comparison between the two.'"
      ]
     },
     "execution_count": 45,
     "metadata": {},
     "output_type": "execute_result"
    }
   ],
   "source": [
    "msg.content"
   ]
  },
  {
   "cell_type": "markdown",
   "id": "b129deb0-7b11-48f6-bc3e-210658e9f8e4",
   "metadata": {},
   "source": [
    "<div style=\"text-align: center;\">\n",
    "    <img src=\"static/pdfImages/figure-15-6.jpg\" alt=\"image\" style=\"max-width: 800px;\"><br>\n",
    "    <span><i>static/pdfImages/figure-15-6.jpg</i></span>\n",
    "</div>\n",
    "\n",
    "Hm, that seems about right!\n",
    "\n",
    "There are a ton of ways to go about this (check out the bonus section for more) so don't take my word for it - try 'em."
   ]
  },
  {
   "cell_type": "markdown",
   "id": "0ba7cf0e-ec8e-4115-be32-e49aaf5adccc",
   "metadata": {},
   "source": [
    "## Level 4: Semantic Chunking <a id=\"SemanticChunking\"></a>\n",
    "Isn't it weird that we have a global constant for chunk size?  \n",
    "Isn't it even weirder that our normal chunking mechanisms don't take into account the actual content?\n",
    "\n",
    "I'm not the only one who thinks so\n",
    "\n",
    "<div style=\"text-align: center;\">\n",
    "    <img src=\"static/SemanticChunkingtweet.png\" style=\"max-width:50%; height:auto;\"><br>\n",
    "    <span><i><a href=\"https://twitter.com/thesephist/status/1724159343237456248?s=46\">Source</a></i></span>\n",
    "</div>\n",
    "\n",
    "There has to be a better way - let's explore and find out.\n",
    "\n",
    "Embeddings represent the semantic meaning of a string.  \n",
    "They don't do much on their own, but when compared to embeddings of other texts  \n",
    "you can start to infer the relationship between chunks.  \n",
    "I want to lean into this property and explore using embeddings to find clusters of semantically similar texts.\n",
    "\n",
    "The hypothesis is that semantically similar chunks should be held together.\n",
    "\n",
    "I tried a few methods:\n",
    "1) **Heirarchical clustering with positional reward** -  \n",
    "I wanted to see how heirarchical clustering of sentence embeddings would do.  \n",
    "But because I chose to split on sentences,  \n",
    "there was an issue with small short sentences after a long one.  \n",
    "You know? (like this last sentenence).  \n",
    "They could change the meaning of a chunk,  \n",
    "so I added a positional reward and clusters were more likely to form if they were sentences next to each other.  \n",
    "This ended up being ok, but tuning the parameters was slow and unoptimal.\n",
    "\n",
    "2) **Find break points between sequential sentences** -  \n",
    "Next up I tried a walk method. I started at the first sentence,  \n",
    "got the embedding, then compared it to sentence #2, then compared #2 and #3 and so on.  \n",
    "I was looking for \"break points\" where embedding distance was large.  \n",
    "If it was above a threshold, then I considered it the start of a new semantic section.  \n",
    "I originally tried taking embeddings of every sentence, but this turned out to be too noisy.  \n",
    "So I ended up taking groups of 3 sentences (a window), then got an embedding,  \n",
    "then dropped the first sentence, and added the next one. This worked out a bit better.\n",
    "\n",
    "I'll show method #2 here - It's not perfect by any means, but it's a good starting point for an exploration and I'd love to hear about how you think it could be improved.\n",
    "\n",
    "First, let's load up our essay that we'll run through. I'm just doing a single essay here to keep the tokens down.\n",
    "\n",
    "We'll be using Paul Graham's [MIT essay](https://paulgraham.com/mit.html)"
   ]
  },
  {
   "cell_type": "code",
   "execution_count": 40,
   "id": "7c5bb388-0534-4ef5-b5d2-322e945a513b",
   "metadata": {},
   "outputs": [],
   "source": [
    "# with open('../../data/PGEssays/mit.txt') as file:\n",
    "# with open('../../../text_files/paul_graham_essays.txt') as file:\n",
    "with open('../../../text_files/paul_graham_mit_essays.txt') as file:\n",
    "    essay = file.read()"
   ]
  },
  {
   "cell_type": "markdown",
   "id": "6d18623d-6fc1-4b90-a016-ee79ac28b9ad",
   "metadata": {},
   "source": [
    "Then I want to split the entire essay into 1-sentence chunks. I'm going to split on \".\" \"?\" and \"!\". There are better ways to do this but this is quick and easy for now."
   ]
  },
  {
   "cell_type": "code",
   "execution_count": 41,
   "id": "1dbbfa5a-45a2-4c6e-84f5-d774183717d0",
   "metadata": {},
   "outputs": [
    {
     "name": "stdout",
     "output_type": "stream",
     "text": [
      "384 senteneces were found\n"
     ]
    }
   ],
   "source": [
    "import re\n",
    "\n",
    "# Splitting the essay on '.', '?', and '!'\n",
    "single_sentences_list = re.split(r'(?<=[.?!])\\s+', essay)\n",
    "print (f\"{len(single_sentences_list)} senteneces were found\")"
   ]
  },
  {
   "cell_type": "markdown",
   "id": "6340df5c-bae9-4f04-a69a-4263c7e912de",
   "metadata": {},
   "source": [
    "But a list of sentences can be tough to add more data too. I'm going to turn this into a list of dictionaries (`List[dict]`), of which, the sentences will be a key-value. Then we can start to add more data to each sentence."
   ]
  },
  {
   "cell_type": "code",
   "execution_count": 42,
   "id": "b1bc484a-5d6f-4df5-a1ec-7803908fac95",
   "metadata": {},
   "outputs": [
    {
     "data": {
      "text/plain": [
       "[{'sentence': \"A Student's Guide to Startups\\n\\n Want to start a startup?\",\n",
       "  'index': 0},\n",
       " {'sentence': 'Get funded by Y Combinator.', 'index': 1},\n",
       " {'sentence': 'October 2006\\n\\n(This essay is derived from a talk at MIT.)\\n\\nTill recently graduating seniors had two choices: get a job or go to grad school.',\n",
       "  'index': 2}]"
      ]
     },
     "execution_count": 42,
     "metadata": {},
     "output_type": "execute_result"
    }
   ],
   "source": [
    "sentences = [{'sentence': x, 'index' : i} for i, x in enumerate(single_sentences_list)]\n",
    "sentences[:3]"
   ]
  },
  {
   "cell_type": "markdown",
   "id": "7655fbb4-73a8-43dd-a6b7-565ecf85890a",
   "metadata": {},
   "source": [
    "Great, now that we have our sentences,  \n",
    "I want to combine the sentence before and after  \n",
    "so that we reduce noise and capture more of the relationships between sequential sentences.\n",
    "\n",
    "Let's create a function so we can use it again.  \n",
    "The `buffer_size` is configurable so you can select how big of a window you want.  \n",
    "Keep this number in mind for the later steps. I'll just use `buffer_size=1` for now."
   ]
  },
  {
   "cell_type": "code",
   "execution_count": 43,
   "id": "c2c5e5ef-bfbe-4680-9761-0ba7615cc645",
   "metadata": {},
   "outputs": [],
   "source": [
    "def combine_sentences(sentences, buffer_size=1):\n",
    "    # Go through each sentence dict\n",
    "    for i in range(len(sentences)):\n",
    "\n",
    "        # Create a string that will hold the sentences which are joined\n",
    "        combined_sentence = ''\n",
    "\n",
    "        # Add sentences before the current one, based on the buffer size.\n",
    "        for j in range(i - buffer_size, i):\n",
    "            # Check if the index j is not negative (to avoid index out of range like on the first one)\n",
    "            if j >= 0:\n",
    "                # Add the sentence at index j to the combined_sentence string\n",
    "                combined_sentence += sentences[j]['sentence'] + ' '\n",
    "\n",
    "        # Add the current sentence\n",
    "        combined_sentence += sentences[i]['sentence']\n",
    "\n",
    "        # Add sentences after the current one, based on the buffer size\n",
    "        for j in range(i + 1, i + 1 + buffer_size):\n",
    "            # Check if the index j is within the range of the sentences list\n",
    "            if j < len(sentences):\n",
    "                # Add the sentence at index j to the combined_sentence string\n",
    "                combined_sentence += ' ' + sentences[j]['sentence']\n",
    "\n",
    "        # Then add the whole thing to your dict\n",
    "        # Store the combined sentence in the current sentence dict\n",
    "        sentences[i]['combined_sentence'] = combined_sentence\n",
    "\n",
    "    return sentences\n"
   ]
  },
  {
   "cell_type": "code",
   "execution_count": null,
   "id": "993e7d51",
   "metadata": {},
   "outputs": [],
   "source": [
    "sentences = combine_sentences(sentences)"
   ]
  },
  {
   "cell_type": "code",
   "execution_count": 44,
   "id": "a0c06ebf-af2c-4f14-924d-e0d0cab05f09",
   "metadata": {},
   "outputs": [
    {
     "data": {
      "text/plain": [
       "[{'sentence': \"A Student's Guide to Startups\\n\\n Want to start a startup?\",\n",
       "  'index': 0,\n",
       "  'combined_sentence': \"A Student's Guide to Startups\\n\\n Want to start a startup? Get funded by Y Combinator.\"},\n",
       " {'sentence': 'Get funded by Y Combinator.',\n",
       "  'index': 1,\n",
       "  'combined_sentence': \"A Student's Guide to Startups\\n\\n Want to start a startup? Get funded by Y Combinator. October 2006\\n\\n(This essay is derived from a talk at MIT.)\\n\\nTill recently graduating seniors had two choices: get a job or go to grad school.\"},\n",
       " {'sentence': 'October 2006\\n\\n(This essay is derived from a talk at MIT.)\\n\\nTill recently graduating seniors had two choices: get a job or go to grad school.',\n",
       "  'index': 2,\n",
       "  'combined_sentence': 'Get funded by Y Combinator. October 2006\\n\\n(This essay is derived from a talk at MIT.)\\n\\nTill recently graduating seniors had two choices: get a job or go to grad school. I think there will increasingly be a third option: to start your own startup.'}]"
      ]
     },
     "execution_count": 44,
     "metadata": {},
     "output_type": "execute_result"
    }
   ],
   "source": [
    "sentences[:3]"
   ]
  },
  {
   "cell_type": "markdown",
   "id": "0deb04a6-d0ad-4757-af8c-d6d600794357",
   "metadata": {},
   "source": [
    "Check out how the 2nd sentence (index #1) has the first sentence and 3rd sentence in its `combined_sentence` key now.\n",
    "\n",
    "Now I want to get embeddings for the combined sentences, so we can get the distances between the groups of 3 and find breakpoints. I'll use OpenAI's embeddings for this."
   ]
  },
  {
   "cell_type": "code",
   "execution_count": 47,
   "id": "d757106f-d6cd-4504-96f1-4fe1f82e0b7e",
   "metadata": {},
   "outputs": [],
   "source": [
    "# from langchain.embeddings import OpenAIEmbeddings\n",
    "from langchain_openai import OpenAIEmbeddings\n",
    "oaiembeds = OpenAIEmbeddings()"
   ]
  },
  {
   "cell_type": "markdown",
   "id": "9d5da984-67dc-43ce-b871-b5e91186767a",
   "metadata": {},
   "source": [
    "Now let's go get our embeddings. We'll do this in batch to make it quicker."
   ]
  },
  {
   "cell_type": "code",
   "execution_count": 48,
   "id": "8a18ba5b-4c9f-42d8-bad0-ca0825715f1b",
   "metadata": {},
   "outputs": [],
   "source": [
    "embeddings = oaiembeds.embed_documents([x['combined_sentence'] for x in sentences])"
   ]
  },
  {
   "cell_type": "markdown",
   "id": "6a2cdc46-ad21-4e8e-a540-548aa3604212",
   "metadata": {},
   "source": [
    "Now we have a list of embeddings, but we need to add them to our list of dicts"
   ]
  },
  {
   "cell_type": "code",
   "execution_count": 49,
   "id": "45828ce9-31cf-4810-a5e8-2098201a91dd",
   "metadata": {},
   "outputs": [],
   "source": [
    "for i, sentence in enumerate(sentences):\n",
    "    sentence['combined_sentence_embedding'] = embeddings[i]"
   ]
  },
  {
   "cell_type": "code",
   "execution_count": 50,
   "id": "3e67a5ed",
   "metadata": {},
   "outputs": [
    {
     "name": "stdout",
     "output_type": "stream",
     "text": [
      "1536\n"
     ]
    }
   ],
   "source": [
    "# dimensions of openai embeddings\n",
    "print(len(sentences[0].get(\"combined_sentence_embedding\")))"
   ]
  },
  {
   "cell_type": "markdown",
   "id": "7a4f5f3e-f436-4374-be90-a1f5f819e518",
   "metadata": {},
   "source": [
    "Great, now we're getting to the cool part,  \n",
    "let's check out the cosine distances between sequential embedding pairs to see where the break points are.  \n",
    "We'll add 'distance_to_next' as another key"
   ]
  },
  {
   "cell_type": "code",
   "execution_count": 51,
   "id": "95792785-a966-4b40-a9c4-c76eaed71766",
   "metadata": {},
   "outputs": [],
   "source": [
    "from sklearn.metrics.pairwise import cosine_similarity\n",
    "\n",
    "def calculate_cosine_distances(sentences):\n",
    "    distances = []\n",
    "    for i in range(len(sentences) - 1):\n",
    "        embedding_current = sentences[i]['combined_sentence_embedding']\n",
    "        embedding_next = sentences[i + 1]['combined_sentence_embedding']\n",
    "        \n",
    "        # Calculate cosine similarity\n",
    "        similarity = cosine_similarity([embedding_current], [embedding_next])[0][0]\n",
    "        \n",
    "        # Convert to cosine distance\n",
    "        distance = 1 - similarity\n",
    "\n",
    "        # Append cosine distance to the list\n",
    "        distances.append(distance)\n",
    "\n",
    "        # Store distance in the dictionary\n",
    "        sentences[i]['distance_to_next'] = distance\n",
    "\n",
    "    # Optionally handle the last sentence\n",
    "    # sentences[-1]['distance_to_next'] = None  # or a default value\n",
    "\n",
    "    return distances, sentences"
   ]
  },
  {
   "cell_type": "markdown",
   "id": "45abeb2e-605b-4556-82ca-b7c99eec742a",
   "metadata": {},
   "source": [
    "Great, now let's pull out the distances from our sentences and then add them as well"
   ]
  },
  {
   "cell_type": "code",
   "execution_count": 52,
   "id": "336bf78a-8109-4fc5-92b3-28aa049b9f99",
   "metadata": {},
   "outputs": [],
   "source": [
    "distances, sentences = calculate_cosine_distances(sentences)"
   ]
  },
  {
   "cell_type": "markdown",
   "id": "57eeacef-1594-41ea-a5f9-70f99b8878f3",
   "metadata": {},
   "source": [
    "Let's take a look at what our distances array looks like."
   ]
  },
  {
   "cell_type": "code",
   "execution_count": 53,
   "id": "3c330493-20f9-456e-a6f7-7e16cac4f3d1",
   "metadata": {},
   "outputs": [
    {
     "data": {
      "text/plain": [
       "[0.07970544543220603, 0.03540159854582825, 0.04238727624082406]"
      ]
     },
     "execution_count": 53,
     "metadata": {},
     "output_type": "execute_result"
    }
   ],
   "source": [
    "distances[:3]"
   ]
  },
  {
   "cell_type": "markdown",
   "id": "7e960090-8714-4481-adec-33fe39c31bc4",
   "metadata": {},
   "source": [
    "Hm, yep, just a bunch of numbers that aren't fun to look at. Let's plot them."
   ]
  },
  {
   "cell_type": "code",
   "execution_count": 55,
   "id": "986e4885-b079-4a4a-9ae4-a1227d6ce1bc",
   "metadata": {},
   "outputs": [
    {
     "data": {
      "text/plain": [
       "[<matplotlib.lines.Line2D at 0x35b8feda0>]"
      ]
     },
     "execution_count": 55,
     "metadata": {},
     "output_type": "execute_result"
    },
    {
     "data": {
      "image/png": "[encoded data removed]",
      "text/plain": [
       "<Figure size 1000x500 with 1 Axes>"
      ]
     },
     "metadata": {},
     "output_type": "display_data"
    }
   ],
   "source": [
    "import matplotlib.pyplot as plt\n",
    "\n",
    "# plt.plot(distances)\n",
    "fig, ax = plt.subplots(figsize=(10, 5))  # 设置宽度为10英寸，高度为5英寸\n",
    "\n",
    "# 绘制数据\n",
    "ax.plot(distances)"
   ]
  },
  {
   "cell_type": "markdown",
   "id": "f4703f6b-9bf1-45ef-b0ea-a4fb95cc9007",
   "metadata": {},
   "source": [
    "Hm, cool! It's interesting to see sections where distances are smaller and then areas of larger distances.  \n",
    "What stands out to me most is the outliers which are spread out.\n",
    "\n",
    "There are many ways to chunk up the essay based off these distances,  \n",
    "but I'm going to consider any distance above the `95th` percentile of distances as a break point.  \n",
    "This is the only parameter we'll need to config.\n",
    "\n",
    "I'm going to build in the final viz, check out the video for an iterative build and an overview."
   ]
  },
  {
   "cell_type": "markdown",
   "id": "5044cd49-ef33-4d00-a629-bc3411b7939e",
   "metadata": {},
   "source": [
    "Let's look at the chunks that came out"
   ]
  },
  {
   "cell_type": "code",
   "execution_count": 64,
   "id": "cba11136-a6fb-4ec6-83db-0476c9efc5e0",
   "metadata": {},
   "outputs": [
    {
     "data": {
      "image/png": "[encoded data removed]",
      "text/plain": [
       "<Figure size 1500x500 with 1 Axes>"
      ]
     },
     "metadata": {},
     "output_type": "display_data"
    }
   ],
   "source": [
    "import numpy as np\n",
    "\n",
    "fig, ax = plt.subplots(figsize=(15, 5))  # 设置宽度为10英寸，高度为5英寸\n",
    "ax.plot(distances)\n",
    "# plt.plot(distances)\n",
    "\n",
    "y_upper_bound = .2\n",
    "plt.ylim(0, y_upper_bound)\n",
    "plt.xlim(0, len(distances))\n",
    "\n",
    "# We need to get the distance threshold that we'll consider an outlier\n",
    "# We'll use numpy .percentile() for this\n",
    "breakpoint_percentile_threshold = 95\n",
    "breakpoint_distance_threshold = np.percentile(distances, breakpoint_percentile_threshold) # If you want more chunks, lower the percentile cutoff\n",
    "plt.axhline(y=breakpoint_distance_threshold, color='r', linestyle='-')\n",
    "\n",
    "# Then we'll see how many distances are actually above this one\n",
    "num_distances_above_theshold = len([x for x in distances if x > breakpoint_distance_threshold]) # The amount of distances above your threshold\n",
    "plt.text(x=(len(distances)*.01), y=y_upper_bound/50, s=f\"{num_distances_above_theshold + 1} Chunks\")\n",
    "\n",
    "# Then we'll get the index of the distances that are above the threshold. This will tell us where we should split our text\n",
    "indices_above_thresh = [i for i, x in enumerate(distances) if x > breakpoint_distance_threshold] # The indices of those breakpoints on your list\n",
    "\n",
    "# Start of the shading and text\n",
    "colors = ['b', 'g', 'r', 'c', 'm', 'y', 'k']\n",
    "for i, breakpoint_index in enumerate(indices_above_thresh):\n",
    "    start_index = 0 if i == 0 else indices_above_thresh[i - 1]\n",
    "    end_index = breakpoint_index if i < len(indices_above_thresh) - 1 else len(distances)\n",
    "\n",
    "    plt.axvspan(start_index, end_index, facecolor=colors[i % len(colors)], alpha=0.25)\n",
    "    plt.text(x=np.average([start_index, end_index]),\n",
    "             y=breakpoint_distance_threshold + (y_upper_bound)/ 20,\n",
    "             s=f\"Chunk #{i}\", horizontalalignment='center',\n",
    "             rotation='vertical')\n",
    "\n",
    "# # Additional step to shade from the last breakpoint to the end of the dataset\n",
    "if indices_above_thresh:\n",
    "    last_breakpoint = indices_above_thresh[-1]\n",
    "    if last_breakpoint < len(distances):\n",
    "        plt.axvspan(last_breakpoint, len(distances), facecolor=colors[len(indices_above_thresh) % len(colors)], alpha=0.25)\n",
    "        plt.text(x=np.average([last_breakpoint, len(distances)]),\n",
    "                 y=breakpoint_distance_threshold + (y_upper_bound)/ 20,\n",
    "                 s=f\"Chunk #{i+1}\",\n",
    "                 rotation='vertical')\n",
    "\n",
    "plt.title(\"PG Essay Chunks Based On Embedding Breakpoints\")\n",
    "plt.xlabel(\"Index of sentences in essay (Sentence Position)\")\n",
    "plt.ylabel(\"Cosine distance between sequential sentences\")\n",
    "plt.show()"
   ]
  },
  {
   "cell_type": "markdown",
   "id": "6c942fe5-cfb4-44b2-8177-35983e88ea82",
   "metadata": {},
   "source": [
    "Well now that we've succefully distracted ourselves with a visualization, now we need to combine the sentences into chunks.\n",
    "\n",
    "Because we have our breakpoints [23, 40, 51...] I want to make the first chunk 0-22, since the distance jumped on sentence 23."
   ]
  },
  {
   "cell_type": "code",
   "execution_count": 65,
   "id": "f17828f0-4d1b-4514-ad87-343301cb8450",
   "metadata": {},
   "outputs": [],
   "source": [
    "# Initialize the start index\n",
    "start_index = 0\n",
    "\n",
    "# Create a list to hold the grouped sentences\n",
    "chunks = []\n",
    "\n",
    "# Iterate through the breakpoints to slice the sentences\n",
    "for index in indices_above_thresh:\n",
    "    # The end index is the current breakpoint\n",
    "    end_index = index\n",
    "\n",
    "    # Slice the sentence_dicts from the current start index to the end index\n",
    "    group = sentences[start_index:end_index + 1]\n",
    "    combined_text = ' '.join([d['sentence'] for d in group])\n",
    "    chunks.append(combined_text)\n",
    "    \n",
    "    # Update the start index for the next group\n",
    "    start_index = index + 1\n",
    "\n",
    "# The last group, if any sentences remain\n",
    "if start_index < len(sentences):\n",
    "    combined_text = ' '.join([d['sentence'] for d in sentences[start_index:]])\n",
    "    chunks.append(combined_text)\n",
    "\n",
    "# grouped_sentences now contains the chunked sentences"
   ]
  },
  {
   "cell_type": "markdown",
   "id": "8418f022-d929-427e-9977-ec12c4eb0236",
   "metadata": {},
   "source": [
    "Great now let's manually inspect a few to make sure they look ok."
   ]
  },
  {
   "cell_type": "code",
   "execution_count": 66,
   "id": "d709135b-6465-4720-8eb8-60dc9f91efac",
   "metadata": {},
   "outputs": [
    {
     "name": "stdout",
     "output_type": "stream",
     "text": [
      "Chunk #0\n",
      "A Student's Guide to Startups\n",
      "\n",
      " Want to start a startup? Get funded by Y Combinator. October 2006\n",
      "\n",
      "(\n",
      "...\n",
      "sents to the others what they've got so far. You might think they wouldn't need any more motivation.\n",
      "\n",
      "\n",
      "Chunk #1\n",
      "They're working on their cool new idea; they have funding for the immediate future; and they're play\n",
      "...\n",
      "et seems pretty theoretical most of the time. What drives you day to day is not wanting to look bad.\n",
      "\n",
      "\n",
      "Chunk #2\n",
      "You probably can't change that. Even if you could, I don't think you'd want to; someone who really,\n",
      "...\n",
      "d be to tell people to wait till they graduate. Does that mean you can't start a startup in college?\n",
      "\n",
      "\n",
      "Chunk #3\n",
      "Not at all. Sam Altman, the co-founder of Loopt, had just finished his sophomore year when we funded\n",
      "...\n",
      "ked to judge someone's playing, would always say they didn't have enough talent to make it as a pro.\n",
      "\n",
      "\n"
     ]
    }
   ],
   "source": [
    "for i, chunk in enumerate(chunks[:4]):\n",
    "    buffer = 100\n",
    "    \n",
    "    print (f\"Chunk #{i}\")\n",
    "    print (chunk[:buffer].strip())\n",
    "    print (\"...\")\n",
    "    print (chunk[-buffer:].strip())\n",
    "    print (\"\\n\")"
   ]
  },
  {
   "cell_type": "markdown",
   "id": "c4a86473-b267-483d-ac45-e0f4d30b67e6",
   "metadata": {},
   "source": [
    "I want to re-emphasize that this is an exploration of a method that is far from usable yet. This method should be tested with RAG eval to ensure that it works for your use case.\n",
    "\n",
    "I didn't worry about chunk size or overlap with this method, but you could recursively split large chunks if you needed to.\n",
    "\n",
    "How should it be improved? Let me [know](https://twitter.com/GregKamradt)! See me tease this [here](https://twitter.com/GregKamradt/status/1737921395974430953)."
   ]
  },
  {
   "cell_type": "markdown",
   "id": "c43ff201-d657-49e0-8a03-8e6460113393",
   "metadata": {},
   "source": [
    "## Level 5: Agentic Chunking <a id=\"AgenticChunking\"></a>\n",
    "Taking level 4 even further - can we instruct an LLM to do this task like a human would?\n",
    "\n",
    "How does a human even go about chunking in the first place?\n",
    "\n",
    "Well...let me think, how would I go about chunking a document into its discrete parts such that the results were semantically similar?\n",
    "\n",
    "1. I would get myself a scratch piece of paper or notepad\n",
    "2. I'd start at the top of the essay and assume the first part will be a chunk (since we don't have any yet)\n",
    "3. Then I would keep going down the essay and evaluate if a new sentence or piece of the essay should be a part of the first chunk, if not, then create a new one\n",
    "4. Then keep doing that all the way down the essay until we got to the end.\n",
    "\n",
    "Woah! Wait a minute - this is pseudo code for something we can try out. See me tease this [here](https://twitter.com/GregKamradt/status/1738276097471754735).\n",
    "\n",
    "I debated whether or not to hold myself to the strict standard of using the *raw text* from a document, or use a derived form. The former felt like I was being too harsh, so I decided to explore using [propositions](https://twitter.com/LangChainAI/status/1735708004618764470). This is a cool concept ([research paper](https://arxiv.org/pdf/2312.06648.pdf)) that extracts stand alone statements from a raw piece of text.\n",
    "\n",
    "Example: `Greg went to the park. He likes walking` > `['Greg went to the park.', 'Greg likes walking']`\n",
    "\n",
    "Let's do it:"
   ]
  },
  {
   "cell_type": "code",
   "execution_count": 87,
   "id": "5a6f79c0-f6bd-4561-bf0a-434955d875e5",
   "metadata": {},
   "outputs": [],
   "source": [
    "from langchain.output_parsers.openai_tools import JsonOutputToolsParser\n",
    "# from langchain_community.chat_models import ChatOpenAI\n",
    "from langchain_openai import ChatOpenAI\n",
    "from langchain_core.prompts import ChatPromptTemplate\n",
    "from langchain_core.runnables import RunnableLambda\n",
    "from langchain.chains import create_extraction_chain\n",
    "from typing import Optional, List\n",
    "# from langchain.chains import create_extraction_chain_pydantic\n",
    "from langchain.chains.openai_functions import create_extraction_chain_pydantic\n",
    "from langchain_core.pydantic_v1 import BaseModel\n",
    "from langchain import hub"
   ]
  },
  {
   "cell_type": "markdown",
   "id": "3ba10ec8-8227-4b95-a2cc-4149941dfe98",
   "metadata": {},
   "source": [
    "Pulling out propositions is done via a well-crafted prompt. I'm going to pull it from [LangHub](https://smith.langchain.com/hub?organizationId=50995362-9ea0-4378-ad97-b4edae2f9f22), LangChain's home for prompts.\n",
    "\n",
    "You can view the proposition prompt [here](https://smith.langchain.com/hub/wfh/proposal-indexing?organizationId=50995362-9ea0-4378-ad97-b4edae2f9f22).\n",
    "\n",
    "I'll use gpt-4 as the LLM because we aren't messing around. I care more about performance than I do speed or cost."
   ]
  },
  {
   "cell_type": "code",
   "execution_count": 88,
   "id": "6de38943-7697-413e-a2e8-8a62cda914b8",
   "metadata": {},
   "outputs": [],
   "source": [
    "obj = hub.pull(\"wfh/proposal-indexing\")\n",
    "# llm = ChatOpenAI(model='gpt-4-1106-preview', openai_api_key = os.getenv(\"OPENAI_API_KEY\", 'YouKey'))\n",
    "\n",
    "from dotenv import load_dotenv\n",
    "load_dotenv()\n",
    "llm = ChatOpenAI(model='gpt-4o')"
   ]
  },
  {
   "cell_type": "code",
   "execution_count": 89,
   "id": "02225b9e",
   "metadata": {},
   "outputs": [
    {
     "name": "stdout",
     "output_type": "stream",
     "text": [
      "[SystemMessagePromptTemplate(prompt=PromptTemplate(input_variables=[], template='Decompose the \"Content\" into clear and simple propositions, ensuring they are interpretable out of\\ncontext.\\n1. Split compound sentence into simple sentences. Maintain the original phrasing from the input\\nwhenever possible.\\n2. For any named entity that is accompanied by additional descriptive information, separate this\\ninformation into its own distinct proposition.\\n3. Decontextualize the proposition by adding necessary modifier to nouns or entire sentences\\nand replacing pronouns (e.g., \"it\", \"he\", \"she\", \"they\", \"this\", \"that\") with the full name of the\\nentities they refer to.\\n4. Present the results as a list of strings, formatted in JSON.\\n\\nExample:\\n\\nInput: Title: ¯Eostre. Section: Theories and interpretations, Connection to Easter Hares. Content:\\nThe earliest evidence for the Easter Hare (Osterhase) was recorded in south-west Germany in\\n1678 by the professor of medicine Georg Franck von Franckenau, but it remained unknown in\\nother parts of Germany until the 18th century. Scholar Richard Sermon writes that \"hares were\\nfrequently seen in gardens in spring, and thus may have served as a convenient explanation for the\\norigin of the colored eggs hidden there for children. Alternatively, there is a European tradition\\nthat hares laid eggs, since a hare’s scratch or form and a lapwing’s nest look very similar, and\\nboth occur on grassland and are first seen in the spring. In the nineteenth century the influence\\nof Easter cards, toys, and books was to make the Easter Hare/Rabbit popular throughout Europe.\\nGerman immigrants then exported the custom to Britain and America where it evolved into the\\nEaster Bunny.\"\\nOutput: [ \"The earliest evidence for the Easter Hare was recorded in south-west Germany in\\n1678 by Georg Franck von Franckenau.\", \"Georg Franck von Franckenau was a professor of\\nmedicine.\", \"The evidence for the Easter Hare remained unknown in other parts of Germany until\\nthe 18th century.\", \"Richard Sermon was a scholar.\", \"Richard Sermon writes a hypothesis about\\nthe possible explanation for the connection between hares and the tradition during Easter\", \"Hares\\nwere frequently seen in gardens in spring.\", \"Hares may have served as a convenient explanation\\nfor the origin of the colored eggs hidden in gardens for children.\", \"There is a European tradition\\nthat hares laid eggs.\", \"A hare’s scratch or form and a lapwing’s nest look very similar.\", \"Both\\nhares and lapwing’s nests occur on grassland and are first seen in the spring.\", \"In the nineteenth\\ncentury the influence of Easter cards, toys, and books was to make the Easter Hare/Rabbit popular\\nthroughout Europe.\", \"German immigrants exported the custom of the Easter Hare/Rabbit to\\nBritain and America.\", \"The custom of the Easter Hare/Rabbit evolved into the Easter Bunny in\\nBritain and America.\"]')), HumanMessagePromptTemplate(prompt=PromptTemplate(input_variables=['input'], template='Decompose the following:\\n{input}'))]\n"
     ]
    }
   ],
   "source": [
    "# print(type(obj))\n",
    "print(obj.messages)"
   ]
  },
  {
   "cell_type": "markdown",
   "id": "5a838bc4-e732-492d-80a5-8c829ca637ef",
   "metadata": {},
   "source": [
    "Then I'll make a runnable w/ langchain, this'll be a short way to combine the prompt and llm"
   ]
  },
  {
   "cell_type": "code",
   "execution_count": 82,
   "id": "97236eb3-361e-4ebd-aa13-979ac8718f5f",
   "metadata": {},
   "outputs": [],
   "source": [
    "# use it in a runnable\n",
    "runnable = obj | llm"
   ]
  },
  {
   "cell_type": "markdown",
   "id": "bea6b054-bac6-4ce6-be8f-724a6ea1c5ef",
   "metadata": {},
   "source": [
    "The output from a runnable is a json-esque structure in a string. We need to pull the sentences out. I found that LangChain's example extraction was giving me a hard time so I'm doing it manually with a pydantic data class. There is definitely room to improve this.\n",
    "\n",
    "Create your class then put it in an extraction chain."
   ]
  },
  {
   "cell_type": "code",
   "execution_count": 90,
   "id": "10116bfe-12a0-4f8c-95bf-67a0f8c1ceb5",
   "metadata": {},
   "outputs": [],
   "source": [
    "# Pydantic data class\n",
    "class Sentences(BaseModel):\n",
    "    sentences: List[str]\n",
    "    \n",
    "# Extraction\n",
    "extraction_chain = create_extraction_chain_pydantic(pydantic_schema = Sentences, llm = llm)"
   ]
  },
  {
   "cell_type": "markdown",
   "id": "a462b5c8-5cb2-4dcb-bedd-6ee1ce2cfd08",
   "metadata": {},
   "source": [
    "Then wrap it together in a function that'll return a list of propositions to us"
   ]
  },
  {
   "cell_type": "code",
   "execution_count": 94,
   "id": "7ec04652-19e3-4cab-a882-7c31cd87fe1a",
   "metadata": {},
   "outputs": [],
   "source": [
    "def get_propositions(text):\n",
    "    runnable_output = runnable.invoke({\n",
    "    \t\"input\": text\n",
    "    }).content\n",
    "    \n",
    "    propositions = extraction_chain.run(runnable_output)[0].sentences\n",
    "    return propositions"
   ]
  },
  {
   "cell_type": "markdown",
   "id": "de0bf288-24ba-4a50-a225-400c6fff5c61",
   "metadata": {},
   "source": [
    "Go get your text of choice."
   ]
  },
  {
   "cell_type": "code",
   "execution_count": 95,
   "id": "2be92b95-76d6-4a2c-ba2f-67379998956e",
   "metadata": {},
   "outputs": [],
   "source": [
    "# with open('../../data/PGEssays/superlinear.txt') as file:\n",
    "with open('../../../text_files/paul_graham_mit_essays.txt') as file:\n",
    "    essay = file.read()"
   ]
  },
  {
   "cell_type": "markdown",
   "id": "25f4ee69-a87e-481e-b01d-403021a2610b",
   "metadata": {},
   "source": [
    "Then you need to decide what you send to your proposal maker.  \n",
    "The prompt has an example that is about 1K characters long.  \n",
    "So I would experiment with what works for you.  \n",
    "This isn't another chunking decision, just pick something reasonable and try it out.\n",
    "\n",
    "I'm using paragraphs"
   ]
  },
  {
   "cell_type": "code",
   "execution_count": 96,
   "id": "1121baaf-c65a-4dce-a942-83cfbf6891cc",
   "metadata": {},
   "outputs": [],
   "source": [
    "paragraphs = essay.split(\"\\n\\n\")"
   ]
  },
  {
   "cell_type": "markdown",
   "id": "e29ae4f7-e58b-4941-b243-ccc72c3bf37c",
   "metadata": {},
   "source": [
    "Let's see how many we have"
   ]
  },
  {
   "cell_type": "code",
   "execution_count": 97,
   "id": "6a2c36b2-bce3-461f-9f52-af1c10b1c3ab",
   "metadata": {},
   "outputs": [
    {
     "data": {
      "text/plain": [
       "87"
      ]
     },
     "execution_count": 97,
     "metadata": {},
     "output_type": "execute_result"
    }
   ],
   "source": [
    "len(paragraphs)"
   ]
  },
  {
   "cell_type": "markdown",
   "id": "6c3cb285-abf3-4334-aff7-5f84d741c7f4",
   "metadata": {},
   "source": [
    "That's too many for a demo, I'll do just the first couple to show it off."
   ]
  },
  {
   "cell_type": "code",
   "execution_count": 104,
   "id": "46fddfc4-7cd6-4fe4-add7-7a12c593ef6c",
   "metadata": {},
   "outputs": [
    {
     "name": "stdout",
     "output_type": "stream",
     "text": [
      "Done with 0\n",
      "Done with 1\n",
      "Done with 2\n",
      "Done with 3\n",
      "Done with 4\n",
      "Done with 5\n",
      "Done with 6\n",
      "Done with 7\n",
      "Done with 8\n",
      "Done with 9\n",
      "Done with 10\n",
      "Done with 11\n",
      "Done with 12\n",
      "Done with 13\n",
      "Done with 14\n",
      "Done with 15\n",
      "Done with 16\n",
      "Done with 17\n",
      "Done with 18\n",
      "Done with 19\n",
      "Done with 20\n",
      "Done with 21\n",
      "Done with 22\n",
      "Done with 23\n",
      "Done with 24\n",
      "Done with 25\n",
      "Done with 26\n",
      "Done with 27\n",
      "Done with 28\n",
      "Done with 29\n"
     ]
    }
   ],
   "source": [
    "essay_propositions = []\n",
    "\n",
    "for i, para in enumerate(paragraphs[:30]):\n",
    "    propositions = get_propositions(para)\n",
    "    \n",
    "    essay_propositions.extend(propositions)\n",
    "    print (f\"Done with {i}\")"
   ]
  },
  {
   "cell_type": "markdown",
   "id": "c01906ad-b5a2-4b73-a079-4564b66b147e",
   "metadata": {},
   "source": [
    "Let's take a look at what the propositions look like"
   ]
  },
  {
   "cell_type": "code",
   "execution_count": 105,
   "id": "4867944e-13f0-4207-b787-692eeebadea6",
   "metadata": {},
   "outputs": [
    {
     "name": "stdout",
     "output_type": "stream",
     "text": [
      "You have 123 propositions\n"
     ]
    },
    {
     "data": {
      "text/plain": [
       "['Startups are newly established businesses.',\n",
       " 'You can start a startup.',\n",
       " 'You can get funded by Y Combinator.',\n",
       " 'The month is October.',\n",
       " 'The year is 2006.',\n",
       " 'This essay is derived from a talk at MIT.',\n",
       " 'Till recently graduating seniors had two choices: get a job or go to grad school.',\n",
       " 'There will increasingly be a third option for graduating seniors.',\n",
       " 'The third option for graduating seniors is to start their own startup.',\n",
       " 'It is uncertain how common starting a startup will be among graduating seniors.']"
      ]
     },
     "execution_count": 105,
     "metadata": {},
     "output_type": "execute_result"
    }
   ],
   "source": [
    "print (f\"You have {len(essay_propositions)} propositions\")\n",
    "essay_propositions[:10]"
   ]
  },
  {
   "cell_type": "markdown",
   "id": "941ebfc6-da6a-4fb8-833d-ed2e9810f25e",
   "metadata": {},
   "source": [
    "So you'll see that they look like regular sentences,  \n",
    "but `they are actually statements that are able to stand on their own.`  \n",
    "For example, one of the sentences in the raw text is \"They meant well, but this is rarely true.\"  \n",
    "if you were to chunk that on it's own, the LLM would have no idea who you're talking about.  \n",
    "Who meant well? What is rarely true? But those have been covered by the propositions.\n",
    "\n",
    "Now onto the cool part, we need a system that can reason about each proposition and determine whether or not it should be a part of an existing chunk or if a new chunk should be made.\n",
    "\n",
    "The `pseudo code` for how this works is above -  \n",
    "I also review this code in the video so make sure to go watch that if you want to see me chat about it live.\n",
    "\n",
    "The script is also in this repo if you've cloned it."
   ]
  },
  {
   "cell_type": "code",
   "execution_count": 102,
   "id": "1193f8e1-28aa-4c8c-8929-bfbcf7edc618",
   "metadata": {},
   "outputs": [],
   "source": [
    "# mini script I made\n",
    "from agentic_chunker import AgenticChunker"
   ]
  },
  {
   "cell_type": "code",
   "execution_count": 103,
   "id": "f550431a-9484-4095-a888-31ec3cbe1b42",
   "metadata": {},
   "outputs": [],
   "source": [
    "ac = AgenticChunker()"
   ]
  },
  {
   "cell_type": "markdown",
   "id": "833086aa-d1b7-4ac8-9d85-3a71e6e634ab",
   "metadata": {},
   "source": [
    "Then let's pass in our propositions to it. There are a lot in the full list so I'm only going to do a subset.\n",
    "\n",
    "This method is slow and expensive, but let's see how the results are.\n",
    "\n",
    "You can turn off the print statements via setting `ac = AgenticChunker(print_logging=False)` when you create your chunker."
   ]
  },
  {
   "cell_type": "code",
   "execution_count": 106,
   "id": "f7e9892a-9a1c-4269-a262-7cc4ab0eed32",
   "metadata": {},
   "outputs": [
    {
     "name": "stdout",
     "output_type": "stream",
     "text": [
      "\n",
      "Adding: 'Startups are newly established businesses.'\n",
      "No chunks, creating a new one\n",
      "Created new chunk (0b53e): Business Types & Characteristics\n",
      "\n",
      "Adding: 'You can start a startup.'\n",
      "No chunks found\n",
      "Created new chunk (650ed): Entrepreneurship & Startups\n",
      "\n",
      "Adding: 'You can get funded by Y Combinator.'\n",
      "Chunk Found (650ed), adding to: Entrepreneurship & Startups\n",
      "\n",
      "Adding: 'The month is October.'\n",
      "No chunks found\n",
      "Created new chunk (1d6c7): Date & Times\n",
      "\n",
      "Adding: 'The year is 2006.'\n",
      "Chunk Found (1d6c7), adding to: Date & Times\n",
      "\n",
      "Adding: 'This essay is derived from a talk at MIT.'\n",
      "No chunks found\n",
      "Created new chunk (cb7b9): Essay & Speech Origins\n",
      "\n",
      "Adding: 'Till recently graduating seniors had two choices: get a job or go to grad school.'\n",
      "No chunks found\n",
      "Created new chunk (90d94): Post-Graduation Paths\n",
      "\n",
      "Adding: 'There will increasingly be a third option for graduating seniors.'\n",
      "Chunk Found (90d94), adding to: Post-Graduation Paths\n",
      "\n",
      "Adding: 'The third option for graduating seniors is to start their own startup.'\n",
      "Chunk Found (650ed), adding to: Starting a Business & Securing Funding\n",
      "\n",
      "Adding: 'It is uncertain how common starting a startup will be among graduating seniors.'\n",
      "Chunk Found (650ed), adding to: Entrepreneurship & Investment Options for Graduates\n",
      "\n",
      "Adding: 'The default will always be to get a job.'\n",
      "No chunks found\n",
      "Created new chunk (fcc6e): Employment & Career Norms\n",
      "\n",
      "Adding: 'The most ambitious students will at this point be asking: Why wait till you graduate?'\n",
      "Chunk Found (650ed), adding to: Entrepreneurship for Graduating Seniors\n",
      "\n",
      "Adding: 'A year and a half ago, I gave a talk.'\n",
      "Chunk Found (1d6c7), adding to: Dates & Years\n",
      "\n",
      "Adding: 'I now realize something changes at graduation.'\n",
      "Chunk Found (90d94), adding to: Evolving Post-Graduation Options\n",
      "\n",
      "Adding: 'You lose a huge excuse for failing at graduation.'\n",
      "No chunks found\n",
      "Created new chunk (1a93e): Consequences of Failure\n",
      "\n",
      "Adding: 'Regardless of how complex your life is, everyone else will discard all the low bits.'\n",
      "No chunks found\n",
      "Created new chunk (f4cd8): Understanding Others' Complexities\n",
      "\n",
      "Adding: 'Everyone else will regard you as having a single occupation at any given time.'\n",
      "Chunk Found (fcc6e), adding to: Employment & Career Norms\n",
      "\n",
      "Adding: 'Everyone else includes your family and friends.'\n",
      "No chunks found\n",
      "Created new chunk (28c0f): Inclusivity & Definitions\n",
      "\n",
      "Adding: 'If you are in college and have a summer job writing software, you still read as a student.'\n",
      "Chunk Found (650ed), adding to: Entrepreneurship & Startups for Students\n",
      "\n",
      "Adding: 'If you graduate and get a job programming, you will be instantly regarded by everyone as a programmer.'\n",
      "Chunk Found (fcc6e), adding to: Societal Expectations on Occupation\n",
      "\n",
      "Adding: 'There is a problem with starting a startup while you are still in school.'\n",
      "Chunk Found (650ed), adding to: Entrepreneurship Opportunities for Students & Graduates\n",
      "\n",
      "Adding: 'The problem with starting a startup while you are still in school is that there is a built-in escape hatch.'\n",
      "Chunk Found (650ed), adding to: Starting a Startup: Student & Graduate Perspectives\n",
      "\n",
      "Adding: 'If you start a startup in the summer between your junior and senior year, it reads to everyone as a summer job.'\n",
      "Chunk Found (650ed), adding to: Entrepreneurship for Students & Graduates\n",
      "\n",
      "Adding: 'If the startup goes nowhere, it is not a big deal.'\n",
      "Chunk Found (1a93e), adding to: Consequences of Failure\n",
      "\n",
      "Adding: 'You return to school in the fall with all the other seniors.'\n",
      "Chunk Found (90d94), adding to: Post-Graduation Choices & Changes\n",
      "\n",
      "Adding: 'No one regards you as a failure if you return to school in the fall.'\n",
      "Chunk Found (1a93e), adding to: Attitudes Towards Failure\n",
      "\n",
      "Adding: 'Your occupation is student.'\n",
      "Chunk Found (fcc6e), adding to: Occupational Identity & Perception\n",
      "\n",
      "Adding: 'You did not fail at being a student.'\n",
      "Chunk Found (1a93e), adding to: Perceptions of Success & Failure\n",
      "\n",
      "Adding: 'If you start a startup just one year later, after you graduate, the startup reads to everyone as your occupation.'\n",
      "Chunk Found (fcc6e), adding to: Occupational Labels & Societal Perceptions\n",
      "\n",
      "Adding: 'You must not be accepted to grad school in the fall for the startup to read as your occupation.'\n",
      "Chunk Found (fcc6e), adding to: Occupational Identity & Social Perception\n",
      "\n",
      "Adding: 'You are now a startup founder.'\n",
      "Chunk Found (650ed), adding to: Starting a Startup as a Student or Recent Graduate\n",
      "\n",
      "Adding: 'You have to do well as a startup founder.'\n",
      "Chunk Found (650ed), adding to: Entrepreneurship for Students & Graduates\n",
      "\n",
      "Adding: 'The opinion of one's peers is the most powerful motivator of all.'\n",
      "Chunk Found (fcc6e), adding to: Occupational Identity & Societal Views\n",
      "\n",
      "Adding: 'Starting a startup explicitly to get rich makes the money you might get seem pretty theoretical most of the time.'\n",
      "Chunk Found (650ed), adding to: Starting a Startup: Student & Graduate Journey\n",
      "\n",
      "Adding: 'What drives you day to day is not wanting to look bad.'\n",
      "Chunk Found (fcc6e), adding to: Occupation Perception & Peer Influence\n",
      "\n",
      "Adding: 'You probably can't change the fact that peers influence your behavior.'\n",
      "Chunk Found (fcc6e), adding to: Career Identity & Social Motivation\n",
      "\n",
      "Adding: 'Even if you could change the fact that peers influence your behavior, I don't think you'd want to.'\n",
      "Chunk Found (fcc6e), adding to: Occupation & Peer Influence\n",
      "\n",
      "Adding: 'Someone who truly doesn't care what his peers think of him is probably a psychopath.'\n",
      "No chunks found\n",
      "Created new chunk (a259a): Personality Traits\n",
      "\n",
      "Adding: 'The best you can do is consider the influence of peers like a wind.'\n",
      "Chunk Found (fcc6e), adding to: Career Choices & Societal Expectations\n",
      "\n",
      "Adding: 'You should set up your boat accordingly to the influence of peers.'\n",
      "Chunk Found (fcc6e), adding to: Occupational Identity & Peer Influence\n",
      "\n",
      "Adding: 'If you know your peers are going to push you in some direction, choose good peers.'\n",
      "Chunk Found (fcc6e), adding to: Career Choices & Societal Expectations\n",
      "\n",
      "Adding: 'You should position yourself so your peers push you in a direction you like.'\n",
      "Chunk Found (fcc6e), adding to: Occupational Identity & Peer Influence\n",
      "\n",
      "Adding: 'Graduation changes the prevailing winds.'\n",
      "No chunks found\n",
      "Created new chunk (21391): Post-Graduation Impact\n",
      "\n",
      "Adding: 'Y Combinator encouraged people to start startups while they were still in college when Y Combinator first started.'\n",
      "Chunk Found (650ed), adding to: Entrepreneurship & Startups for Students and Graduates\n",
      "\n",
      "Adding: 'Sam Altman is the co-founder of Loopt.'\n",
      "No chunks found\n",
      "Created new chunk (6bcc5): Sam Altman's Career & Ventures\n",
      "\n",
      "Adding: 'Sam Altman had just finished his sophomore year when we funded Loopt.'\n",
      "Chunk Found (6bcc5), adding to: Sam Altman's Career & Ventures\n",
      "\n",
      "Adding: 'Loopt is probably the most promising of all the startups we've funded so far.'\n",
      "Chunk Found (6bcc5), adding to: Sam Altman & Loopt Founding\n",
      "\n",
      "Adding: 'Sam Altman is a very unusual guy.'\n",
      "Chunk Found (6bcc5), adding to: Sam Altman, Loopt & Startup Significance\n",
      "\n",
      "Adding: 'Within about three minutes of meeting Sam Altman, I remember thinking 'Ah, so this is what Bill Gates must have been like when he was 19.''\n",
      "Chunk Found (6bcc5), adding to: Sam Altman & Entrepreneurship\n",
      "\n",
      "Adding: 'Starting a startup during college can work.'\n",
      "Chunk Found (650ed), adding to: Starting a Startup: Student & Graduate Perspectives\n",
      "\n",
      "Adding: 'People are often advised not to start a startup during college.'\n",
      "Chunk Found (650ed), adding to: Starting a Startup: Considerations for Students & Graduates\n",
      "\n",
      "Adding: 'Our official policy now is only to fund undergrads we can't talk out of starting a company.'\n",
      "Chunk Found (650ed), adding to: Entrepreneurship & College Experience\n",
      "\n",
      "Adding: 'Frankly, if you are not certain, you should wait.'\n",
      "Chunk Found (650ed), adding to: Starting a Startup as a College Student\n",
      "\n",
      "Adding: 'All the opportunities to start companies are not going to be gone if you don't start now.'\n",
      "Chunk Found (650ed), adding to: College Entrepreneurship & Startups\n",
      "\n",
      "Adding: 'Maybe the window will close on some idea you are working on.'\n",
      "Chunk Found (1a93e), adding to: Attitudes Toward Success, Failure & Setbacks\n",
      "\n",
      "Adding: 'That won't be the last idea you will have.'\n",
      "Chunk Found (1a93e), adding to: Success, Failure & Opportunity Perspectives\n",
      "\n",
      "Adding: 'For every idea that times out, new ideas become feasible.'\n",
      "Chunk Found (1a93e), adding to: Perspectives on Success & Failure\n",
      "\n",
      "Adding: 'Historically, the opportunities to start startups have only increased with time.'\n",
      "Chunk Found (650ed), adding to: Starting a Startup: Considerations for Students & Graduates\n",
      "\n",
      "Adding: 'You might ask, why not wait longer to start a startup?'\n",
      "Chunk Found (650ed), adding to: Starting a Startup: Timing & Challenges for Students & Young Entrepreneurs\n",
      "\n",
      "Adding: 'You might ask, why not go work for a while before starting a startup?'\n",
      "Chunk Found (650ed), adding to: Starting a Startup: Considerations for Students & Graduates\n",
      "\n",
      "Adding: 'You might ask, why not go to grad school before starting a startup?'\n",
      "Chunk Found (650ed), adding to: Starting a Startup: Guidance for Students & Timing Considerations\n",
      "\n",
      "Adding: 'Waiting longer to start a startup might be a good idea.'\n",
      "Chunk Found (650ed), adding to: Starting a Startup: Student Considerations & Timing\n",
      "\n",
      "Adding: 'The speaker believes the sweet spot for startup founders is probably the mid-twenties.'\n",
      "Chunk Found (650ed), adding to: Starting a Startup: Considerations, Timing & Academic Context\n",
      "\n",
      "Adding: 'The speaker bases the sweet spot for startup founders on who they are most excited to see applications from.'\n",
      "Chunk Found (650ed), adding to: Entrepreneurship & Starting a Startup in Academia\n",
      "\n",
      "Adding: 'The speaker questions the advantages someone in their mid-twenties has over someone who is 21.'\n",
      "Chunk Found (650ed), adding to: Starting a Startup: Timing, Challenges, and Age Considerations\n",
      "\n",
      "Adding: 'The speaker questions why the sweet spot for startup founders isn't older.'\n",
      "Chunk Found (650ed), adding to: Entrepreneurship & Starting a Startup as a Young Adult\n",
      "\n",
      "Adding: 'The speaker questions what 25 year olds can do that 32 year olds can't.'\n",
      "Chunk Found (650ed), adding to: Starting a Startup: Timing & Considerations for Young Entrepreneurs\n",
      "\n",
      "Adding: 'These questions about the advantages of certain ages for startup founders turn out to be worth examining.'\n",
      "Chunk Found (650ed), adding to: Entrepreneurship & Starting a Startup: Challenges and Timing\n",
      "\n",
      "Adding: 'Please provide the specific content you want me to decompose.'\n",
      "No chunks found\n",
      "Created new chunk (2de61): Content Submission Guidelines\n",
      "\n",
      "Adding: 'The current input seems to be incomplete.'\n",
      "No chunks found\n",
      "Created new chunk (e4493): User Input Errors\n",
      "\n",
      "Adding: 'If you start a startup soon after college, you will be a young founder by present standards.'\n",
      "Chunk Found (650ed), adding to: Founding Startups: Timing, Age, and Challenges\n",
      "\n",
      "Adding: 'You should know what the relative advantages of young founders are.'\n",
      "Chunk Found (650ed), adding to: Starting a Startup: College Timing & Age Considerations\n",
      "\n",
      "Adding: 'The advantages of young founders are not what you might think.'\n",
      "Chunk Found (650ed), adding to: Entrepreneurship: Starting a Startup in College & Age Dynamics\n",
      "\n",
      "Adding: 'As a young founder, your strengths are stamina, poverty, rootlessness, colleagues, and ignorance.'\n",
      "Chunk Found (650ed), adding to: Starting a Startup: Timing, Age Considerations & College Context\n",
      "\n",
      "Adding: 'The importance of stamina shouldn't be surprising.'\n",
      "No chunks found\n",
      "Created new chunk (e40a5): Stamina & Endurance\n",
      "\n",
      "Adding: 'Startups are associated with long hours.'\n",
      "No chunks found\n",
      "Created new chunk (0fa1e): Startup Work Environment\n",
      "\n",
      "Adding: 'The long hours in startups are universal.'\n",
      "Chunk Found (0fa1e), adding to: Startup Work Environment\n",
      "\n",
      "Adding: 'There are no successful startups whose founders worked 9 to 5.'\n",
      "Chunk Found (0fa1e), adding to: Startup Culture & Working Hours\n",
      "\n",
      "Adding: 'Younger founders need to work long hours.'\n",
      "Chunk Found (0fa1e), adding to: Work Culture in Startups\n",
      "\n",
      "Adding: 'Younger founders are probably not as efficient as they'll be later.'\n",
      "Chunk Found (650ed), adding to: Entrepreneurship: Starting a Startup & Age Dynamics\n",
      "\n",
      "Adding: 'Poverty might not sound like an advantage.'\n",
      "No chunks found\n",
      "Created new chunk (f69cd): Poverty Perspectives & Impacts\n",
      "\n",
      "Adding: 'Poverty is a huge advantage.'\n",
      "No chunks found\n",
      "Created new chunk (c6c4d): Unconventional Societal Views\n",
      "\n",
      "Adding: 'Poverty implies you can live cheaply.'\n",
      "Chunk Found (f69cd), adding to: Poverty Perspectives & Impacts\n",
      "\n",
      "Adding: 'Living cheaply is critically important for startups.'\n",
      "Chunk Found (0fa1e), adding to: Startup Work Hours & Commitment\n",
      "\n",
      "Adding: 'Nearly every startup that fails, fails by running out of money.'\n",
      "Chunk Found (650ed), adding to: Starting a Startup: Timing, Challenges, and Age Considerations\n",
      "\n",
      "Adding: 'It is a little misleading to say that startups fail by running out of money.'\n",
      "Chunk Found (0fa1e), adding to: Startup Culture & Lifestyle\n",
      "\n",
      "Adding: 'There is usually some other underlying cause for startup failure.'\n",
      "Chunk Found (0fa1e), adding to: Startup Work Ethic & Sustainability\n",
      "\n",
      "Adding: 'A low burn rate gives you more opportunity to recover from problems regardless of their source.'\n",
      "Chunk Found (0fa1e), adding to: Startup Culture & Challenges\n",
      "\n",
      "Adding: 'Most startups make all kinds of mistakes at first.'\n",
      "Chunk Found (0fa1e), adding to: Startup Culture & Dynamics\n",
      "\n",
      "Adding: 'Room to recover from mistakes is a valuable thing to have for startups.'\n",
      "Chunk Found (0fa1e), adding to: Startup Culture & Challenges\n",
      "\n",
      "Adding: 'Most startups end up doing something different than they planned.'\n",
      "Chunk Found (0fa1e), adding to: Startup Work Ethic, Financial Strategy & Resilience\n",
      "\n",
      "Adding: 'The successful startups find something that works by trying things that don't.'\n",
      "Chunk Found (1a93e), adding to: Attitudes Towards Setbacks & Opportunities\n",
      "\n",
      "Adding: 'The worst thing you can do in a startup is to have a rigid, pre-ordained plan.'\n",
      "Chunk Found (0fa1e), adding to: Startup Culture & Challenges\n",
      "\n",
      "Adding: 'It is also bad for a startup to start spending a lot of money to implement a rigid, pre-ordained plan.'\n",
      "Chunk Found (0fa1e), adding to: Startup Work Ethic, Financial Tactics & Adaptability\n",
      "\n",
      "Adding: 'It is better to operate cheaply in a startup.'\n",
      "Chunk Found (0fa1e), adding to: Startup Culture: Work Ethic, Financial Strategy & Flexibility\n",
      "\n",
      "Adding: 'It is better to give your ideas time to evolve in a startup.'\n",
      "Chunk Found (650ed), adding to: Startup Founding: Academic Timing & Age Dynamics\n",
      "\n",
      "Adding: 'Recent grads can live on practically nothing.'\n",
      "Chunk Found (21391), adding to: Post-Graduation Impact\n",
      "\n",
      "Adding: 'Recent grads living on practically nothing gives recent grads an edge over older founders.'\n",
      "Chunk Found (650ed), adding to: Starting a Startup: Timing, Age Considerations & College Context\n",
      "\n",
      "Adding: 'The main cost in software startups is people.'\n",
      "Chunk Found (0fa1e), adding to: Startup Culture & Success Factors\n",
      "\n",
      "Adding: 'The guys with kids and mortgages are at a real disadvantage.'\n",
      "Chunk Found (fcc6e), adding to: Career Choices & Societal Expectations\n",
      "\n",
      "Adding: 'This disadvantage is one reason I'd bet on the 25 year old over the 32 year old.'\n",
      "Chunk Found (650ed), adding to: Startup Founding: Timing, Age, and Academic Considerations\n",
      "\n",
      "Adding: 'The 32 year old probably is a better programmer.'\n",
      "No chunks found\n",
      "Created new chunk (80f70): Age & Programming Skills\n",
      "\n",
      "Adding: 'The 32 year old probably also has a much more expensive life.'\n",
      "Chunk Found (21391), adding to: Graduation Lifestyle & Adaptations\n",
      "\n",
      "Adding: 'A 25 year old has some work experience.'\n",
      "No chunks found\n",
      "Created new chunk (fecdb): Professional Background & Age\n",
      "\n",
      "Adding: 'A 25 year old can live as cheaply as an undergrad.'\n",
      "Chunk Found (21391), adding to: Post-Graduation Financial Adjustments & Lifestyle Changes\n",
      "\n",
      "Adding: 'Robert Morris was 29 years old when Robert Morris started Viaweb.'\n",
      "Chunk Found (6bcc5), adding to: Sam Altman's Entrepreneurial Journey & Comparisons\n",
      "\n",
      "Adding: 'Robert Morris and the author still lived like 23 year olds when they started Viaweb.'\n",
      "Chunk Found (6bcc5), adding to: Entrepreneurial Journeys in Tech & Industry Comparisons\n",
      "\n",
      "Adding: 'Robert Morris had roughly zero assets when Robert Morris started Viaweb.'\n",
      "Chunk Found (6bcc5), adding to: Tech Startups and Founder Profiles\n",
      "\n",
      "Adding: 'The Apple II was cheap.'\n",
      "No chunks found\n",
      "Created new chunk (756f5): Historical Computer Pricing\n",
      "\n",
      "Adding: 'The Apple II used cheap, off-the-shelf peripherals.'\n",
      "Chunk Found (756f5), adding to: Historical Computer Pricing\n",
      "\n",
      "Adding: 'One cheap, off-the-shelf peripheral used by the Apple II was a cassette tape recorder for data storage.'\n",
      "Chunk Found (756f5), adding to: Apple II Cost & Components\n",
      "\n",
      "Adding: 'Another cheap, off-the-shelf peripheral used by the Apple II was a TV as a monitor.'\n",
      "Chunk Found (756f5), adding to: Apple II Affordability & Peripherals\n",
      "\n",
      "Adding: 'Woz designed the Apple II computer for himself.'\n",
      "Chunk Found (756f5), adding to: Apple II Cost-Effectiveness & Peripheral Compatibility\n",
      "\n",
      "Adding: 'Woz couldn't afford anything more expensive.'\n",
      "Chunk Found (756f5), adding to: Apple II Design, Affordability & Peripherals\n",
      "\n",
      "Adding: 'The top level of service was $300 a month.'\n",
      "No chunks found\n",
      "Created new chunk (bd839): Service Pricing Levels\n",
      "\n",
      "Adding: 'Traditional long distance carriers are an example of existing players.'\n",
      "No chunks found\n",
      "Created new chunk (96c4c): Traditional Communication Services\n",
      "\n",
      "Adding: 'The advantages of rootlessness are similar to the advantages of poverty.'\n",
      "Chunk Found (f69cd), adding to: Poverty: Disadvantages & Potential Benefits\n",
      "\n",
      "Adding: 'When you're young, you're more mobile.'\n",
      "Chunk Found (650ed), adding to: Starting a Startup: Considerations for College Students and Graduates\n",
      "\n",
      "Adding: 'You are more mobile when you're young because you don't have a house.'\n",
      "Chunk Found (650ed), adding to: Startup Founding: Timing, Challenges & Age Advantages\n",
      "\n",
      "Adding: 'You are more mobile when you're young because you don't have much stuff.'\n",
      "Chunk Found (650ed), adding to: Starting a Startup: Considerations for Young Founders\n",
      "\n",
      "Adding: 'You are more mobile when you're young because you're less likely to have serious relationships.'\n",
      "Chunk Found (650ed), adding to: Entrepreneurship Timing & Challenges for Young Founders\n",
      "\n",
      "Adding: 'Being more mobile turns out to be important.'\n",
      "No chunks found\n",
      "Created new chunk (2e6e2): Mobility Importance\n",
      "\n",
      "Adding: 'A lot of startups involve someone moving.'\n",
      "Chunk Found (0fa1e), adding to: Startup Culture, Work Ethic & Financial Management\n"
     ]
    }
   ],
   "source": [
    "ac.add_propositions(essay_propositions)"
   ]
  },
  {
   "cell_type": "markdown",
   "id": "1481fe66-f73c-4fd2-a51c-3a1131a8e57c",
   "metadata": {},
   "source": [
    "Cool, looks like a few chunks were made. Let's check them out"
   ]
  },
  {
   "cell_type": "code",
   "execution_count": 107,
   "id": "63741c55",
   "metadata": {},
   "outputs": [
    {
     "name": "stdout",
     "output_type": "stream",
     "text": [
      "<agentic_chunker.AgenticChunker object at 0x3e0d8fe80>\n"
     ]
    }
   ],
   "source": [
    "print(ac)"
   ]
  },
  {
   "cell_type": "code",
   "execution_count": 108,
   "id": "27c79f2a-119e-45f2-8883-0f623a7c211e",
   "metadata": {},
   "outputs": [
    {
     "name": "stdout",
     "output_type": "stream",
     "text": [
      "\n",
      "You have 24 chunks\n",
      "\n",
      "Chunk #0\n",
      "Chunk ID: 0b53e\n",
      "Summary: This chunk contains definitions and characteristics of different types of businesses.\n",
      "Propositions:\n",
      "    -Startups are newly established businesses.\n",
      "\n",
      "\n",
      "\n",
      "Chunk #1\n",
      "Chunk ID: 650ed\n",
      "Summary: This chunk discusses the considerations and implications of starting a startup, particularly for young and college-aged entrepreneurs, including the optimal timing, potential challenges, and unique advantages of early founders.\n",
      "Propositions:\n",
      "    -You can start a startup.\n",
      "    -You can get funded by Y Combinator.\n",
      "    -The third option for graduating seniors is to start their own startup.\n",
      "    -It is uncertain how common starting a startup will be among graduating seniors.\n",
      "    -The most ambitious students will at this point be asking: Why wait till you graduate?\n",
      "    -If you are in college and have a summer job writing software, you still read as a student.\n",
      "    -There is a problem with starting a startup while you are still in school.\n",
      "    -The problem with starting a startup while you are still in school is that there is a built-in escape hatch.\n",
      "    -If you start a startup in the summer between your junior and senior year, it reads to everyone as a summer job.\n",
      "    -You are now a startup founder.\n",
      "    -You have to do well as a startup founder.\n",
      "    -Starting a startup explicitly to get rich makes the money you might get seem pretty theoretical most of the time.\n",
      "    -Y Combinator encouraged people to start startups while they were still in college when Y Combinator first started.\n",
      "    -Starting a startup during college can work.\n",
      "    -People are often advised not to start a startup during college.\n",
      "    -Our official policy now is only to fund undergrads we can't talk out of starting a company.\n",
      "    -Frankly, if you are not certain, you should wait.\n",
      "    -All the opportunities to start companies are not going to be gone if you don't start now.\n",
      "    -Historically, the opportunities to start startups have only increased with time.\n",
      "    -You might ask, why not wait longer to start a startup?\n",
      "    -You might ask, why not go work for a while before starting a startup?\n",
      "    -You might ask, why not go to grad school before starting a startup?\n",
      "    -Waiting longer to start a startup might be a good idea.\n",
      "    -The speaker believes the sweet spot for startup founders is probably the mid-twenties.\n",
      "    -The speaker bases the sweet spot for startup founders on who they are most excited to see applications from.\n",
      "    -The speaker questions the advantages someone in their mid-twenties has over someone who is 21.\n",
      "    -The speaker questions why the sweet spot for startup founders isn't older.\n",
      "    -The speaker questions what 25 year olds can do that 32 year olds can't.\n",
      "    -These questions about the advantages of certain ages for startup founders turn out to be worth examining.\n",
      "    -If you start a startup soon after college, you will be a young founder by present standards.\n",
      "    -You should know what the relative advantages of young founders are.\n",
      "    -The advantages of young founders are not what you might think.\n",
      "    -As a young founder, your strengths are stamina, poverty, rootlessness, colleagues, and ignorance.\n",
      "    -Younger founders are probably not as efficient as they'll be later.\n",
      "    -Nearly every startup that fails, fails by running out of money.\n",
      "    -It is better to give your ideas time to evolve in a startup.\n",
      "    -Recent grads living on practically nothing gives recent grads an edge over older founders.\n",
      "    -This disadvantage is one reason I'd bet on the 25 year old over the 32 year old.\n",
      "    -When you're young, you're more mobile.\n",
      "    -You are more mobile when you're young because you don't have a house.\n",
      "    -You are more mobile when you're young because you don't have much stuff.\n",
      "    -You are more mobile when you're young because you're less likely to have serious relationships.\n",
      "\n",
      "\n",
      "\n",
      "Chunk #2\n",
      "Chunk ID: 1d6c7\n",
      "Summary: This chunk contains information about specific dates and times, including months, years, and past events.\n",
      "Propositions:\n",
      "    -The month is October.\n",
      "    -The year is 2006.\n",
      "    -A year and a half ago, I gave a talk.\n",
      "\n",
      "\n",
      "\n",
      "Chunk #3\n",
      "Chunk ID: cb7b9\n",
      "Summary: This chunk contains information about the origins and sources of essays and talks.\n",
      "Propositions:\n",
      "    -This essay is derived from a talk at MIT.\n",
      "\n",
      "\n",
      "\n",
      "Chunk #4\n",
      "Chunk ID: 90d94\n",
      "Summary: This chunk explores the various paths and transitions students encounter after graduating from school.\n",
      "Propositions:\n",
      "    -Till recently graduating seniors had two choices: get a job or go to grad school.\n",
      "    -There will increasingly be a third option for graduating seniors.\n",
      "    -I now realize something changes at graduation.\n",
      "    -You return to school in the fall with all the other seniors.\n",
      "\n",
      "\n",
      "\n",
      "Chunk #5\n",
      "Chunk ID: fcc6e\n",
      "Summary: This chunk discusses how societal expectations and peer influence shape individual career choices, occupational identity, and the motivation behind personal decisions.\n",
      "Propositions:\n",
      "    -The default will always be to get a job.\n",
      "    -Everyone else will regard you as having a single occupation at any given time.\n",
      "    -If you graduate and get a job programming, you will be instantly regarded by everyone as a programmer.\n",
      "    -Your occupation is student.\n",
      "    -If you start a startup just one year later, after you graduate, the startup reads to everyone as your occupation.\n",
      "    -You must not be accepted to grad school in the fall for the startup to read as your occupation.\n",
      "    -The opinion of one's peers is the most powerful motivator of all.\n",
      "    -What drives you day to day is not wanting to look bad.\n",
      "    -You probably can't change the fact that peers influence your behavior.\n",
      "    -Even if you could change the fact that peers influence your behavior, I don't think you'd want to.\n",
      "    -The best you can do is consider the influence of peers like a wind.\n",
      "    -You should set up your boat accordingly to the influence of peers.\n",
      "    -If you know your peers are going to push you in some direction, choose good peers.\n",
      "    -You should position yourself so your peers push you in a direction you like.\n",
      "    -The guys with kids and mortgages are at a real disadvantage.\n",
      "\n",
      "\n",
      "\n",
      "Chunk #6\n",
      "Chunk ID: 1a93e\n",
      "Summary: This chunk explores perspectives on failure and success, highlighting the normalcy of setbacks and the continuous pursuit of new opportunities in both academic and startup environments.\n",
      "Propositions:\n",
      "    -You lose a huge excuse for failing at graduation.\n",
      "    -If the startup goes nowhere, it is not a big deal.\n",
      "    -No one regards you as a failure if you return to school in the fall.\n",
      "    -You did not fail at being a student.\n",
      "    -Maybe the window will close on some idea you are working on.\n",
      "    -That won't be the last idea you will have.\n",
      "    -For every idea that times out, new ideas become feasible.\n",
      "    -The successful startups find something that works by trying things that don't.\n",
      "\n",
      "\n",
      "\n",
      "Chunk #7\n",
      "Chunk ID: f4cd8\n",
      "Summary: This chunk discusses the concept that people often overlook the complexities in others' lives.\n",
      "Propositions:\n",
      "    -Regardless of how complex your life is, everyone else will discard all the low bits.\n",
      "\n",
      "\n",
      "\n",
      "Chunk #8\n",
      "Chunk ID: 28c0f\n",
      "Summary: This chunk contains information about who is encompassed by the term \"everyone else.\"\n",
      "Propositions:\n",
      "    -Everyone else includes your family and friends.\n",
      "\n",
      "\n",
      "\n",
      "Chunk #9\n",
      "Chunk ID: a259a\n",
      "Summary: This chunk discusses opinions on the psychological characteristics of individuals who disregard others' perceptions.\n",
      "Propositions:\n",
      "    -Someone who truly doesn't care what his peers think of him is probably a psychopath.\n",
      "\n",
      "\n",
      "\n",
      "Chunk #10\n",
      "Chunk ID: 21391\n",
      "Summary: This chunk discusses the financial lifestyle and changes experienced after graduation.\n",
      "Propositions:\n",
      "    -Graduation changes the prevailing winds.\n",
      "    -Recent grads can live on practically nothing.\n",
      "    -The 32 year old probably also has a much more expensive life.\n",
      "    -A 25 year old can live as cheaply as an undergrad.\n",
      "\n",
      "\n",
      "\n",
      "Chunk #11\n",
      "Chunk ID: 6bcc5\n",
      "Summary: This chunk provides insights into the early careers and personal attributes of tech entrepreneurs Sam Altman and Robert Morris, focusing on their startups Loopt and Viaweb.\n",
      "Propositions:\n",
      "    -Sam Altman is the co-founder of Loopt.\n",
      "    -Sam Altman had just finished his sophomore year when we funded Loopt.\n",
      "    -Loopt is probably the most promising of all the startups we've funded so far.\n",
      "    -Sam Altman is a very unusual guy.\n",
      "    -Within about three minutes of meeting Sam Altman, I remember thinking 'Ah, so this is what Bill Gates must have been like when he was 19.'\n",
      "    -Robert Morris was 29 years old when Robert Morris started Viaweb.\n",
      "    -Robert Morris and the author still lived like 23 year olds when they started Viaweb.\n",
      "    -Robert Morris had roughly zero assets when Robert Morris started Viaweb.\n",
      "\n",
      "\n",
      "\n",
      "Chunk #12\n",
      "Chunk ID: 2de61\n",
      "Summary: This chunk will contain instructions on what content needs to be provided for decomposition.\n",
      "Propositions:\n",
      "    -Please provide the specific content you want me to decompose.\n",
      "\n",
      "\n",
      "\n",
      "Chunk #13\n",
      "Chunk ID: e4493\n",
      "Summary: This chunk contains discussions about issues or errors with user inputs.\n",
      "Propositions:\n",
      "    -The current input seems to be incomplete.\n",
      "\n",
      "\n",
      "\n",
      "Chunk #14\n",
      "Chunk ID: e40a5\n",
      "Summary: This chunk discusses the significance of stamina and endurance in various contexts.\n",
      "Propositions:\n",
      "    -The importance of stamina shouldn't be surprising.\n",
      "\n",
      "\n",
      "\n",
      "Chunk #15\n",
      "Chunk ID: 0fa1e\n",
      "Summary: This chunk discusses the characteristics of startup culture, including the necessity of long hours, the value of flexibility, the significance of maintaining low operational costs, and the typical mistakes that can contribute to their failure.\n",
      "Propositions:\n",
      "    -Startups are associated with long hours.\n",
      "    -The long hours in startups are universal.\n",
      "    -There are no successful startups whose founders worked 9 to 5.\n",
      "    -Younger founders need to work long hours.\n",
      "    -Living cheaply is critically important for startups.\n",
      "    -It is a little misleading to say that startups fail by running out of money.\n",
      "    -There is usually some other underlying cause for startup failure.\n",
      "    -A low burn rate gives you more opportunity to recover from problems regardless of their source.\n",
      "    -Most startups make all kinds of mistakes at first.\n",
      "    -Room to recover from mistakes is a valuable thing to have for startups.\n",
      "    -Most startups end up doing something different than they planned.\n",
      "    -The worst thing you can do in a startup is to have a rigid, pre-ordained plan.\n",
      "    -It is also bad for a startup to start spending a lot of money to implement a rigid, pre-ordained plan.\n",
      "    -It is better to operate cheaply in a startup.\n",
      "    -The main cost in software startups is people.\n",
      "    -A lot of startups involve someone moving.\n",
      "\n",
      "\n",
      "\n",
      "Chunk #16\n",
      "Chunk ID: f69cd\n",
      "Summary: This chunk discusses the various perspectives on poverty, highlighting both its challenges and potential advantages.\n",
      "Propositions:\n",
      "    -Poverty might not sound like an advantage.\n",
      "    -Poverty implies you can live cheaply.\n",
      "    -The advantages of rootlessness are similar to the advantages of poverty.\n",
      "\n",
      "\n",
      "\n",
      "Chunk #17\n",
      "Chunk ID: c6c4d\n",
      "Summary: This chunk discusses unconventional opinions or perspectives on societal issues.\n",
      "Propositions:\n",
      "    -Poverty is a huge advantage.\n",
      "\n",
      "\n",
      "\n",
      "Chunk #18\n",
      "Chunk ID: 80f70\n",
      "Summary: This chunk contains discussions about the relationship between age and programming skills.\n",
      "Propositions:\n",
      "    -The 32 year old probably is a better programmer.\n",
      "\n",
      "\n",
      "\n",
      "Chunk #19\n",
      "Chunk ID: fecdb\n",
      "Summary: This chunk contains information about the work experience and age of individuals.\n",
      "Propositions:\n",
      "    -A 25 year old has some work experience.\n",
      "\n",
      "\n",
      "\n",
      "Chunk #20\n",
      "Chunk ID: 756f5\n",
      "Summary: This chunk focuses on the cost-effective design and peripherals of the Apple II, as well as Wozniak's personal motivations and constraints during its development.\n",
      "Propositions:\n",
      "    -The Apple II was cheap.\n",
      "    -The Apple II used cheap, off-the-shelf peripherals.\n",
      "    -One cheap, off-the-shelf peripheral used by the Apple II was a cassette tape recorder for data storage.\n",
      "    -Another cheap, off-the-shelf peripheral used by the Apple II was a TV as a monitor.\n",
      "    -Woz designed the Apple II computer for himself.\n",
      "    -Woz couldn't afford anything more expensive.\n",
      "\n",
      "\n",
      "\n",
      "Chunk #21\n",
      "Chunk ID: bd839\n",
      "Summary: This chunk contains information about the pricing of service levels.\n",
      "Propositions:\n",
      "    -The top level of service was $300 a month.\n",
      "\n",
      "\n",
      "\n",
      "Chunk #22\n",
      "Chunk ID: 96c4c\n",
      "Summary: This chunk discusses examples of traditional long-distance communication service providers.\n",
      "Propositions:\n",
      "    -Traditional long distance carriers are an example of existing players.\n",
      "\n",
      "\n",
      "\n",
      "Chunk #23\n",
      "Chunk ID: 2e6e2\n",
      "Summary: This chunk discusses the importance of mobility.\n",
      "Propositions:\n",
      "    -Being more mobile turns out to be important.\n",
      "\n",
      "\n",
      "\n"
     ]
    }
   ],
   "source": [
    "ac.pretty_print_chunks()"
   ]
  },
  {
   "cell_type": "markdown",
   "id": "e4aebf75-53b9-4695-bea9-effa0adf967e",
   "metadata": {},
   "source": [
    "Awesome, then if we wanted to get the chunks properly, then we get extract a list of strings with them. The chunks propositions will be joined in the same string"
   ]
  },
  {
   "cell_type": "code",
   "execution_count": 109,
   "id": "e90e5eb4-676f-4310-8bbf-be87f94d07eb",
   "metadata": {},
   "outputs": [],
   "source": [
    "chunks = ac.get_chunks(get_type='list_of_strings')"
   ]
  },
  {
   "cell_type": "code",
   "execution_count": 110,
   "id": "d08eb17e-10ab-426e-8998-bed29ab76dac",
   "metadata": {},
   "outputs": [
    {
     "data": {
      "text/plain": [
       "['Startups are newly established businesses.',\n",
       " \"You can start a startup. You can get funded by Y Combinator. The third option for graduating seniors is to start their own startup. It is uncertain how common starting a startup will be among graduating seniors. The most ambitious students will at this point be asking: Why wait till you graduate? If you are in college and have a summer job writing software, you still read as a student. There is a problem with starting a startup while you are still in school. The problem with starting a startup while you are still in school is that there is a built-in escape hatch. If you start a startup in the summer between your junior and senior year, it reads to everyone as a summer job. You are now a startup founder. You have to do well as a startup founder. Starting a startup explicitly to get rich makes the money you might get seem pretty theoretical most of the time. Y Combinator encouraged people to start startups while they were still in college when Y Combinator first started. Starting a startup during college can work. People are often advised not to start a startup during college. Our official policy now is only to fund undergrads we can't talk out of starting a company. Frankly, if you are not certain, you should wait. All the opportunities to start companies are not going to be gone if you don't start now. Historically, the opportunities to start startups have only increased with time. You might ask, why not wait longer to start a startup? You might ask, why not go work for a while before starting a startup? You might ask, why not go to grad school before starting a startup? Waiting longer to start a startup might be a good idea. The speaker believes the sweet spot for startup founders is probably the mid-twenties. The speaker bases the sweet spot for startup founders on who they are most excited to see applications from. The speaker questions the advantages someone in their mid-twenties has over someone who is 21. The speaker questions why the sweet spot for startup founders isn't older. The speaker questions what 25 year olds can do that 32 year olds can't. These questions about the advantages of certain ages for startup founders turn out to be worth examining. If you start a startup soon after college, you will be a young founder by present standards. You should know what the relative advantages of young founders are. The advantages of young founders are not what you might think. As a young founder, your strengths are stamina, poverty, rootlessness, colleagues, and ignorance. Younger founders are probably not as efficient as they'll be later. Nearly every startup that fails, fails by running out of money. It is better to give your ideas time to evolve in a startup. Recent grads living on practically nothing gives recent grads an edge over older founders. This disadvantage is one reason I'd bet on the 25 year old over the 32 year old. When you're young, you're more mobile. You are more mobile when you're young because you don't have a house. You are more mobile when you're young because you don't have much stuff. You are more mobile when you're young because you're less likely to have serious relationships.\",\n",
       " 'The month is October. The year is 2006. A year and a half ago, I gave a talk.',\n",
       " 'This essay is derived from a talk at MIT.',\n",
       " 'Till recently graduating seniors had two choices: get a job or go to grad school. There will increasingly be a third option for graduating seniors. I now realize something changes at graduation. You return to school in the fall with all the other seniors.',\n",
       " \"The default will always be to get a job. Everyone else will regard you as having a single occupation at any given time. If you graduate and get a job programming, you will be instantly regarded by everyone as a programmer. Your occupation is student. If you start a startup just one year later, after you graduate, the startup reads to everyone as your occupation. You must not be accepted to grad school in the fall for the startup to read as your occupation. The opinion of one's peers is the most powerful motivator of all. What drives you day to day is not wanting to look bad. You probably can't change the fact that peers influence your behavior. Even if you could change the fact that peers influence your behavior, I don't think you'd want to. The best you can do is consider the influence of peers like a wind. You should set up your boat accordingly to the influence of peers. If you know your peers are going to push you in some direction, choose good peers. You should position yourself so your peers push you in a direction you like. The guys with kids and mortgages are at a real disadvantage.\",\n",
       " \"You lose a huge excuse for failing at graduation. If the startup goes nowhere, it is not a big deal. No one regards you as a failure if you return to school in the fall. You did not fail at being a student. Maybe the window will close on some idea you are working on. That won't be the last idea you will have. For every idea that times out, new ideas become feasible. The successful startups find something that works by trying things that don't.\",\n",
       " 'Regardless of how complex your life is, everyone else will discard all the low bits.',\n",
       " 'Everyone else includes your family and friends.',\n",
       " \"Someone who truly doesn't care what his peers think of him is probably a psychopath.\",\n",
       " 'Graduation changes the prevailing winds. Recent grads can live on practically nothing. The 32 year old probably also has a much more expensive life. A 25 year old can live as cheaply as an undergrad.',\n",
       " \"Sam Altman is the co-founder of Loopt. Sam Altman had just finished his sophomore year when we funded Loopt. Loopt is probably the most promising of all the startups we've funded so far. Sam Altman is a very unusual guy. Within about three minutes of meeting Sam Altman, I remember thinking 'Ah, so this is what Bill Gates must have been like when he was 19.' Robert Morris was 29 years old when Robert Morris started Viaweb. Robert Morris and the author still lived like 23 year olds when they started Viaweb. Robert Morris had roughly zero assets when Robert Morris started Viaweb.\",\n",
       " 'Please provide the specific content you want me to decompose.',\n",
       " 'The current input seems to be incomplete.',\n",
       " \"The importance of stamina shouldn't be surprising.\",\n",
       " 'Startups are associated with long hours. The long hours in startups are universal. There are no successful startups whose founders worked 9 to 5. Younger founders need to work long hours. Living cheaply is critically important for startups. It is a little misleading to say that startups fail by running out of money. There is usually some other underlying cause for startup failure. A low burn rate gives you more opportunity to recover from problems regardless of their source. Most startups make all kinds of mistakes at first. Room to recover from mistakes is a valuable thing to have for startups. Most startups end up doing something different than they planned. The worst thing you can do in a startup is to have a rigid, pre-ordained plan. It is also bad for a startup to start spending a lot of money to implement a rigid, pre-ordained plan. It is better to operate cheaply in a startup. The main cost in software startups is people. A lot of startups involve someone moving.',\n",
       " 'Poverty might not sound like an advantage. Poverty implies you can live cheaply. The advantages of rootlessness are similar to the advantages of poverty.',\n",
       " 'Poverty is a huge advantage.',\n",
       " 'The 32 year old probably is a better programmer.',\n",
       " 'A 25 year old has some work experience.',\n",
       " \"The Apple II was cheap. The Apple II used cheap, off-the-shelf peripherals. One cheap, off-the-shelf peripheral used by the Apple II was a cassette tape recorder for data storage. Another cheap, off-the-shelf peripheral used by the Apple II was a TV as a monitor. Woz designed the Apple II computer for himself. Woz couldn't afford anything more expensive.\",\n",
       " 'The top level of service was $300 a month.',\n",
       " 'Traditional long distance carriers are an example of existing players.',\n",
       " 'Being more mobile turns out to be important.']"
      ]
     },
     "execution_count": 110,
     "metadata": {},
     "output_type": "execute_result"
    }
   ],
   "source": [
    "chunks"
   ]
  },
  {
   "cell_type": "markdown",
   "id": "e920b345-0294-4b5d-995c-da36bdfaeace",
   "metadata": {},
   "source": [
    "Great, now we can go use that in our evaluations for your retrieval."
   ]
  },
  {
   "cell_type": "markdown",
   "id": "75a8462b-8c10-4550-b42c-453ecdec3647",
   "metadata": {},
   "source": [
    "## Bonus Level: Alternative Representation <a id=\"BonusLevel\"></a>\n",
    "So far I've shown how to chunk up your raw text (okay, I was a bit liberal with level 5).\n",
    "\n",
    "But what if your raw text isn't the best way to represent your data for your task?\n",
    "\n",
    "For example, if you're doing semantic search on chat messages, raw chat messages may lack the context to make a successful embedding. Maybe actually trying to semantic search of a summary of a conversation would do better. Or maybe hypothetical questions that the chat would answer?\n",
    "\n",
    "This is where the world of chunking/splitting starts to dive into the world of [indexing](https://docs.llamaindex.ai/en/stable/understanding/indexing/indexing.html#what-is-an-index). When you index, you're making a choice about how you want to represent your data in your data base or knowledge base.\n",
    "\n",
    "This is more of a retrieval topic, but it's worth talking about with chunking.\n",
    "\n",
    "Let's quickly go through a few popular alternative ways developers like to represent their data. There are unlimited methods to try. We'll review 4 of them\n",
    "\n",
    "* **[Multi-Vector Indexing](https://python.langchain.com/docs/modules/data_connection/retrievers/multi_vector)** - This is when you do semantic search for a vector that is derived from something other than your raw text\n",
    "    * **Summaries** - A summary of your chunk\n",
    "    * **Hypothetical questions** - Good for chat messages used as knowledge base\n",
    "    * **Child Documents** - Parent Document Retriever\n",
    "* **Graph Based Chunking** - Transposing your raw text into a graph structure\n",
    "\n",
    "### Summaries\n",
    "Instead of embedding your raw text, embed a summary of your raw text which will have more dense information"
   ]
  },
  {
   "cell_type": "code",
   "execution_count": 79,
   "id": "fce9678d-187e-4293-b1aa-eda9045035ee",
   "metadata": {},
   "outputs": [],
   "source": [
    "import uuid\n",
    "\n",
    "from langchain.chat_models import ChatOpenAI\n",
    "from langchain.prompts import ChatPromptTemplate\n",
    "from langchain_core.documents import Document\n",
    "from langchain_core.output_parsers import StrOutputParser\n",
    "from langchain.text_splitter import RecursiveCharacterTextSplitter\n",
    "from langchain.retrievers.multi_vector import MultiVectorRetriever\n",
    "from langchain.storage import InMemoryByteStore\n",
    "from langchain.embeddings import OpenAIEmbeddings\n",
    "from langchain.vectorstores import Chroma"
   ]
  },
  {
   "cell_type": "markdown",
   "id": "b445bc40-531b-4a65-b4ee-852377862ce9",
   "metadata": {},
   "source": [
    "Let's use our Super Linear essay again. I'll split it into large chunks"
   ]
  },
  {
   "cell_type": "code",
   "execution_count": 82,
   "id": "ca8c1a25-aaff-4d74-a5fd-f681f7cf478f",
   "metadata": {},
   "outputs": [
    {
     "name": "stdout",
     "output_type": "stream",
     "text": [
      "You have 6 docs\n"
     ]
    }
   ],
   "source": [
    "with open('../../data/PGEssays/superlinear.txt') as file:\n",
    "    essay = file.read()\n",
    "\n",
    "splitter = RecursiveCharacterTextSplitter(chunk_size=4000, chunk_overlap=0)\n",
    "\n",
    "docs = splitter.create_documents([essay])\n",
    "\n",
    "print (f\"You have {len(docs)} docs\")"
   ]
  },
  {
   "cell_type": "markdown",
   "id": "3b418bdb-c03c-4885-8a74-983c5732f6dc",
   "metadata": {},
   "source": [
    "Spin up a chain that will quickly summarize for you"
   ]
  },
  {
   "cell_type": "code",
   "execution_count": 83,
   "id": "460da5b4-cd95-4ea5-ae21-57c2cf99b80f",
   "metadata": {},
   "outputs": [],
   "source": [
    "chain = (\n",
    "    {\"doc\": lambda x: x.page_content}\n",
    "    | ChatPromptTemplate.from_template(\"Summarize the following document:\\n\\n{doc}\")\n",
    "    | ChatOpenAI(max_retries=0)\n",
    "    | StrOutputParser()\n",
    ")"
   ]
  },
  {
   "cell_type": "markdown",
   "id": "df67afe1-694f-47a5-acea-7a788ea5ba07",
   "metadata": {},
   "source": [
    "Then let's get the summaries"
   ]
  },
  {
   "cell_type": "code",
   "execution_count": 84,
   "id": "d6473c02-5728-418d-a201-5216d83599dd",
   "metadata": {},
   "outputs": [],
   "source": [
    "summaries = chain.batch(docs, {\"max_concurrency\": 5})"
   ]
  },
  {
   "cell_type": "markdown",
   "id": "f9282853-9a62-4ffd-a1bf-b0e8853ed864",
   "metadata": {},
   "source": [
    "Let's look at a sample"
   ]
  },
  {
   "cell_type": "code",
   "execution_count": 85,
   "id": "6ecc0c8f-3eb5-4e42-bd6e-2fdec56cc5b1",
   "metadata": {},
   "outputs": [
    {
     "data": {
      "text/plain": [
       "\"The document discusses the concept of superlinear returns for performance, where the rewards for performance are not proportional to the effort put in. It explains that this concept is present in various aspects of life, such as business, fame, power, military victories, and benefit to humanity. The document emphasizes the importance of understanding this concept, especially for ambitious individuals. It also discusses how exponential growth and thresholds are fundamental causes of superlinear returns, using examples such as bacterial cultures and startups. The document also mentions Y Combinator's focus on growth rate as a key factor in achieving exponential growth. Additionally, it explores how humans are not naturally accustomed to exponential growth and discusses historical examples of exponential growth, such as empires.\""
      ]
     },
     "execution_count": 85,
     "metadata": {},
     "output_type": "execute_result"
    }
   ],
   "source": [
    "summaries[0]"
   ]
  },
  {
   "cell_type": "markdown",
   "id": "9aaa4786-1d43-463b-a63d-55e1a9f35af3",
   "metadata": {},
   "source": [
    "Then we are going to create a vectorstore (holds vectors + summaries) and a docstore (holds raw docs)"
   ]
  },
  {
   "cell_type": "code",
   "execution_count": 86,
   "id": "cc76c297-804f-4e5a-9fed-f28b88f57059",
   "metadata": {},
   "outputs": [],
   "source": [
    "# The vectorstore to use to index the child chunks\n",
    "vectorstore = Chroma(collection_name=\"summaries\", embedding_function=OpenAIEmbeddings())\n",
    "\n",
    "# The storage layer for the parent documents\n",
    "store = InMemoryByteStore()\n",
    "\n",
    "id_key = \"doc_id\"\n",
    "\n",
    "# The retriever (empty to start)\n",
    "retriever = MultiVectorRetriever(\n",
    "    vectorstore=vectorstore,\n",
    "    byte_store=store,\n",
    "    id_key=id_key,\n",
    ")\n",
    "doc_ids = [str(uuid.uuid4()) for _ in docs]"
   ]
  },
  {
   "cell_type": "markdown",
   "id": "63f44d2b-6a25-431c-be0b-72fff86e019c",
   "metadata": {},
   "source": [
    "Then you want to create documents out of your summary list, add the doc_id to it's metadata. This will tie it back to the original document so you know which summary goes with which original doc."
   ]
  },
  {
   "cell_type": "code",
   "execution_count": 87,
   "id": "032d5cb8-cfe5-4a89-bb9a-fb2872e41be3",
   "metadata": {},
   "outputs": [],
   "source": [
    "summary_docs = [\n",
    "    Document(page_content=s, metadata={id_key: doc_ids[i]})\n",
    "    for i, s in enumerate(summaries)\n",
    "]"
   ]
  },
  {
   "cell_type": "markdown",
   "id": "02878000-5341-42fc-a1b0-a7e9da3367d7",
   "metadata": {},
   "source": [
    "Then add them both to your vectorestore and docstore. When you add the docs to the vectorstore it will get the embeddings for them too."
   ]
  },
  {
   "cell_type": "code",
   "execution_count": 88,
   "id": "53351f4d-f5db-4aeb-9b79-f4a0a3ba30f6",
   "metadata": {},
   "outputs": [],
   "source": [
    "# Adds the summaries\n",
    "retriever.vectorstore.add_documents(summary_docs)\n",
    "\n",
    "# Adds the raw documents\n",
    "retriever.docstore.mset(list(zip(doc_ids, docs)))"
   ]
  },
  {
   "cell_type": "markdown",
   "id": "e761a8ae-d31c-483b-bdf4-4a625e3e9662",
   "metadata": {},
   "source": [
    "Then if you want you can add the original docs to the vectorstore as well. Just make sure to add the doc id to it as well so you can tie it all together"
   ]
  },
  {
   "cell_type": "code",
   "execution_count": 89,
   "id": "d5c3b781-3166-4d91-ad03-48bc8b246d61",
   "metadata": {},
   "outputs": [],
   "source": [
    "# for i, doc in enumerate(docs):\n",
    "#     doc.metadata[id_key] = doc_ids[i]\n",
    "# retriever.vectorstore.add_documents(docs)"
   ]
  },
  {
   "cell_type": "markdown",
   "id": "b3397531-c8d3-4037-8f64-c51eeb6dc49b",
   "metadata": {},
   "source": [
    "Great, now that we've done all that work, let's try a search. If you run the code below, you'll search on the summary embeddings, but you'll get the raw documents returned."
   ]
  },
  {
   "cell_type": "code",
   "execution_count": 90,
   "id": "b2b9848e-136b-496f-b3ba-f57720a11993",
   "metadata": {},
   "outputs": [],
   "source": [
    "# retriever.get_relevant_documents(query=\"the concept of superlinear returns, which refers to the idea that the returns for performance are not linear\")"
   ]
  },
  {
   "cell_type": "markdown",
   "id": "e7d6ab29-a89a-4259-847d-492ccbaad02f",
   "metadata": {},
   "source": [
    "### Hypothetical Questions\n",
    "You can generate hypothetical questions about your raw documents. Check out [LangChain's](https://python.langchain.com/docs/modules/data_connection/retrievers/multi_vector#hypothetical-queries) implementation of it for more information.\n",
    "\n",
    "This is espeically helpful when you have sparse unstructured data, like chat messages.\n",
    "\n",
    "Say you were to build a bot that uses slack conversations as a knowledge base. Trying to do semantic search on raw chat messages might not have the greatest results. However, if you were to generate hypothetical questions that the slack messages would answer, then when you get a new question in, you'll likely have a better chance matching.\n",
    "\n",
    "The code for this will be the same as the summary code, but instead of asking the LLM to make a summary, you'll ask it for hypothetical questions.\n",
    "\n",
    "### Parent Document Retriever (PDR)\n",
    "Much like the previous two, Parent Document Retriever builds on the concept of doing semantic search on a varied representation of your data.\n",
    "\n",
    "The hypothesis with the PDR is that smaller chunks have a higher likely hood of being matched semantically with a potential query. However, those smaller chunks may not have all the context they need, so instead of passing the smaller chunks to your LLM, get the parent chunk of the smaller chunk. This means you get a larger chunk which the smaller chunk is placed in.\n",
    "\n",
    "Check out LangChain's implementation's implementation of it [here](https://python.langchain.com/docs/modules/data_connection/retrievers/parent_document_retriever).\n",
    "\n",
    "I have a full tutorial on it at [FullStackRetrieval.com](https://fullstackretrieval.com/) if you want to go deeper on that.\n",
    "\n",
    "I want to quickly go over a similar method in [Llama Index](https://www.llamaindex.ai/) with their `HierarchicalNodeParser` which will split a document at various chunk sizes (there will be a bunch of overlaps but that is the purpose). When combined with their `AutoMergingRetriever` you can do complicated retrieval easily. Their walkthrough [here](https://docs.llamaindex.ai/en/stable/examples/retrievers/auto_merging_retriever.html)."
   ]
  },
  {
   "cell_type": "code",
   "execution_count": 91,
   "id": "d078afc3-ecea-4cf1-b430-e27837508e86",
   "metadata": {},
   "outputs": [],
   "source": [
    "from llama_index.node_parser import HierarchicalNodeParser\n",
    "\n",
    "node_parser = HierarchicalNodeParser.from_defaults(\n",
    "    chunk_sizes=[2048, 512, 128],\n",
    "    chunk_overlap=0\n",
    ")"
   ]
  },
  {
   "cell_type": "code",
   "execution_count": 92,
   "id": "11c19a08-6a94-45a4-8d31-1ad91e014030",
   "metadata": {},
   "outputs": [],
   "source": [
    "documents = SimpleDirectoryReader(\n",
    "    input_files=[\"../../data/PGEssays/mit.txt\"]\n",
    ").load_data()"
   ]
  },
  {
   "cell_type": "markdown",
   "id": "26a9ecb0-c264-40cc-938a-3610c1a31835",
   "metadata": {},
   "source": [
    "Then let's do our splitting. There will be a bunch of chunks since we included `128` as a chunk size above"
   ]
  },
  {
   "cell_type": "code",
   "execution_count": 93,
   "id": "9806e1a0-79df-418d-962d-3757081fd273",
   "metadata": {},
   "outputs": [],
   "source": [
    "nodes = node_parser.get_nodes_from_documents(documents)"
   ]
  },
  {
   "cell_type": "code",
   "execution_count": 94,
   "id": "8ad26bbc-1b67-45dc-b44e-d62e36fd3589",
   "metadata": {},
   "outputs": [
    {
     "name": "stdout",
     "output_type": "stream",
     "text": [
      "You have 118 nodes\n"
     ]
    }
   ],
   "source": [
    "print (f\"You have {len(nodes)} nodes\")"
   ]
  },
  {
   "cell_type": "markdown",
   "id": "d703f821-f2e2-4975-a904-893007bb256c",
   "metadata": {},
   "source": [
    "Then let's look at the relationships that are available to one of the small nodes at the end"
   ]
  },
  {
   "cell_type": "code",
   "execution_count": 95,
   "id": "c037ce3e-d480-43e6-be47-0e7415153480",
   "metadata": {},
   "outputs": [
    {
     "data": {
      "text/plain": [
       "{<NodeRelationship.SOURCE: '1'>: RelatedNodeInfo(node_id='e3cee07e-460b-4cc9-95ad-93fc4bba0f58', node_type=<ObjectType.TEXT: '1'>, metadata={'file_path': '../../data/PGEssays/mit.txt', 'file_name': 'mit.txt', 'file_type': 'text/plain', 'file_size': 36045, 'creation_date': '2024-01-22', 'last_modified_date': '2023-12-21', 'last_accessed_date': '2024-03-11'}, hash='6e91b93d9f1ccaca77ad93ca986701dcb3e0605f685a67338cf1cf7350fb9236'),\n",
       " <NodeRelationship.PREVIOUS: '2'>: RelatedNodeInfo(node_id='ffbeb21c-1920-404c-9ffa-2dfa453a4a8f', node_type=<ObjectType.TEXT: '1'>, metadata={'file_path': '../../data/PGEssays/mit.txt', 'file_name': 'mit.txt', 'file_type': 'text/plain', 'file_size': 36045, 'creation_date': '2024-01-22', 'last_modified_date': '2023-12-21', 'last_accessed_date': '2024-03-11'}, hash='4c3163fbaee0bc2de2bbcb5decca5cf81cc839d85f294039af0f9c848acf6c11'),\n",
       " <NodeRelationship.NEXT: '3'>: RelatedNodeInfo(node_id='3462052a-d7d3-491a-9930-511bf6b6583b', node_type=<ObjectType.TEXT: '1'>, metadata={}, hash='2f9985a39495c94fe30b766ece62c378020dfc37a26a99f484b0ee0b97efb46d'),\n",
       " <NodeRelationship.PARENT: '4'>: RelatedNodeInfo(node_id='e3cee07e-460b-4cc9-95ad-93fc4bba0f58', node_type=<ObjectType.TEXT: '1'>, metadata={'file_path': '../../data/PGEssays/mit.txt', 'file_name': 'mit.txt', 'file_type': 'text/plain', 'file_size': 36045, 'creation_date': '2024-01-22', 'last_modified_date': '2023-12-21', 'last_accessed_date': '2024-03-11'}, hash='6e91b93d9f1ccaca77ad93ca986701dcb3e0605f685a67338cf1cf7350fb9236')}"
      ]
     },
     "execution_count": 95,
     "metadata": {},
     "output_type": "execute_result"
    }
   ],
   "source": [
    "nodes[-2].relationships"
   ]
  },
  {
   "cell_type": "markdown",
   "id": "a6fb0ed8-4427-4e8d-a8e9-9d11f3dcef9a",
   "metadata": {},
   "source": [
    "You can see there are source, previous, next, and parent. For [more information on these](https://docs.llamaindex.ai/en/stable/api/llama_index.schema.NodeRelationship.html).\n",
    "\n",
    "### Graph Structure\n",
    "If your data is rich with entities, relationships, and connections, then a graph structure may be best for you.\n",
    "\n",
    "Few options:\n",
    "* [Diffbot](https://www.diffbot.com/)\n",
    "* [InstaGraph](https://github.com/yoheinakajima/instagraph) - By [Yohei](https://twitter.com/yoheinakajima)\n",
    "\n",
    "I'll run through the LangChain supported version of Diffbot due to brevity. You'll need an API key from DB"
   ]
  },
  {
   "cell_type": "code",
   "execution_count": 96,
   "id": "547ee2d2-f852-4f01-bc1b-ec5355f36e4c",
   "metadata": {},
   "outputs": [],
   "source": [
    "# !pip3 install langchain langchain-experimental openai neo4j wikipedia\n",
    "\n",
    "from langchain_experimental.graph_transformers.diffbot import DiffbotGraphTransformer\n",
    "\n",
    "diffbot_nlp = DiffbotGraphTransformer(diffbot_api_key=os.getenv(\"DIFFBOT_API_KEY\", 'YourKey'))"
   ]
  },
  {
   "cell_type": "code",
   "execution_count": 97,
   "id": "e63a7ffb-acdc-4fd3-b4ba-9ce4eb09bcfa",
   "metadata": {},
   "outputs": [],
   "source": [
    "text = \"\"\"\n",
    "Greg is friends with Bobby. San Francisco is a great city, but New York is amazing.\n",
    "Greg lives in New York. \n",
    "\"\"\"\n",
    "docs = [Document(page_content=text)]"
   ]
  },
  {
   "cell_type": "code",
   "execution_count": 98,
   "id": "41436339-39c6-4cf7-aba6-0a2dcafec00b",
   "metadata": {
    "scrolled": true
   },
   "outputs": [],
   "source": [
    "graph_documents = diffbot_nlp.convert_to_graph_documents(docs)"
   ]
  },
  {
   "cell_type": "code",
   "execution_count": 99,
   "id": "250215f0-2ba9-49e4-8aef-1751ccc1b1bf",
   "metadata": {},
   "outputs": [
    {
     "data": {
      "text/plain": [
       "[GraphDocument(nodes=[Node(id='Greg', type='Person', properties={'name': 'Greg'}), Node(id='http://www.wikidata.org/entity/Q60', type='Location', properties={'name': 'New York City'}), Node(id='Bobby', type='Person', properties={'name': 'Bobby'})], relationships=[Relationship(source=Node(id='Greg', type='Person'), target=Node(id='http://www.wikidata.org/entity/Q60', type='Location'), type='PERSON_LOCATION', properties={'evidence': 'Greg lives in New York.', 'isCurrent': 'true'}), Relationship(source=Node(id='Greg', type='Person'), target=Node(id='http://www.wikidata.org/entity/Q60', type='Location'), type='PERSON_LOCATION', properties={'evidence': 'Greg lives in New York.', 'isCurrent': 'true'}), Relationship(source=Node(id='Greg', type='Person'), target=Node(id='Bobby', type='Person'), type='SOCIAL_RELATIONSHIP', properties={'evidence': 'Greg is friends with Bobby.'})], source=Document(page_content='\\nGreg is friends with Bobby. San Francisco is a great city, but New York is amazing.\\nGreg lives in New York. \\n'))]"
      ]
     },
     "execution_count": 99,
     "metadata": {},
     "output_type": "execute_result"
    }
   ],
   "source": [
    "graph_documents"
   ]
  },
  {
   "cell_type": "markdown",
   "id": "949e24e2-1d32-4ff3-a16e-ada98e46d6be",
   "metadata": {},
   "source": [
    "## Wrap up\n",
    "\n",
    "Congratulations on making it to the end of this video. The aim was to educate you on the chunking theory, give a nod to retrieval, and encourage you to try out these methods on your data.\n",
    "\n",
    "I always like hearing what you think about the code, video or how you use this in your role. Let me know on [twitter](https://twitter.com/GregKamradt) or email (contact@dataindependent.com)"
   ]
  },
  {
   "cell_type": "markdown",
   "id": "19567c26",
   "metadata": {},
   "source": []
  }
 ],
 "metadata": {
  "kernelspec": {
   "display_name": "Python 3 (ipykernel)",
   "language": "python",
   "name": "python3"
  },
  "language_info": {
   "codemirror_mode": {
    "name": "ipython",
    "version": 3
   },
   "file_extension": ".py",
   "mimetype": "text/x-python",
   "name": "python",
   "nbconvert_exporter": "python",
   "pygments_lexer": "ipython3",
   "version": "3.10.13"
  }
 },
 "nbformat": 4,
 "nbformat_minor": 5
}
