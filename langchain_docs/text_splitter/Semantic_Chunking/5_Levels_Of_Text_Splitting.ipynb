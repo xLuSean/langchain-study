{
 "cells": [
  {
   "cell_type": "markdown",
   "id": "a9663ad9-217c-46d3-befc-8ccabeba890b",
   "metadata": {},
   "source": [
    "# 5 Levels Of Text Splitting\n",
    "\n",
    "In this tutorial we are reviewing the 5 Levels Of Text Splitting. This is an unofficial list put together for fun and educational purposes.\n",
    "\n",
    "Ever try to put a long piece of text into ChatGPT but it tells you it’s too long? Or you're trying to give your application better long term memory, but it’s still just not quite working.\n",
    "\n",
    "One of the most effective strategies to improve performance of your language model applications is to split your large data into smaller pieces. This is call splitting or chunking (we'll use these terms interchangeably). In the world of multi-modal, splitting also applies to images.\n",
    "\n",
    "We are going to cover a lot, but if you make it to the end, I guarantee you’ll have a solid grasp on chunking theory, strategies, and resources to learn more.\n",
    "\n",
    "**Levels Of Text Splitting**\n",
    "* **Level 1: [Character Splitting](#CharacterSplitting)** - Simple static character chunks of data\n",
    "* **Level 2: [Recursive Character Text Splitting](#RecursiveCharacterSplitting)** - Recursive chunking based on a list of separators\n",
    "* **Level 3: [Document Specific Splitting](#DocumentSpecific)** - Various chunking methods for different document types (PDF, Python, Markdown)\n",
    "* **Level 4: [Semantic Splitting](#SemanticChunking)** - Embedding walk based chunking\n",
    "* **Level 5: [Agentic Splitting](#AgenticChunking)** - Experimental method of splitting text with an agent-like system. Good for if you believe that token cost will trend to $0.00\n",
    "* **\\*Bonus Level:\\*** **[Alternative Representation Chunking + Indexing](#BonusLevel)** - Derivative representations of your raw text that will aid in retrieval and indexing\n",
    "\n",
    "**Notebook resources:**\n",
    "* [Video Overview]() - Walkthrough of this code with commentary\n",
    "* [ChunkViz.com](https://www.chunkviz.com/) - Visual representation of chunk splitting methods\n",
    "* [RAGAS](https://github.com/explodinggradients/ragas) - Retrieval evaluation framework\n",
    "\n",
    "This tutorial was created with ❤️ by [Greg Kamradt](https://twitter.com/GregKamradt). MIT license, attribution is always welcome.\n",
    "\n",
    "This tutorial will use code from LangChain (`pip install langchain`) & Llama Index (`pip install llama-index`)\n",
    "\n",
    "**Evaluations**\n",
    "\n",
    "It's important to test your chunking strategies in retrieval evals. It doesn't matter how you chunk if the performance of your application isn't great.\n",
    "\n",
    "Eval Frameworks:\n",
    "\n",
    "* [LangChain Evals](https://python.langchain.com/docs/guides/evaluation/)\n",
    "* [Llama Index Evals](https://docs.llamaindex.ai/en/stable/module_guides/evaluating/root.html)\n",
    "* [RAGAS Evals](https://github.com/explodinggradients/ragas)\n",
    "\n",
    "I'm not going to demo evals for each method because success is domain specific. The arbitrary eval that I pick may not be suitable for your data. If anyone is interested in collaborating on a rigorous evaluation of different chunking strategies, please reach out (contact@dataindependent.com).\n",
    "\n",
    "If you only walk away from this tutorial with one thing have it be the **The Chunking Commandment**\n",
    "\n",
    "**The Chunking Commandment:** Your goal is not to chunk for chunking sake, our goal is to get our data in a format where it can be retrieved for value later.\n",
    "\n",
    "## Level 1: Character Splitting <a id=\"CharacterSplitting\"></a>\n",
    "Character splitting is the most basic form of splitting up your text. It is the process of simply dividing your text into N-character sized chunks regardless of their content or form.\n",
    "\n",
    "This method isn't recommended for any applications - but it's a great starting point for us to understand the basics.\n",
    "\n",
    "* **Pros:** Easy & Simple\n",
    "* **Cons:** Very rigid and doesn't take into account the structure of your text\n",
    "\n",
    "Concepts to know:\n",
    "* **Chunk Size** - The number of characters you would like in your chunks. 50, 100, 100,000, etc.\n",
    "* **Chunk Overlap** - The amount you would like your sequential chunks to overlap. This is to try to avoid cutting a single piece of context into multiple pieces. This will create duplicate data across chunks.\n",
    "\n",
    "First let's get some sample text"
   ]
  },
  {
   "cell_type": "code",
   "execution_count": null,
   "id": "c96299fc-30f5-4edf-ac23-23a29f9c7282",
   "metadata": {},
   "outputs": [],
   "source": [
    "text = \"This is the text I would like to chunk up. It is the example text for this exercise\""
   ]
  },
  {
   "cell_type": "markdown",
   "id": "4e1cf67e-98d7-48bd-9867-f72be72e3f4a",
   "metadata": {},
   "source": [
    "Then let's split this text manually"
   ]
  },
  {
   "cell_type": "code",
   "execution_count": null,
   "id": "f11fb88f-17ed-44c2-b4de-a8a527fe63c7",
   "metadata": {},
   "outputs": [],
   "source": [
    "# Create a list that will hold your chunks\n",
    "chunks = []\n",
    "\n",
    "chunk_size = 35 # Characters\n",
    "\n",
    "# Run through the a range with the length of your text and iterate every chunk_size you want\n",
    "for i in range(0, len(text), chunk_size):\n",
    "    chunk = text[i:i + chunk_size]\n",
    "    chunks.append(chunk)\n",
    "chunks"
   ]
  },
  {
   "cell_type": "markdown",
   "id": "140085b7-c6af-4003-923c-73feb1825965",
   "metadata": {},
   "source": [
    "Congratulations! You just split your first text. We have long way to go but you're already making progress. Feel like a language model practitioner yet?\n",
    "\n",
    "When working with text in the language model world, we don't deal with raw strings. It is more common to work with documents. Documents are objects that hold the text you're concerned with, but also additional metadata which makes filtering and manipulation easier later.\n",
    "\n",
    "We could convert our list of strings into documents, but I'd rather start from scratch and create the docs.\n",
    "\n",
    "Let's load up LangChains `CharacterSplitter` to do this for us"
   ]
  },
  {
   "cell_type": "code",
   "execution_count": null,
   "id": "d85945f0-4a09-4bd9-bdb6-bafe03089053",
   "metadata": {},
   "outputs": [],
   "source": [
    "from langchain.text_splitter import CharacterTextSplitter"
   ]
  },
  {
   "cell_type": "markdown",
   "id": "ff5f3c0a-09c9-45a9-8f47-d28baf22b201",
   "metadata": {},
   "source": [
    "Then let's load up this text splitter. I need to specify `chunk overlap` and `separator` or else we'll get funk results. We'll get into those next"
   ]
  },
  {
   "cell_type": "code",
   "execution_count": null,
   "id": "3dcbeb8d-c5a0-4047-8250-967313c20935",
   "metadata": {},
   "outputs": [],
   "source": [
    "text_splitter = CharacterTextSplitter(chunk_size = 35, chunk_overlap=0, separator='', strip_whitespace=False)"
   ]
  },
  {
   "cell_type": "markdown",
   "id": "5ae25bbe-d7d1-44da-820b-3cd34a1cfc67",
   "metadata": {},
   "source": [
    "Then we can actually split our text via `create_documents`. Note: `create_documents` expects a list of texts, so if you just have a string (like we do) you'll need to wrap it in `[]`"
   ]
  },
  {
   "cell_type": "code",
   "execution_count": null,
   "id": "afe4945b-ce08-49aa-a5dc-65a0e59922f2",
   "metadata": {},
   "outputs": [],
   "source": [
    "text_splitter.create_documents([text])"
   ]
  },
  {
   "cell_type": "markdown",
   "id": "331025f4-6ef4-4459-bcb6-df7824e78ce4",
   "metadata": {},
   "source": [
    "Notice how this time we have the same chunks, but they are in documents.\n",
    "These will play nicely with the rest of the LangChain world. Also notice how the trailing whitespace on the end of the 2nd chunk is missing. This is because LangChain removes it, see [this line](https://github.com/langchain-ai/langchain/blob/f36ef0739dbb548cabdb4453e6819fc3d826414f/libs/langchain/langchain/text_splitter.py#L167) for where they do it. You can avoid this with `strip_whitespace=False`"
   ]
  },
  {
   "cell_type": "markdown",
   "id": "1ed0f193-4098-4fb1-a42f-7f96cd182188",
   "metadata": {},
   "source": [
    "**Chunk Overlap & Separators**\n",
    "\n",
    "**Chunk overlap** will blend together our chunks so that the tail of Chunk #1 will be the same thing and the head of Chunk #2 and so on and so forth.\n",
    "\n",
    "This time I'll load up my overlap with a value of 4, this means 4 characters of overlap"
   ]
  },
  {
   "cell_type": "code",
   "execution_count": null,
   "id": "fc66f496-7b0d-4b2a-a43d-e8f06d58c934",
   "metadata": {},
   "outputs": [],
   "source": [
    "text_splitter = CharacterTextSplitter(chunk_size = 35, chunk_overlap=4, separator='')"
   ]
  },
  {
   "cell_type": "code",
   "execution_count": null,
   "id": "fd5d7e36-b592-430e-9069-cc025c78d7ef",
   "metadata": {},
   "outputs": [],
   "source": [
    "text_splitter.create_documents([text])"
   ]
  },
  {
   "cell_type": "markdown",
   "id": "dcd4aaa8-b90b-499e-b2d5-bc623b5bb751",
   "metadata": {},
   "source": [
    "Notice how we have the same chunks, but now there is overlap between 1 & 2 and 2 & 3. The 'o ch' on the tail of Chunk #1 matches the 'o ch' of the head of Chunk #2.\n",
    "\n",
    "I wanted a better way to visualize this, so I made [ChunkViz.com](www.chunkviz.com) to help show it. Here's what the same text looks like.\n",
    "\n",
    "<div style=\"text-align: center;\">\n",
    "    <img src=\"static/ChunkVizCharacter34_4_w_overlap.png\" alt=\"image\" style=\"max-width: 800px;\">\n",
    "</div>\n",
    "\n",
    "static/ChunkVizCharacterRecursive.png\n",
    "\n",
    "Check out how we have three colors, with two overlaping sections.\n",
    "\n",
    "**Separators** are character(s) sequences you would like to split on. Say you wanted to chunk your data at `ch`, you can specify it."
   ]
  },
  {
   "cell_type": "code",
   "execution_count": null,
   "id": "814ce9aa-17c3-4205-b433-2eae612c2225",
   "metadata": {},
   "outputs": [],
   "source": [
    "text_splitter = CharacterTextSplitter(chunk_size = 35, chunk_overlap=0, separator='ch')"
   ]
  },
  {
   "cell_type": "code",
   "execution_count": null,
   "id": "bb759b1f-dab0-4f5e-a0c0-220374313da6",
   "metadata": {},
   "outputs": [],
   "source": [
    "text_splitter.create_documents([text])"
   ]
  },
  {
   "cell_type": "markdown",
   "id": "72c7ff4a-b6f0-4924-9a9c-2791dddc5b37",
   "metadata": {},
   "source": [
    "#### Llama Index\n",
    "\n",
    "[Llama Index](https://www.llamaindex.ai/) is a great choice for flexibility in the chunking and indexing process. They provide node relationships out of the box which can aid in retrieval later.\n",
    "\n",
    "Let's take a look at their sentence splitter. It is similar to the character splitter, but using its default settings, it'll split on sentences instead."
   ]
  },
  {
   "cell_type": "code",
   "execution_count": null,
   "id": "624832d6-f3fd-45c4-b52e-bbc86e5e3cd0",
   "metadata": {},
   "outputs": [],
   "source": [
    "from llama_index.text_splitter import SentenceSplitter\n",
    "from llama_index import SimpleDirectoryReader"
   ]
  },
  {
   "cell_type": "markdown",
   "id": "b6e77494-a253-4414-b32d-2246fcb396ef",
   "metadata": {},
   "source": [
    "Load up your splitter"
   ]
  },
  {
   "cell_type": "code",
   "execution_count": null,
   "id": "ef9e6627-81a5-463d-9180-5ff2ff1d40f9",
   "metadata": {},
   "outputs": [],
   "source": [
    "splitter = SentenceSplitter(\n",
    "    chunk_size=200,\n",
    "    chunk_overlap=15,\n",
    ")"
   ]
  },
  {
   "cell_type": "markdown",
   "id": "23214df1-064d-47ad-9058-f9a5f113b6cf",
   "metadata": {},
   "source": [
    "Load up your document"
   ]
  },
  {
   "cell_type": "code",
   "execution_count": null,
   "id": "7cafba29-b973-4b37-806f-6f4893eae02e",
   "metadata": {},
   "outputs": [],
   "source": [
    "documents = SimpleDirectoryReader(\n",
    "    input_files=[\"../../data/PGEssays/mit.txt\"]\n",
    ").load_data()\n",
    "\n"
   ]
  },
  {
   "cell_type": "markdown",
   "id": "d2ceae08-1f5e-46bc-9d98-e95182fe8c3c",
   "metadata": {},
   "source": [
    "Create your nodes. Nodes are similar to documents but with more relationship data added to them."
   ]
  },
  {
   "cell_type": "code",
   "execution_count": null,
   "id": "52f9a2e2-3d56-4727-afce-c81c13089324",
   "metadata": {},
   "outputs": [],
   "source": [
    "nodes = splitter.get_nodes_from_documents(documents)"
   ]
  },
  {
   "cell_type": "markdown",
   "id": "ec353aac-ea8f-421a-9895-0af8afdc08e0",
   "metadata": {},
   "source": [
    "Then let's take a look at one"
   ]
  },
  {
   "cell_type": "code",
   "execution_count": null,
   "id": "898a421f-54a0-45a4-8acb-c7087b6a883f",
   "metadata": {},
   "outputs": [],
   "source": [
    "nodes[0]"
   ]
  },
  {
   "cell_type": "markdown",
   "id": "539aa1a2-67b8-4585-b0d3-306703ea856b",
   "metadata": {},
   "source": [
    "As you can see there is a lot more relationship data held within Llama Index's nodes. We'll talk about those later, I don't want to get ahead of ourselves\n",
    "\n",
    "Basic Character splitting is likely only useful for a few applications, maybe yours!\n",
    "\n",
    "## Level 2: Recursive Character Text Splitting\n",
    "<a id=\"RecursiveCharacterSplitting\"></a>\n",
    "Let's jump a level of complexity.\n",
    "\n",
    "The problem with Level #1 is that we don't take into account the structure of our document at all. We simply split by a fix number of characters.\n",
    "\n",
    "The Recursive Character Text Splitter helps with this. With it, we'll specify a series of separatators which will be used to split our docs.\n",
    "\n",
    "You can see the default separators for LangChain [here](https://github.com/langchain-ai/langchain/blob/9ef2feb6747f5a69d186bd623b569ad722829a5e/libs/langchain/langchain/text_splitter.py#L842). Let's take a look at them one by one.\n",
    "\n",
    "* \"\\n\\n\" - Double new line, or most commonly paragraph breaks\n",
    "* \"\\n\" - New lines\n",
    "* \" \" - Spaces\n",
    "* \"\" - Characters\n",
    "\n",
    "I'm not sure why a period (\".\") isn't included on the list, perhaps it is not universal enough? If you know, let me know.\n",
    "\n",
    "This is the swiss army knife of splitters and my first choice when mocking up a quick application. If you don't know which splitter to start with, this is a good first bet.\n",
    "\n",
    "Let's try it out"
   ]
  },
  {
   "cell_type": "code",
   "execution_count": null,
   "id": "49f42bea-3d06-404d-9f8c-f15f7ff7591b",
   "metadata": {},
   "outputs": [],
   "source": [
    "from langchain.text_splitter import RecursiveCharacterTextSplitter"
   ]
  },
  {
   "cell_type": "markdown",
   "id": "bb6f79f4-769b-474b-8d7d-19cb48407cd6",
   "metadata": {},
   "source": [
    "Then let's load up a larger piece of text"
   ]
  },
  {
   "cell_type": "code",
   "execution_count": null,
   "id": "0772695d-0c5e-4e19-bb69-14e9bd7a15a7",
   "metadata": {},
   "outputs": [],
   "source": [
    "text = \"\"\"\n",
    "One of the most important things I didn't understand about the world when I was a child is the degree to which the returns for performance are superlinear.\n",
    "\n",
    "Teachers and coaches implicitly told us the returns were linear. \"You get out,\" I heard a thousand times, \"what you put in.\" They meant well, but this is rarely true. If your product is only half as good as your competitor's, you don't get half as many customers. You get no customers, and you go out of business.\n",
    "\n",
    "It's obviously true that the returns for performance are superlinear in business. Some think this is a flaw of capitalism, and that if we changed the rules it would stop being true. But superlinear returns for performance are a feature of the world, not an artifact of rules we've invented. We see the same pattern in fame, power, military victories, knowledge, and even benefit to humanity. In all of these, the rich get richer. [1]\n",
    "\"\"\""
   ]
  },
  {
   "cell_type": "markdown",
   "id": "9fbb158c-6bbe-4f49-95df-a8b43965a566",
   "metadata": {},
   "source": [
    "Now let's make our text splitter"
   ]
  },
  {
   "cell_type": "code",
   "execution_count": null,
   "id": "03ec54c4-bda6-4254-97dd-983775b1d729",
   "metadata": {},
   "outputs": [],
   "source": [
    "text_splitter = RecursiveCharacterTextSplitter(chunk_size = 65, chunk_overlap=0)"
   ]
  },
  {
   "cell_type": "code",
   "execution_count": null,
   "id": "887c7676-1e67-4084-94d3-59689eb399c6",
   "metadata": {},
   "outputs": [],
   "source": [
    "text_splitter.create_documents([text])"
   ]
  },
  {
   "cell_type": "markdown",
   "id": "3fa00043-1655-4113-bb28-f3a998d5713a",
   "metadata": {},
   "source": [
    "Notice how now there are more chunks that end with a period \".\". This is because those likely are the end of a paragraph and the splitter first looks for double new lines (paragraph break).\n",
    "\n",
    "Once paragraphs are split, then it looks at the chunk size, if a chunk is too big, then it'll split by the next separator. If the chunk is still too big, then it'll move onto the next one and so forth.\n",
    "\n",
    "For text of this size, let's split on something bigger."
   ]
  },
  {
   "cell_type": "code",
   "execution_count": null,
   "id": "6da8734e-47da-4a08-8459-9bf8bfed7fe4",
   "metadata": {},
   "outputs": [],
   "source": [
    "text_splitter = RecursiveCharacterTextSplitter(chunk_size = 450, chunk_overlap=30)\n",
    "text_splitter.create_documents([text])"
   ]
  },
  {
   "attachments": {},
   "cell_type": "markdown",
   "id": "1e99768f-8732-44e4-b8d8-cc5ac1fe4661",
   "metadata": {},
   "source": [
    "For this text, 450 splits the paragraphs perfectly. You can even switch the chunk size to 469 and get the same splits. This is because this splitter builds in a bit of cushion and wiggle room to allow your chunks to 'snap' to the nearest separator.\n",
    "\n",
    "Let's view this visually\n",
    "\n",
    "<div style=\"text-align: center;\">\n",
    "    <img src=\"static/ChunkVizCharacterRecursive.png\" alt=\"image\" style=\"max-width: 800px;\">\n",
    "</div>\n",
    "\n",
    "Wow - you already made it to level 2, awesome! We're on a roll. If you like the content, I send updates to email subscribers on projects I'm working on. If you want to get the scoop, sign up [here](https://mail.gregkamradt.com/signup)."
   ]
  },
  {
   "cell_type": "markdown",
   "id": "c5f32a73-0c8a-498c-a3a1-3e7dba4658c9",
   "metadata": {},
   "source": [
    "## Level 3: Document Specific Splitting <a id=\"DocumentSpecific\"></a>\n",
    "\n",
    "Stepping up our levels ladder, let's start to handle document types other than normal prose in a .txt. What if you have pictures? or a PDF? or code snippets?\n",
    "\n",
    "Our first two levels wouldn't work great for this so we'll need to find a different tactic.\n",
    "\n",
    "This level is all about making your chunking strategy fit your different data formats. Let's run through a bunch of examples of this in action\n",
    "\n",
    "The Markdown, Python, and JS splitters will basically be similar to Recursive Character, but with different separators.\n",
    "\n",
    "See all of LangChains document splitters [here](https://python.langchain.com/docs/modules/data_connection/document_transformers/text_splitters/code_splitter) and Llama Index ([HTML](https://docs.llamaindex.ai/en/stable/module_guides/loading/node_parsers/modules.html#htmlnodeparser), [JSON](https://docs.llamaindex.ai/en/stable/module_guides/loading/node_parsers/modules.html#jsonnodeparser), [Markdown](https://docs.llamaindex.ai/en/stable/module_guides/loading/node_parsers/modules.html#markdownnodeparser))\n",
    "\n",
    "### Markdown\n",
    "\n",
    "You can see the separators [here](https://github.com/langchain-ai/langchain/blob/9ef2feb6747f5a69d186bd623b569ad722829a5e/libs/langchain/langchain/text_splitter.py#L1175).\n",
    "\n",
    "Separators:\n",
    "* `\\n#{1,6}` - Split by new lines followed by a header (H1 through H6)\n",
    "* ```` ```\\n ```` - Code blocks\n",
    "* `\\n\\\\*\\\\*\\\\*+\\n` - Horizontal Lines\n",
    "* `\\n---+\\n` - Horizontal Lines\n",
    "* `\\n___+\\n` - Horizontal Lines\n",
    "* `\\n\\n` Double new lines\n",
    "* `\\n` - New line\n",
    "* `\" \"` - Spaces\n",
    "* `\"\"` - Character"
   ]
  },
  {
   "cell_type": "code",
   "execution_count": null,
   "id": "298fe868-0872-4fa9-9146-fa33e9dd5706",
   "metadata": {},
   "outputs": [],
   "source": [
    "from langchain.text_splitter import MarkdownTextSplitter"
   ]
  },
  {
   "cell_type": "code",
   "execution_count": null,
   "id": "e1d390ed-d046-44f9-a492-9760141f7982",
   "metadata": {},
   "outputs": [],
   "source": [
    "splitter = MarkdownTextSplitter(chunk_size = 40, chunk_overlap=0)"
   ]
  },
  {
   "cell_type": "code",
   "execution_count": null,
   "id": "1ba14168-451b-4e9c-b1d0-d1eac6996ad3",
   "metadata": {},
   "outputs": [],
   "source": [
    "markdown_text = \"\"\"\n",
    "# Fun in California\n",
    "\n",
    "## Driving\n",
    "\n",
    "Try driving on the 1 down to San Diego\n",
    "\n",
    "### Food\n",
    "\n",
    "Make sure to eat a burrito while you're there\n",
    "\n",
    "## Hiking\n",
    "\n",
    "Go to Yosemite\n",
    "\"\"\""
   ]
  },
  {
   "cell_type": "code",
   "execution_count": null,
   "id": "15dcf8de-551a-4477-8e68-57c4c50ddbc4",
   "metadata": {},
   "outputs": [],
   "source": [
    "splitter.create_documents([markdown_text])"
   ]
  },
  {
   "cell_type": "markdown",
   "id": "56591620-ef0c-41c2-b539-35ad676ed20f",
   "metadata": {},
   "source": [
    "Notice how the splits gravitate towards markdown sections. However, it's still not perfect. Check out how there is a chunk with just \"there\" in it. You'll run into this at low-sized chunks.\n",
    "\n",
    "### Python\n",
    "\n",
    "See the python splitters [here](https://github.com/langchain-ai/langchain/blob/9ef2feb6747f5a69d186bd623b569ad722829a5e/libs/langchain/langchain/text_splitter.py#L1069)\n",
    "\n",
    "* `\\nclass` - Classes first\n",
    "* `\\ndef` - Functions next\n",
    "* `\\n\\tdef` - Indented functions\n",
    "* `\\n\\n` - Double New lines\n",
    "* `\\n` - New Lines\n",
    "* `\" \"` - Spaces\n",
    "* `\"\"` - Characters\n",
    "\n",
    "\n",
    "Let's load up our splitter"
   ]
  },
  {
   "cell_type": "code",
   "execution_count": null,
   "id": "66edcde5-1e96-4b61-8636-8129d31d7850",
   "metadata": {},
   "outputs": [],
   "source": [
    "from langchain.text_splitter import PythonCodeTextSplitter"
   ]
  },
  {
   "cell_type": "code",
   "execution_count": null,
   "id": "2afa8f93-6b07-484f-86ff-9836f5a5fae1",
   "metadata": {},
   "outputs": [],
   "source": [
    "python_text = \"\"\"\n",
    "class Person:\n",
    "  def __init__(self, name, age):\n",
    "    self.name = name\n",
    "    self.age = age\n",
    "\n",
    "p1 = Person(\"John\", 36)\n",
    "\n",
    "for i in range(10):\n",
    "    print (i)\n",
    "\"\"\""
   ]
  },
  {
   "cell_type": "code",
   "execution_count": null,
   "id": "6e8fcc85-714d-4b5c-a5ce-a3f30cfb447b",
   "metadata": {},
   "outputs": [],
   "source": [
    "python_splitter = PythonCodeTextSplitter(chunk_size=100, chunk_overlap=0)"
   ]
  },
  {
   "cell_type": "code",
   "execution_count": null,
   "id": "a7b6dd89-6bb9-496a-a85d-3f1871ff9cd0",
   "metadata": {},
   "outputs": [],
   "source": [
    "python_splitter.create_documents([python_text])"
   ]
  },
  {
   "cell_type": "markdown",
   "id": "6c004f19-9e67-451e-abdd-b103acce2996",
   "metadata": {},
   "source": [
    "Check out how the class stays together in a single document (good), then the rest of the code is in a second document (ok).\n",
    "\n",
    "I needed to play with the chunk size to get a clean result like that. You'll likely need to do the same for yours which is why using evaluations to determine optimal chunk sizes is crucial.\n",
    "\n",
    "### JS\n",
    "\n",
    "Very similar to python. See the separators [here](https://github.com/langchain-ai/langchain/blob/9ef2feb6747f5a69d186bd623b569ad722829a5e/libs/langchain/langchain/text_splitter.py#L983).\n",
    "\n",
    "Separators:\n",
    "* `\\nfunction` - Indicates the beginning of a function declaration\n",
    "* `\\nconst` - Used for declaring constant variables\n",
    "* `\\nlet` - Used for declaring block-scoped variables\n",
    "* `\\nvar` - Used for declaring a variable\n",
    "* `\\nclass` - Indicates the start of a class definition\n",
    "* `\\nif` - Indicates the beginning of an if statement\n",
    "* `\\nfor` - Used for for-loops\n",
    "* `\\nwhile` - Used for while-loops\n",
    "* `\\nswitch` - Used for switch statements\n",
    "* `\\ncase` - Used within switch statements\n",
    "* `\\ndefault` - Also used within switch statements\n",
    "* `\\n\\n` - Indicates a larger separation in text or code\n",
    "* `\\n` - Separates lines of code or text\n",
    "* `\" \"` - Separates words or tokens in the code\n",
    "* `\"\"` - Makes every character a separate element"
   ]
  },
  {
   "cell_type": "code",
   "execution_count": null,
   "id": "a5225b66-4d79-455b-92a1-841fa23ccc4f",
   "metadata": {},
   "outputs": [],
   "source": [
    "from langchain.text_splitter import RecursiveCharacterTextSplitter, Language"
   ]
  },
  {
   "cell_type": "code",
   "execution_count": null,
   "id": "d75090fa-4d22-4348-8452-eb50eafa784d",
   "metadata": {},
   "outputs": [],
   "source": [
    "javascript_text = \"\"\"\n",
    "// Function is called, the return value will end up in x\n",
    "let x = myFunction(4, 3);\n",
    "\n",
    "function myFunction(a, b) {\n",
    "// Function returns the product of a and b\n",
    "  return a * b;\n",
    "}\n",
    "\"\"\""
   ]
  },
  {
   "cell_type": "code",
   "execution_count": null,
   "id": "909fde28-43ba-4f07-b9ae-04c21db04055",
   "metadata": {},
   "outputs": [],
   "source": [
    "js_splitter = RecursiveCharacterTextSplitter.from_language(\n",
    "    language=Language.JS, chunk_size=65, chunk_overlap=0\n",
    ")"
   ]
  },
  {
   "cell_type": "code",
   "execution_count": null,
   "id": "5b70d936-bc31-4ecc-b190-6dd8fffdacb9",
   "metadata": {},
   "outputs": [],
   "source": [
    "js_splitter.create_documents([javascript_text])"
   ]
  },
  {
   "cell_type": "markdown",
   "id": "8fab2014-e705-4ade-87ea-d967a9c01593",
   "metadata": {},
   "source": [
    "### PDFs w/ tables\n",
    "\n",
    "Ok now things will get a bit spicier.\n",
    "\n",
    "PDFs are an extremely common data type for language model work. Often they'll contain tables that contain information.\n",
    "\n",
    "This could be financial data, studies, academic papers, etc.\n",
    "\n",
    "Trying to split tables by a character based separator isn't reliable. We need to try out a different method. For a deep dive on this I recommend checking out [Lance Martin's](https://twitter.com/RLanceMartin) [tutorial](https://twitter.com/RLanceMartin/status/1721942636364456336) w/ LangChain.\n",
    "\n",
    "I'll be going through a text based methods. [Mayo](https://twitter.com/mayowaoshin) has also outlined a GPT-4V method which tries to pulls tables via vision rather than text. You can check out [here](https://twitter.com/mayowaoshin/status/1727399231734886633).\n",
    "\n",
    "A very convenient way to do this is with [Unstructured](https://unstructured.io/), a library dedicated to making your data LLM ready."
   ]
  },
  {
   "cell_type": "markdown",
   "id": "b112aef6",
   "metadata": {},
   "source": [
    "`pip install pdf2image`\n",
    "\n",
    "`pip install pdfminer.six`\n",
    "\n",
    "`pip install pillow-heif`"
   ]
  },
  {
   "cell_type": "code",
   "execution_count": null,
   "id": "ffd078d0-5651-4ab0-b299-b2ed5a4f7cef",
   "metadata": {},
   "outputs": [],
   "source": [
    "import os\n",
    "from unstructured.partition.pdf import partition_pdf\n",
    "from unstructured.staging.base import elements_to_json"
   ]
  },
  {
   "cell_type": "markdown",
   "id": "b174a72b-0d43-4440-9ef8-f5f3aed0c651",
   "metadata": {},
   "source": [
    "Let's load up our PDF and then parition it. This is a PDF from a [Salesforce earning report](https://investor.salesforce.com/financials/default.aspx)."
   ]
  },
  {
   "cell_type": "markdown",
   "id": "03ecf1b8",
   "metadata": {},
   "source": [
    "`pip install pikepdf pypdf`\n",
    "\n",
    "`brew install poppler`\n",
    "\n",
    "`pip install \"unstructured[local-inference]\"`\n",
    "\n",
    "`pip install unstructured-inference`\n",
    "\n",
    "`pip3 install unstructured-pytesseract`\n",
    "\n"
   ]
  },
  {
   "cell_type": "code",
   "execution_count": null,
   "id": "2ae9042d-be6f-411a-8835-bda30ffa0805",
   "metadata": {},
   "outputs": [],
   "source": [
    "# filename = \"static/SalesforceFinancial.pdf\"\n",
    "filename = \"../../../other_files/salesforce-fy24-annual-report.pdf\"\n",
    "\n",
    "# Extracts the elements from the PDF\n",
    "elements = partition_pdf(\n",
    "    filename=filename,\n",
    "\n",
    "    # Unstructured Helpers\n",
    "    strategy=\"hi_res\", \n",
    "    infer_table_structure=True, \n",
    "    model_name=\"yolox\"\n",
    ")"
   ]
  },
  {
   "cell_type": "markdown",
   "id": "f65ad413-80f9-43da-8fb5-3a32373c3686",
   "metadata": {},
   "source": [
    "Let's look at our elements"
   ]
  },
  {
   "cell_type": "code",
   "execution_count": null,
   "id": "0f5ac388-5b4e-4dcd-bf74-84220c8cdff4",
   "metadata": {},
   "outputs": [],
   "source": [
    "elements"
   ]
  },
  {
   "cell_type": "markdown",
   "id": "1a081974-002c-4060-9d0c-2d4a5f270044",
   "metadata": {},
   "source": [
    "These are just unstructured objects, we could look at them all but I want to look at the table it parsed."
   ]
  },
  {
   "cell_type": "code",
   "execution_count": null,
   "id": "9c5460db-689d-4e7a-a5bc-a10477c4a61e",
   "metadata": {},
   "outputs": [],
   "source": [
    "elements[-4].metadata.text_as_html"
   ]
  },
  {
   "cell_type": "markdown",
   "id": "8c269535-4fe9-44f2-8e0d-8578d706db7c",
   "metadata": {},
   "source": [
    "That table may look messy, but because it's in HTML format, the LLM is able to parse it much more easily than if it was tab or comma separated. You can copy and paste that html into a [html viewer](https://codebeautify.org/htmlviewer) online to see it reconstructed.\n",
    "\n",
    "<div style=\"text-align: center;\">\n",
    "    <img src=\"static/SalesforceFinancialTable.png\" alt=\"image\" style=\"max-width: 800px;\">\n",
    "</div>"
   ]
  },
  {
   "cell_type": "markdown",
   "id": "1ed1a5fe-245a-4d3c-86aa-03fca86ba5cf",
   "metadata": {},
   "source": [
    "Awesome, Unstructured was able to pull out the tables for us. It's not perfect, but the team is upgrading their toolset all the time.\n",
    "\n",
    "**Important Point:** Later on when we are doing semantic search over our chunks, trying to match on embeddings from the table directly will be difficult. A common practice that developers do is to *summarize* the table after you've extracted it. Then get an embedding of that summary. If the summary embedding matches what you're looking for, then pass the raw table to your LLM.\n",
    "\n",
    "### Multi-Modal (text + images)\n",
    "\n",
    "Next we'll dive into the world of multi-modal text splitting. This is a very active field and best practices are evolving. I'll show you a method that was made popular by [Lance Martin](https://twitter.com/RLanceMartin/status/1713638963255366091) of LangChain. You can check out his source code [here](https://github.com/langchain-ai/langchain/blob/master/cookbook/Semi_structured_and_multi_modal_RAG.ipynb). If you find a method that works better, share it out with the community!"
   ]
  },
  {
   "cell_type": "code",
   "execution_count": null,
   "id": "dee2ed53-96c8-4cf3-89d9-681ff5d4552f",
   "metadata": {},
   "outputs": [],
   "source": [
    "#!pip3 install \"unstructured[all-docs]\"\n",
    "from typing import Any\n",
    "\n",
    "from pydantic import BaseModel\n",
    "from unstructured.partition.pdf import partition_pdf"
   ]
  },
  {
   "cell_type": "markdown",
   "id": "ea2f20e1-e0fb-4d17-8ec7-faa4276fba23",
   "metadata": {},
   "source": [
    "First, let's go get a PDF to work with. This will be from a visual instruction tuning [paper](https://llava-vl.github.io/).\n",
    "\n",
    "<div style=\"text-align: center;\">\n",
    "    <img src=\"static/VisualInstructionSnapshot.png\" alt=\"image\" style=\"max-width: 800px;\">\n",
    "</div>"
   ]
  },
  {
   "cell_type": "code",
   "execution_count": null,
   "id": "3f2d1771-7170-48c2-a614-480d7d2167df",
   "metadata": {},
   "outputs": [],
   "source": [
    "filepath = \"static/VisualInstruction.pdf\""
   ]
  },
  {
   "cell_type": "code",
   "execution_count": null,
   "id": "d9240942-2702-45ae-8333-8ac9c3e10343",
   "metadata": {},
   "outputs": [],
   "source": [
    "# Get elements\n",
    "raw_pdf_elements = partition_pdf(\n",
    "    filename=filepath,\n",
    "    \n",
    "    # Using pdf format to find embedded image blocks\n",
    "    extract_images_in_pdf=True,\n",
    "    \n",
    "    # Use layout model (YOLOX) to get bounding boxes (for tables) and find titles\n",
    "    # Titles are any sub-section of the document\n",
    "    infer_table_structure=True,\n",
    "    \n",
    "    # Post processing to aggregate text once we have the title\n",
    "    chunking_strategy=\"by_title\",\n",
    "    # Chunking params to aggregate text blocks\n",
    "    # Attempt to create a new chunk 3800 chars\n",
    "    # Attempt to keep chunks > 2000 chars\n",
    "    # Hard max on chunks\n",
    "    max_characters=4000,\n",
    "    new_after_n_chars=3800,\n",
    "    combine_text_under_n_chars=2000,\n",
    "    image_output_dir_path=\"static/pdfImages/\",\n",
    ")"
   ]
  },
  {
   "cell_type": "markdown",
   "id": "2c45aab5-5f51-4d67-9ea2-17c5489a5c2a",
   "metadata": {},
   "source": [
    "If you head over to `static/pdfImages/` and check out the images that were parsed.\n",
    "\n",
    "But the images don't do anything sitting in a folder, we need to do something with them! Though a bit outside the scope of chunking, let's talk about how to work with these.\n",
    "\n",
    "The common tactics will either use a multi-modal model to generate summaries of the images or use the image itself for your task. Others get embeddings of images (like [CLIP](https://openai.com/research/clip)).\n",
    "\n",
    "Let's generate summaries so you'll be inspired to take this to the next step. We'll use GPT-4V. Check out other models [here](https://platform.openai.com/docs/model)."
   ]
  },
  {
   "cell_type": "code",
   "execution_count": null,
   "id": "fc40dacd-09a0-4ce0-ae8c-87a3910a1408",
   "metadata": {},
   "outputs": [],
   "source": [
    "from langchain.chat_models import ChatOpenAI\n",
    "from langchain.schema.messages import HumanMessage\n",
    "import os\n",
    "from dotenv import load_dotenv\n",
    "from PIL import Image\n",
    "import base64\n",
    "import io\n",
    "\n",
    "load_dotenv()"
   ]
  },
  {
   "cell_type": "markdown",
   "id": "9fe7b48f-7da2-430f-a0dd-c8e1766854a3",
   "metadata": {},
   "source": [
    "We'll be using gpt-4-vision today"
   ]
  },
  {
   "cell_type": "code",
   "execution_count": null,
   "id": "59b1b6d2-4d84-41dc-8698-8be52e6f5bd8",
   "metadata": {},
   "outputs": [],
   "source": [
    "llm = ChatOpenAI(model=\"gpt-4-vision-preview\")"
   ]
  },
  {
   "cell_type": "markdown",
   "id": "6ea28491-e225-4667-8666-3b0541dbf2b7",
   "metadata": {},
   "source": [
    "I'm creating quick helper function to convert the image from file to base64 so we can pass it to GPT-4V"
   ]
  },
  {
   "cell_type": "code",
   "execution_count": null,
   "id": "ed1f096a-abd1-4380-af24-6c65074d2420",
   "metadata": {},
   "outputs": [],
   "source": [
    "# Function to convert image to base64\n",
    "def image_to_base64(image_path):\n",
    "    with Image.open(image_path) as image:\n",
    "        buffered = io.BytesIO()\n",
    "        image.save(buffered, format=image.format)\n",
    "        img_str = base64.b64encode(buffered.getvalue())\n",
    "        return img_str.decode('utf-8')\n",
    "\n",
    "image_str = image_to_base64(\"static/pdfImages/figure-15-6.jpg\")"
   ]
  },
  {
   "cell_type": "markdown",
   "id": "80becf02-83bd-4560-af3a-dece72259296",
   "metadata": {},
   "source": [
    "Then we can go ahead and pass our image to the LLM"
   ]
  },
  {
   "cell_type": "code",
   "execution_count": null,
   "id": "638d7f95-d181-4b4a-aeb0-b40367f0f215",
   "metadata": {},
   "outputs": [],
   "source": [
    "chat = ChatOpenAI(model=\"gpt-4-vision-preview\",\n",
    "                  max_tokens=1024)\n",
    "\n",
    "msg = chat.invoke(\n",
    "    [\n",
    "        HumanMessage(\n",
    "            content=[\n",
    "                {\"type\": \"text\", \"text\" : \"Please give a summary of the image provided. Be descriptive\"},\n",
    "                {\n",
    "                    \"type\": \"image_url\",\n",
    "                    \"image_url\": {\n",
    "                        \"url\": f\"data:image/jpeg;base64,{image_str}\"\n",
    "                    },\n",
    "                },\n",
    "            ]\n",
    "        )\n",
    "    ]\n",
    ")"
   ]
  },
  {
   "cell_type": "markdown",
   "id": "67130242-5d72-4304-a705-c9177558a7d4",
   "metadata": {},
   "source": [
    "Then the summary returned is what we will put into our vectordata base. Then when it comes time to do our retrieval process, we'll use these embeddings for semantic search."
   ]
  },
  {
   "cell_type": "code",
   "execution_count": null,
   "id": "a51c2833-ee05-43b2-9cd2-6710d6e73ee8",
   "metadata": {},
   "outputs": [],
   "source": [
    "msg.content"
   ]
  },
  {
   "cell_type": "markdown",
   "id": "b129deb0-7b11-48f6-bc3e-210658e9f8e4",
   "metadata": {},
   "source": [
    "<div style=\"text-align: center;\">\n",
    "    <img src=\"static/pdfImages/figure-15-6.jpg\" alt=\"image\" style=\"max-width: 800px;\"><br>\n",
    "    <span><i>static/pdfImages/figure-15-6.jpg</i></span>\n",
    "</div>\n",
    "\n",
    "Hm, that seems about right!\n",
    "\n",
    "There are a ton of ways to go about this (check out the bonus section for more) so don't take my word for it - try 'em."
   ]
  },
  {
   "cell_type": "markdown",
   "id": "0ba7cf0e-ec8e-4115-be32-e49aaf5adccc",
   "metadata": {},
   "source": [
    "## Level 4: Semantic Chunking <a id=\"SemanticChunking\"></a>\n",
    "Isn't it weird that we have a global constant for chunk size?  \n",
    "Isn't it even weirder that our normal chunking mechanisms don't take into account the actual content?\n",
    "\n",
    "I'm not the only one who thinks so\n",
    "\n",
    "<div style=\"text-align: center;\">\n",
    "    <img src=\"static/SemanticChunkingtweet.png\" style=\"max-width:50%; height:auto;\"><br>\n",
    "    <span><i><a href=\"https://twitter.com/thesephist/status/1724159343237456248?s=46\">Source</a></i></span>\n",
    "</div>\n",
    "\n",
    "There has to be a better way - let's explore and find out.\n",
    "\n",
    "Embeddings represent the semantic meaning of a string.  \n",
    "They don't do much on their own, but when compared to embeddings of other texts  \n",
    "you can start to infer the relationship between chunks.  \n",
    "I want to lean into this property and explore using embeddings to find clusters of semantically similar texts.\n",
    "\n",
    "The hypothesis is that semantically similar chunks should be held together.\n",
    "\n",
    "I tried a few methods:\n",
    "1) **Heirarchical clustering with positional reward** -  \n",
    "I wanted to see how heirarchical clustering of sentence embeddings would do.  \n",
    "But because I chose to split on sentences,  \n",
    "there was an issue with small short sentences after a long one.  \n",
    "You know? (like this last sentenence).  \n",
    "They could change the meaning of a chunk,  \n",
    "so I added a positional reward and clusters were more likely to form if they were sentences next to each other.  \n",
    "This ended up being ok, but tuning the parameters was slow and unoptimal.\n",
    "\n",
    "2) **Find break points between sequential sentences** -  \n",
    "Next up I tried a walk method. I started at the first sentence,  \n",
    "got the embedding, then compared it to sentence #2, then compared #2 and #3 and so on.  \n",
    "I was looking for \"break points\" where embedding distance was large.  \n",
    "If it was above a threshold, then I considered it the start of a new semantic section.  \n",
    "I originally tried taking embeddings of every sentence, but this turned out to be too noisy.  \n",
    "So I ended up taking groups of 3 sentences (a window), then got an embedding,  \n",
    "then dropped the first sentence, and added the next one. This worked out a bit better.\n",
    "\n",
    "I'll show method #2 here - It's not perfect by any means, but it's a good starting point for an exploration and I'd love to hear about how you think it could be improved.\n",
    "\n",
    "First, let's load up our essay that we'll run through. I'm just doing a single essay here to keep the tokens down.\n",
    "\n",
    "We'll be using Paul Graham's [MIT essay](https://paulgraham.com/mit.html)"
   ]
  },
  {
   "cell_type": "code",
   "execution_count": null,
   "id": "7c5bb388-0534-4ef5-b5d2-322e945a513b",
   "metadata": {},
   "outputs": [],
   "source": [
    "# with open('../../data/PGEssays/mit.txt') as file:\n",
    "# with open('../../../text_files/paul_graham_essays.txt') as file:\n",
    "with open('../../../text_files/paul_graham_mit_essays.txt') as file:\n",
    "    essay = file.read()"
   ]
  },
  {
   "cell_type": "markdown",
   "id": "6d18623d-6fc1-4b90-a016-ee79ac28b9ad",
   "metadata": {},
   "source": [
    "Then I want to split the entire essay into 1-sentence chunks. I'm going to split on \".\" \"?\" and \"!\". There are better ways to do this but this is quick and easy for now."
   ]
  },
  {
   "cell_type": "code",
   "execution_count": null,
   "id": "1dbbfa5a-45a2-4c6e-84f5-d774183717d0",
   "metadata": {},
   "outputs": [],
   "source": [
    "import re\n",
    "\n",
    "# Splitting the essay on '.', '?', and '!'\n",
    "single_sentences_list = re.split(r'(?<=[.?!])\\s+', essay)\n",
    "print (f\"{len(single_sentences_list)} senteneces were found\")"
   ]
  },
  {
   "cell_type": "markdown",
   "id": "6340df5c-bae9-4f04-a69a-4263c7e912de",
   "metadata": {},
   "source": [
    "But a list of sentences can be tough to add more data too. I'm going to turn this into a list of dictionaries (`List[dict]`), of which, the sentences will be a key-value. Then we can start to add more data to each sentence."
   ]
  },
  {
   "cell_type": "code",
   "execution_count": null,
   "id": "b1bc484a-5d6f-4df5-a1ec-7803908fac95",
   "metadata": {},
   "outputs": [],
   "source": [
    "sentences = [{'sentence': x, 'index' : i} for i, x in enumerate(single_sentences_list)]\n",
    "sentences[:3]"
   ]
  },
  {
   "cell_type": "markdown",
   "id": "7655fbb4-73a8-43dd-a6b7-565ecf85890a",
   "metadata": {},
   "source": [
    "Great, now that we have our sentences,  \n",
    "I want to combine the sentence before and after  \n",
    "so that we reduce noise and capture more of the relationships between sequential sentences.\n",
    "\n",
    "Let's create a function so we can use it again.  \n",
    "The `buffer_size` is configurable so you can select how big of a window you want.  \n",
    "Keep this number in mind for the later steps. I'll just use `buffer_size=1` for now."
   ]
  },
  {
   "cell_type": "code",
   "execution_count": null,
   "id": "c2c5e5ef-bfbe-4680-9761-0ba7615cc645",
   "metadata": {},
   "outputs": [],
   "source": [
    "def combine_sentences(sentences, buffer_size=1):\n",
    "    # Go through each sentence dict\n",
    "    for i in range(len(sentences)):\n",
    "\n",
    "        # Create a string that will hold the sentences which are joined\n",
    "        combined_sentence = ''\n",
    "\n",
    "        # Add sentences before the current one, based on the buffer size.\n",
    "        for j in range(i - buffer_size, i):\n",
    "            # Check if the index j is not negative (to avoid index out of range like on the first one)\n",
    "            if j >= 0:\n",
    "                # Add the sentence at index j to the combined_sentence string\n",
    "                combined_sentence += sentences[j]['sentence'] + ' '\n",
    "\n",
    "        # Add the current sentence\n",
    "        combined_sentence += sentences[i]['sentence']\n",
    "\n",
    "        # Add sentences after the current one, based on the buffer size\n",
    "        for j in range(i + 1, i + 1 + buffer_size):\n",
    "            # Check if the index j is within the range of the sentences list\n",
    "            if j < len(sentences):\n",
    "                # Add the sentence at index j to the combined_sentence string\n",
    "                combined_sentence += ' ' + sentences[j]['sentence']\n",
    "\n",
    "        # Then add the whole thing to your dict\n",
    "        # Store the combined sentence in the current sentence dict\n",
    "        sentences[i]['combined_sentence'] = combined_sentence\n",
    "\n",
    "    return sentences\n"
   ]
  },
  {
   "cell_type": "code",
   "execution_count": null,
   "id": "993e7d51",
   "metadata": {},
   "outputs": [],
   "source": [
    "sentences = combine_sentences(sentences)"
   ]
  },
  {
   "cell_type": "code",
   "execution_count": null,
   "id": "a0c06ebf-af2c-4f14-924d-e0d0cab05f09",
   "metadata": {},
   "outputs": [],
   "source": [
    "sentences[:3]"
   ]
  },
  {
   "cell_type": "markdown",
   "id": "0deb04a6-d0ad-4757-af8c-d6d600794357",
   "metadata": {},
   "source": [
    "Check out how the 2nd sentence (index #1) has the first sentence and 3rd sentence in its `combined_sentence` key now.\n",
    "\n",
    "Now I want to get embeddings for the combined sentences, so we can get the distances between the groups of 3 and find breakpoints. I'll use OpenAI's embeddings for this."
   ]
  },
  {
   "cell_type": "code",
   "execution_count": null,
   "id": "d757106f-d6cd-4504-96f1-4fe1f82e0b7e",
   "metadata": {},
   "outputs": [],
   "source": [
    "# from langchain.embeddings import OpenAIEmbeddings\n",
    "from langchain_openai import OpenAIEmbeddings\n",
    "oaiembeds = OpenAIEmbeddings()"
   ]
  },
  {
   "cell_type": "markdown",
   "id": "9d5da984-67dc-43ce-b871-b5e91186767a",
   "metadata": {},
   "source": [
    "Now let's go get our embeddings. We'll do this in batch to make it quicker."
   ]
  },
  {
   "cell_type": "code",
   "execution_count": null,
   "id": "8a18ba5b-4c9f-42d8-bad0-ca0825715f1b",
   "metadata": {},
   "outputs": [],
   "source": [
    "embeddings = oaiembeds.embed_documents([x['combined_sentence'] for x in sentences])"
   ]
  },
  {
   "cell_type": "markdown",
   "id": "6a2cdc46-ad21-4e8e-a540-548aa3604212",
   "metadata": {},
   "source": [
    "Now we have a list of embeddings, but we need to add them to our list of dicts"
   ]
  },
  {
   "cell_type": "code",
   "execution_count": null,
   "id": "45828ce9-31cf-4810-a5e8-2098201a91dd",
   "metadata": {},
   "outputs": [],
   "source": [
    "for i, sentence in enumerate(sentences):\n",
    "    sentence['combined_sentence_embedding'] = embeddings[i]"
   ]
  },
  {
   "cell_type": "code",
   "execution_count": null,
   "id": "3e67a5ed",
   "metadata": {},
   "outputs": [],
   "source": [
    "# dimensions of openai embeddings\n",
    "print(len(sentences[0].get(\"combined_sentence_embedding\")))"
   ]
  },
  {
   "cell_type": "markdown",
   "id": "7a4f5f3e-f436-4374-be90-a1f5f819e518",
   "metadata": {},
   "source": [
    "Great, now we're getting to the cool part,  \n",
    "let's check out the cosine distances between sequential embedding pairs to see where the break points are.  \n",
    "We'll add 'distance_to_next' as another key"
   ]
  },
  {
   "cell_type": "code",
   "execution_count": null,
   "id": "95792785-a966-4b40-a9c4-c76eaed71766",
   "metadata": {},
   "outputs": [],
   "source": [
    "from sklearn.metrics.pairwise import cosine_similarity\n",
    "\n",
    "def calculate_cosine_distances(sentences):\n",
    "    distances = []\n",
    "    for i in range(len(sentences) - 1):\n",
    "        embedding_current = sentences[i]['combined_sentence_embedding']\n",
    "        embedding_next = sentences[i + 1]['combined_sentence_embedding']\n",
    "        \n",
    "        # Calculate cosine similarity\n",
    "        similarity = cosine_similarity([embedding_current], [embedding_next])[0][0]\n",
    "        \n",
    "        # Convert to cosine distance\n",
    "        distance = 1 - similarity\n",
    "\n",
    "        # Append cosine distance to the list\n",
    "        distances.append(distance)\n",
    "\n",
    "        # Store distance in the dictionary\n",
    "        sentences[i]['distance_to_next'] = distance\n",
    "\n",
    "    # Optionally handle the last sentence\n",
    "    # sentences[-1]['distance_to_next'] = None  # or a default value\n",
    "\n",
    "    return distances, sentences"
   ]
  },
  {
   "cell_type": "markdown",
   "id": "45abeb2e-605b-4556-82ca-b7c99eec742a",
   "metadata": {},
   "source": [
    "Great, now let's pull out the distances from our sentences and then add them as well"
   ]
  },
  {
   "cell_type": "code",
   "execution_count": null,
   "id": "336bf78a-8109-4fc5-92b3-28aa049b9f99",
   "metadata": {},
   "outputs": [],
   "source": [
    "distances, sentences = calculate_cosine_distances(sentences)"
   ]
  },
  {
   "cell_type": "markdown",
   "id": "57eeacef-1594-41ea-a5f9-70f99b8878f3",
   "metadata": {},
   "source": [
    "Let's take a look at what our distances array looks like."
   ]
  },
  {
   "cell_type": "code",
   "execution_count": null,
   "id": "3c330493-20f9-456e-a6f7-7e16cac4f3d1",
   "metadata": {},
   "outputs": [],
   "source": [
    "distances[:3]"
   ]
  },
  {
   "cell_type": "markdown",
   "id": "7e960090-8714-4481-adec-33fe39c31bc4",
   "metadata": {},
   "source": [
    "Hm, yep, just a bunch of numbers that aren't fun to look at. Let's plot them."
   ]
  },
  {
   "cell_type": "code",
   "execution_count": null,
   "id": "986e4885-b079-4a4a-9ae4-a1227d6ce1bc",
   "metadata": {},
   "outputs": [],
   "source": [
    "import matplotlib.pyplot as plt\n",
    "\n",
    "# plt.plot(distances)\n",
    "fig, ax = plt.subplots(figsize=(10, 5))  # 设置宽度为10英寸，高度为5英寸\n",
    "\n",
    "# 绘制数据\n",
    "ax.plot(distances)"
   ]
  },
  {
   "cell_type": "markdown",
   "id": "f4703f6b-9bf1-45ef-b0ea-a4fb95cc9007",
   "metadata": {},
   "source": [
    "Hm, cool! It's interesting to see sections where distances are smaller and then areas of larger distances.  \n",
    "What stands out to me most is the outliers which are spread out.\n",
    "\n",
    "There are many ways to chunk up the essay based off these distances,  \n",
    "but I'm going to consider any distance above the `95th` percentile of distances as a break point.  \n",
    "This is the only parameter we'll need to config.\n",
    "\n",
    "I'm going to build in the final viz, check out the video for an iterative build and an overview."
   ]
  },
  {
   "cell_type": "markdown",
   "id": "5044cd49-ef33-4d00-a629-bc3411b7939e",
   "metadata": {},
   "source": [
    "Let's look at the chunks that came out"
   ]
  },
  {
   "cell_type": "code",
   "execution_count": null,
   "id": "cba11136-a6fb-4ec6-83db-0476c9efc5e0",
   "metadata": {},
   "outputs": [],
   "source": [
    "import numpy as np\n",
    "\n",
    "fig, ax = plt.subplots(figsize=(15, 5))  # 设置宽度为10英寸，高度为5英寸\n",
    "ax.plot(distances)\n",
    "# plt.plot(distances)\n",
    "\n",
    "y_upper_bound = .2\n",
    "plt.ylim(0, y_upper_bound)\n",
    "plt.xlim(0, len(distances))\n",
    "\n",
    "# We need to get the distance threshold that we'll consider an outlier\n",
    "# We'll use numpy .percentile() for this\n",
    "breakpoint_percentile_threshold = 95\n",
    "breakpoint_distance_threshold = np.percentile(distances, breakpoint_percentile_threshold) # If you want more chunks, lower the percentile cutoff\n",
    "plt.axhline(y=breakpoint_distance_threshold, color='r', linestyle='-')\n",
    "\n",
    "# Then we'll see how many distances are actually above this one\n",
    "num_distances_above_theshold = len([x for x in distances if x > breakpoint_distance_threshold]) # The amount of distances above your threshold\n",
    "plt.text(x=(len(distances)*.01), y=y_upper_bound/50, s=f\"{num_distances_above_theshold + 1} Chunks\")\n",
    "\n",
    "# Then we'll get the index of the distances that are above the threshold. This will tell us where we should split our text\n",
    "indices_above_thresh = [i for i, x in enumerate(distances) if x > breakpoint_distance_threshold] # The indices of those breakpoints on your list\n",
    "\n",
    "# Start of the shading and text\n",
    "colors = ['b', 'g', 'r', 'c', 'm', 'y', 'k']\n",
    "for i, breakpoint_index in enumerate(indices_above_thresh):\n",
    "    start_index = 0 if i == 0 else indices_above_thresh[i - 1]\n",
    "    end_index = breakpoint_index if i < len(indices_above_thresh) - 1 else len(distances)\n",
    "\n",
    "    plt.axvspan(start_index, end_index, facecolor=colors[i % len(colors)], alpha=0.25)\n",
    "    plt.text(x=np.average([start_index, end_index]),\n",
    "             y=breakpoint_distance_threshold + (y_upper_bound)/ 20,\n",
    "             s=f\"Chunk #{i}\", horizontalalignment='center',\n",
    "             rotation='vertical')\n",
    "\n",
    "# # Additional step to shade from the last breakpoint to the end of the dataset\n",
    "if indices_above_thresh:\n",
    "    last_breakpoint = indices_above_thresh[-1]\n",
    "    if last_breakpoint < len(distances):\n",
    "        plt.axvspan(last_breakpoint, len(distances), facecolor=colors[len(indices_above_thresh) % len(colors)], alpha=0.25)\n",
    "        plt.text(x=np.average([last_breakpoint, len(distances)]),\n",
    "                 y=breakpoint_distance_threshold + (y_upper_bound)/ 20,\n",
    "                 s=f\"Chunk #{i+1}\",\n",
    "                 rotation='vertical')\n",
    "\n",
    "plt.title(\"PG Essay Chunks Based On Embedding Breakpoints\")\n",
    "plt.xlabel(\"Index of sentences in essay (Sentence Position)\")\n",
    "plt.ylabel(\"Cosine distance between sequential sentences\")\n",
    "plt.show()"
   ]
  },
  {
   "cell_type": "markdown",
   "id": "6c942fe5-cfb4-44b2-8177-35983e88ea82",
   "metadata": {},
   "source": [
    "Well now that we've succefully distracted ourselves with a visualization, now we need to combine the sentences into chunks.\n",
    "\n",
    "Because we have our breakpoints [23, 40, 51...] I want to make the first chunk 0-22, since the distance jumped on sentence 23."
   ]
  },
  {
   "cell_type": "code",
   "execution_count": null,
   "id": "f17828f0-4d1b-4514-ad87-343301cb8450",
   "metadata": {},
   "outputs": [],
   "source": [
    "# Initialize the start index\n",
    "start_index = 0\n",
    "\n",
    "# Create a list to hold the grouped sentences\n",
    "chunks = []\n",
    "\n",
    "# Iterate through the breakpoints to slice the sentences\n",
    "for index in indices_above_thresh:\n",
    "    # The end index is the current breakpoint\n",
    "    end_index = index\n",
    "\n",
    "    # Slice the sentence_dicts from the current start index to the end index\n",
    "    group = sentences[start_index:end_index + 1]\n",
    "    combined_text = ' '.join([d['sentence'] for d in group])\n",
    "    chunks.append(combined_text)\n",
    "    \n",
    "    # Update the start index for the next group\n",
    "    start_index = index + 1\n",
    "\n",
    "# The last group, if any sentences remain\n",
    "if start_index < len(sentences):\n",
    "    combined_text = ' '.join([d['sentence'] for d in sentences[start_index:]])\n",
    "    chunks.append(combined_text)\n",
    "\n",
    "# grouped_sentences now contains the chunked sentences"
   ]
  },
  {
   "cell_type": "markdown",
   "id": "8418f022-d929-427e-9977-ec12c4eb0236",
   "metadata": {},
   "source": [
    "Great now let's manually inspect a few to make sure they look ok."
   ]
  },
  {
   "cell_type": "code",
   "execution_count": null,
   "id": "d709135b-6465-4720-8eb8-60dc9f91efac",
   "metadata": {},
   "outputs": [],
   "source": [
    "for i, chunk in enumerate(chunks[:4]):\n",
    "    buffer = 100\n",
    "    \n",
    "    print (f\"Chunk #{i}\")\n",
    "    print (chunk[:buffer].strip())\n",
    "    print (\"...\")\n",
    "    print (chunk[-buffer:].strip())\n",
    "    print (\"\\n\")"
   ]
  },
  {
   "cell_type": "markdown",
   "id": "c4a86473-b267-483d-ac45-e0f4d30b67e6",
   "metadata": {},
   "source": [
    "I want to re-emphasize that this is an exploration of a method that is far from usable yet. This method should be tested with RAG eval to ensure that it works for your use case.\n",
    "\n",
    "I didn't worry about chunk size or overlap with this method, but you could recursively split large chunks if you needed to.\n",
    "\n",
    "How should it be improved? Let me [know](https://twitter.com/GregKamradt)! See me tease this [here](https://twitter.com/GregKamradt/status/1737921395974430953)."
   ]
  },
  {
   "cell_type": "markdown",
   "id": "c43ff201-d657-49e0-8a03-8e6460113393",
   "metadata": {},
   "source": [
    "## Level 5: Agentic Chunking <a id=\"AgenticChunking\"></a>\n",
    "Taking level 4 even further - can we instruct an LLM to do this task like a human would?\n",
    "\n",
    "How does a human even go about chunking in the first place?\n",
    "\n",
    "Well...let me think, how would I go about chunking a document into its discrete parts such that the results were semantically similar?\n",
    "\n",
    "1. I would get myself a scratch piece of paper or notepad\n",
    "2. I'd start at the top of the essay and assume the first part will be a chunk (since we don't have any yet)\n",
    "3. Then I would keep going down the essay and evaluate if a new sentence or piece of the essay should be a part of the first chunk, if not, then create a new one\n",
    "4. Then keep doing that all the way down the essay until we got to the end.\n",
    "\n",
    "Woah! Wait a minute - this is pseudo code for something we can try out. See me tease this [here](https://twitter.com/GregKamradt/status/1738276097471754735).\n",
    "\n",
    "I debated whether or not to hold myself to the strict standard of using the *raw text* from a document, or use a derived form. The former felt like I was being too harsh, so I decided to explore using [propositions](https://twitter.com/LangChainAI/status/1735708004618764470). This is a cool concept ([research paper](https://arxiv.org/pdf/2312.06648.pdf)) that extracts stand alone statements from a raw piece of text.\n",
    "\n",
    "Example: `Greg went to the park. He likes walking` > `['Greg went to the park.', 'Greg likes walking']`\n",
    "\n",
    "Let's do it:"
   ]
  },
  {
   "cell_type": "code",
   "execution_count": null,
   "id": "5a6f79c0-f6bd-4561-bf0a-434955d875e5",
   "metadata": {},
   "outputs": [],
   "source": [
    "from langchain.output_parsers.openai_tools import JsonOutputToolsParser\n",
    "# from langchain_community.chat_models import ChatOpenAI\n",
    "from langchain_openai import ChatOpenAI\n",
    "from langchain_core.prompts import ChatPromptTemplate\n",
    "from langchain_core.runnables import RunnableLambda\n",
    "# from langchain.chains import create_extraction_chain\n",
    "from langchain.chains.openai_functions import create_extraction_chain\n",
    "from typing import Optional, List\n",
    "# from langchain.chains import create_extraction_chain_pydantic\n",
    "from langchain.chains.openai_functions import create_extraction_chain_pydantic\n",
    "from langchain_core.pydantic_v1 import BaseModel\n",
    "from langchain import hub"
   ]
  },
  {
   "cell_type": "markdown",
   "id": "3ba10ec8-8227-4b95-a2cc-4149941dfe98",
   "metadata": {},
   "source": [
    "Pulling out propositions is done via a well-crafted prompt. I'm going to pull it from [LangHub](https://smith.langchain.com/hub?organizationId=50995362-9ea0-4378-ad97-b4edae2f9f22), LangChain's home for prompts.\n",
    "\n",
    "You can view the proposition prompt [here](https://smith.langchain.com/hub/wfh/proposal-indexing?organizationId=50995362-9ea0-4378-ad97-b4edae2f9f22).\n",
    "\n",
    "I'll use gpt-4 as the LLM because we aren't messing around. I care more about performance than I do speed or cost."
   ]
  },
  {
   "cell_type": "code",
   "execution_count": null,
   "id": "6de38943-7697-413e-a2e8-8a62cda914b8",
   "metadata": {},
   "outputs": [],
   "source": [
    "obj = hub.pull(\"wfh/proposal-indexing\")\n",
    "# llm = ChatOpenAI(model='gpt-4-1106-preview', openai_api_key = os.getenv(\"OPENAI_API_KEY\", 'YouKey'))\n",
    "\n",
    "from dotenv import load_dotenv\n",
    "load_dotenv()\n",
    "llm = ChatOpenAI(model='gpt-4o')"
   ]
  },
  {
   "cell_type": "code",
   "execution_count": null,
   "id": "02225b9e",
   "metadata": {},
   "outputs": [],
   "source": [
    "# print(type(obj))\n",
    "print(obj.messages)"
   ]
  },
  {
   "cell_type": "markdown",
   "id": "5a838bc4-e732-492d-80a5-8c829ca637ef",
   "metadata": {},
   "source": [
    "Then I'll make a runnable w/ langchain, this'll be a short way to combine the prompt and llm"
   ]
  },
  {
   "cell_type": "code",
   "execution_count": null,
   "id": "97236eb3-361e-4ebd-aa13-979ac8718f5f",
   "metadata": {},
   "outputs": [],
   "source": [
    "# use it in a runnable\n",
    "runnable = obj | llm"
   ]
  },
  {
   "cell_type": "markdown",
   "id": "bea6b054-bac6-4ce6-be8f-724a6ea1c5ef",
   "metadata": {},
   "source": [
    "The output from a runnable is a json-esque structure in a string. We need to pull the sentences out. I found that LangChain's example extraction was giving me a hard time so I'm doing it manually with a pydantic data class. There is definitely room to improve this.\n",
    "\n",
    "Create your class then put it in an extraction chain."
   ]
  },
  {
   "cell_type": "code",
   "execution_count": null,
   "id": "10116bfe-12a0-4f8c-95bf-67a0f8c1ceb5",
   "metadata": {},
   "outputs": [],
   "source": [
    "# Pydantic data class\n",
    "class Sentences(BaseModel):\n",
    "    sentences: List[str]\n",
    "    \n",
    "# Extraction\n",
    "extraction_chain = create_extraction_chain_pydantic(pydantic_schema = Sentences, llm = llm)"
   ]
  },
  {
   "cell_type": "markdown",
   "id": "a462b5c8-5cb2-4dcb-bedd-6ee1ce2cfd08",
   "metadata": {},
   "source": [
    "Then wrap it together in a function that'll return a list of propositions to us"
   ]
  },
  {
   "cell_type": "code",
   "execution_count": null,
   "id": "7ec04652-19e3-4cab-a882-7c31cd87fe1a",
   "metadata": {},
   "outputs": [],
   "source": [
    "def get_propositions(text):\n",
    "    runnable_output = runnable.invoke({\n",
    "    \t\"input\": text\n",
    "    }).content\n",
    "    \n",
    "    propositions = extraction_chain.invoke(runnable_output)[0].sentences\n",
    "    return propositions"
   ]
  },
  {
   "cell_type": "markdown",
   "id": "de0bf288-24ba-4a50-a225-400c6fff5c61",
   "metadata": {},
   "source": [
    "Go get your text of choice."
   ]
  },
  {
   "cell_type": "code",
   "execution_count": null,
   "id": "2be92b95-76d6-4a2c-ba2f-67379998956e",
   "metadata": {},
   "outputs": [],
   "source": [
    "# with open('../../data/PGEssays/superlinear.txt') as file:\n",
    "with open('../../../text_files/paul_graham_mit_essays.txt') as file:\n",
    "    essay = file.read()"
   ]
  },
  {
   "cell_type": "markdown",
   "id": "25f4ee69-a87e-481e-b01d-403021a2610b",
   "metadata": {},
   "source": [
    "Then you need to decide what you send to your proposal maker.  \n",
    "The prompt has an example that is about 1K characters long.  \n",
    "So I would experiment with what works for you.  \n",
    "This isn't another chunking decision, just pick something reasonable and try it out.\n",
    "\n",
    "I'm using paragraphs"
   ]
  },
  {
   "cell_type": "code",
   "execution_count": null,
   "id": "1121baaf-c65a-4dce-a942-83cfbf6891cc",
   "metadata": {},
   "outputs": [],
   "source": [
    "paragraphs = essay.split(\"\\n\\n\")"
   ]
  },
  {
   "cell_type": "markdown",
   "id": "e29ae4f7-e58b-4941-b243-ccc72c3bf37c",
   "metadata": {},
   "source": [
    "Let's see how many we have"
   ]
  },
  {
   "cell_type": "code",
   "execution_count": null,
   "id": "6a2c36b2-bce3-461f-9f52-af1c10b1c3ab",
   "metadata": {},
   "outputs": [],
   "source": [
    "len(paragraphs)"
   ]
  },
  {
   "cell_type": "markdown",
   "id": "6c3cb285-abf3-4334-aff7-5f84d741c7f4",
   "metadata": {},
   "source": [
    "That's too many for a demo, I'll do just the first couple to show it off."
   ]
  },
  {
   "cell_type": "code",
   "execution_count": null,
   "id": "46fddfc4-7cd6-4fe4-add7-7a12c593ef6c",
   "metadata": {},
   "outputs": [],
   "source": [
    "essay_propositions = []\n",
    "\n",
    "for i, para in enumerate(paragraphs[:10]):\n",
    "    propositions = get_propositions(para)\n",
    "    \n",
    "    essay_propositions.extend(propositions)\n",
    "    print (f\"Done with {i}\")\n",
    "\n",
    "print(\"all done\")"
   ]
  },
  {
   "cell_type": "markdown",
   "id": "c01906ad-b5a2-4b73-a079-4564b66b147e",
   "metadata": {},
   "source": [
    "Let's take a look at what the propositions look like"
   ]
  },
  {
   "cell_type": "code",
   "execution_count": null,
   "id": "4867944e-13f0-4207-b787-692eeebadea6",
   "metadata": {},
   "outputs": [],
   "source": [
    "print (f\"You have {len(essay_propositions)} propositions\")\n",
    "essay_propositions[:10]"
   ]
  },
  {
   "cell_type": "markdown",
   "id": "941ebfc6-da6a-4fb8-833d-ed2e9810f25e",
   "metadata": {},
   "source": [
    "So you'll see that they look like regular sentences,  \n",
    "but `they are actually statements that are able to stand on their own.`  \n",
    "For example, one of the sentences in the raw text is \"They meant well, but this is rarely true.\"  \n",
    "if you were to chunk that on it's own, the LLM would have no idea who you're talking about.  \n",
    "Who meant well? What is rarely true? But those have been covered by the propositions.\n",
    "\n",
    "Now onto the cool part, we need a system that can reason about each proposition and determine whether or not it should be a part of an existing chunk or if a new chunk should be made.\n",
    "\n",
    "The `pseudo code` for how this works is above -  \n",
    "I also review this code in the video so make sure to go watch that if you want to see me chat about it live.\n",
    "\n",
    "The script is also in this repo if you've cloned it."
   ]
  },
  {
   "cell_type": "code",
   "execution_count": null,
   "id": "1193f8e1-28aa-4c8c-8929-bfbcf7edc618",
   "metadata": {},
   "outputs": [],
   "source": [
    "# mini script I made\n",
    "from agentic_chunker import AgenticChunker"
   ]
  },
  {
   "cell_type": "code",
   "execution_count": null,
   "id": "f550431a-9484-4095-a888-31ec3cbe1b42",
   "metadata": {},
   "outputs": [],
   "source": [
    "ac = AgenticChunker()"
   ]
  },
  {
   "cell_type": "markdown",
   "id": "833086aa-d1b7-4ac8-9d85-3a71e6e634ab",
   "metadata": {},
   "source": [
    "Then let's pass in our propositions to it. There are a lot in the full list so I'm only going to do a subset.\n",
    "\n",
    "This method is slow and expensive, but let's see how the results are.\n",
    "\n",
    "You can turn off the print statements via setting `ac = AgenticChunker(print_logging=False)` when you create your chunker."
   ]
  },
  {
   "cell_type": "code",
   "execution_count": null,
   "id": "f7e9892a-9a1c-4269-a262-7cc4ab0eed32",
   "metadata": {},
   "outputs": [],
   "source": [
    "ac.add_propositions(essay_propositions)"
   ]
  },
  {
   "cell_type": "markdown",
   "id": "1481fe66-f73c-4fd2-a51c-3a1131a8e57c",
   "metadata": {},
   "source": [
    "Cool, looks like a few chunks were made. Let's check them out"
   ]
  },
  {
   "cell_type": "code",
   "execution_count": null,
   "id": "63741c55",
   "metadata": {},
   "outputs": [],
   "source": [
    "print(ac)"
   ]
  },
  {
   "cell_type": "code",
   "execution_count": null,
   "id": "27c79f2a-119e-45f2-8883-0f623a7c211e",
   "metadata": {},
   "outputs": [],
   "source": [
    "ac.pretty_print_chunks()"
   ]
  },
  {
   "cell_type": "markdown",
   "id": "e4aebf75-53b9-4695-bea9-effa0adf967e",
   "metadata": {},
   "source": [
    "Awesome, then if we wanted to get the chunks properly, then we get extract a list of strings with them. The chunks propositions will be joined in the same string"
   ]
  },
  {
   "cell_type": "code",
   "execution_count": null,
   "id": "e90e5eb4-676f-4310-8bbf-be87f94d07eb",
   "metadata": {},
   "outputs": [],
   "source": [
    "chunks = ac.get_chunks(get_type='list_of_strings')"
   ]
  },
  {
   "cell_type": "code",
   "execution_count": null,
   "id": "d08eb17e-10ab-426e-8998-bed29ab76dac",
   "metadata": {},
   "outputs": [],
   "source": [
    "chunks"
   ]
  },
  {
   "cell_type": "markdown",
   "id": "e920b345-0294-4b5d-995c-da36bdfaeace",
   "metadata": {},
   "source": [
    "Great, now we can go use that in our evaluations for your retrieval."
   ]
  },
  {
   "cell_type": "markdown",
   "id": "75a8462b-8c10-4550-b42c-453ecdec3647",
   "metadata": {},
   "source": [
    "## Bonus Level: Alternative Representation <a id=\"BonusLevel\"></a>\n",
    "So far I've shown how to chunk up your raw text (okay, I was a bit liberal with level 5).\n",
    "\n",
    "But what if your raw text isn't the best way to represent your data for your task?\n",
    "\n",
    "For example, if you're doing semantic search on chat messages, raw chat messages may lack the context to make a successful embedding. Maybe actually trying to semantic search of a summary of a conversation would do better. Or maybe hypothetical questions that the chat would answer?\n",
    "\n",
    "This is where the world of chunking/splitting starts to dive into the world of [indexing](https://docs.llamaindex.ai/en/stable/understanding/indexing/indexing.html#what-is-an-index). When you index, you're making a choice about how you want to represent your data in your data base or knowledge base.\n",
    "\n",
    "This is more of a retrieval topic, but it's worth talking about with chunking.\n",
    "\n",
    "Let's quickly go through a few popular alternative ways developers like to represent their data. There are unlimited methods to try. We'll review 4 of them\n",
    "\n",
    "* **[Multi-Vector Indexing](https://python.langchain.com/docs/modules/data_connection/retrievers/multi_vector)** - This is when you do semantic search for a vector that is derived from something other than your raw text\n",
    "    * **Summaries** - A summary of your chunk\n",
    "    * **Hypothetical questions** - Good for chat messages used as knowledge base\n",
    "    * **Child Documents** - Parent Document Retriever\n",
    "* **Graph Based Chunking** - Transposing your raw text into a graph structure\n",
    "\n",
    "### Summaries\n",
    "Instead of embedding your raw text, embed a summary of your raw text which will have more dense information"
   ]
  },
  {
   "cell_type": "code",
   "execution_count": null,
   "id": "fce9678d-187e-4293-b1aa-eda9045035ee",
   "metadata": {},
   "outputs": [],
   "source": [
    "import uuid\n",
    "\n",
    "from langchain.chat_models import ChatOpenAI\n",
    "from langchain.prompts import ChatPromptTemplate\n",
    "from langchain_core.documents import Document\n",
    "from langchain_core.output_parsers import StrOutputParser\n",
    "from langchain.text_splitter import RecursiveCharacterTextSplitter\n",
    "from langchain.retrievers.multi_vector import MultiVectorRetriever\n",
    "from langchain.storage import InMemoryByteStore\n",
    "from langchain.embeddings import OpenAIEmbeddings\n",
    "from langchain.vectorstores import Chroma"
   ]
  },
  {
   "cell_type": "markdown",
   "id": "b445bc40-531b-4a65-b4ee-852377862ce9",
   "metadata": {},
   "source": [
    "Let's use our Super Linear essay again. I'll split it into large chunks"
   ]
  },
  {
   "cell_type": "code",
   "execution_count": null,
   "id": "ca8c1a25-aaff-4d74-a5fd-f681f7cf478f",
   "metadata": {},
   "outputs": [],
   "source": [
    "with open('../../data/PGEssays/superlinear.txt') as file:\n",
    "    essay = file.read()\n",
    "\n",
    "splitter = RecursiveCharacterTextSplitter(chunk_size=4000, chunk_overlap=0)\n",
    "\n",
    "docs = splitter.create_documents([essay])\n",
    "\n",
    "print (f\"You have {len(docs)} docs\")"
   ]
  },
  {
   "cell_type": "markdown",
   "id": "3b418bdb-c03c-4885-8a74-983c5732f6dc",
   "metadata": {},
   "source": [
    "Spin up a chain that will quickly summarize for you"
   ]
  },
  {
   "cell_type": "code",
   "execution_count": null,
   "id": "460da5b4-cd95-4ea5-ae21-57c2cf99b80f",
   "metadata": {},
   "outputs": [],
   "source": [
    "chain = (\n",
    "    {\"doc\": lambda x: x.page_content}\n",
    "    | ChatPromptTemplate.from_template(\"Summarize the following document:\\n\\n{doc}\")\n",
    "    | ChatOpenAI(max_retries=0)\n",
    "    | StrOutputParser()\n",
    ")"
   ]
  },
  {
   "cell_type": "markdown",
   "id": "df67afe1-694f-47a5-acea-7a788ea5ba07",
   "metadata": {},
   "source": [
    "Then let's get the summaries"
   ]
  },
  {
   "cell_type": "code",
   "execution_count": null,
   "id": "d6473c02-5728-418d-a201-5216d83599dd",
   "metadata": {},
   "outputs": [],
   "source": [
    "summaries = chain.batch(docs, {\"max_concurrency\": 5})"
   ]
  },
  {
   "cell_type": "markdown",
   "id": "f9282853-9a62-4ffd-a1bf-b0e8853ed864",
   "metadata": {},
   "source": [
    "Let's look at a sample"
   ]
  },
  {
   "cell_type": "code",
   "execution_count": null,
   "id": "6ecc0c8f-3eb5-4e42-bd6e-2fdec56cc5b1",
   "metadata": {},
   "outputs": [],
   "source": [
    "summaries[0]"
   ]
  },
  {
   "cell_type": "markdown",
   "id": "9aaa4786-1d43-463b-a63d-55e1a9f35af3",
   "metadata": {},
   "source": [
    "Then we are going to create a vectorstore (holds vectors + summaries) and a docstore (holds raw docs)"
   ]
  },
  {
   "cell_type": "code",
   "execution_count": null,
   "id": "cc76c297-804f-4e5a-9fed-f28b88f57059",
   "metadata": {},
   "outputs": [],
   "source": [
    "# The vectorstore to use to index the child chunks\n",
    "vectorstore = Chroma(collection_name=\"summaries\", embedding_function=OpenAIEmbeddings())\n",
    "\n",
    "# The storage layer for the parent documents\n",
    "store = InMemoryByteStore()\n",
    "\n",
    "id_key = \"doc_id\"\n",
    "\n",
    "# The retriever (empty to start)\n",
    "retriever = MultiVectorRetriever(\n",
    "    vectorstore=vectorstore,\n",
    "    byte_store=store,\n",
    "    id_key=id_key,\n",
    ")\n",
    "doc_ids = [str(uuid.uuid4()) for _ in docs]"
   ]
  },
  {
   "cell_type": "markdown",
   "id": "63f44d2b-6a25-431c-be0b-72fff86e019c",
   "metadata": {},
   "source": [
    "Then you want to create documents out of your summary list, add the doc_id to it's metadata. This will tie it back to the original document so you know which summary goes with which original doc."
   ]
  },
  {
   "cell_type": "code",
   "execution_count": null,
   "id": "032d5cb8-cfe5-4a89-bb9a-fb2872e41be3",
   "metadata": {},
   "outputs": [],
   "source": [
    "summary_docs = [\n",
    "    Document(page_content=s, metadata={id_key: doc_ids[i]})\n",
    "    for i, s in enumerate(summaries)\n",
    "]"
   ]
  },
  {
   "cell_type": "markdown",
   "id": "02878000-5341-42fc-a1b0-a7e9da3367d7",
   "metadata": {},
   "source": [
    "Then add them both to your vectorestore and docstore. When you add the docs to the vectorstore it will get the embeddings for them too."
   ]
  },
  {
   "cell_type": "code",
   "execution_count": null,
   "id": "53351f4d-f5db-4aeb-9b79-f4a0a3ba30f6",
   "metadata": {},
   "outputs": [],
   "source": [
    "# Adds the summaries\n",
    "retriever.vectorstore.add_documents(summary_docs)\n",
    "\n",
    "# Adds the raw documents\n",
    "retriever.docstore.mset(list(zip(doc_ids, docs)))"
   ]
  },
  {
   "cell_type": "markdown",
   "id": "e761a8ae-d31c-483b-bdf4-4a625e3e9662",
   "metadata": {},
   "source": [
    "Then if you want you can add the original docs to the vectorstore as well. Just make sure to add the doc id to it as well so you can tie it all together"
   ]
  },
  {
   "cell_type": "code",
   "execution_count": null,
   "id": "d5c3b781-3166-4d91-ad03-48bc8b246d61",
   "metadata": {},
   "outputs": [],
   "source": [
    "# for i, doc in enumerate(docs):\n",
    "#     doc.metadata[id_key] = doc_ids[i]\n",
    "# retriever.vectorstore.add_documents(docs)"
   ]
  },
  {
   "cell_type": "markdown",
   "id": "b3397531-c8d3-4037-8f64-c51eeb6dc49b",
   "metadata": {},
   "source": [
    "Great, now that we've done all that work, let's try a search. If you run the code below, you'll search on the summary embeddings, but you'll get the raw documents returned."
   ]
  },
  {
   "cell_type": "code",
   "execution_count": null,
   "id": "b2b9848e-136b-496f-b3ba-f57720a11993",
   "metadata": {},
   "outputs": [],
   "source": [
    "# retriever.get_relevant_documents(query=\"the concept of superlinear returns, which refers to the idea that the returns for performance are not linear\")"
   ]
  },
  {
   "cell_type": "markdown",
   "id": "e7d6ab29-a89a-4259-847d-492ccbaad02f",
   "metadata": {},
   "source": [
    "### Hypothetical Questions\n",
    "You can generate hypothetical questions about your raw documents. Check out [LangChain's](https://python.langchain.com/docs/modules/data_connection/retrievers/multi_vector#hypothetical-queries) implementation of it for more information.\n",
    "\n",
    "This is espeically helpful when you have sparse unstructured data, like chat messages.\n",
    "\n",
    "Say you were to build a bot that uses slack conversations as a knowledge base. Trying to do semantic search on raw chat messages might not have the greatest results. However, if you were to generate hypothetical questions that the slack messages would answer, then when you get a new question in, you'll likely have a better chance matching.\n",
    "\n",
    "The code for this will be the same as the summary code, but instead of asking the LLM to make a summary, you'll ask it for hypothetical questions.\n",
    "\n",
    "### Parent Document Retriever (PDR)\n",
    "Much like the previous two, Parent Document Retriever builds on the concept of doing semantic search on a varied representation of your data.\n",
    "\n",
    "The hypothesis with the PDR is that smaller chunks have a higher likely hood of being matched semantically with a potential query. However, those smaller chunks may not have all the context they need, so instead of passing the smaller chunks to your LLM, get the parent chunk of the smaller chunk. This means you get a larger chunk which the smaller chunk is placed in.\n",
    "\n",
    "Check out LangChain's implementation's implementation of it [here](https://python.langchain.com/docs/modules/data_connection/retrievers/parent_document_retriever).\n",
    "\n",
    "I have a full tutorial on it at [FullStackRetrieval.com](https://fullstackretrieval.com/) if you want to go deeper on that.\n",
    "\n",
    "I want to quickly go over a similar method in [Llama Index](https://www.llamaindex.ai/) with their `HierarchicalNodeParser` which will split a document at various chunk sizes (there will be a bunch of overlaps but that is the purpose). When combined with their `AutoMergingRetriever` you can do complicated retrieval easily. Their walkthrough [here](https://docs.llamaindex.ai/en/stable/examples/retrievers/auto_merging_retriever.html)."
   ]
  },
  {
   "cell_type": "code",
   "execution_count": null,
   "id": "d078afc3-ecea-4cf1-b430-e27837508e86",
   "metadata": {},
   "outputs": [],
   "source": [
    "from llama_index.node_parser import HierarchicalNodeParser\n",
    "\n",
    "node_parser = HierarchicalNodeParser.from_defaults(\n",
    "    chunk_sizes=[2048, 512, 128],\n",
    "    chunk_overlap=0\n",
    ")"
   ]
  },
  {
   "cell_type": "code",
   "execution_count": null,
   "id": "11c19a08-6a94-45a4-8d31-1ad91e014030",
   "metadata": {},
   "outputs": [],
   "source": [
    "documents = SimpleDirectoryReader(\n",
    "    input_files=[\"../../data/PGEssays/mit.txt\"]\n",
    ").load_data()"
   ]
  },
  {
   "cell_type": "markdown",
   "id": "26a9ecb0-c264-40cc-938a-3610c1a31835",
   "metadata": {},
   "source": [
    "Then let's do our splitting. There will be a bunch of chunks since we included `128` as a chunk size above"
   ]
  },
  {
   "cell_type": "code",
   "execution_count": null,
   "id": "9806e1a0-79df-418d-962d-3757081fd273",
   "metadata": {},
   "outputs": [],
   "source": [
    "nodes = node_parser.get_nodes_from_documents(documents)"
   ]
  },
  {
   "cell_type": "code",
   "execution_count": null,
   "id": "8ad26bbc-1b67-45dc-b44e-d62e36fd3589",
   "metadata": {},
   "outputs": [],
   "source": [
    "print (f\"You have {len(nodes)} nodes\")"
   ]
  },
  {
   "cell_type": "markdown",
   "id": "d703f821-f2e2-4975-a904-893007bb256c",
   "metadata": {},
   "source": [
    "Then let's look at the relationships that are available to one of the small nodes at the end"
   ]
  },
  {
   "cell_type": "code",
   "execution_count": null,
   "id": "c037ce3e-d480-43e6-be47-0e7415153480",
   "metadata": {},
   "outputs": [],
   "source": [
    "nodes[-2].relationships"
   ]
  },
  {
   "cell_type": "markdown",
   "id": "a6fb0ed8-4427-4e8d-a8e9-9d11f3dcef9a",
   "metadata": {},
   "source": [
    "You can see there are source, previous, next, and parent. For [more information on these](https://docs.llamaindex.ai/en/stable/api/llama_index.schema.NodeRelationship.html).\n",
    "\n",
    "### Graph Structure\n",
    "If your data is rich with entities, relationships, and connections, then a graph structure may be best for you.\n",
    "\n",
    "Few options:\n",
    "* [Diffbot](https://www.diffbot.com/)\n",
    "* [InstaGraph](https://github.com/yoheinakajima/instagraph) - By [Yohei](https://twitter.com/yoheinakajima)\n",
    "\n",
    "I'll run through the LangChain supported version of Diffbot due to brevity. You'll need an API key from DB"
   ]
  },
  {
   "cell_type": "code",
   "execution_count": null,
   "id": "547ee2d2-f852-4f01-bc1b-ec5355f36e4c",
   "metadata": {},
   "outputs": [],
   "source": [
    "# !pip3 install langchain langchain-experimental openai neo4j wikipedia\n",
    "\n",
    "from langchain_experimental.graph_transformers.diffbot import DiffbotGraphTransformer\n",
    "\n",
    "diffbot_nlp = DiffbotGraphTransformer(diffbot_api_key=os.getenv(\"DIFFBOT_API_KEY\", 'YourKey'))"
   ]
  },
  {
   "cell_type": "code",
   "execution_count": null,
   "id": "e63a7ffb-acdc-4fd3-b4ba-9ce4eb09bcfa",
   "metadata": {},
   "outputs": [],
   "source": [
    "text = \"\"\"\n",
    "Greg is friends with Bobby. San Francisco is a great city, but New York is amazing.\n",
    "Greg lives in New York. \n",
    "\"\"\"\n",
    "docs = [Document(page_content=text)]"
   ]
  },
  {
   "cell_type": "code",
   "execution_count": null,
   "id": "41436339-39c6-4cf7-aba6-0a2dcafec00b",
   "metadata": {},
   "outputs": [],
   "source": [
    "graph_documents = diffbot_nlp.convert_to_graph_documents(docs)"
   ]
  },
  {
   "cell_type": "code",
   "execution_count": null,
   "id": "250215f0-2ba9-49e4-8aef-1751ccc1b1bf",
   "metadata": {},
   "outputs": [],
   "source": [
    "graph_documents"
   ]
  },
  {
   "cell_type": "markdown",
   "id": "949e24e2-1d32-4ff3-a16e-ada98e46d6be",
   "metadata": {},
   "source": [
    "## Wrap up\n",
    "\n",
    "Congratulations on making it to the end of this video. The aim was to educate you on the chunking theory, give a nod to retrieval, and encourage you to try out these methods on your data.\n",
    "\n",
    "I always like hearing what you think about the code, video or how you use this in your role. Let me know on [twitter](https://twitter.com/GregKamradt) or email (contact@dataindependent.com)"
   ]
  },
  {
   "cell_type": "markdown",
   "id": "19567c26",
   "metadata": {},
   "source": []
  }
 ],
 "metadata": {
  "kernelspec": {
   "display_name": "Python 3 (ipykernel)",
   "language": "python",
   "name": "python3"
  },
  "language_info": {
   "codemirror_mode": {
    "name": "ipython",
    "version": 3
   },
   "file_extension": ".py",
   "mimetype": "text/x-python",
   "name": "python",
   "nbconvert_exporter": "python",
   "pygments_lexer": "ipython3",
   "version": "3.10.13"
  }
 },
 "nbformat": 4,
 "nbformat_minor": 5
}
