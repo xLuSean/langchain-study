{
 "cells": [
  {
   "cell_type": "code",
   "execution_count": 1,
   "metadata": {},
   "outputs": [],
   "source": [
    "# This is a long document we can split up.\n",
    "with open(\"../../../text_files/state_of_the_union.txt\") as f:\n",
    "    state_of_the_union = f.read()"
   ]
  },
  {
   "cell_type": "code",
   "execution_count": 2,
   "metadata": {},
   "outputs": [
    {
     "name": "stdout",
     "output_type": "stream",
     "text": [
      "Madam Speaker, Madam Vice President, our First Lady and Second Gentleman. Members of Congress and th\n"
     ]
    }
   ],
   "source": [
    "print(state_of_the_union[:100])"
   ]
  },
  {
   "cell_type": "markdown",
   "metadata": {},
   "source": [
    "# Create Text Splitter"
   ]
  },
  {
   "cell_type": "code",
   "execution_count": 3,
   "metadata": {},
   "outputs": [],
   "source": [
    "from langchain_experimental.text_splitter import SemanticChunker\n",
    "from langchain_openai.embeddings import OpenAIEmbeddings\n",
    "\n",
    "text_splitter = SemanticChunker(OpenAIEmbeddings())"
   ]
  },
  {
   "cell_type": "markdown",
   "metadata": {},
   "source": [
    "# Split Text"
   ]
  },
  {
   "cell_type": "code",
   "execution_count": 4,
   "metadata": {},
   "outputs": [],
   "source": [
    "docs = text_splitter.create_documents([state_of_the_union])"
   ]
  },
  {
   "cell_type": "code",
   "execution_count": 5,
   "metadata": {},
   "outputs": [
    {
     "name": "stdout",
     "output_type": "stream",
     "text": [
      "26\n",
      "chunk 0: Madam Speaker, Madam Vice President, our First Lady and Second Gentleman. Members of Congress and th\n",
      "chunk 1: And the costs and the threats to America and the world keep rising. That’s why the NATO Alliance was\n",
      "chunk 2: Here is what we did.\n",
      "chunk 3: We prepared extensively and carefully. We spent months building a coalition of other freedom-loving \n",
      "chunk 4: Humanitarian assistance. We are giving more than $1 Billion in direct assistance to Ukraine. And we \n",
      "chunk 5: But I want you to know that we are going to be okay. When the history of this era is written Putin’s\n",
      "chunk 6: It’s going to take time. So let us continue to draw inspiration from the iron will of the Ukrainian \n",
      "chunk 7: He will never weaken the resolve of the free world. We meet tonight in an America that has lived thr\n",
      "chunk 8: It created jobs. Lots of jobs. In fact—our economy created over 6.5 Million new jobs just last year,\n",
      "chunk 9: But that’s just the beginning. Intel’s CEO, Pat Gelsinger, who is here tonight, told me they are rea\n",
      "chunk 10: That’s what is happening. Ford is investing $11 billion to build electric vehicles, creating 11,000 \n",
      "chunk 11: So—we have a choice. One way to fight inflation is to drive down wages and make Americans poorer. I \n",
      "chunk 12: One in ten Americans has diabetes. In Virginia, I met a 13-year-old boy named Joshua Davis. He and h\n",
      "chunk 13: Happy birthday, buddy. For Joshua, and for the 200,000 other young people with Type 1 diabetes, let’\n",
      "chunk 14: And while we’re at it let Medicare negotiate lower prices for prescription drugs, like the VA alread\n",
      "chunk 15: Let’s get this done. And while you’re at it, confirm my nominees to the Federal Reserve, which plays\n",
      "chunk 16: I’m a capitalist, but capitalism without competition isn’t capitalism. It’s exploitation—and it driv\n",
      "chunk 17: Let’s pass the Paycheck Fairness Act and paid leave. Raise the minimum wage to $15 an hour and exten\n",
      "chunk 18: But I also know this. Because of the progress we’ve made, because of your resilience and the tools w\n",
      "chunk 19: Over the past year, we’ve gotten much better at detecting new variants. If necessary, we’ll be able \n",
      "chunk 20: Let’s get it done once and for all. Advancing liberty and justice also requires protecting the right\n",
      "chunk 21: Numbness. Dizziness. A cancer that would put them in a flag-draped coffin.\n",
      "chunk 22: I know. One of those soldiers was my son Major Beau Biden. We don’t know for sure if a burn pit was \n",
      "chunk 23: Army National Guard. Combat medic in Kosovo and Iraq. Stationed near Baghdad, just yards from burn p\n",
      "chunk 24: Tonight, Danielle—we are. The VA is pioneering new ways of linking toxic exposures to diseases, alre\n",
      "chunk 25: We can do this. My fellow Americans—tonight , we have gathered in a sacred space—the citadel of our \n"
     ]
    }
   ],
   "source": [
    "print(len(docs))\n",
    "# print(docs[0].page_content)\n",
    "for i, doc in enumerate(docs):\n",
    "    print(f\"chunk {i}: {doc.page_content[:100]}\")"
   ]
  },
  {
   "cell_type": "markdown",
   "metadata": {},
   "source": [
    "# Breakpoints\n",
    "This chunker works by determining when to \"break\" apart sentences. This is done by looking for differences in embeddings between any two sentences. When that difference is past some threshold, then they are split.\n",
    "\n",
    "There are a few ways to determine what that threshold is.\n",
    "\n",
    "### Percentile\n",
    "The default way to split is based on percentile. In this method, all differences between sentences are calculated, and then any difference greater than the X percentile is split."
   ]
  },
  {
   "cell_type": "code",
   "execution_count": 6,
   "metadata": {},
   "outputs": [],
   "source": [
    "text_splitter = SemanticChunker(\n",
    "    OpenAIEmbeddings(), breakpoint_threshold_type=\"percentile\"\n",
    ")"
   ]
  },
  {
   "cell_type": "code",
   "execution_count": 7,
   "metadata": {},
   "outputs": [],
   "source": [
    "docs = text_splitter.create_documents([state_of_the_union])"
   ]
  },
  {
   "cell_type": "code",
   "execution_count": 9,
   "metadata": {},
   "outputs": [
    {
     "name": "stdout",
     "output_type": "stream",
     "text": [
      "26\n",
      "chunk 0: Madam Speaker, Madam Vice President, our First Lady and Second Gentleman. Members of Congress and th\n",
      "chunk 1: And the costs and the threats to America and the world keep rising. That’s why the NATO Alliance was\n",
      "chunk 2: Here is what we did.\n",
      "chunk 3: We prepared extensively and carefully. We spent months building a coalition of other freedom-loving \n",
      "chunk 4: Humanitarian assistance. We are giving more than $1 Billion in direct assistance to Ukraine. And we \n",
      "chunk 5: But I want you to know that we are going to be okay. When the history of this era is written Putin’s\n",
      "chunk 6: It’s going to take time. So let us continue to draw inspiration from the iron will of the Ukrainian \n",
      "chunk 7: He will never weaken the resolve of the free world. We meet tonight in an America that has lived thr\n",
      "chunk 8: It created jobs. Lots of jobs. In fact—our economy created over 6.5 Million new jobs just last year,\n",
      "chunk 9: But that’s just the beginning. Intel’s CEO, Pat Gelsinger, who is here tonight, told me they are rea\n",
      "chunk 10: That’s what is happening. Ford is investing $11 billion to build electric vehicles, creating 11,000 \n",
      "chunk 11: So—we have a choice. One way to fight inflation is to drive down wages and make Americans poorer. I \n",
      "chunk 12: One in ten Americans has diabetes. In Virginia, I met a 13-year-old boy named Joshua Davis. He and h\n",
      "chunk 13: Happy birthday, buddy. For Joshua, and for the 200,000 other young people with Type 1 diabetes, let’\n",
      "chunk 14: And while we’re at it let Medicare negotiate lower prices for prescription drugs, like the VA alread\n",
      "chunk 15: Let’s get this done. And while you’re at it, confirm my nominees to the Federal Reserve, which plays\n",
      "chunk 16: I’m a capitalist, but capitalism without competition isn’t capitalism. It’s exploitation—and it driv\n",
      "chunk 17: Let’s pass the Paycheck Fairness Act and paid leave. Raise the minimum wage to $15 an hour and exten\n",
      "chunk 18: But I also know this. Because of the progress we’ve made, because of your resilience and the tools w\n",
      "chunk 19: Over the past year, we’ve gotten much better at detecting new variants. If necessary, we’ll be able \n",
      "chunk 20: Let’s get it done once and for all. Advancing liberty and justice also requires protecting the right\n",
      "chunk 21: Numbness. Dizziness. A cancer that would put them in a flag-draped coffin.\n",
      "chunk 22: I know. One of those soldiers was my son Major Beau Biden. We don’t know for sure if a burn pit was \n",
      "chunk 23: Army National Guard. Combat medic in Kosovo and Iraq. Stationed near Baghdad, just yards from burn p\n",
      "chunk 24: Tonight, Danielle—we are. The VA is pioneering new ways of linking toxic exposures to diseases, alre\n",
      "chunk 25: We can do this. My fellow Americans—tonight , we have gathered in a sacred space—the citadel of our \n"
     ]
    }
   ],
   "source": [
    "print(len(docs))\n",
    "# print(docs[0].page_content)\n",
    "for i, doc in enumerate(docs):\n",
    "    print(f\"chunk {i}: {doc.page_content[:100]}\")"
   ]
  },
  {
   "cell_type": "markdown",
   "metadata": {},
   "source": [
    "### Standard Deviation\n",
    "In this method, any difference greater than X standard deviations is split."
   ]
  },
  {
   "cell_type": "code",
   "execution_count": 10,
   "metadata": {},
   "outputs": [],
   "source": [
    "text_splitter = SemanticChunker(\n",
    "    OpenAIEmbeddings(), breakpoint_threshold_type=\"standard_deviation\"\n",
    ")"
   ]
  },
  {
   "cell_type": "code",
   "execution_count": 12,
   "metadata": {},
   "outputs": [],
   "source": [
    "docs = text_splitter.create_documents([state_of_the_union])\n",
    "# print(docs[0].page_content)"
   ]
  },
  {
   "cell_type": "code",
   "execution_count": 13,
   "metadata": {},
   "outputs": [
    {
     "name": "stdout",
     "output_type": "stream",
     "text": [
      "4\n",
      "chunk 0: Madam Speaker, Madam Vice President, our First Lady and Second Gentleman. Members of Congress and th\n",
      "chunk 1: But I want you to know that we are going to be okay. When the history of this era is written Putin’s\n",
      "chunk 2: It’s going to take time. So let us continue to draw inspiration from the iron will of the Ukrainian \n",
      "chunk 3: We can do this. My fellow Americans—tonight , we have gathered in a sacred space—the citadel of our \n"
     ]
    }
   ],
   "source": [
    "print(len(docs))\n",
    "# print(docs[0].page_content)\n",
    "for i, doc in enumerate(docs):\n",
    "    print(f\"chunk {i}: {doc.page_content[:100]}\")"
   ]
  },
  {
   "cell_type": "markdown",
   "metadata": {},
   "source": [
    "### Interquartile\n",
    "In this method, the interquartile distance is used to split chunks."
   ]
  },
  {
   "cell_type": "code",
   "execution_count": 14,
   "metadata": {},
   "outputs": [],
   "source": [
    "text_splitter = SemanticChunker(\n",
    "    OpenAIEmbeddings(), breakpoint_threshold_type=\"interquartile\"\n",
    ")"
   ]
  },
  {
   "cell_type": "code",
   "execution_count": 15,
   "metadata": {},
   "outputs": [],
   "source": [
    "docs = text_splitter.create_documents([state_of_the_union])\n",
    "# print(docs[0].page_content)"
   ]
  },
  {
   "cell_type": "code",
   "execution_count": 16,
   "metadata": {},
   "outputs": [
    {
     "name": "stdout",
     "output_type": "stream",
     "text": [
      "25\n",
      "chunk 0: Madam Speaker, Madam Vice President, our First Lady and Second Gentleman. Members of Congress and th\n",
      "chunk 1: And the costs and the threats to America and the world keep rising. That’s why the NATO Alliance was\n",
      "chunk 2: Here is what we did. We prepared extensively and carefully. We spent months building a coalition of \n",
      "chunk 3: Humanitarian assistance. We are giving more than $1 Billion in direct assistance to Ukraine. And we \n",
      "chunk 4: But I want you to know that we are going to be okay. When the history of this era is written Putin’s\n",
      "chunk 5: It’s going to take time. So let us continue to draw inspiration from the iron will of the Ukrainian \n",
      "chunk 6: He will never weaken the resolve of the free world. We meet tonight in an America that has lived thr\n",
      "chunk 7: It created jobs. Lots of jobs. In fact—our economy created over 6.5 Million new jobs just last year,\n",
      "chunk 8: But that’s just the beginning. Intel’s CEO, Pat Gelsinger, who is here tonight, told me they are rea\n",
      "chunk 9: That’s what is happening. Ford is investing $11 billion to build electric vehicles, creating 11,000 \n",
      "chunk 10: So—we have a choice. One way to fight inflation is to drive down wages and make Americans poorer. I \n",
      "chunk 11: One in ten Americans has diabetes. In Virginia, I met a 13-year-old boy named Joshua Davis. He and h\n",
      "chunk 12: Happy birthday, buddy. For Joshua, and for the 200,000 other young people with Type 1 diabetes, let’\n",
      "chunk 13: And while we’re at it let Medicare negotiate lower prices for prescription drugs, like the VA alread\n",
      "chunk 14: Let’s get this done. And while you’re at it, confirm my nominees to the Federal Reserve, which plays\n",
      "chunk 15: I’m a capitalist, but capitalism without competition isn’t capitalism. It’s exploitation—and it driv\n",
      "chunk 16: Let’s pass the Paycheck Fairness Act and paid leave. Raise the minimum wage to $15 an hour and exten\n",
      "chunk 17: But I also know this. Because of the progress we’ve made, because of your resilience and the tools w\n",
      "chunk 18: Over the past year, we’ve gotten much better at detecting new variants. If necessary, we’ll be able \n",
      "chunk 19: Let’s get it done once and for all. Advancing liberty and justice also requires protecting the right\n",
      "chunk 20: Numbness. Dizziness. A cancer that would put them in a flag-draped coffin.\n",
      "chunk 21: I know. One of those soldiers was my son Major Beau Biden. We don’t know for sure if a burn pit was \n",
      "chunk 22: Army National Guard. Combat medic in Kosovo and Iraq. Stationed near Baghdad, just yards from burn p\n",
      "chunk 23: Tonight, Danielle—we are. The VA is pioneering new ways of linking toxic exposures to diseases, alre\n",
      "chunk 24: We can do this. My fellow Americans—tonight , we have gathered in a sacred space—the citadel of our \n"
     ]
    }
   ],
   "source": [
    "print(len(docs))\n",
    "# print(docs[0].page_content)\n",
    "for i, doc in enumerate(docs):\n",
    "    print(f\"chunk {i}: {doc.page_content[:100]}\")"
   ]
  },
  {
   "cell_type": "code",
   "execution_count": null,
   "metadata": {},
   "outputs": [],
   "source": []
  }
 ],
 "metadata": {
  "kernelspec": {
   "display_name": "langchain",
   "language": "python",
   "name": "python3"
  },
  "language_info": {
   "codemirror_mode": {
    "name": "ipython",
    "version": 3
   },
   "file_extension": ".py",
   "mimetype": "text/x-python",
   "name": "python",
   "nbconvert_exporter": "python",
   "pygments_lexer": "ipython3",
   "version": "3.10.13"
  }
 },
 "nbformat": 4,
 "nbformat_minor": 2
}
