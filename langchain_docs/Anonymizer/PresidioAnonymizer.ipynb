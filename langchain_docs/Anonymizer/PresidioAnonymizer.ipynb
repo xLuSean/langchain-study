{
 "cells": [
  {
   "cell_type": "markdown",
   "metadata": {},
   "source": [
    "# Anonymizer\n",
    "This example is taken from Perplexity"
   ]
  },
  {
   "cell_type": "code",
   "execution_count": 1,
   "metadata": {},
   "outputs": [
    {
     "name": "stdout",
     "output_type": "stream",
     "text": [
      "My name is Jennifer Greene and my email is christinamcdonald@example.org.\n"
     ]
    }
   ],
   "source": [
    "from langchain_experimental.data_anonymizer.presidio import PresidioAnonymizer\n",
    "\n",
    "# Initialize the anonymizer\n",
    "anonymizer = PresidioAnonymizer(\n",
    "    analyzed_fields=['PERSON', 'EMAIL_ADDRESS'],\n",
    "    languages_config={'nlp_engine_name': 'spacy', 'models': [{'lang_code': 'en', 'model_name': 'en_core_web_lg'}]}\n",
    ")\n",
    "\n",
    "# Anonymize text\n",
    "anonymized_text = anonymizer.anonymize(\"My name is Alice Wang and my email is Alice12@hotmail.com.\")\n",
    "print(anonymized_text)"
   ]
  },
  {
   "cell_type": "code",
   "execution_count": null,
   "metadata": {},
   "outputs": [],
   "source": []
  }
 ],
 "metadata": {
  "kernelspec": {
   "display_name": "langchain",
   "language": "python",
   "name": "python3"
  },
  "language_info": {
   "codemirror_mode": {
    "name": "ipython",
    "version": 3
   },
   "file_extension": ".py",
   "mimetype": "text/x-python",
   "name": "python",
   "nbconvert_exporter": "python",
   "pygments_lexer": "ipython3",
   "version": "3.10.14"
  }
 },
 "nbformat": 4,
 "nbformat_minor": 2
}
