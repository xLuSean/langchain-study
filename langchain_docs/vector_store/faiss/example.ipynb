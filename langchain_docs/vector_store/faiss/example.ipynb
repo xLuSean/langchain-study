{
 "cells": [
  {
   "cell_type": "code",
   "execution_count": null,
   "metadata": {},
   "outputs": [],
   "source": [
    "# https://blog.csdn.net/u013066244/article/details/132014791\n",
    "from dotenv import load_dotenv\n",
    "load_dotenv()\n",
    "\n",
    "#>>> Uncomment the following line if you need to initialize FAISS with no AVX2 optimization\n",
    "#>>> 如果您需要在没有 AVX2 优化的情况下初始化 FAISS，请取消以下注释\n",
    "# os.environ['FAISS_NO_AVX2'] = '1'\n",
    "\n",
    "# from langchain_openai import OpenAIEmbeddings\n",
    "from langchain_community.embeddings.sentence_transformer import SentenceTransformerEmbeddings\n",
    "from langchain.text_splitter import CharacterTextSplitter\n",
    "from langchain.vectorstores.faiss import FAISS\n",
    "from langchain_community.document_loaders import TextLoader\n",
    "\n",
    "loader = TextLoader(\"../../../text_files/state_of_the_union.txt\")\n",
    "documents = loader.load()\n",
    "text_splitter = CharacterTextSplitter(chunk_size=1000, chunk_overlap=0)\n",
    "docs = text_splitter.split_documents(documents)\n",
    "\n",
    "#>>> embeddings = OpenAIEmbeddings()\n",
    "embedding = SentenceTransformerEmbeddings(model_name=\"all-MiniLM-L6-v2\")\n",
    "\n",
    "db = FAISS.from_documents(docs, embedding)\n",
    "\n",
    "query = \"What did the president say about Ketanji Brown Jackson\"\n",
    "\n",
    "# >>> basic search\n",
    "# docs = db.similarity_search(query)\n",
    "# print(docs[0].page_content)\n",
    "\n",
    "#>>> 有一些 FAISS 特定方法。其中之一是similarity_search_with_score，它不仅允许您返回文档，还允许返回查询到它们的距离分数。返回的距离分数是L2距离。因此，分数越低越好。\n",
    "\n",
    "docs_and_scores = db.similarity_search_with_score(query, k=4) # default k=4\n",
    "docs_and_scores[1][0].metadata.update({\"test\": \"test\"})\n",
    "print(docs_and_scores[1][0])  # 1st element is the document, 2nd element is the score\n",
    "print(len(docs_and_scores[1]))\n",
    "\n",
    "#>>> 还可以使用similarity_search_by_vector 与给定嵌入向量相似的文档进行搜索，该向量接受嵌入向量作为参数而不是字符串\n",
    "# embed 向量\n",
    "# embedding_vector = embedding.embed_query(query)\n",
    "# docs = db.similarity_search_by_vector(embedding_vector)\n",
    "# print(len(docs))\n"
   ]
  },
  {
   "cell_type": "code",
   "execution_count": null,
   "metadata": {},
   "outputs": [],
   "source": []
  }
 ],
 "metadata": {
  "kernelspec": {
   "display_name": "langchain",
   "language": "python",
   "name": "python3"
  },
  "language_info": {
   "codemirror_mode": {
    "name": "ipython",
    "version": 3
   },
   "file_extension": ".py",
   "mimetype": "text/x-python",
   "name": "python",
   "nbconvert_exporter": "python",
   "pygments_lexer": "ipython3",
   "version": "3.10.14"
  }
 },
 "nbformat": 4,
 "nbformat_minor": 2
}
