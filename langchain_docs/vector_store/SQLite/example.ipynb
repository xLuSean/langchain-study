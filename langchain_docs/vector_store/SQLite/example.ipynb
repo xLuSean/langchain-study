{
 "cells": [
  {
   "cell_type": "markdown",
   "metadata": {},
   "source": [
    "# [SQLite as a Vector Store with SQLiteVec](https://python.langchain.com/docs/integrations/vectorstores/sqlitevec/)\n",
    "\n",
    "This notebook covers how to get started with the SQLiteVec vector store.\n",
    "\n",
    "```\n",
    "**SQLite-Vec** is an SQLite extension designed for vector search, emphasizing local-first operations and easy integration into applications without external servers. It is the successor to **SQLite-VSS** by the same author. It is written in zero-dependency C and designed to be easy to build and use.\n",
    "```\n",
    "\n",
    "This notebook shows how to use the SQLiteVec vector database."
   ]
  },
  {
   "cell_type": "code",
   "execution_count": null,
   "metadata": {},
   "outputs": [],
   "source": [
    "# You need to install sqlite-vec as a dependency.\n",
    "%pip install --upgrade --quiet  sqlite-vec"
   ]
  },
  {
   "cell_type": "code",
   "execution_count": null,
   "metadata": {},
   "outputs": [],
   "source": [
    "import sqlite3\n",
    "import sqlite_vec\n",
    "from langchain_community.vectorstores.sqlitevec import SQLiteVec\n",
    "from langchain.embeddings import SentenceTransformerEmbeddings\n",
    "\n",
    "# Initialize your embedding function\n",
    "embedding_function = SentenceTransformerEmbeddings(model_name=\"all-MiniLM-L6-v2\")\n",
    "\n",
    "# Create a connection to your SQLite database\n",
    "db_path = \"./tmp/vec.db\"\n",
    "con = sqlite3.connect(db_path)\n",
    "con.enable_load_extension(True)\n",
    "\n",
    "# sqlite_vec.load(con)\n",
    "\n",
    "# Load the sqlite-vec extension\n",
    "# con.execute(\"SELECT load_extension('sqlite_vec')\")\n",
    "\n",
    "# Initialize the SQLiteVec instance\n",
    "vector_store = SQLiteVec(table=\"state_union\", connection=con, embedding=embedding_function)"
   ]
  },
  {
   "cell_type": "code",
   "execution_count": null,
   "metadata": {},
   "outputs": [],
   "source": [
    "from langchain_community.document_loaders import TextLoader\n",
    "from langchain_community.embeddings.sentence_transformer import (\n",
    "    SentenceTransformerEmbeddings,\n",
    ")\n",
    "from langchain_community.vectorstores import SQLiteVec\n",
    "from langchain_text_splitters import CharacterTextSplitter\n",
    "\n",
    "# load the document and split it into chunks\n",
    "loader = TextLoader(\"../../../text_files/state_of_the_union.txt\")\n",
    "documents = loader.load()\n",
    "\n",
    "# split it into chunks\n",
    "text_splitter = CharacterTextSplitter(chunk_size=300, chunk_overlap=0)\n",
    "docs = text_splitter.split_documents(documents)\n",
    "texts = [doc.page_content for doc in docs]\n",
    "\n",
    "\n",
    "# create the open-source embedding function\n",
    "embedding_function = SentenceTransformerEmbeddings(model_name=\"all-MiniLM-L6-v2\")\n",
    "connection = SQLiteVec.create_connection(db_file=\"./tmp/vec.db\")\n",
    "\n",
    "db1 = SQLiteVec(\n",
    "    table=\"state_union\", embedding=embedding_function, connection=connection\n",
    ")"
   ]
  },
  {
   "cell_type": "code",
   "execution_count": null,
   "metadata": {},
   "outputs": [],
   "source": [
    "for text in texts:\n",
    "    db1.add_texts([text])"
   ]
  },
  {
   "cell_type": "code",
   "execution_count": null,
   "metadata": {},
   "outputs": [],
   "source": [
    "db1.add_texts([\"Ketanji Brown Jackson is awesome\"])"
   ]
  },
  {
   "cell_type": "code",
   "execution_count": null,
   "metadata": {},
   "outputs": [],
   "source": [
    "# query it again\n",
    "query = \"What did the president say about Ketanji Brown Jackson\"\n",
    "data = db1.similarity_search(query)\n",
    "\n",
    "# print results\n",
    "for row in data:\n",
    "    print(row.page_content)\n",
    "    print(\"=======================\")"
   ]
  },
  {
   "cell_type": "code",
   "execution_count": null,
   "metadata": {},
   "outputs": [],
   "source": [
    "# query it again\n",
    "query = \"What did the president say about Today?\"\n",
    "data = db1.similarity_search(query)\n",
    "\n",
    "# print results\n",
    "for row in data:\n",
    "    print(row.page_content)\n",
    "    print(\"=======================\")"
   ]
  }
 ],
 "metadata": {
  "kernelspec": {
   "display_name": "langchain",
   "language": "python",
   "name": "python3"
  },
  "language_info": {
   "codemirror_mode": {
    "name": "ipython",
    "version": 3
   },
   "file_extension": ".py",
   "mimetype": "text/x-python",
   "name": "python",
   "nbconvert_exporter": "python",
   "pygments_lexer": "ipython3",
   "version": "3.10.14"
  }
 },
 "nbformat": 4,
 "nbformat_minor": 2
}
