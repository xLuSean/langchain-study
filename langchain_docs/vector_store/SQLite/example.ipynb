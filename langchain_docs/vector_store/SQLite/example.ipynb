{
 "cells": [
  {
   "cell_type": "markdown",
   "metadata": {},
   "source": [
    "# [SQLite as a Vector Store with SQLiteVec](https://python.langchain.com/docs/integrations/vectorstores/sqlitevec/)\n",
    "\n",
    "This notebook covers how to get started with the SQLiteVec vector store.\n",
    "\n",
    "```\n",
    "**SQLite-Vec** is an SQLite extension designed for vector search, emphasizing local-first operations and easy integration into applications without external servers. It is the successor to **SQLite-VSS** by the same author. It is written in zero-dependency C and designed to be easy to build and use.\n",
    "```\n",
    "\n",
    "This notebook shows how to use the SQLiteVec vector database."
   ]
  },
  {
   "cell_type": "code",
   "execution_count": null,
   "metadata": {},
   "outputs": [],
   "source": [
    "# You need to install sqlite-vec as a dependency.\n",
    "%pip install --upgrade --quiet  sqlite-vec"
   ]
  },
  {
   "cell_type": "code",
   "execution_count": 43,
   "metadata": {},
   "outputs": [
    {
     "ename": "OperationalError",
     "evalue": "no such module: vec0",
     "output_type": "error",
     "traceback": [
      "\u001b[0;31m---------------------------------------------------------------------------\u001b[0m",
      "\u001b[0;31mOperationalError\u001b[0m                          Traceback (most recent call last)",
      "Cell \u001b[0;32mIn[43], line 20\u001b[0m\n\u001b[1;32m     12\u001b[0m con\u001b[38;5;241m.\u001b[39menable_load_extension(\u001b[38;5;28;01mTrue\u001b[39;00m)\n\u001b[1;32m     14\u001b[0m \u001b[38;5;66;03m# sqlite_vec.load(con)\u001b[39;00m\n\u001b[1;32m     15\u001b[0m \n\u001b[1;32m     16\u001b[0m \u001b[38;5;66;03m# Load the sqlite-vec extension\u001b[39;00m\n\u001b[1;32m     17\u001b[0m \u001b[38;5;66;03m# con.execute(\"SELECT load_extension('sqlite_vec')\")\u001b[39;00m\n\u001b[1;32m     18\u001b[0m \n\u001b[1;32m     19\u001b[0m \u001b[38;5;66;03m# Initialize the SQLiteVec instance\u001b[39;00m\n\u001b[0;32m---> 20\u001b[0m vector_store \u001b[38;5;241m=\u001b[39m \u001b[43mSQLiteVec\u001b[49m\u001b[43m(\u001b[49m\u001b[43mtable\u001b[49m\u001b[38;5;241;43m=\u001b[39;49m\u001b[38;5;124;43m\"\u001b[39;49m\u001b[38;5;124;43mstate_union\u001b[39;49m\u001b[38;5;124;43m\"\u001b[39;49m\u001b[43m,\u001b[49m\u001b[43m \u001b[49m\u001b[43mconnection\u001b[49m\u001b[38;5;241;43m=\u001b[39;49m\u001b[43mcon\u001b[49m\u001b[43m,\u001b[49m\u001b[43m \u001b[49m\u001b[43membedding\u001b[49m\u001b[38;5;241;43m=\u001b[39;49m\u001b[43membedding_function\u001b[49m\u001b[43m)\u001b[49m\n",
      "File \u001b[0;32m~/miniconda3/envs/langchain/lib/python3.10/site-packages/langchain_community/vectorstores/sqlitevec.py:72\u001b[0m, in \u001b[0;36mSQLiteVec.__init__\u001b[0;34m(self, table, connection, embedding, db_file)\u001b[0m\n\u001b[1;32m     69\u001b[0m \u001b[38;5;28mself\u001b[39m\u001b[38;5;241m.\u001b[39m_table \u001b[38;5;241m=\u001b[39m table\n\u001b[1;32m     70\u001b[0m \u001b[38;5;28mself\u001b[39m\u001b[38;5;241m.\u001b[39m_embedding \u001b[38;5;241m=\u001b[39m embedding\n\u001b[0;32m---> 72\u001b[0m \u001b[38;5;28;43mself\u001b[39;49m\u001b[38;5;241;43m.\u001b[39;49m\u001b[43mcreate_table_if_not_exists\u001b[49m\u001b[43m(\u001b[49m\u001b[43m)\u001b[49m\n",
      "File \u001b[0;32m~/miniconda3/envs/langchain/lib/python3.10/site-packages/langchain_community/vectorstores/sqlitevec.py:87\u001b[0m, in \u001b[0;36mSQLiteVec.create_table_if_not_exists\u001b[0;34m(self)\u001b[0m\n\u001b[1;32m     74\u001b[0m \u001b[38;5;28;01mdef\u001b[39;00m \u001b[38;5;21mcreate_table_if_not_exists\u001b[39m(\u001b[38;5;28mself\u001b[39m) \u001b[38;5;241m-\u001b[39m\u001b[38;5;241m>\u001b[39m \u001b[38;5;28;01mNone\u001b[39;00m:\n\u001b[1;32m     75\u001b[0m     \u001b[38;5;28mself\u001b[39m\u001b[38;5;241m.\u001b[39m_connection\u001b[38;5;241m.\u001b[39mexecute(\n\u001b[1;32m     76\u001b[0m         \u001b[38;5;124mf\u001b[39m\u001b[38;5;124m\"\"\"\u001b[39m\n\u001b[1;32m     77\u001b[0m \u001b[38;5;124m        CREATE TABLE IF NOT EXISTS \u001b[39m\u001b[38;5;132;01m{\u001b[39;00m\u001b[38;5;28mself\u001b[39m\u001b[38;5;241m.\u001b[39m_table\u001b[38;5;132;01m}\u001b[39;00m\n\u001b[0;32m   (...)\u001b[0m\n\u001b[1;32m     85\u001b[0m \u001b[38;5;124m        \u001b[39m\u001b[38;5;124m\"\"\"\u001b[39m\n\u001b[1;32m     86\u001b[0m     )\n\u001b[0;32m---> 87\u001b[0m     \u001b[38;5;28;43mself\u001b[39;49m\u001b[38;5;241;43m.\u001b[39;49m\u001b[43m_connection\u001b[49m\u001b[38;5;241;43m.\u001b[39;49m\u001b[43mexecute\u001b[49m\u001b[43m(\u001b[49m\n\u001b[1;32m     88\u001b[0m \u001b[43m        \u001b[49m\u001b[38;5;124;43mf\u001b[39;49m\u001b[38;5;124;43m\"\"\"\u001b[39;49m\n\u001b[1;32m     89\u001b[0m \u001b[38;5;124;43m        CREATE VIRTUAL TABLE IF NOT EXISTS \u001b[39;49m\u001b[38;5;132;43;01m{\u001b[39;49;00m\u001b[38;5;28;43mself\u001b[39;49m\u001b[38;5;241;43m.\u001b[39;49m\u001b[43m_table\u001b[49m\u001b[38;5;132;43;01m}\u001b[39;49;00m\u001b[38;5;124;43m_vec USING vec0(\u001b[39;49m\n\u001b[1;32m     90\u001b[0m \u001b[38;5;124;43m            rowid INTEGER PRIMARY KEY,\u001b[39;49m\n\u001b[1;32m     91\u001b[0m \u001b[38;5;124;43m            text_embedding float[\u001b[39;49m\u001b[38;5;132;43;01m{\u001b[39;49;00m\u001b[38;5;28;43mself\u001b[39;49m\u001b[38;5;241;43m.\u001b[39;49m\u001b[43mget_dimensionality\u001b[49m\u001b[43m(\u001b[49m\u001b[43m)\u001b[49m\u001b[38;5;132;43;01m}\u001b[39;49;00m\u001b[38;5;124;43m]\u001b[39;49m\n\u001b[1;32m     92\u001b[0m \u001b[38;5;124;43m        )\u001b[39;49m\n\u001b[1;32m     93\u001b[0m \u001b[38;5;124;43m        ;\u001b[39;49m\n\u001b[1;32m     94\u001b[0m \u001b[38;5;124;43m        \u001b[39;49m\u001b[38;5;124;43m\"\"\"\u001b[39;49m\n\u001b[1;32m     95\u001b[0m \u001b[43m    \u001b[49m\u001b[43m)\u001b[49m\n\u001b[1;32m     96\u001b[0m     \u001b[38;5;28mself\u001b[39m\u001b[38;5;241m.\u001b[39m_connection\u001b[38;5;241m.\u001b[39mexecute(\n\u001b[1;32m     97\u001b[0m         \u001b[38;5;124mf\u001b[39m\u001b[38;5;124m\"\"\"\u001b[39m\n\u001b[1;32m     98\u001b[0m \u001b[38;5;124m            CREATE TRIGGER IF NOT EXISTS embed_text \u001b[39m\n\u001b[0;32m   (...)\u001b[0m\n\u001b[1;32m    105\u001b[0m \u001b[38;5;124m        \u001b[39m\u001b[38;5;124m\"\"\"\u001b[39m\n\u001b[1;32m    106\u001b[0m     )\n\u001b[1;32m    107\u001b[0m     \u001b[38;5;28mself\u001b[39m\u001b[38;5;241m.\u001b[39m_connection\u001b[38;5;241m.\u001b[39mcommit()\n",
      "\u001b[0;31mOperationalError\u001b[0m: no such module: vec0"
     ]
    }
   ],
   "source": [
    "import sqlite3\n",
    "import sqlite_vec\n",
    "from langchain_community.vectorstores.sqlitevec import SQLiteVec\n",
    "from langchain.embeddings import SentenceTransformerEmbeddings\n",
    "\n",
    "# Initialize your embedding function\n",
    "embedding_function = SentenceTransformerEmbeddings(model_name=\"all-MiniLM-L6-v2\")\n",
    "\n",
    "# Create a connection to your SQLite database\n",
    "db_path = \"./tmp/vec.db\"\n",
    "con = sqlite3.connect(db_path)\n",
    "con.enable_load_extension(True)\n",
    "\n",
    "# sqlite_vec.load(con)\n",
    "\n",
    "# Load the sqlite-vec extension\n",
    "# con.execute(\"SELECT load_extension('sqlite_vec')\")\n",
    "\n",
    "# Initialize the SQLiteVec instance\n",
    "vector_store = SQLiteVec(table=\"state_union\", connection=con, embedding=embedding_function)"
   ]
  },
  {
   "cell_type": "code",
   "execution_count": 44,
   "metadata": {},
   "outputs": [
    {
     "name": "stderr",
     "output_type": "stream",
     "text": [
      "Created a chunk of size 304, which is longer than the specified 300\n",
      "Created a chunk of size 332, which is longer than the specified 300\n",
      "Created a chunk of size 325, which is longer than the specified 300\n"
     ]
    }
   ],
   "source": [
    "from langchain_community.document_loaders import TextLoader\n",
    "from langchain_community.embeddings.sentence_transformer import (\n",
    "    SentenceTransformerEmbeddings,\n",
    ")\n",
    "from langchain_community.vectorstores import SQLiteVec\n",
    "from langchain_text_splitters import CharacterTextSplitter\n",
    "\n",
    "# load the document and split it into chunks\n",
    "loader = TextLoader(\"../../../text_files/state_of_the_union.txt\")\n",
    "documents = loader.load()\n",
    "\n",
    "# split it into chunks\n",
    "text_splitter = CharacterTextSplitter(chunk_size=300, chunk_overlap=0)\n",
    "docs = text_splitter.split_documents(documents)\n",
    "texts = [doc.page_content for doc in docs]\n",
    "\n",
    "\n",
    "# create the open-source embedding function\n",
    "embedding_function = SentenceTransformerEmbeddings(model_name=\"all-MiniLM-L6-v2\")\n",
    "connection = SQLiteVec.create_connection(db_file=\"./tmp/vec.db\")\n",
    "\n",
    "db1 = SQLiteVec(\n",
    "    table=\"state_union\", embedding=embedding_function, connection=connection\n",
    ")"
   ]
  },
  {
   "cell_type": "code",
   "execution_count": 45,
   "metadata": {},
   "outputs": [],
   "source": [
    "for text in texts:\n",
    "    db1.add_texts([text])"
   ]
  },
  {
   "cell_type": "code",
   "execution_count": null,
   "metadata": {},
   "outputs": [],
   "source": [
    "db1.add_texts([\"Ketanji Brown Jackson is awesome\"])"
   ]
  },
  {
   "cell_type": "code",
   "execution_count": 46,
   "metadata": {},
   "outputs": [
    {
     "name": "stdout",
     "output_type": "stream",
     "text": [
      "And I did that 4 days ago, when I nominated Circuit Court of Appeals Judge Ketanji Brown Jackson. One of our nation’s top legal minds, who will continue Justice Breyer’s legacy of excellence.\n",
      "=======================\n",
      "We don’t know for sure if a burn pit was the cause of his brain cancer, or the diseases of so many of our troops. \n",
      "\n",
      "But I’m committed to finding out everything we can. \n",
      "\n",
      "Committed to military families like Danielle Robinson from Ohio. \n",
      "\n",
      "The widow of Sergeant First Class Heath Robinson.\n",
      "=======================\n",
      "He will never extinguish their love of freedom. He will never weaken the resolve of the free world. \n",
      "\n",
      "We meet tonight in an America that has lived through two of the hardest years this nation has ever faced. \n",
      "\n",
      "The pandemic has been punishing.\n",
      "=======================\n",
      "As I said last year, especially to our younger transgender Americans, I will always have your back as your President, so you can be yourself and reach your God-given potential.\n",
      "=======================\n"
     ]
    }
   ],
   "source": [
    "# query it again\n",
    "query = \"What did the president say about Ketanji Brown Jackson\"\n",
    "data = db1.similarity_search(query)\n",
    "\n",
    "# print results\n",
    "for row in data:\n",
    "    print(row.page_content)\n",
    "    print(\"=======================\")"
   ]
  },
  {
   "cell_type": "code",
   "execution_count": 41,
   "metadata": {},
   "outputs": [
    {
     "name": "stdout",
     "output_type": "stream",
     "text": [
      "And my report is this: the State of the Union is strong—because you, the American people, are strong. \n",
      "\n",
      "We are stronger today than we were a year ago. \n",
      "\n",
      "And we will be stronger a year from now than we are today. \n",
      "\n",
      "Now is our moment to meet and overcome the challenges of our time.\n",
      "=======================\n",
      "Madam Speaker, Madam Vice President, our First Lady and Second Gentleman. Members of Congress and the Cabinet. Justices of the Supreme Court. My fellow Americans.  \n",
      "\n",
      "Last year COVID-19 kept us apart. This year we are finally together again.\n",
      "=======================\n",
      "But that trickle-down theory led to weaker economic growth, lower wages, bigger deficits, and the widest gap between those at the top and everyone else in nearly a century. \n",
      "\n",
      "Vice President Harris and I ran for office with a new economic vision for America.\n",
      "=======================\n",
      "I remember when my Dad had to leave our home in Scranton, Pennsylvania to find work. I grew up in a family where if the price of food went up, you felt it. \n",
      "\n",
      "That’s why one of the first things I did as President was fight to pass the American Rescue Plan.\n",
      "=======================\n"
     ]
    }
   ],
   "source": [
    "# query it again\n",
    "query = \"What did the president say about Today?\"\n",
    "data = db1.similarity_search(query)\n",
    "\n",
    "# print results\n",
    "for row in data:\n",
    "    print(row.page_content)\n",
    "    print(\"=======================\")"
   ]
  }
 ],
 "metadata": {
  "kernelspec": {
   "display_name": "langchain",
   "language": "python",
   "name": "python3"
  },
  "language_info": {
   "codemirror_mode": {
    "name": "ipython",
    "version": 3
   },
   "file_extension": ".py",
   "mimetype": "text/x-python",
   "name": "python",
   "nbconvert_exporter": "python",
   "pygments_lexer": "ipython3",
   "version": "3.10.14"
  }
 },
 "nbformat": 4,
 "nbformat_minor": 2
}
