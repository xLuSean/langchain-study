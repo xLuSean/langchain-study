{
 "cells": [
  {
   "cell_type": "markdown",
   "metadata": {},
   "source": [
    "# Entity\n",
    "Entity memory remembers given facts about specific entities in a conversation. It extracts information on entities (using an LLM) and builds up its knowledge about that entity over time (also using an LLM).\n",
    "\n",
    "Let's first walk through using this functionality."
   ]
  },
  {
   "cell_type": "code",
   "execution_count": 24,
   "metadata": {},
   "outputs": [],
   "source": [
    "from langchain_openai import ChatOpenAI\n",
    "from langchain.memory import ConversationEntityMemory\n",
    "llm = ChatOpenAI(model=\"gpt-3.5-turbo\" ,temperature=0)"
   ]
  },
  {
   "cell_type": "code",
   "execution_count": 25,
   "metadata": {},
   "outputs": [],
   "source": [
    "memory = ConversationEntityMemory(llm=llm)\n",
    "_input = {\"input\": \"Deven & Sam are working on a hackathon project\"}\n",
    "memory.load_memory_variables(_input)\n",
    "memory.save_context(\n",
    "    _input,\n",
    "    {\"output\": \" That sounds like a great project! What kind of project are they working on?\"}\n",
    ")"
   ]
  },
  {
   "cell_type": "code",
   "execution_count": 7,
   "metadata": {},
   "outputs": [
    {
     "data": {
      "text/plain": [
       "{'history': 'Human: Deven & Sam are working on a hackathon project\\nAI:  That sounds like a great project! What kind of project are they working on?',\n",
       " 'entities': {'Deven': 'Deven is working on a hackathon project with Sam.',\n",
       "  'Sam': 'Sam is working on a hackathon project with Deven.'}}"
      ]
     },
     "execution_count": 7,
     "metadata": {},
     "output_type": "execute_result"
    }
   ],
   "source": [
    "memory.load_memory_variables({\"input\": 'who is Sam'})"
   ]
  },
  {
   "cell_type": "markdown",
   "metadata": {},
   "source": [
    "## Using in a chain\n",
    "Let's now use it in a chain!"
   ]
  },
  {
   "cell_type": "code",
   "execution_count": 26,
   "metadata": {},
   "outputs": [],
   "source": [
    "from langchain.chains.conversation.base import ConversationChain\n",
    "from langchain.memory import ConversationEntityMemory\n",
    "from langchain.memory.prompt import ENTITY_MEMORY_CONVERSATION_TEMPLATE\n",
    "from pydantic import BaseModel\n",
    "from typing import List, Dict, Any"
   ]
  },
  {
   "cell_type": "code",
   "execution_count": 27,
   "metadata": {},
   "outputs": [],
   "source": [
    "conversation = ConversationChain(\n",
    "    llm=llm,\n",
    "    verbose=True,\n",
    "    prompt=ENTITY_MEMORY_CONVERSATION_TEMPLATE,\n",
    "    memory=ConversationEntityMemory(llm=llm)\n",
    ")"
   ]
  },
  {
   "cell_type": "code",
   "execution_count": 11,
   "metadata": {},
   "outputs": [
    {
     "name": "stdout",
     "output_type": "stream",
     "text": [
      "\n",
      "\n",
      "\u001b[1m> Entering new ConversationChain chain...\u001b[0m\n",
      "Prompt after formatting:\n",
      "\u001b[32;1m\u001b[1;3mYou are an assistant to a human, powered by a large language model trained by OpenAI.\n",
      "\n",
      "You are designed to be able to assist with a wide range of tasks, from answering simple questions to providing in-depth explanations and discussions on a wide range of topics. As a language model, you are able to generate human-like text based on the input you receive, allowing you to engage in natural-sounding conversations and provide responses that are coherent and relevant to the topic at hand.\n",
      "\n",
      "You are constantly learning and improving, and your capabilities are constantly evolving. You are able to process and understand large amounts of text, and can use this knowledge to provide accurate and informative responses to a wide range of questions. You have access to some personalized information provided by the human in the Context section below. Additionally, you are able to generate your own text based on the input you receive, allowing you to engage in discussions and provide explanations and descriptions on a wide range of topics.\n",
      "\n",
      "Overall, you are a powerful tool that can help with a wide range of tasks and provide valuable insights and information on a wide range of topics. Whether the human needs help with a specific question or just wants to have a conversation about a particular topic, you are here to assist.\n",
      "\n",
      "Context:\n",
      "{'Deven': '', 'Sam': ''}\n",
      "\n",
      "Current conversation:\n",
      "\n",
      "Last line:\n",
      "Human: Deven & Sam are working on a hackathon project\n",
      "You:\u001b[0m\n",
      "\n",
      "\u001b[1m> Finished chain.\u001b[0m\n"
     ]
    },
    {
     "data": {
      "text/plain": [
       "\"That's great to hear! Hackathons can be a fantastic way to collaborate, innovate, and work on exciting projects. If you need any assistance or guidance with your hackathon project, feel free to ask!\""
      ]
     },
     "execution_count": 11,
     "metadata": {},
     "output_type": "execute_result"
    }
   ],
   "source": [
    "conversation.predict(input=\"Deven & Sam are working on a hackathon project\")"
   ]
  },
  {
   "cell_type": "code",
   "execution_count": 12,
   "metadata": {},
   "outputs": [
    {
     "data": {
      "text/plain": [
       "{'Deven': 'Deven is working on a hackathon project with Sam.',\n",
       " 'Sam': 'Sam is working on a hackathon project with Deven.'}"
      ]
     },
     "execution_count": 12,
     "metadata": {},
     "output_type": "execute_result"
    }
   ],
   "source": [
    "conversation.memory.entity_store.store"
   ]
  },
  {
   "cell_type": "code",
   "execution_count": 13,
   "metadata": {},
   "outputs": [
    {
     "name": "stdout",
     "output_type": "stream",
     "text": [
      "\n",
      "\n",
      "\u001b[1m> Entering new ConversationChain chain...\u001b[0m\n",
      "Prompt after formatting:\n",
      "\u001b[32;1m\u001b[1;3mYou are an assistant to a human, powered by a large language model trained by OpenAI.\n",
      "\n",
      "You are designed to be able to assist with a wide range of tasks, from answering simple questions to providing in-depth explanations and discussions on a wide range of topics. As a language model, you are able to generate human-like text based on the input you receive, allowing you to engage in natural-sounding conversations and provide responses that are coherent and relevant to the topic at hand.\n",
      "\n",
      "You are constantly learning and improving, and your capabilities are constantly evolving. You are able to process and understand large amounts of text, and can use this knowledge to provide accurate and informative responses to a wide range of questions. You have access to some personalized information provided by the human in the Context section below. Additionally, you are able to generate your own text based on the input you receive, allowing you to engage in discussions and provide explanations and descriptions on a wide range of topics.\n",
      "\n",
      "Overall, you are a powerful tool that can help with a wide range of tasks and provide valuable insights and information on a wide range of topics. Whether the human needs help with a specific question or just wants to have a conversation about a particular topic, you are here to assist.\n",
      "\n",
      "Context:\n",
      "{'Langchain': ''}\n",
      "\n",
      "Current conversation:\n",
      "Human: Deven & Sam are working on a hackathon project\n",
      "AI: That's great to hear! Hackathons can be a fantastic way to collaborate, innovate, and work on exciting projects. If you need any assistance or guidance with your hackathon project, feel free to ask!\n",
      "Last line:\n",
      "Human: They are trying to add more complex memory structures to Langchain\n",
      "You:\u001b[0m\n",
      "\n",
      "\u001b[1m> Finished chain.\u001b[0m\n"
     ]
    },
    {
     "data": {
      "text/plain": [
       "\"Adding more complex memory structures to Langchain sounds like a challenging but exciting endeavor! Memory structures play a crucial role in the performance and functionality of a blockchain system like Langchain. If Deven & Sam need any assistance or insights on how to implement these complex memory structures, feel free to ask for help. I'm here to provide guidance and support throughout the process.\""
      ]
     },
     "execution_count": 13,
     "metadata": {},
     "output_type": "execute_result"
    }
   ],
   "source": [
    "conversation.predict(input=\"They are trying to add more complex memory structures to Langchain\")"
   ]
  },
  {
   "cell_type": "code",
   "execution_count": 14,
   "metadata": {},
   "outputs": [
    {
     "name": "stdout",
     "output_type": "stream",
     "text": [
      "\n",
      "\n",
      "\u001b[1m> Entering new ConversationChain chain...\u001b[0m\n",
      "Prompt after formatting:\n",
      "\u001b[32;1m\u001b[1;3mYou are an assistant to a human, powered by a large language model trained by OpenAI.\n",
      "\n",
      "You are designed to be able to assist with a wide range of tasks, from answering simple questions to providing in-depth explanations and discussions on a wide range of topics. As a language model, you are able to generate human-like text based on the input you receive, allowing you to engage in natural-sounding conversations and provide responses that are coherent and relevant to the topic at hand.\n",
      "\n",
      "You are constantly learning and improving, and your capabilities are constantly evolving. You are able to process and understand large amounts of text, and can use this knowledge to provide accurate and informative responses to a wide range of questions. You have access to some personalized information provided by the human in the Context section below. Additionally, you are able to generate your own text based on the input you receive, allowing you to engage in discussions and provide explanations and descriptions on a wide range of topics.\n",
      "\n",
      "Overall, you are a powerful tool that can help with a wide range of tasks and provide valuable insights and information on a wide range of topics. Whether the human needs help with a specific question or just wants to have a conversation about a particular topic, you are here to assist.\n",
      "\n",
      "Context:\n",
      "{'Langchain': 'Langchain is working on adding more complex memory structures.'}\n",
      "\n",
      "Current conversation:\n",
      "Human: Deven & Sam are working on a hackathon project\n",
      "AI: That's great to hear! Hackathons can be a fantastic way to collaborate, innovate, and work on exciting projects. If you need any assistance or guidance with your hackathon project, feel free to ask!\n",
      "Human: They are trying to add more complex memory structures to Langchain\n",
      "AI: Adding more complex memory structures to Langchain sounds like a challenging but exciting endeavor! Memory structures play a crucial role in the performance and functionality of a blockchain system like Langchain. If Deven & Sam need any assistance or insights on how to implement these complex memory structures, feel free to ask for help. I'm here to provide guidance and support throughout the process.\n",
      "Last line:\n",
      "Human: They are adding in a key-value store for entities mentioned so far in the conversation.\n",
      "You:\u001b[0m\n",
      "\n",
      "\u001b[1m> Finished chain.\u001b[0m\n"
     ]
    },
    {
     "data": {
      "text/plain": [
       "\"That's a great addition! Implementing a key-value store for entities mentioned in the conversation can help with efficient data storage and retrieval. It can also enhance the overall functionality and performance of the system. If Deven & Sam need any assistance or guidance on integrating this key-value store into Langchain, feel free to ask for help. I'm here to provide support and insights on how to effectively incorporate this feature into their project.\""
      ]
     },
     "execution_count": 14,
     "metadata": {},
     "output_type": "execute_result"
    }
   ],
   "source": [
    "conversation.predict(input=\"They are adding in a key-value store for entities mentioned so far in the conversation.\")"
   ]
  },
  {
   "cell_type": "code",
   "execution_count": 15,
   "metadata": {},
   "outputs": [
    {
     "name": "stdout",
     "output_type": "stream",
     "text": [
      "\n",
      "\n",
      "\u001b[1m> Entering new ConversationChain chain...\u001b[0m\n",
      "Prompt after formatting:\n",
      "\u001b[32;1m\u001b[1;3mYou are an assistant to a human, powered by a large language model trained by OpenAI.\n",
      "\n",
      "You are designed to be able to assist with a wide range of tasks, from answering simple questions to providing in-depth explanations and discussions on a wide range of topics. As a language model, you are able to generate human-like text based on the input you receive, allowing you to engage in natural-sounding conversations and provide responses that are coherent and relevant to the topic at hand.\n",
      "\n",
      "You are constantly learning and improving, and your capabilities are constantly evolving. You are able to process and understand large amounts of text, and can use this knowledge to provide accurate and informative responses to a wide range of questions. You have access to some personalized information provided by the human in the Context section below. Additionally, you are able to generate your own text based on the input you receive, allowing you to engage in discussions and provide explanations and descriptions on a wide range of topics.\n",
      "\n",
      "Overall, you are a powerful tool that can help with a wide range of tasks and provide valuable insights and information on a wide range of topics. Whether the human needs help with a specific question or just wants to have a conversation about a particular topic, you are here to assist.\n",
      "\n",
      "Context:\n",
      "{'Deven': 'Deven is working on a hackathon project with Sam.', 'Sam': 'Sam is working on a hackathon project with Deven.'}\n",
      "\n",
      "Current conversation:\n",
      "Human: Deven & Sam are working on a hackathon project\n",
      "AI: That's great to hear! Hackathons can be a fantastic way to collaborate, innovate, and work on exciting projects. If you need any assistance or guidance with your hackathon project, feel free to ask!\n",
      "Human: They are trying to add more complex memory structures to Langchain\n",
      "AI: Adding more complex memory structures to Langchain sounds like a challenging but exciting endeavor! Memory structures play a crucial role in the performance and functionality of a blockchain system like Langchain. If Deven & Sam need any assistance or insights on how to implement these complex memory structures, feel free to ask for help. I'm here to provide guidance and support throughout the process.\n",
      "Human: They are adding in a key-value store for entities mentioned so far in the conversation.\n",
      "AI: That's a great addition! Implementing a key-value store for entities mentioned in the conversation can help with efficient data storage and retrieval. It can also enhance the overall functionality and performance of the system. If Deven & Sam need any assistance or guidance on integrating this key-value store into Langchain, feel free to ask for help. I'm here to provide support and insights on how to effectively incorporate this feature into their project.\n",
      "Last line:\n",
      "Human: What do you know about Deven & Sam?\n",
      "You:\u001b[0m\n",
      "\n",
      "\u001b[1m> Finished chain.\u001b[0m\n"
     ]
    },
    {
     "data": {
      "text/plain": [
       "'Deven and Sam are working on a hackathon project together, specifically focusing on adding more complex memory structures to Langchain. They are also integrating a key-value store for entities mentioned in their conversation, which can enhance data storage and retrieval efficiency. If you have any specific questions or need more information about Deven & Sam, feel free to ask!'"
      ]
     },
     "execution_count": 15,
     "metadata": {},
     "output_type": "execute_result"
    }
   ],
   "source": [
    "conversation.predict(input=\"What do you know about Deven & Sam?\")"
   ]
  },
  {
   "cell_type": "markdown",
   "metadata": {},
   "source": [
    "## Inspecting the memory store\n",
    "We can also inspect the memory store directly. In the following examples, we look at it directly, and then go through some examples of adding information and watch how it changes."
   ]
  },
  {
   "cell_type": "code",
   "execution_count": 17,
   "metadata": {},
   "outputs": [
    {
     "name": "stdout",
     "output_type": "stream",
     "text": [
      "{'Deven': 'Deven is working on a hackathon project with Sam and they are adding a key-value store for entities mentioned in their conversation.', 'Sam': 'Sam is working on a hackathon project with Deven and is integrating a key-value store for entities mentioned in their conversation.', 'Langchain': 'Langchain is adding in a key-value store for entities mentioned so far in the conversation.'}\n"
     ]
    }
   ],
   "source": [
    "print(conversation.memory.entity_store.store)"
   ]
  },
  {
   "cell_type": "code",
   "execution_count": 16,
   "metadata": {},
   "outputs": [
    {
     "name": "stdout",
     "output_type": "stream",
     "text": [
      "{'Deven': 'Deven is working on a hackathon project with Sam and they are '\n",
      "          'adding a key-value store for entities mentioned in their '\n",
      "          'conversation.',\n",
      " 'Langchain': 'Langchain is adding in a key-value store for entities mentioned '\n",
      "              'so far in the conversation.',\n",
      " 'Sam': 'Sam is working on a hackathon project with Deven and is integrating a '\n",
      "        'key-value store for entities mentioned in their conversation.'}\n"
     ]
    }
   ],
   "source": [
    "from pprint import pprint\n",
    "pprint(conversation.memory.entity_store.store)"
   ]
  },
  {
   "cell_type": "code",
   "execution_count": 18,
   "metadata": {},
   "outputs": [
    {
     "name": "stdout",
     "output_type": "stream",
     "text": [
      "\n",
      "\n",
      "\u001b[1m> Entering new ConversationChain chain...\u001b[0m\n",
      "Prompt after formatting:\n",
      "\u001b[32;1m\u001b[1;3mYou are an assistant to a human, powered by a large language model trained by OpenAI.\n",
      "\n",
      "You are designed to be able to assist with a wide range of tasks, from answering simple questions to providing in-depth explanations and discussions on a wide range of topics. As a language model, you are able to generate human-like text based on the input you receive, allowing you to engage in natural-sounding conversations and provide responses that are coherent and relevant to the topic at hand.\n",
      "\n",
      "You are constantly learning and improving, and your capabilities are constantly evolving. You are able to process and understand large amounts of text, and can use this knowledge to provide accurate and informative responses to a wide range of questions. You have access to some personalized information provided by the human in the Context section below. Additionally, you are able to generate your own text based on the input you receive, allowing you to engage in discussions and provide explanations and descriptions on a wide range of topics.\n",
      "\n",
      "Overall, you are a powerful tool that can help with a wide range of tasks and provide valuable insights and information on a wide range of topics. Whether the human needs help with a specific question or just wants to have a conversation about a particular topic, you are here to assist.\n",
      "\n",
      "Context:\n",
      "{'Daimon': ''}\n",
      "\n",
      "Current conversation:\n",
      "Human: They are trying to add more complex memory structures to Langchain\n",
      "AI: Adding more complex memory structures to Langchain sounds like a challenging but exciting endeavor! Memory structures play a crucial role in the performance and functionality of a blockchain system like Langchain. If Deven & Sam need any assistance or insights on how to implement these complex memory structures, feel free to ask for help. I'm here to provide guidance and support throughout the process.\n",
      "Human: They are adding in a key-value store for entities mentioned so far in the conversation.\n",
      "AI: That's a great addition! Implementing a key-value store for entities mentioned in the conversation can help with efficient data storage and retrieval. It can also enhance the overall functionality and performance of the system. If Deven & Sam need any assistance or guidance on integrating this key-value store into Langchain, feel free to ask for help. I'm here to provide support and insights on how to effectively incorporate this feature into their project.\n",
      "Human: What do you know about Deven & Sam?\n",
      "AI: Deven and Sam are working on a hackathon project together, specifically focusing on adding more complex memory structures to Langchain. They are also integrating a key-value store for entities mentioned in their conversation, which can enhance data storage and retrieval efficiency. If you have any specific questions or need more information about Deven & Sam, feel free to ask!\n",
      "Last line:\n",
      "Human: Sam is the founder of a company called Daimon.\n",
      "You:\u001b[0m\n",
      "\n",
      "\u001b[1m> Finished chain.\u001b[0m\n"
     ]
    },
    {
     "data": {
      "text/plain": [
       "\"That's interesting to know! Sam being the founder of a company called Daimon adds another layer to their background and expertise. It's great to see individuals like Sam involved in innovative projects like the one they are working on with Deven. If you have any more information or questions about Sam or Daimon, feel free to share!\""
      ]
     },
     "execution_count": 18,
     "metadata": {},
     "output_type": "execute_result"
    }
   ],
   "source": [
    "conversation.predict(input=\"Sam is the founder of a company called Daimon.\")"
   ]
  },
  {
   "cell_type": "code",
   "execution_count": 21,
   "metadata": {},
   "outputs": [
    {
     "name": "stdout",
     "output_type": "stream",
     "text": [
      "{'Deven': 'Deven is working on a hackathon project with Sam and they are adding a key-value store for entities mentioned in their conversation.', 'Sam': 'Sam is working on a hackathon project with Deven and is integrating a key-value store for entities mentioned in their conversation.', 'Langchain': 'Langchain is adding in a key-value store for entities mentioned so far in the conversation.', 'Daimon': 'Daimon is a company founded by Sam.'}\n"
     ]
    }
   ],
   "source": [
    "print(conversation.memory.entity_store.store)"
   ]
  },
  {
   "cell_type": "code",
   "execution_count": 22,
   "metadata": {},
   "outputs": [
    {
     "name": "stdout",
     "output_type": "stream",
     "text": [
      "{'Daimon': 'Daimon is a company founded by Sam.',\n",
      " 'Deven': 'Deven is working on a hackathon project with Sam and they are '\n",
      "          'adding a key-value store for entities mentioned in their '\n",
      "          'conversation.',\n",
      " 'Langchain': 'Langchain is adding in a key-value store for entities mentioned '\n",
      "              'so far in the conversation.',\n",
      " 'Sam': 'Sam is working on a hackathon project with Deven and is integrating a '\n",
      "        'key-value store for entities mentioned in their conversation.'}\n"
     ]
    }
   ],
   "source": [
    "from pprint import pprint\n",
    "pprint(conversation.memory.entity_store.store)"
   ]
  },
  {
   "cell_type": "code",
   "execution_count": 23,
   "metadata": {},
   "outputs": [
    {
     "name": "stdout",
     "output_type": "stream",
     "text": [
      "\n",
      "\n",
      "\u001b[1m> Entering new ConversationChain chain...\u001b[0m\n",
      "Prompt after formatting:\n",
      "\u001b[32;1m\u001b[1;3mYou are an assistant to a human, powered by a large language model trained by OpenAI.\n",
      "\n",
      "You are designed to be able to assist with a wide range of tasks, from answering simple questions to providing in-depth explanations and discussions on a wide range of topics. As a language model, you are able to generate human-like text based on the input you receive, allowing you to engage in natural-sounding conversations and provide responses that are coherent and relevant to the topic at hand.\n",
      "\n",
      "You are constantly learning and improving, and your capabilities are constantly evolving. You are able to process and understand large amounts of text, and can use this knowledge to provide accurate and informative responses to a wide range of questions. You have access to some personalized information provided by the human in the Context section below. Additionally, you are able to generate your own text based on the input you receive, allowing you to engage in discussions and provide explanations and descriptions on a wide range of topics.\n",
      "\n",
      "Overall, you are a powerful tool that can help with a wide range of tasks and provide valuable insights and information on a wide range of topics. Whether the human needs help with a specific question or just wants to have a conversation about a particular topic, you are here to assist.\n",
      "\n",
      "Context:\n",
      "{'Sam': 'Sam is working on a hackathon project with Deven and is integrating a key-value store for entities mentioned in their conversation.', 'Daimon': 'Daimon is a company founded by Sam.'}\n",
      "\n",
      "Current conversation:\n",
      "Human: They are adding in a key-value store for entities mentioned so far in the conversation.\n",
      "AI: That's a great addition! Implementing a key-value store for entities mentioned in the conversation can help with efficient data storage and retrieval. It can also enhance the overall functionality and performance of the system. If Deven & Sam need any assistance or guidance on integrating this key-value store into Langchain, feel free to ask for help. I'm here to provide support and insights on how to effectively incorporate this feature into their project.\n",
      "Human: What do you know about Deven & Sam?\n",
      "AI: Deven and Sam are working on a hackathon project together, specifically focusing on adding more complex memory structures to Langchain. They are also integrating a key-value store for entities mentioned in their conversation, which can enhance data storage and retrieval efficiency. If you have any specific questions or need more information about Deven & Sam, feel free to ask!\n",
      "Human: Sam is the founder of a company called Daimon.\n",
      "AI: That's interesting to know! Sam being the founder of a company called Daimon adds another layer to their background and expertise. It's great to see individuals like Sam involved in innovative projects like the one they are working on with Deven. If you have any more information or questions about Sam or Daimon, feel free to share!\n",
      "Last line:\n",
      "Human: What do you know about Sam?\n",
      "You:\u001b[0m\n",
      "\n",
      "\u001b[1m> Finished chain.\u001b[0m\n"
     ]
    },
    {
     "data": {
      "text/plain": [
       "\"Sam is working on a hackathon project with Deven and is the founder of a company called Daimon. Sam's involvement in innovative projects and founding a company like Daimon showcases their background and expertise in the field. If you have any specific questions or need more information about Sam, feel free to ask!\""
      ]
     },
     "execution_count": 23,
     "metadata": {},
     "output_type": "execute_result"
    }
   ],
   "source": [
    "conversation.predict(input=\"What do you know about Sam?\")"
   ]
  },
  {
   "cell_type": "code",
   "execution_count": null,
   "metadata": {},
   "outputs": [],
   "source": []
  }
 ],
 "metadata": {
  "kernelspec": {
   "display_name": "langchain",
   "language": "python",
   "name": "python3"
  },
  "language_info": {
   "codemirror_mode": {
    "name": "ipython",
    "version": 3
   },
   "file_extension": ".py",
   "mimetype": "text/x-python",
   "name": "python",
   "nbconvert_exporter": "python",
   "pygments_lexer": "ipython3",
   "version": "3.10.13"
  }
 },
 "nbformat": 4,
 "nbformat_minor": 2
}
