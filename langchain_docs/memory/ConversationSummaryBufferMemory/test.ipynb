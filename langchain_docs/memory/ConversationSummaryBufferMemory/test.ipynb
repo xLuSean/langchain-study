{
 "cells": [
  {
   "cell_type": "code",
   "execution_count": null,
   "metadata": {},
   "outputs": [],
   "source": [
    "from langchain.memory import ConversationSummaryBufferMemory\n",
    "from langchain_community.chat_message_histories.in_memory import ChatMessageHistory\n",
    "from langchain_openai import OpenAI\n",
    "from langchain.prompts import PromptTemplate\n",
    "from langchain_core.messages import AIMessage, HumanMessage, SystemMessage\n",
    "\n",
    "from pprint import pprint\n",
    "\n",
    "llm = OpenAI()\n",
    "history = ChatMessageHistory()"
   ]
  },
  {
   "cell_type": "code",
   "execution_count": null,
   "metadata": {},
   "outputs": [],
   "source": [
    "# history.add_message(SystemMessage('The human asks what the AI thinks of artificial intelligence. The AI thinks artificial intelligence is a force for good.'))\n",
    "# history.add_message(HumanMessage('Why do you think artificial intelligence is a force for good?'))\n",
    "# history.add_message(AIMessage('Because artificial intelligence will help humans reach their full potential.'))\n",
    "\n",
    "history.add_message(HumanMessage('貓咪五歲，平常吃乾糧，亂尿尿已持續10天'))\n",
    "history.add_message(AIMessage('可能的原因包括膀胱炎、細菌感染、膀胱結石、壓力、焦慮或對貓砂盆不滿意等，並建議保持貓砂盆乾淨、嘗試不同型別的貓砂、增加飲水量'))"
   ]
  },
  {
   "cell_type": "code",
   "execution_count": null,
   "metadata": {},
   "outputs": [],
   "source": [
    "memory = ConversationSummaryBufferMemory(\n",
    "    llm = llm,\n",
    "    # prompt = prompt,\n",
    "    # buffer = previous_summary,\n",
    "    chat_memory = history,\n",
    "    ai_prefix=\"veterinarian\",\n",
    "    human_prefix=\"pet_owner\",\n",
    "    # max_token_limit= 10\n",
    "    )"
   ]
  },
  {
   "cell_type": "code",
   "execution_count": null,
   "metadata": {},
   "outputs": [],
   "source": [
    "# memory.save_context({\"input\": \"hi\"}, {\"output\": \"whats up\"})"
   ]
  },
  {
   "cell_type": "code",
   "execution_count": null,
   "metadata": {},
   "outputs": [],
   "source": [
    "memory.buffer"
   ]
  },
  {
   "cell_type": "code",
   "execution_count": null,
   "metadata": {},
   "outputs": [],
   "source": [
    "messages = memory.chat_memory.messages\n",
    "print(messages)"
   ]
  },
  {
   "cell_type": "code",
   "execution_count": null,
   "metadata": {},
   "outputs": [],
   "source": [
    "# previous_summary = \"\"\n",
    "previous_summary = \"pet_owner詢問貓咪亂尿尿的原因。veterinarian解釋了幾種可能的原因，包括膀胱問題（如膀胱炎、細菌感染、膀胱結石）、行為問題（如壓力、焦慮或對貓砂盆不滿意）和環境變化。建議採取措施如保持貓砂盆乾淨、嘗試不同型別的貓砂、保持貓咪飲水充足等。為了更好地幫助，veterinarian詢問了貓咪的年齡、飲食習慣、日常行為、亂尿尿的持續時間、是否有其他症狀以及最近是否有環境或生活習慣的變化，並建議如果症狀持續或加重，應儘快帶貓咪去看獸醫。\""
   ]
  },
  {
   "cell_type": "code",
   "execution_count": null,
   "metadata": {},
   "outputs": [],
   "source": [
    "res = memory.predict_new_summary(messages, previous_summary)"
   ]
  },
  {
   "cell_type": "code",
   "execution_count": null,
   "metadata": {},
   "outputs": [],
   "source": [
    "pprint(res)"
   ]
  },
  {
   "cell_type": "code",
   "execution_count": null,
   "metadata": {},
   "outputs": [],
   "source": [
    "# memory.load_memory_variables({})\n",
    "# memory.buffer"
   ]
  },
  {
   "cell_type": "code",
   "execution_count": null,
   "metadata": {},
   "outputs": [],
   "source": [
    "memory.save_context({\"input\": \"貓咪五歲，平常吃乾糧，亂尿尿已持續10天\"}, {\"output\": \"可能的原因包括膀胱炎、細菌感染、膀胱結石、壓力、焦慮或對貓砂盆不滿意等，並建議保持貓砂盆乾淨、嘗試不同型別的貓砂、增加飲水量\"})"
   ]
  },
  {
   "cell_type": "code",
   "execution_count": null,
   "metadata": {},
   "outputs": [],
   "source": [
    "memory.buffer"
   ]
  },
  {
   "cell_type": "code",
   "execution_count": null,
   "metadata": {},
   "outputs": [],
   "source": [
    "messages = memory.chat_memory.messages"
   ]
  },
  {
   "cell_type": "code",
   "execution_count": null,
   "metadata": {},
   "outputs": [],
   "source": [
    "res = memory.predict_new_summary(messages, res)"
   ]
  },
  {
   "cell_type": "code",
   "execution_count": null,
   "metadata": {},
   "outputs": [],
   "source": [
    "pprint(res)"
   ]
  },
  {
   "cell_type": "code",
   "execution_count": null,
   "metadata": {},
   "outputs": [],
   "source": []
  }
 ],
 "metadata": {
  "kernelspec": {
   "display_name": "langchain",
   "language": "python",
   "name": "python3"
  },
  "language_info": {
   "codemirror_mode": {
    "name": "ipython",
    "version": 3
   },
   "file_extension": ".py",
   "mimetype": "text/x-python",
   "name": "python",
   "nbconvert_exporter": "python",
   "pygments_lexer": "ipython3",
   "version": "3.10.13"
  }
 },
 "nbformat": 4,
 "nbformat_minor": 2
}
