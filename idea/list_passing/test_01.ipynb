{
 "cells": [
  {
   "cell_type": "markdown",
   "metadata": {},
   "source": [
    "# Simple demo\n",
    "### description:\n",
    "* #### basic demo: categorize things into current list\n",
    "* #### Article categorization: categorize article into current list or create new category, and generate summary"
   ]
  },
  {
   "cell_type": "markdown",
   "metadata": {},
   "source": [
    "## basic demo"
   ]
  },
  {
   "cell_type": "code",
   "execution_count": 3,
   "metadata": {},
   "outputs": [
    {
     "data": {
      "text/plain": [
       "True"
      ]
     },
     "execution_count": 3,
     "metadata": {},
     "output_type": "execute_result"
    }
   ],
   "source": [
    "from dotenv import load_dotenv\n",
    "load_dotenv()"
   ]
  },
  {
   "cell_type": "code",
   "execution_count": 4,
   "metadata": {},
   "outputs": [],
   "source": [
    "from langchain_core.output_parsers import JsonOutputParser\n",
    "from langchain_core.prompts import PromptTemplate\n",
    "# from langchain_core.pydantic_v1 import BaseModel, Field\n",
    "from pydantic import BaseModel, Field\n",
    "from langchain_openai import ChatOpenAI"
   ]
  },
  {
   "cell_type": "code",
   "execution_count": 5,
   "metadata": {},
   "outputs": [],
   "source": [
    "llm = ChatOpenAI(model = \"gpt-4o\", temperature = 0)"
   ]
  },
  {
   "cell_type": "code",
   "execution_count": 6,
   "metadata": {},
   "outputs": [],
   "source": [
    "# class Issue_list(BaseModel):\n",
    "#     category: str = Field(description=\"category of new issue\")\n",
    "#     category_list: list[str] = Field(description=\"List of category of issues\")\n",
    "\n",
    "class IssueList(BaseModel):  # 根据Python命名规范，类名使用驼峰命名\n",
    "    category: str = Field(description=\"Category of new issue\")\n",
    "    category_list: list[str] = Field(default_factory=list, description=\"List of category of issues\")\n",
    "\n",
    "parser = JsonOutputParser(pydantic_object=IssueList)"
   ]
  },
  {
   "cell_type": "code",
   "execution_count": 7,
   "metadata": {},
   "outputs": [],
   "source": [
    "prompt_template = \"\"\"\n",
    "Categorize the new issue into current list of issues.\n",
    "If the issue can not be categorized in current list, then add it into the category_list.\n",
    "\n",
    "{format_instructions}\n",
    "\n",
    "<Current_category_list>\n",
    "{current_category_list}\n",
    "</Current_category_list>\n",
    "\n",
    "<new_issue>\n",
    "{new_issue}\n",
    "</new_issue>\n",
    "\n",
    "\"\"\"\n",
    "\n",
    "prompt = PromptTemplate(\n",
    "    template = prompt_template,\n",
    "    input_variables = [\"current_category_list\", \"new_issue\"],\n",
    "    partial_variables = {\"format_instructions\": parser.get_format_instructions()}\n",
    "    )"
   ]
  },
  {
   "cell_type": "code",
   "execution_count": 8,
   "metadata": {},
   "outputs": [],
   "source": [
    "categorizer = prompt | llm | parser"
   ]
  },
  {
   "cell_type": "code",
   "execution_count": 9,
   "metadata": {},
   "outputs": [
    {
     "name": "stdout",
     "output_type": "stream",
     "text": [
      "{'category': 'macbook', 'category_list': ['fruit', 'animal', 'cars', 'macbook']}\n"
     ]
    }
   ],
   "source": [
    "res = categorizer.invoke({\"new_issue\": \"macbook\", \"current_category_list\": ['fruit', 'animal', 'cars']})\n",
    "print(res)\n"
   ]
  },
  {
   "cell_type": "markdown",
   "metadata": {},
   "source": [
    "## Method 2"
   ]
  },
  {
   "cell_type": "code",
   "execution_count": 10,
   "metadata": {},
   "outputs": [],
   "source": [
    "llm = ChatOpenAI(model = \"gpt-4o\", temperature = 0)\n",
    "\n",
    "class IssueList(BaseModel):  # 根据Python命名规范，类名使用驼峰命名\n",
    "    category: str = Field(description=\"Category of new issue\")\n",
    "    # category_list: list[str] = Field(default_factory=list, description=\"List of category of issues\")\n",
    "\n",
    "parser = JsonOutputParser(pydantic_object=IssueList)\n",
    "\n",
    "prompt_template = \"\"\"\n",
    "Categorize the new issue into current list of issues.\n",
    "If the issue can not be categorized in current list, then add it into the category_list.\n",
    "\n",
    "{format_instructions}\n",
    "\n",
    "<Current_category_list>\n",
    "{current_category_list}\n",
    "</Current_category_list>\n",
    "\n",
    "<new_issue>\n",
    "{new_issue}\n",
    "</new_issue>\n",
    "\n",
    "\"\"\"\n",
    "\n",
    "prompt = PromptTemplate(\n",
    "    template = prompt_template,\n",
    "    input_variables = [\"current_category_list\", \"new_issue\"],\n",
    "    partial_variables = {\"format_instructions\": parser.get_format_instructions()}\n",
    "    )\n",
    "\n",
    "categorizer = prompt | llm | parser"
   ]
  },
  {
   "cell_type": "code",
   "execution_count": 11,
   "metadata": {},
   "outputs": [
    {
     "name": "stdout",
     "output_type": "stream",
     "text": [
      "new category: macbook\n",
      "['fruit', 'animal', 'cars', 'macbook']\n"
     ]
    }
   ],
   "source": [
    "current_list = ['fruit', 'animal', 'cars']\n",
    "res = categorizer.invoke({\"new_issue\": \"macbook\", \"current_category_list\": current_list})\n",
    "# print(res)\n",
    "\n",
    "if res['category'] not in current_list:\n",
    "    print(f\"new category: {res['category']}\")\n",
    "    current_list.append(res['category'])\n",
    "print(current_list)"
   ]
  },
  {
   "cell_type": "markdown",
   "metadata": {},
   "source": [
    "## Article categorization"
   ]
  },
  {
   "cell_type": "markdown",
   "metadata": {},
   "source": [
    "example:\n",
    "generate by ChatGPT, prompt:\n",
    "```\n",
    "generate 3 different category of article, with label and content, ex:\n",
    "label: animal\n",
    "content: eagle can fly ....\n",
    "\n",
    "the content should be between 100~200 words\n",
    "```"
   ]
  },
  {
   "cell_type": "markdown",
   "metadata": {},
   "source": [
    "for test:\n",
    "```\n",
    "give me 2 more contents that belong to previous categories, and two more contents in new categories\n",
    "```"
   ]
  },
  {
   "cell_type": "code",
   "execution_count": 12,
   "metadata": {},
   "outputs": [],
   "source": [
    "test_samples_01 = [\n",
    "{ # Technology\n",
    "    \"article\":\"Blockchain technology is transforming the way data is stored and transactions are conducted. Originally developed for Bitcoin, blockchain is a decentralized ledger that ensures transparency and security in financial transactions. Its potential extends far beyond cryptocurrency; industries like supply chain management and healthcare are exploring blockchain for secure data sharing and tracking. One of its key features is immutability, meaning once data is recorded, it cannot be altered. This characteristic makes blockchain a powerful tool against fraud and data tampering, paving the way for more secure and transparent digital interactions.\",\n",
    "},\n",
    "{# Nature\n",
    "    \"article\": \"Coral reefs are often referred to as the “rainforests of the sea” due to their immense biodiversity. These vibrant underwater ecosystems provide habitat and shelter for a vast array of marine species, from tiny plankton to large fish. Coral reefs also play a crucial role in protecting coastlines from erosion by dissipating wave energy. However, they are highly sensitive to environmental changes. Rising sea temperatures, pollution, and overfishing are some of the major threats to coral reefs. Efforts such as marine protected areas and sustainable fishing practices are vital to preserving these delicate ecosystems for future generations.\"\n",
    "},\n",
    "{# History\n",
    "    \"article\": \"The Industrial Revolution, beginning in the late 18th century, marked a major turning point in human history. Originating in Britain, it spread rapidly across Europe and the United States, fundamentally altering economies and societies. The introduction of machinery, such as the steam engine, enabled mass production, leading to the growth of factories and urbanization. This period also saw significant advancements in transportation, with the development of railways and steamships. While the Industrial Revolution brought about economic growth and technological innovation, it also led to challenging working conditions and environmental degradation, issues that continue to resonate today.\"\n",
    "},\n",
    "{# Label: Art\n",
    "\"article\": \"Impressionism, an art movement that began in the late 19th century, broke away from traditional artistic conventions. Artists like Claude Monet and Pierre-Auguste Renoir sought to capture the fleeting effects of light and color, often painting en plein air (outdoors). Their work emphasized the perception of the moment, with loose brushwork and vibrant colors that conveyed a sense of immediacy. Initially met with criticism, Impressionism eventually gained recognition and influenced many subsequent art movements. Today, it remains one of the most beloved and influential styles in the history of art, celebrated for its innovative approach and emotional depth.\"\n",
    "},\n",
    "{ #Label: Health\n",
    "\"article\": \"Mental health awareness has gained significant traction in recent years, emphasizing the importance of emotional well-being alongside physical health. Conditions such as anxiety, depression, and stress are increasingly recognized as serious health issues that require attention and care. Therapy, medication, and lifestyle changes are common methods for managing mental health, but there’s also a growing emphasis on preventive measures like mindfulness, exercise, and social support. Reducing stigma and promoting open conversations about mental health are crucial steps in ensuring that individuals receive the help they need to lead fulfilling lives.\"\n",
    "}\n",
    "]"
   ]
  },
  {
   "cell_type": "code",
   "execution_count": 13,
   "metadata": {},
   "outputs": [],
   "source": [
    "test_samples_02 = [\n",
    "    {# Label: Science\n",
    "        \"article\": \"Quantum computing represents the next frontier in computational power, leveraging the principles of quantum mechanics to perform complex calculations at unprecedented speeds. Unlike classical computers, which use bits as units of information, quantum computers use quantum bits, or qubits, which can exist in multiple states simultaneously. This property, known as superposition, allows quantum computers to solve problems that are currently intractable for classical systems, such as optimizing large datasets or simulating molecular interactions. While still in its early stages, quantum computing holds immense potential for advancements in cryptography, medicine, and artificial intelligence, potentially revolutionizing various fields.\"\n",
    "        },\n",
    "    {# Label: Literature\n",
    "        \"article\":\"\"\" The novel \"1984\" by George Orwell is a seminal work of dystopian fiction that explores themes of totalitarianism, surveillance, and individual freedom. Set in a world where the government, led by the omnipresent Big Brother, exercises total control over its citizens, the story follows Winston Smith as he navigates a society devoid of privacy or truth. Orwell's portrayal of a world where language is manipulated, history is rewritten, and independent thought is punished serves as a powerful warning about the dangers of unchecked governmental power. \"1984\" remains a relevant and thought-provoking exploration of political oppression and the human spirit. \"\"\"\n",
    "        },\n",
    "    {#Label: Sports\n",
    "        \"article\":\"\"\"Soccer, known as football outside of North America, is the world's most popular sport, with millions of fans and players across the globe. The game is played on a rectangular field with two teams of eleven players each, aiming to score goals by getting the ball into the opposing team's net. Soccer is renowned for its simplicity, requiring minimal equipment, and its ability to bring people together across cultural and geographical boundaries. Major tournaments like the FIFA World Cup and UEFA Champions League attract global attention, showcasing the best talent and uniting fans in a shared passion for the sport.\"\"\"\n",
    "        }\n",
    "]"
   ]
  },
  {
   "cell_type": "code",
   "execution_count": 15,
   "metadata": {},
   "outputs": [],
   "source": [
    "from langchain_core.output_parsers import JsonOutputParser\n",
    "from langchain_core.prompts import PromptTemplate, FewShotPromptTemplate\n",
    "# from langchain_core.pydantic_v1 import BaseModel, Field\n",
    "from pydantic import BaseModel, Field\n",
    "from langchain_openai import ChatOpenAI\n",
    "\n",
    "llm = ChatOpenAI(model = \"gpt-4o\", temperature = 0)"
   ]
  },
  {
   "cell_type": "code",
   "execution_count": 16,
   "metadata": {},
   "outputs": [],
   "source": [
    "class Article_List(BaseModel):\n",
    "    category: str = Field(description=\"Category of new article. If the article can not be categorized in current list, then create a new category.\")\n",
    "    summary: str = Field(description=\"Summary of new article\")\n",
    "\n",
    "parser = JsonOutputParser(pydantic_object=Article_List)"
   ]
  },
  {
   "cell_type": "code",
   "execution_count": 38,
   "metadata": {},
   "outputs": [],
   "source": [
    "template = \"\"\"\n",
    "<example>\n",
    "<article>\n",
    "{article}\n",
    "</article>\n",
    "\n",
    "<category>\n",
    "{category}\n",
    "</category>\n",
    "\n",
    "<summary>\n",
    "{summary}\n",
    "</summary>\n",
    "</example>\n",
    "\"\"\"\n",
    "\n",
    "example_prompt = PromptTemplate(template = template, input_variables = [\"article\", \"category\", \"summary\"])"
   ]
  },
  {
   "cell_type": "code",
   "execution_count": 39,
   "metadata": {},
   "outputs": [],
   "source": [
    "examples = [\n",
    "    { # Technology\n",
    "        \"article\": \"Artificial intelligence (AI) has rapidly evolved in recent years, becoming an integral part of various industries. From healthcare to finance, AI is revolutionizing how tasks are performed, improving efficiency and accuracy. In healthcare, AI is used for predictive diagnostics and personalized treatment plans, enabling doctors to provide better patient care. In the financial sector, AI algorithms help detect fraud and make data-driven investment decisions. As AI continues to advance, ethical considerations such as privacy and job displacement become increasingly important. Balancing innovation with these concerns will be key to harnessing AI’s full potential.\",\n",
    "        \"category\": \"Technology\",\n",
    "        \"summary\": \"AI is transforming industries like healthcare and finance, improving efficiency, but ethical challenges like privacy and job displacement remain.\"\n",
    "    },\n",
    "    {\n",
    "        \"article\":\n",
    "        \"The Amazon Rainforest, often referred to as the “lungs of the Earth,” plays a critical role in regulating the global climate. Spanning across nine countries in South America, it is home to an incredibly diverse array of plant and animal species. The dense canopy of trees in the Amazon absorbs large amounts of carbon dioxide, helping to mitigate the effects of climate change. However, deforestation poses a significant threat to this vital ecosystem. Conservation efforts are crucial to preserving the Amazon’s biodiversity and ensuring that it continues to contribute to the health of our planet.\",\n",
    "        \"category\": \"Nature\",\n",
    "        \"summary\": \"The Amazon Rainforest is vital for climate regulation, but deforestation threatens its biodiversity and environmental role.\"\n",
    "    },\n",
    "    {\n",
    "        \"article\": \"The Renaissance, which spanned from the 14th to the 17th century, was a period of great cultural and intellectual growth in Europe. This era saw the revival of classical art, literature, and learning, with figures like Leonardo da Vinci and Michelangelo leading the way in artistic innovation. The invention of the printing press by Johannes Gutenberg in the mid-15th century revolutionized the dissemination of knowledge, making books more accessible to the public. The Renaissance laid the foundation for the modern world, fostering a spirit of inquiry and creativity that continues to influence contemporary thought and culture.\",\n",
    "        \"category\": \"History\",\n",
    "        \"summary\": \"The Renaissance was a cultural revival in Europe, advancing art and knowledge, and laying the groundwork for modern thought.\"\n",
    "    },\n",
    "]"
   ]
  },
  {
   "cell_type": "code",
   "execution_count": 40,
   "metadata": {},
   "outputs": [],
   "source": [
    "categorizer_template = \"\"\"Please, categorize the following article into the correct category, and provide a brief summary of the article:\n",
    "<article>\n",
    "{article}\n",
    "</article>\n",
    "\n",
    "<list_of_categories>\n",
    "{list_of_categories}\n",
    "</list_of_categories>\n",
    "\n",
    "{format_instructions}\n",
    "\"\"\""
   ]
  },
  {
   "cell_type": "code",
   "execution_count": 41,
   "metadata": {},
   "outputs": [],
   "source": [
    "# currently, example_prompt and categorizer_template are the same\n",
    "fewshot_prompt = FewShotPromptTemplate(\n",
    "    example_prompt = example_prompt,\n",
    "    examples = examples,\n",
    "    suffix = categorizer_template,\n",
    "    input_variables=[\"article\", \"list_of_categories\"],\n",
    "    partial_variables = {\n",
    "        \"format_instructions\": parser.get_format_instructions()}\n",
    ")"
   ]
  },
  {
   "cell_type": "code",
   "execution_count": 42,
   "metadata": {},
   "outputs": [
    {
     "name": "stdout",
     "output_type": "stream",
     "text": [
      "\n",
      "<example>\n",
      "<article>\n",
      "Artificial intelligence (AI) has rapidly evolved in recent years, becoming an integral part of various industries. From healthcare to finance, AI is revolutionizing how tasks are performed, improving efficiency and accuracy. In healthcare, AI is used for predictive diagnostics and personalized treatment plans, enabling doctors to provide better patient care. In the financial sector, AI algorithms help detect fraud and make data-driven investment decisions. As AI continues to advance, ethical considerations such as privacy and job displacement become increasingly important. Balancing innovation with these concerns will be key to harnessing AI’s full potential.\n",
      "</article>\n",
      "\n",
      "<category>\n",
      "Technology\n",
      "</category>\n",
      "\n",
      "<summary>\n",
      "AI is transforming industries like healthcare and finance, improving efficiency, but ethical challenges like privacy and job displacement remain.\n",
      "</summary>\n",
      "</example>\n",
      "\n",
      "\n",
      "\n",
      "<example>\n",
      "<article>\n",
      "The Amazon Rainforest, often referred to as the “lungs of the Earth,” plays a critical role in regulating the global climate. Spanning across nine countries in South America, it is home to an incredibly diverse array of plant and animal species. The dense canopy of trees in the Amazon absorbs large amounts of carbon dioxide, helping to mitigate the effects of climate change. However, deforestation poses a significant threat to this vital ecosystem. Conservation efforts are crucial to preserving the Amazon’s biodiversity and ensuring that it continues to contribute to the health of our planet.\n",
      "</article>\n",
      "\n",
      "<category>\n",
      "Nature\n",
      "</category>\n",
      "\n",
      "<summary>\n",
      "The Amazon Rainforest is vital for climate regulation, but deforestation threatens its biodiversity and environmental role.\n",
      "</summary>\n",
      "</example>\n",
      "\n",
      "\n",
      "\n",
      "<example>\n",
      "<article>\n",
      "The Renaissance, which spanned from the 14th to the 17th century, was a period of great cultural and intellectual growth in Europe. This era saw the revival of classical art, literature, and learning, with figures like Leonardo da Vinci and Michelangelo leading the way in artistic innovation. The invention of the printing press by Johannes Gutenberg in the mid-15th century revolutionized the dissemination of knowledge, making books more accessible to the public. The Renaissance laid the foundation for the modern world, fostering a spirit of inquiry and creativity that continues to influence contemporary thought and culture.\n",
      "</article>\n",
      "\n",
      "<category>\n",
      "History\n",
      "</category>\n",
      "\n",
      "<summary>\n",
      "The Renaissance was a cultural revival in Europe, advancing art and knowledge, and laying the groundwork for modern thought.\n",
      "</summary>\n",
      "</example>\n",
      "\n",
      "\n",
      "Please, categorize the following article into the correct category, and provide a brief summary of the article:\n",
      "<article>\n",
      "The Industrial Revolution, beginning in the late 18th century, marked a major turning point in human history. Originating in Britain, it spread rapidly across Europe and the United States, fundamentally altering economies and societies. The introduction of machinery, such as the steam engine, enabled mass production, leading to the growth of factories and urbanization. This period also saw significant advancements in transportation, with the development of railways and steamships. While the Industrial Revolution brought about economic growth and technological innovation, it also led to challenging working conditions and environmental degradation, issues that continue to resonate today.\n",
      "</article>\n",
      "\n",
      "<list_of_categories>\n",
      "{'Technology, History, Art'}\n",
      "</list_of_categories>\n",
      "\n",
      "The output should be formatted as a JSON instance that conforms to the JSON schema below.\n",
      "\n",
      "As an example, for the schema {\"properties\": {\"foo\": {\"title\": \"Foo\", \"description\": \"a list of strings\", \"type\": \"array\", \"items\": {\"type\": \"string\"}}}, \"required\": [\"foo\"]}\n",
      "the object {\"foo\": [\"bar\", \"baz\"]} is a well-formatted instance of the schema. The object {\"properties\": {\"foo\": [\"bar\", \"baz\"]}} is not well-formatted.\n",
      "\n",
      "Here is the output schema:\n",
      "```\n",
      "{\"properties\": {\"category\": {\"description\": \"Category of new article. If the article can not be categorized in current list, then create a new category.\", \"title\": \"Category\", \"type\": \"string\"}, \"summary\": {\"description\": \"Summary of new article\", \"title\": \"Summary\", \"type\": \"string\"}}, \"required\": [\"category\", \"summary\"]}\n",
      "```\n",
      "\n"
     ]
    }
   ],
   "source": [
    "prompt_check = fewshot_prompt.format(\n",
    "    article = test_samples_01[2].get(\"article\"),\n",
    "    list_of_categories = {\"Technology, History, Art\"}\n",
    "    )\n",
    "print(prompt_check)"
   ]
  },
  {
   "cell_type": "code",
   "execution_count": 46,
   "metadata": {},
   "outputs": [
    {
     "data": {
      "text/plain": [
       "'The Industrial Revolution, beginning in the late 18th century, marked a major turning point in human history. Originating in Britain, it spread rapidly across Europe and the United States, fundamentally altering economies and societies. The introduction of machinery, such as the steam engine, enabled mass production, leading to the growth of factories and urbanization. This period also saw significant advancements in transportation, with the development of railways and steamships. While the Industrial Revolution brought about economic growth and technological innovation, it also led to challenging working conditions and environmental degradation, issues that continue to resonate today.'"
      ]
     },
     "execution_count": 46,
     "metadata": {},
     "output_type": "execute_result"
    }
   ],
   "source": [
    "test_samples_01[2].get(\"article\")"
   ]
  },
  {
   "cell_type": "code",
   "execution_count": 44,
   "metadata": {},
   "outputs": [],
   "source": [
    "chain = fewshot_prompt | llm | parser"
   ]
  },
  {
   "cell_type": "code",
   "execution_count": 47,
   "metadata": {},
   "outputs": [
    {
     "name": "stdout",
     "output_type": "stream",
     "text": [
      "{'category': 'History', 'summary': 'The Industrial Revolution, starting in the late 18th century, transformed economies and societies with machinery and mass production, but also introduced challenging working conditions and environmental issues.'}\n",
      "new category: History\n",
      "['fruit', 'animal', 'cars', 'macbook', 'History']\n"
     ]
    }
   ],
   "source": [
    "res = chain.invoke({\n",
    "    \"article\": test_samples_01[2].get(\"article\"),\n",
    "    \"list_of_categories\": \"Technology, Technology, History, Art\"\n",
    "    })\n",
    "print(res)\n",
    "\n",
    "if res['category'] not in current_list:\n",
    "    print(f\"new category: {res['category']}\")\n",
    "    current_list.append(res['category'])\n",
    "print(current_list)"
   ]
  },
  {
   "cell_type": "code",
   "execution_count": 48,
   "metadata": {},
   "outputs": [
    {
     "name": "stdout",
     "output_type": "stream",
     "text": [
      "{'category': 'Technology', 'summary': 'Quantum computing uses qubits and superposition to perform complex calculations, promising advancements in cryptography, medicine, and AI.'}\n",
      "{'Technology', 'History'}\n",
      "{'category': 'Literature', 'summary': \"George Orwell's '1984' is a dystopian novel exploring themes of totalitarianism, surveillance, and individual freedom, highlighting the dangers of unchecked governmental power.\"}\n",
      "{'Literature', 'Technology', 'History'}\n",
      "{'category': 'Sports', 'summary': \"Soccer, the world's most popular sport, is played globally and unites people through major tournaments like the FIFA World Cup and UEFA Champions League.\"}\n",
      "{'Literature', 'Technology', 'History', 'Sports'}\n"
     ]
    }
   ],
   "source": [
    "current_list = set([\"Technology\", \"History\"])\n",
    "# print(type(current_list))\n",
    "\n",
    "for sample in test_samples_02:\n",
    "    res = chain.invoke({\n",
    "        \"article\": sample.get(\"article\"),\n",
    "        \"list_of_categories\": \"\".join(current_list)\n",
    "    })\n",
    "    print(res)\n",
    "    current_list.add(res.get(\"category\"))\n",
    "    print(current_list)"
   ]
  },
  {
   "cell_type": "code",
   "execution_count": null,
   "metadata": {},
   "outputs": [],
   "source": []
  }
 ],
 "metadata": {
  "kernelspec": {
   "display_name": "langchain",
   "language": "python",
   "name": "python3"
  },
  "language_info": {
   "codemirror_mode": {
    "name": "ipython",
    "version": 3
   },
   "file_extension": ".py",
   "mimetype": "text/x-python",
   "name": "python",
   "nbconvert_exporter": "python",
   "pygments_lexer": "ipython3",
   "version": "3.10.14"
  }
 },
 "nbformat": 4,
 "nbformat_minor": 2
}
