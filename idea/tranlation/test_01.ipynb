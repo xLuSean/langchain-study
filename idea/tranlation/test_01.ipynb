{
 "cells": [
  {
   "cell_type": "markdown",
   "metadata": {},
   "source": [
    "### The goal is translate technical artical, but not technical terms\n",
    "\n",
    "#### idea:\n",
    "1. COT\n",
    "2. pydantic model: native_translate, revised_translate\n",
    "\n",
    "The idea is to have multi-steps, to improve the qulity of the translation."
   ]
  },
  {
   "cell_type": "markdown",
   "metadata": {},
   "source": [
    "### schema"
   ]
  },
  {
   "cell_type": "code",
   "execution_count": 81,
   "metadata": {},
   "outputs": [],
   "source": [
    "from pydantic import BaseModel, Field, field_validator\n",
    "from typing import List, Literal\n",
    "\n",
    "class OutputSchema(BaseModel):\n",
    "    native_translation: str = Field(..., description=\"The native translation of the text\")\n",
    "    revised_translation: str = Field(..., description=\"The revised translation of the text\")\n",
    "\n",
    "LanguageType = Literal[\"English\", \"Japanese\", \"Chinese\"]\n",
    "\n",
    "class TranslatePayload(OutputSchema):\n",
    "    source_language: LanguageType = Field(..., description=\"The original language of the text\")\n",
    "    target_language: LanguageType = Field(..., description=\"The target language for the translation of the text\")\n",
    "\n",
    "    @field_validator('target_language')\n",
    "    def validate_target_language(cls, value, info):\n",
    "        source_language = info.data.get('source_language')\n",
    "        if source_language and value == source_language:\n",
    "            raise ValueError(\"Target language should be different from the source language\")\n",
    "        return value\n",
    "\n",
    "class TranslatePayloads(BaseModel):\n",
    "    payloads: List[TranslatePayload]"
   ]
  },
  {
   "cell_type": "markdown",
   "metadata": {},
   "source": [
    "### parser"
   ]
  },
  {
   "cell_type": "code",
   "execution_count": 82,
   "metadata": {},
   "outputs": [],
   "source": [
    "from langchain_core.output_parsers import JsonOutputParser\n",
    "\n",
    "translate_output_parser = JsonOutputParser(pydantic_object=OutputSchema)"
   ]
  },
  {
   "cell_type": "markdown",
   "metadata": {},
   "source": [
    "### prompt"
   ]
  },
  {
   "cell_type": "code",
   "execution_count": 83,
   "metadata": {},
   "outputs": [],
   "source": [
    "class TranslationPrompt:\n",
    "    SYSTEM_PROMPT = \"\"\"Your job is to translate the data provide by a human user from {source_language} to {target_language}, focusing on translating as much as possible while carefully preserving technical context.\n",
    "\n",
    "1.Proprietary Names & Jargon: Keep all brand names, product names, technical jargon, and acronyms in their original form. ex [EDR(Endpoint Detection and Response), SWG(Secure Web Gateway), TCP/IP(Transmission Control Protocol/Internet Protocol), PM(Product Manager), AI(Artificial Intelligence)]\n",
    "2.Units of Measurement: Do not translate numerical units (e.g., GB, MB/s, GHz).\n",
    "3.Code & Command-Line: Leave any code snippets, command-line instructions, or programming syntax unchanged.\n",
    "4.Abbreviations & Short Forms: Keep all technical abbreviations (e.g., API, TCP/IP) without translation.\n",
    "5.Consistency: Make sure technical accuracy is prioritized over natural fluency, especially for industry-specific terms.\n",
    "6.Boolean Values & Data Types: Do not translate Boolean values (“True”/“False”) or NoneType (“None”).\n",
    "7.Technical Context: For any ambiguous technical terms, keep the original text in parentheses for reference.\n",
    "\n",
    "Try to translate the data as much as possible, but follow the above guidelines to ensure technical accuracy.\n",
    "\n",
    "{format_instructions}\n",
    "\n",
    "You will first generate a native_translation of the text, and then revise it to a revised_translation, ensure technical accuracy and context preservation.\n",
    "\n",
    "Please ensure the output is formatted as specified, in JSON format.\n",
    "\"\"\"\n",
    "\n",
    "    HUMAN_PROMPT = \"\"\"\n",
    "{article}\n",
    "\"\"\""
   ]
  },
  {
   "cell_type": "markdown",
   "metadata": {},
   "source": [
    "### create template"
   ]
  },
  {
   "cell_type": "code",
   "execution_count": 84,
   "metadata": {},
   "outputs": [],
   "source": [
    "from langchain.prompts.chat import ChatPromptTemplate, HumanMessagePromptTemplate, SystemMessagePromptTemplate\n",
    "from langchain_core.prompts import PromptTemplate\n",
    "\n",
    "system_prompt = TranslationPrompt.SYSTEM_PROMPT\n",
    "human_prompt = TranslationPrompt.HUMAN_PROMPT\n",
    "\n",
    "translation_prompt_tempalte = ChatPromptTemplate(\n",
    "    [\n",
    "        SystemMessagePromptTemplate(\n",
    "            prompt=PromptTemplate(\n",
    "                template=system_prompt,\n",
    "                input_variables=[\"source_language\", \"target_language\", \"article\"],\n",
    "                partial_variables={\"format_instructions\": translate_output_parser.get_format_instructions()}\n",
    "            )\n",
    "        ),\n",
    "        HumanMessagePromptTemplate.from_template(human_prompt)\n",
    "    ]\n",
    ")"
   ]
  },
  {
   "cell_type": "code",
   "execution_count": 85,
   "metadata": {},
   "outputs": [
    {
     "name": "stdout",
     "output_type": "stream",
     "text": [
      "messages=[SystemMessage(content='Your job is to translate the data provide by a human user from English to Japanese, focusing on translating as much as possible while carefully preserving technical context.\\n\\n1.Proprietary Names & Jargon: Keep all brand names, product names, technical jargon, and acronyms in their original form. ex [EDR(Endpoint Detection and Response), SWG(Secure Web Gateway), TCP/IP(Transmission Control Protocol/Internet Protocol), PM(Product Manager), AI(Artificial Intelligence)]\\n2.Units of Measurement: Do not translate numerical units (e.g., GB, MB/s, GHz).\\n3.Code & Command-Line: Leave any code snippets, command-line instructions, or programming syntax unchanged.\\n4.Abbreviations & Short Forms: Keep all technical abbreviations (e.g., API, TCP/IP) without translation.\\n5.Consistency: Make sure technical accuracy is prioritized over natural fluency, especially for industry-specific terms.\\n6.Boolean Values & Data Types: Do not translate Boolean values (“True”/“False”) or NoneType (“None”).\\n7.Technical Context: For any ambiguous technical terms, keep the original text in parentheses for reference.\\n\\nTry to translate the data as much as possible, but follow the above guidelines to ensure technical accuracy.\\n\\nThe output should be formatted as a JSON instance that conforms to the JSON schema below.\\n\\nAs an example, for the schema {\"properties\": {\"foo\": {\"title\": \"Foo\", \"description\": \"a list of strings\", \"type\": \"array\", \"items\": {\"type\": \"string\"}}}, \"required\": [\"foo\"]}\\nthe object {\"foo\": [\"bar\", \"baz\"]} is a well-formatted instance of the schema. The object {\"properties\": {\"foo\": [\"bar\", \"baz\"]}} is not well-formatted.\\n\\nHere is the output schema:\\n```\\n{\"properties\": {\"native_translation\": {\"description\": \"The native translation of the text\", \"title\": \"Native Translation\", \"type\": \"string\"}, \"revised_translation\": {\"description\": \"The revised translation of the text\", \"title\": \"Revised Translation\", \"type\": \"string\"}}, \"required\": [\"native_translation\", \"revised_translation\"]}\\n```\\n\\nYou will first generate a native_translation of the text, and then revise it to a revised_translation, ensure technical accuracy and context preservation.\\n\\nPlease ensure the output is formatted as specified, in JSON format.\\n', additional_kwargs={}, response_metadata={}), HumanMessage(content='\\nThis is a test article\\n', additional_kwargs={}, response_metadata={})]\n"
     ]
    }
   ],
   "source": [
    "test = translation_prompt_tempalte.invoke({\"source_language\": \"English\", \"target_language\": \"Japanese\", \"article\": \"This is a test article\"})\n",
    "print(test)"
   ]
  },
  {
   "cell_type": "markdown",
   "metadata": {},
   "source": [
    "## chain"
   ]
  },
  {
   "cell_type": "code",
   "execution_count": 86,
   "metadata": {},
   "outputs": [],
   "source": [
    "from langchain_openai import ChatOpenAI\n",
    "from pprint import pprint\n",
    "\n",
    "llm = ChatOpenAI(model=\"gpt-4o-mini\")\n",
    "\n",
    "translation_chain = translation_prompt_tempalte | llm | translate_output_parser"
   ]
  },
  {
   "cell_type": "code",
   "execution_count": 87,
   "metadata": {},
   "outputs": [],
   "source": [
    "test_article = \"Artificial intelligence (AI) has rapidly evolved in recent years, becoming an integral part of various industries. From healthcare to finance, AI is revolutionizing how tasks are performed, improving efficiency and accuracy. In healthcare, AI is used for predictive diagnostics and personalized treatment plans, enabling doctors to provide better patient care. In the financial sector, AI algorithms help detect fraud and make data-driven investment decisions. As AI continues to advance, ethical considerations such as privacy and job displacement become increasingly important. Balancing innovation with these concerns will be key to harnessing AI’s full potential.\""
   ]
  },
  {
   "cell_type": "code",
   "execution_count": 88,
   "metadata": {},
   "outputs": [],
   "source": [
    "test_article_2 = \"\"\"\n",
    "In today’s threat landscape, cybersecurity pivots around concepts like EDR, SIEM, and SOC orchestration. EDR (Endpoint Detection and Response) focuses on real-time telemetry, leveraging XDR frameworks to aggregate data from diverse endpoints, thus providing heightened threat visibility. SIEM (Security Information and Event Management) platforms, like Splunk and ArcSight, enable SOC (Security Operations Center) teams to ingest, parse, and correlate logs, streamlining MTTR (Mean Time to Respond).\n",
    "\n",
    "Attack vectors such as APTs (Advanced Persistent Threats), spear-phishing, and MITM (Man-in-the-Middle) attacks exploit vulnerabilities within an organization’s perimeter and layered defenses. Red and Blue Teams simulate these TTPs (Tactics, Techniques, and Procedures) to test and harden cybersecurity posture. MFA (Multi-Factor Authentication) and IAM (Identity and Access Management) remain pivotal in restricting unauthorized access.\n",
    "\n",
    "The Zero Trust model, focusing on “never trust, always verify,” is crucial in modern architectures, especially with SASE (Secure Access Service Edge) deployments, integrating SWG (Secure Web Gateway) and CASB (Cloud Access Security Broker) functionalities. Encryption protocols, like TLS 1.3 and AES-256, enforce data confidentiality across untrusted networks.\n",
    "\"\"\""
   ]
  },
  {
   "cell_type": "code",
   "execution_count": 89,
   "metadata": {},
   "outputs": [
    {
     "name": "stdout",
     "output_type": "stream",
     "text": [
      "native_translation: 人工智能(AI)在近年来迅速发展，成为各个行业不可或缺的一部分。从医疗到金融，AI正在彻底改变任务执行的方式，提高效率和准确性。在医疗领域，AI用于预测诊断和个性化治疗计划，使医生能够提供更好的病人护理。在金融行业，AI算法帮助检测欺诈并做出基于数据的投资决策。随着AI的不断进步，隐私和就业替代等伦理问题变得越来越重要。平衡创新与这些问题将是利用AI全部潜力的关键。\n",
      "revised_translation: 人工智能(AI)在近年来迅速发展，成为各个行业不可或缺的一部分。从医疗到金融，AI正在彻底改变任务执行的方式，提高效率和准确性。在医疗领域，AI用于预测诊断和个性化治疗计划，使医生能够提供更好的患者护理。在金融行业，AI算法帮助检测欺诈并做出基于数据的投资决策。随着AI的不断进步，隐私和就业替代等伦理问题变得越来越重要。平衡创新与这些问题将是发挥AI全部潜力的关键。\n"
     ]
    }
   ],
   "source": [
    "result = translation_chain.invoke({\"source_language\": \"English\", \"target_language\": \"Chinese\", \"article\": test_article})\n",
    "for key , value in result.items():\n",
    "    print(f\"{key}: {value}\")"
   ]
  },
  {
   "cell_type": "code",
   "execution_count": 90,
   "metadata": {},
   "outputs": [
    {
     "name": "stdout",
     "output_type": "stream",
     "text": [
      "native_translation: 在今天的威胁环境中，网络安全围绕着像EDR、SIEM和SOC编排这样的概念进行转变。EDR（端点检测与响应）专注于实时遥测，利用XDR框架从不同的端点聚合数据，从而提供增强的威胁可见性。SIEM（安全信息与事件管理）平台，如Splunk和ArcSight，使SOC（安全运营中心）团队能够摄取、解析和关联日志，从而简化MTTR（平均响应时间）。\n",
      "\n",
      "攻击向量，如APTs（高级持续威胁）、鱼叉式网络钓鱼和MITM（中间人）攻击，利用组织周边和分层防御中的漏洞。红队和蓝队模拟这些TTPs（战术、技术和程序），以测试和增强网络安全态势。MFA（多因素认证）和IAM（身份和访问管理）在限制未经授权的访问中仍然至关重要。\n",
      "\n",
      "零信任模型，专注于“永不信任，总是验证”，在现代架构中至关重要，特别是在SASE（安全接入服务边缘）部署中，集成了SWG（安全网络网关）和CASB（云访问安全代理）功能。加密协议，如TLS 1.3和AES-256，在不受信任的网络上强制执行数据机密性。\n",
      "======================================\n",
      "revised_translation: 在今天的威胁环境中，网络安全围绕着像EDR、SIEM和SOC编排这样的概念进行转变。EDR（Endpoint Detection and Response）专注于实时遥测，利用XDR框架从不同的端点聚合数据，从而提供增强的威胁可见性。SIEM（Security Information and Event Management）平台，如Splunk和ArcSight，使SOC（Security Operations Center）团队能够摄取、解析和关联日志，从而简化MTTR（Mean Time to Respond）。\n",
      "\n",
      "攻击向量，如APTs（Advanced Persistent Threats）、鱼叉式网络钓鱼和MITM（Man-in-the-Middle）攻击，利用组织周边和分层防御中的漏洞。红队和蓝队模拟这些TTPs（Tactics, Techniques, and Procedures），以测试和增强网络安全态势。MFA（Multi-Factor Authentication）和IAM（Identity and Access Management）在限制未经授权的访问中仍然至关重要。\n",
      "\n",
      "零信任模型，专注于“永不信任，总是验证”，在现代架构中至关重要，特别是在SASE（Secure Access Service Edge）部署中，集成了SWG（Secure Web Gateway）和CASB（Cloud Access Security Broker）功能。加密协议，如TLS 1.3和AES-256，在不受信任的网络上强制执行数据机密性。\n",
      "======================================\n"
     ]
    }
   ],
   "source": [
    "result = translation_chain.invoke({\"source_language\": \"English\", \"target_language\": \"Chinese\", \"article\": test_article_2})\n",
    "for key , value in result.items():\n",
    "    print(f\"{key}: {value}\")\n",
    "    print(\"======================================\")"
   ]
  },
  {
   "cell_type": "code",
   "execution_count": null,
   "metadata": {},
   "outputs": [],
   "source": []
  }
 ],
 "metadata": {
  "kernelspec": {
   "display_name": "langchain",
   "language": "python",
   "name": "python3"
  },
  "language_info": {
   "codemirror_mode": {
    "name": "ipython",
    "version": 3
   },
   "file_extension": ".py",
   "mimetype": "text/x-python",
   "name": "python",
   "nbconvert_exporter": "python",
   "pygments_lexer": "ipython3",
   "version": "3.10.14"
  }
 },
 "nbformat": 4,
 "nbformat_minor": 2
}
