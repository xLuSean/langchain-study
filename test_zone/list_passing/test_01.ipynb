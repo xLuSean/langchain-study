{
 "cells": [
  {
   "cell_type": "markdown",
   "metadata": {},
   "source": [
    "# Simple demo"
   ]
  },
  {
   "cell_type": "code",
   "execution_count": 37,
   "metadata": {},
   "outputs": [],
   "source": [
    "from langchain_core.output_parsers import JsonOutputParser\n",
    "from langchain_core.prompts import PromptTemplate\n",
    "from langchain_core.pydantic_v1 import BaseModel, Field\n",
    "from langchain_openai import ChatOpenAI"
   ]
  },
  {
   "cell_type": "code",
   "execution_count": 38,
   "metadata": {},
   "outputs": [],
   "source": [
    "llm = ChatOpenAI(model = \"gpt-4o\", temperature = 0)"
   ]
  },
  {
   "cell_type": "code",
   "execution_count": 33,
   "metadata": {},
   "outputs": [],
   "source": [
    "class Issue_list(BaseModel):\n",
    "    category: str = Field(description=\"category of new issue\")\n",
    "    category_list: list[str] = Field(description=\"List of category of issues\")\n",
    "\n",
    "parser = JsonOutputParser(pydantic_object=Issue_list)"
   ]
  },
  {
   "cell_type": "code",
   "execution_count": 34,
   "metadata": {},
   "outputs": [],
   "source": [
    "prompt_template = \"\"\"\n",
    "Categorize the new issue into current list of issues.\n",
    "If the issue can not be categorized in current list, then add it into the category_list.\n",
    "\n",
    "{format_instructions}\n",
    "\n",
    "<Current_category_list>\n",
    "{current_category_list}\n",
    "</Current_category_list>\n",
    "\n",
    "<new_issue>\n",
    "{new_issue}\n",
    "</new_issue>\n",
    "\n",
    "\"\"\"\n",
    "\n",
    "prompt = PromptTemplate(\n",
    "    template = prompt_template,\n",
    "    input_variables = [\"current_category_list\", \"new_issue\"],\n",
    "    partial_variables = {\"format_instructions\": parser.get_format_instructions()}\n",
    "    )"
   ]
  },
  {
   "cell_type": "code",
   "execution_count": 35,
   "metadata": {},
   "outputs": [],
   "source": [
    "categorizer = prompt | llm | parser"
   ]
  },
  {
   "cell_type": "code",
   "execution_count": 36,
   "metadata": {},
   "outputs": [
    {
     "name": "stdout",
     "output_type": "stream",
     "text": [
      "{'category': 'electronics', 'category_list': ['fruit', 'animal', 'cars', 'electronics']}\n"
     ]
    }
   ],
   "source": [
    "res = categorizer.invoke({\"new_issue\": \"macbook\", \"current_category_list\": ['fruit', 'animal', 'cars']})\n",
    "print(res)\n"
   ]
  },
  {
   "cell_type": "markdown",
   "metadata": {},
   "source": [
    "# Article categorization"
   ]
  },
  {
   "cell_type": "code",
   "execution_count": null,
   "metadata": {},
   "outputs": [],
   "source": [
    "from langchain_core.output_parsers import JsonOutputParser\n",
    "from langchain_core.prompts import PromptTemplate\n",
    "from langchain_core.pydantic_v1 import BaseModel, Field\n",
    "from langchain_openai import ChatOpenAI"
   ]
  },
  {
   "cell_type": "markdown",
   "metadata": {},
   "source": [
    "example:\n",
    "generate by ChatGPT, prompt:\n",
    "```\n",
    "generate 3 different category of article, with label and content, ex:\n",
    "label: animal\n",
    "content: eagle can fly ....\n",
    "\n",
    "the content should be between 100~200 words\n",
    "```"
   ]
  },
  {
   "cell_type": "code",
   "execution_count": 39,
   "metadata": {},
   "outputs": [
    {
     "data": {
      "text/plain": [
       "'\\nLabel: Technology\\n\\nContent:\\nArtificial intelligence (AI) has rapidly evolved in recent years, becoming an integral part of various industries. From healthcare to finance, AI is revolutionizing how tasks are performed, improving efficiency and accuracy. In healthcare, AI is used for predictive diagnostics and personalized treatment plans, enabling doctors to provide better patient care. In the financial sector, AI algorithms help detect fraud and make data-driven investment decisions. As AI continues to advance, ethical considerations such as privacy and job displacement become increasingly important. Balancing innovation with these concerns will be key to harnessing AI’s full potential.\\n\\nLabel: Nature\\n\\nContent:\\nThe Amazon Rainforest, often referred to as the “lungs of the Earth,” plays a critical role in regulating the global climate. Spanning across nine countries in South America, it is home to an incredibly diverse array of plant and animal species. The dense canopy of trees in the Amazon absorbs large amounts of carbon dioxide, helping to mitigate the effects of climate change. However, deforestation poses a significant threat to this vital ecosystem. Conservation efforts are crucial to preserving the Amazon’s biodiversity and ensuring that it continues to contribute to the health of our planet.\\n\\nLabel: History\\n\\nContent:\\nThe Renaissance, which spanned from the 14th to the 17th century, was a period of great cultural and intellectual growth in Europe. This era saw the revival of classical art, literature, and learning, with figures like Leonardo da Vinci and Michelangelo leading the way in artistic innovation. The invention of the printing press by Johannes Gutenberg in the mid-15th century revolutionized the dissemination of knowledge, making books more accessible to the public. The Renaissance laid the foundation for the modern world, fostering a spirit of inquiry and creativity that continues to influence contemporary thought and culture.\\n'"
      ]
     },
     "execution_count": 39,
     "metadata": {},
     "output_type": "execute_result"
    }
   ],
   "source": [
    "\"\"\"\n",
    "Label: Technology\n",
    "\n",
    "Content:\n",
    "Artificial intelligence (AI) has rapidly evolved in recent years, becoming an integral part of various industries. From healthcare to finance, AI is revolutionizing how tasks are performed, improving efficiency and accuracy. In healthcare, AI is used for predictive diagnostics and personalized treatment plans, enabling doctors to provide better patient care. In the financial sector, AI algorithms help detect fraud and make data-driven investment decisions. As AI continues to advance, ethical considerations such as privacy and job displacement become increasingly important. Balancing innovation with these concerns will be key to harnessing AI’s full potential.\n",
    "\n",
    "Label: Nature\n",
    "\n",
    "Content:\n",
    "The Amazon Rainforest, often referred to as the “lungs of the Earth,” plays a critical role in regulating the global climate. Spanning across nine countries in South America, it is home to an incredibly diverse array of plant and animal species. The dense canopy of trees in the Amazon absorbs large amounts of carbon dioxide, helping to mitigate the effects of climate change. However, deforestation poses a significant threat to this vital ecosystem. Conservation efforts are crucial to preserving the Amazon’s biodiversity and ensuring that it continues to contribute to the health of our planet.\n",
    "\n",
    "Label: History\n",
    "\n",
    "Content:\n",
    "The Renaissance, which spanned from the 14th to the 17th century, was a period of great cultural and intellectual growth in Europe. This era saw the revival of classical art, literature, and learning, with figures like Leonardo da Vinci and Michelangelo leading the way in artistic innovation. The invention of the printing press by Johannes Gutenberg in the mid-15th century revolutionized the dissemination of knowledge, making books more accessible to the public. The Renaissance laid the foundation for the modern world, fostering a spirit of inquiry and creativity that continues to influence contemporary thought and culture.\n",
    "\"\"\""
   ]
  },
  {
   "cell_type": "markdown",
   "metadata": {},
   "source": [
    "for test:\n",
    "```\n",
    "give me 2 more contents that belong to previous categories, and two more contents in new categories\n",
    "```"
   ]
  },
  {
   "cell_type": "code",
   "execution_count": null,
   "metadata": {},
   "outputs": [],
   "source": [
    "\"\"\"\n",
    "Label: Technology\n",
    "\n",
    "Content:\n",
    "Blockchain technology is transforming the way data is stored and transactions are conducted. Originally developed for Bitcoin, blockchain is a decentralized ledger that ensures transparency and security in financial transactions. Its potential extends far beyond cryptocurrency; industries like supply chain management and healthcare are exploring blockchain for secure data sharing and tracking. One of its key features is immutability, meaning once data is recorded, it cannot be altered. This characteristic makes blockchain a powerful tool against fraud and data tampering, paving the way for more secure and transparent digital interactions.\n",
    "\n",
    "Label: Nature\n",
    "\n",
    "Content:\n",
    "Coral reefs are often referred to as the “rainforests of the sea” due to their immense biodiversity. These vibrant underwater ecosystems provide habitat and shelter for a vast array of marine species, from tiny plankton to large fish. Coral reefs also play a crucial role in protecting coastlines from erosion by dissipating wave energy. However, they are highly sensitive to environmental changes. Rising sea temperatures, pollution, and overfishing are some of the major threats to coral reefs. Efforts such as marine protected areas and sustainable fishing practices are vital to preserving these delicate ecosystems for future generations.\n",
    "\n",
    "Label: History\n",
    "\n",
    "Content:\n",
    "The Industrial Revolution, beginning in the late 18th century, marked a major turning point in human history. Originating in Britain, it spread rapidly across Europe and the United States, fundamentally altering economies and societies. The introduction of machinery, such as the steam engine, enabled mass production, leading to the growth of factories and urbanization. This period also saw significant advancements in transportation, with the development of railways and steamships. While the Industrial Revolution brought about economic growth and technological innovation, it also led to challenging working conditions and environmental degradation, issues that continue to resonate today.\n",
    "\n",
    "Label: Art\n",
    "\n",
    "Content:\n",
    "Impressionism, an art movement that began in the late 19th century, broke away from traditional artistic conventions. Artists like Claude Monet and Pierre-Auguste Renoir sought to capture the fleeting effects of light and color, often painting en plein air (outdoors). Their work emphasized the perception of the moment, with loose brushwork and vibrant colors that conveyed a sense of immediacy. Initially met with criticism, Impressionism eventually gained recognition and influenced many subsequent art movements. Today, it remains one of the most beloved and influential styles in the history of art, celebrated for its innovative approach and emotional depth.\n",
    "\n",
    "Label: Health\n",
    "\n",
    "Content:\n",
    "Mental health awareness has gained significant traction in recent years, emphasizing the importance of emotional well-being alongside physical health. Conditions such as anxiety, depression, and stress are increasingly recognized as serious health issues that require attention and care. Therapy, medication, and lifestyle changes are common methods for managing mental health, but there’s also a growing emphasis on preventive measures like mindfulness, exercise, and social support. Reducing stigma and promoting open conversations about mental health are crucial steps in ensuring that individuals receive the help they need to lead fulfilling lives.\n",
    "\"\"\""
   ]
  }
 ],
 "metadata": {
  "kernelspec": {
   "display_name": "Python 3",
   "language": "python",
   "name": "python3"
  },
  "language_info": {
   "codemirror_mode": {
    "name": "ipython",
    "version": 3
   },
   "file_extension": ".py",
   "mimetype": "text/x-python",
   "name": "python",
   "nbconvert_exporter": "python",
   "pygments_lexer": "ipython3",
   "version": "3.10.13"
  }
 },
 "nbformat": 4,
 "nbformat_minor": 2
}
