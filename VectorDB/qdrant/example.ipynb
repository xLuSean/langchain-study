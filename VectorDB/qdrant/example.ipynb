{
 "cells": [
  {
   "cell_type": "markdown",
   "metadata": {},
   "source": [
    "# ref: [Day 18】Embeddings 的家 - 向量資料庫](https://ithelp.ithome.com.tw/articles/10345832)\n",
    "`pip install qdrant-client`"
   ]
  },
  {
   "cell_type": "markdown",
   "metadata": {},
   "source": [
    "## Qdrant原生方法"
   ]
  },
  {
   "cell_type": "code",
   "execution_count": 2,
   "metadata": {},
   "outputs": [],
   "source": [
    "from langchain_openai import OpenAIEmbeddings\n",
    "from qdrant_client import QdrantClient\n",
    "from qdrant_client.http import models\n",
    "from qdrant_client.http.models import VectorParams, Distance\n",
    "\n",
    "\n",
    "embeddings = OpenAIEmbeddings(model=\"text-embedding-3-large\")\n",
    "\n",
    "# 連線到資料庫\n",
    "client = QdrantClient(url=\"http://localhost:6333\")\n",
    "\n",
    "# 如果 collections 不存在可以就建立一個 collections\n",
    "if client.collection_exists(collection_name=\"test1\"):\n",
    "\tpass\n",
    "else:\n",
    "\tclient.create_collection(\n",
    "\t\tcollection_name=\"test1\",\n",
    "\t\t# The TWCC embedding model has 1536 dimensions\n",
    "\t\tvectors_config={\n",
    "\t\t\t\"text\": VectorParams(\n",
    "\t\t\t\t# size=1536,\n",
    "\t\t\t\tsize=3072,\n",
    "\t\t\t\tdistance=Distance.COSINE,\n",
    "\t\t\t),\n",
    "\t\t},\n",
    "\t)\n",
    "\n",
    "# 欲匯入資料庫的資料\n",
    "documents = [\n",
    "\t\"Python 是一種高階編程語言，近年來被拿來做許多機器學習和深度學習的開發與模型訓練。\",\n",
    "\t\"Java 是一種面向對象的編程語言，廣泛應用於企業級應用和 Android 開發。\",\n",
    "\t\"JavaScript 是網頁開發的核心語言，允許動態操作 DOM 以實現交互效果。\",\n",
    "\t\"Go 是由 Google 開發的開源編程語言，因其高併發性能在雲端運算中大放異彩。\",\n",
    "\t\"C# 是由微軟開發的語言，主要用於 Windows 應用開發及遊戲開發，特別是在 Unity 引擎中。\",\n",
    "\t\"PHP 是一種伺服器端腳本語言，廣泛應用於網頁開發，尤其是動態內容生成。\",\n",
    "\t# \"貓貓可愛\"\n",
    "]\n",
    "\n",
    "# 將資料全部匯入資料庫\n",
    "for count, doc in enumerate(documents):\n",
    "\tclient.upsert(\n",
    "\t\tcollection_name=\"test1\",\n",
    "\t\tpoints=[\n",
    "\t\t\tmodels.PointStruct(\n",
    "\t\t\t\tid=count+1,\n",
    "\t\t\t\tvector={\"text\": embeddings.embed_query(doc)},\n",
    "\t\t\t\tpayload={\"text\": doc},\n",
    "\t\t\t)\n",
    "\t\t],\n",
    "\t)"
   ]
  },
  {
   "cell_type": "markdown",
   "metadata": {},
   "source": [
    "## LangChain"
   ]
  },
  {
   "cell_type": "code",
   "execution_count": 2,
   "metadata": {},
   "outputs": [],
   "source": [
    "from langchain_qdrant import QdrantVectorStore\n",
    "from langchain_openai import OpenAIEmbeddings\n",
    "from qdrant_client import QdrantClient\n",
    "from qdrant_client.http import models\n",
    "from qdrant_client.http.models import VectorParams, Distance\n",
    "from langchain_core.documents import Document\n",
    "from uuid import uuid4\n",
    "\n",
    "\n",
    "embeddings = OpenAIEmbeddings(model=\"text-embedding-3-large\")\n",
    "\n",
    "# 欲匯入資料庫的資料\n",
    "documents = [\n",
    "\tDocument(page_content=\"Python 是一種高階編程語言，近年來被拿來做許多機器學習和深度學習的開發與模型訓練。\", metadata={\"code\":\"Python\"}),\n",
    "\tDocument(page_content=\"Java 是一種面向對象的編程語言，廣泛應用於企業級應用和 Android 開發。\", metadata={\"code\":\"Java\"}),\n",
    "\tDocument(page_content=\"JavaScript 是網頁開發的核心語言，允許動態操作 DOM 以實現交互效果。\", metadata={\"code\":\"js\"}),\n",
    "\tDocument(page_content=\"Go 是由 Google 開發的開源編程語言，因其高併發性能在雲端運算中大放異彩。\", metadata={\"code\":\"Go\"}),\n",
    "\tDocument(page_content=\"C# 是由微軟開發的語言，主要用於 Windows 應用開發及遊戲開發，特別是在 Unity 引擎中。\", metadata={\"code\":\"C#\"}),\n",
    "\tDocument(page_content=\"PHP 是一種伺服器端腳本語言，廣泛應用於網頁開發，尤其是動態內容生成。\", metadata={\"code\":\"PHP\"}),\n",
    "]\n",
    "\n",
    "## 方法一\n",
    "# 連線到資料庫\n",
    "client = QdrantClient(url=\"http://localhost:6333\")\n",
    "\n",
    "# 如果 collections 不存在可以就建立一個 collections\n",
    "if client.collection_exists(collection_name=\"ithome2024_method_1\"):\n",
    "\tpass\n",
    "else:\n",
    "\tclient.create_collection(\n",
    "\t\tcollection_name=\"ithome2024_method_1\",\n",
    "\t\t# The TWCC embedding model has 1536 dimensions\n",
    "\t\tvectors_config={\n",
    "\t\t\t\"text\": VectorParams(\n",
    "\t\t\t\tsize=3072,\n",
    "\t\t\t\tdistance=Distance.COSINE,\n",
    "\t\t\t),\n",
    "\t\t},\n",
    "\t)\n",
    "\n",
    "# 建立 vector stores\n",
    "vector_store = QdrantVectorStore(\n",
    "\tclient=client,\n",
    "\tcollection_name=\"ithome2024_method_1\",\n",
    "\tembedding=embeddings,\n",
    "\tvector_name=\"text\",\n",
    ")\n",
    "\n",
    "# 將資料轉向量匯入資料庫，Primary Key 給 uuid\n",
    "ids = [str(uuid4()) for _ in range(len(documents))]\n",
    "vector_store.add_documents(documents=documents, ids=ids)\n",
    "\n",
    "\n",
    "## 方法二\n",
    "qdrant = QdrantVectorStore.from_documents(\n",
    "\tdocuments,\n",
    "\tembeddings,\n",
    "\turl=\"localhost\",\n",
    "\tcollection_name=\"ithome2024_method_2\",\n",
    ")"
   ]
  },
  {
   "cell_type": "markdown",
   "metadata": {},
   "source": [
    "* 可以看到使用 LangChain 會程式碼比較簡短和方便，但是這個方式就是設定 metadata，而不是 payload，但本質上意思是一樣的，都是存放需要的其餘資料。\n",
    "* 這邊提供兩種方式，一種是還是需要透過 qdrant-client 去連線資料庫，而第二種方式指定本地端就可以自動上傳指定的地方，是最精簡的方式。\n",
    "## 向量資料庫 Retriever 實戰"
   ]
  },
  {
   "cell_type": "code",
   "execution_count": 5,
   "metadata": {},
   "outputs": [
    {
     "name": "stdout",
     "output_type": "stream",
     "text": [
      "這邊是 Cosine Similarity：\n",
      "JavaScript 是網頁開發的核心語言，允許動態操作 DOM 以實現交互效果。 Java 是一種面向對象的編程語言，廣泛應用於企業級應用和 Android 開發。\n",
      "JavaScript 是網頁開發的核心語言，允許動態操作 DOM 以實現交互效果。 Java 是一種面向對象的編程語言，廣泛應用於企業級應用和 Android 開發。\n",
      "\n",
      "這邊是 MMR：\n",
      "JavaScript 是網頁開發的核心語言，允許動態操作 DOM 以實現交互效果。 Python 是一種高階編程語言，近年來被拿來做許多機器學習和深度學習的開發與模型訓練。\n",
      "JavaScript 是網頁開發的核心語言，允許動態操作 DOM 以實現交互效果。 Python 是一種高階編程語言，近年來被拿來做許多機器學習和深度學習的開發與模型訓練。\n"
     ]
    }
   ],
   "source": [
    "from langchain_openai import OpenAIEmbeddings\n",
    "from langchain_qdrant import QdrantVectorStore\n",
    "embeddings = OpenAIEmbeddings(model=\"text-embedding-3-large\")\n",
    "\n",
    "# 可以直接連線建立好的 collections\n",
    "vector_store = QdrantVectorStore.from_existing_collection(\n",
    "\turl=\"http://localhost:6333\",\n",
    "\tcollection_name=\"ithome2024_method_1\",\n",
    "\tembedding=embeddings,\n",
    "\tvector_name=\"text\",\n",
    ")\n",
    "\n",
    "# Cosine Similarity 的 Retriever\n",
    "cos_retriever = vector_store.as_retriever(search_type='similarity', search_kwargs={'k': 2})\n",
    "print(\"這邊是 Cosine Similarity：\")\n",
    "result = cos_retriever.invoke('我想成為前端工程師！')\n",
    "print(result[0].page_content, result[1].page_content)\n",
    "result = vector_store.similarity_search(query='我想成為前端工程師！', k=2)\n",
    "print(result[0].page_content, result[1].page_content)\n",
    "\n",
    "# MMR 的 Retriever\n",
    "mmr_retriever = vector_store.as_retriever(search_type='mmr', search_kwargs={'k': 2, 'lambda_mult': 0.25})\n",
    "print(\"\\n這邊是 MMR：\")\n",
    "result = mmr_retriever.invoke('我想成為前端工程師！')\n",
    "print(result[0].page_content, result[1].page_content)\n",
    "result = vector_store.max_marginal_relevance_search(query='我想成為前端工程師！', k=2, lambda_mult=0.25)\n",
    "print(result[0].page_content, result[1].page_content)"
   ]
  },
  {
   "cell_type": "markdown",
   "metadata": {},
   "source": [
    "* 前面步驟已經先建立好資料庫，所以可以使用直接選取已經建立好的 collections。\n",
    "* 不管是在 Cosine Similarity 還是 MMR，其實只要使用 LangChain 寫法都很雷同，參數名稱也都一樣，如果今天換了一個 VectorDB 的話，參數名稱也會都一樣，這就是 LangChain 框架！\n",
    "\n",
    "## 一站式向量資料庫實戰🔥\n",
    "若是今天想要匯入資料庫之後針對其進行索引的話，那麼 LangChain 可以完成這件事情。不需要先匯入，然後找 collections 這麼麻煩，接下來來實戰！"
   ]
  },
  {
   "cell_type": "code",
   "execution_count": 6,
   "metadata": {},
   "outputs": [],
   "source": [
    "from langchain_openai import OpenAIEmbeddings\n",
    "from langchain_qdrant import QdrantVectorStore\n",
    "from langchain_core.documents import Document\n",
    "\n",
    "embeddings = OpenAIEmbeddings(model=\"text-embedding-3-large\")\n",
    "\n",
    "# 欲匯入資料庫資料\n",
    "documents = [\n",
    "\tDocument(page_content=\"Python 是一種高階編程語言，近年來被拿來做許多機器學習和深度學習的開發與模型訓練。\", metadata={\"code\":\"Python\"}),\n",
    "\tDocument(page_content=\"Java 是一種面向對象的編程語言，廣泛應用於企業級應用和 Android 開發。\", metadata={\"code\":\"Java\"}),\n",
    "\tDocument(page_content=\"JavaScript 是網頁開發的核心語言，允許動態操作 DOM 以實現交互效果。\", metadata={\"code\":\"js\"}),\n",
    "\tDocument(page_content=\"Go 是由 Google 開發的開源編程語言，因其高併發性能在雲端運算中大放異彩。\", metadata={\"code\":\"Go\"}),\n",
    "\tDocument(page_content=\"C# 是由微軟開發的語言，主要用於 Windows 應用開發及遊戲開發，特別是在 Unity 引擎中。\", metadata={\"code\":\"C#\"}),\n",
    "\tDocument(page_content=\"PHP 是一種伺服器端腳本語言，廣泛應用於網頁開發，尤其是動態內容生成。\", metadata={\"code\":\"PHP\"}),\n",
    "]\n",
    "\n",
    "# 匯入 Qdrant\n",
    "qdrant = QdrantVectorStore.from_documents(\n",
    "\tdocuments,\n",
    "\tembeddings,\n",
    "\turl=\"http://localhost:6333\",\n",
    "\tcollection_name=\"ithome2024\",\n",
    "\tforce_recreate=True\n",
    ")"
   ]
  },
  {
   "cell_type": "code",
   "execution_count": 7,
   "metadata": {},
   "outputs": [
    {
     "name": "stdout",
     "output_type": "stream",
     "text": [
      "JavaScript 是網頁開發的核心語言，允許動態操作 DOM 以實現交互效果。\n",
      "Java 是一種面向對象的編程語言，廣泛應用於企業級應用和 Android 開發。\n",
      "PHP 是一種伺服器端腳本語言，廣泛應用於網頁開發，尤其是動態內容生成。\n",
      "Python 是一種高階編程語言，近年來被拿來做許多機器學習和深度學習的開發與模型訓練。\n"
     ]
    }
   ],
   "source": [
    "# Retriever 結果\n",
    "for result in qdrant.similarity_search(query='我想成為前端工程師！'):\n",
    "\tprint(result.page_content)"
   ]
  },
  {
   "cell_type": "markdown",
   "metadata": {},
   "source": [
    "1. 使用這種方式，程式碼又更加的精簡。這個用途是如果有前端上傳一個檔案，可以透過解析完檔案內容，然後匯入 Qdrant，接著進行檢索，最後回傳使用者對應的答案。\n",
    "2. 若沒設置 `force_recreate`，資料自動向後增加。"
   ]
  },
  {
   "cell_type": "code",
   "execution_count": null,
   "metadata": {},
   "outputs": [],
   "source": []
  }
 ],
 "metadata": {
  "kernelspec": {
   "display_name": "langchain",
   "language": "python",
   "name": "python3"
  },
  "language_info": {
   "codemirror_mode": {
    "name": "ipython",
    "version": 3
   },
   "file_extension": ".py",
   "mimetype": "text/x-python",
   "name": "python",
   "nbconvert_exporter": "python",
   "pygments_lexer": "ipython3",
   "version": "3.10.14"
  }
 },
 "nbformat": 4,
 "nbformat_minor": 2
}
